{
 "cells": [
  {
   "cell_type": "markdown",
   "id": "29b1315e-5f31-43ed-94db-493e12b028e2",
   "metadata": {},
   "source": [
    "# Iterators"
   ]
  },
  {
   "cell_type": "markdown",
   "id": "079f8c14-f370-4170-a570-c5d21562fcc2",
   "metadata": {},
   "source": [
    "An iterator is an object that conforms to the iterator protocol: it must have a `next()` method that returns an object with `{ value, done }`."
   ]
  },
  {
   "cell_type": "code",
   "execution_count": 1,
   "id": "664e1bea-fb85-4aef-b4ef-7a14c0cb2a15",
   "metadata": {},
   "outputs": [],
   "source": [
    "const myIterable = {\n",
    "  data: [10, 20, 30],\n",
    "  index: 0,\n",
    "\n",
    "  [Symbol.iterator]() {\n",
    "    return {\n",
    "      data: this.data,\n",
    "      index: 0,\n",
    "      next() {\n",
    "        if (this.index < this.data.length) {\n",
    "          return { value: this.data[this.index++], done: false };\n",
    "        } else {\n",
    "          return { done: true };\n",
    "        }\n",
    "      }\n",
    "    };\n",
    "  }\n",
    "};"
   ]
  },
  {
   "cell_type": "code",
   "execution_count": 2,
   "id": "2749ec70-eca1-4136-b7b3-03ed67840cf2",
   "metadata": {},
   "outputs": [
    {
     "name": "stdout",
     "output_type": "stream",
     "text": [
      "\u001b[33m10\u001b[39m\n",
      "\u001b[33m20\u001b[39m\n",
      "\u001b[33m30\u001b[39m\n"
     ]
    }
   ],
   "source": [
    "for (let value of myIterable) {\n",
    "  console.log(value); // 10, 20, 30\n",
    "}"
   ]
  },
  {
   "cell_type": "markdown",
   "id": "7c957888-4d75-4582-a9ba-2b62eb2ccfa8",
   "metadata": {},
   "source": [
    "# Generator"
   ]
  },
  {
   "cell_type": "markdown",
   "id": "022981af-e866-4c27-aa2e-c4aad6c43be7",
   "metadata": {},
   "source": [
    "A generator is a special function that can pause execution and resume later. It returns an iterator automatically."
   ]
  },
  {
   "cell_type": "code",
   "execution_count": 3,
   "id": "63682bc8-cb65-48e8-9f2e-20654e7c6ad8",
   "metadata": {},
   "outputs": [],
   "source": [
    "function* myGenerator() {\n",
    "  yield \"a\";\n",
    "  yield \"b\";\n",
    "  yield \"c\";\n",
    "}"
   ]
  },
  {
   "cell_type": "code",
   "execution_count": 4,
   "id": "9a53025e-6dd4-4d4b-b4ee-1063665be777",
   "metadata": {},
   "outputs": [],
   "source": [
    "const gen = myGenerator();"
   ]
  },
  {
   "cell_type": "code",
   "execution_count": 5,
   "id": "9923a6f3-555a-47d9-aba0-16d9ab064424",
   "metadata": {},
   "outputs": [
    {
     "data": {
      "text/plain": [
       "{ value: \u001b[32m\"a\"\u001b[39m, done: \u001b[33mfalse\u001b[39m }"
      ]
     },
     "execution_count": 5,
     "metadata": {},
     "output_type": "execute_result"
    }
   ],
   "source": [
    "gen.next()"
   ]
  },
  {
   "cell_type": "code",
   "execution_count": 6,
   "id": "2939060e-4e63-4035-b3eb-7ad1c6c11e04",
   "metadata": {},
   "outputs": [
    {
     "data": {
      "text/plain": [
       "{ value: \u001b[32m\"b\"\u001b[39m, done: \u001b[33mfalse\u001b[39m }"
      ]
     },
     "execution_count": 6,
     "metadata": {},
     "output_type": "execute_result"
    }
   ],
   "source": [
    "gen.next()"
   ]
  },
  {
   "cell_type": "code",
   "execution_count": 7,
   "id": "d5db96bd-d215-4340-bcc6-b55638574b7b",
   "metadata": {},
   "outputs": [
    {
     "data": {
      "text/plain": [
       "{ value: \u001b[32m\"c\"\u001b[39m, done: \u001b[33mfalse\u001b[39m }"
      ]
     },
     "execution_count": 7,
     "metadata": {},
     "output_type": "execute_result"
    }
   ],
   "source": [
    "gen.next()"
   ]
  },
  {
   "cell_type": "code",
   "execution_count": 8,
   "id": "7874f812-3e15-4433-941f-3e3e6e7ff8a6",
   "metadata": {},
   "outputs": [
    {
     "data": {
      "text/plain": [
       "{ value: \u001b[90mundefined\u001b[39m, done: \u001b[33mtrue\u001b[39m }"
      ]
     },
     "execution_count": 8,
     "metadata": {},
     "output_type": "execute_result"
    }
   ],
   "source": [
    "gen.next()"
   ]
  },
  {
   "cell_type": "code",
   "execution_count": 9,
   "id": "2817d2b1-d551-42b2-ade0-d7791f253a86",
   "metadata": {},
   "outputs": [
    {
     "name": "stdout",
     "output_type": "stream",
     "text": [
      "a\n",
      "b\n",
      "c\n"
     ]
    }
   ],
   "source": [
    "for (let val of myGenerator()) {\n",
    "  console.log(val); // a, b, c\n",
    "}"
   ]
  },
  {
   "cell_type": "markdown",
   "id": "f8b8f995-4da4-4e7b-97d0-f3f88e392258",
   "metadata": {},
   "source": [
    "## Generator Used Inside an Object with Symbol.iterator"
   ]
  },
  {
   "cell_type": "code",
   "execution_count": 10,
   "id": "04bedbf6-0483-4844-8242-cd201ab165b6",
   "metadata": {},
   "outputs": [],
   "source": [
    "const range = {\n",
    "  start: 1,\n",
    "  end: 3,\n",
    "  *[Symbol.iterator]() {\n",
    "    for (let i = this.start; i <= this.end; i++) {\n",
    "      yield i;\n",
    "    }\n",
    "  }\n",
    "};"
   ]
  },
  {
   "cell_type": "code",
   "execution_count": 11,
   "id": "a6a128fa-5ebc-464a-9d51-57efcee3ac4f",
   "metadata": {},
   "outputs": [
    {
     "name": "stdout",
     "output_type": "stream",
     "text": [
      "\u001b[33m1\u001b[39m\n",
      "\u001b[33m2\u001b[39m\n",
      "\u001b[33m3\u001b[39m\n"
     ]
    }
   ],
   "source": [
    "for (let num of range) {\n",
    "  console.log(num); // 1, 2, 3\n",
    "}"
   ]
  },
  {
   "cell_type": "code",
   "execution_count": null,
   "id": "bda58bb7-1c54-4281-8485-9be383134d86",
   "metadata": {},
   "outputs": [],
   "source": []
  }
 ],
 "metadata": {
  "kernelspec": {
   "display_name": "Deno",
   "language": "typescript",
   "name": "deno"
  },
  "language_info": {
   "codemirror_mode": "typescript",
   "file_extension": ".ts",
   "mimetype": "text/x.typescript",
   "name": "typescript",
   "nbconvert_exporter": "script",
   "pygments_lexer": "typescript",
   "version": "5.7.3"
  }
 },
 "nbformat": 4,
 "nbformat_minor": 5
}
