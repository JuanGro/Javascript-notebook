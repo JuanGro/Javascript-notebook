{
 "cells": [
  {
   "cell_type": "markdown",
   "id": "0005b9f5-0073-4707-adf0-15b8705b75ba",
   "metadata": {},
   "source": [
    "# JSON"
   ]
  },
  {
   "cell_type": "markdown",
   "id": "78e302ee-6db6-4b81-b081-48122c6bc2f7",
   "metadata": {},
   "source": [
    "Typically, data is transferred as \"JSON\" data between your client-side code and your backend (\"the server\").\n",
    "\n",
    "JSON stands for JavaScript Object Notation"
   ]
  },
  {
   "cell_type": "markdown",
   "id": "fb0bba89-6851-449a-8e05-86b3ee02d744",
   "metadata": {},
   "source": [
    "## ✅ JSON.parse()"
   ]
  },
  {
   "cell_type": "markdown",
   "id": "60667f31-7e9e-46b6-9f6e-8e2dce7d35ae",
   "metadata": {},
   "source": [
    "Converts a JSON string into a JavaScript object (or array)."
   ]
  },
  {
   "cell_type": "code",
   "execution_count": 1,
   "id": "c5f3a338-b8c0-40d8-b79f-837bdaa51cea",
   "metadata": {},
   "outputs": [
    {
     "name": "stdout",
     "output_type": "stream",
     "text": [
      "Alice\n",
      "\u001b[33m30\u001b[39m\n"
     ]
    }
   ],
   "source": [
    "const jsonString = '{\"name\": \"Alice\", \"age\": 30}';\n",
    "const user = JSON.parse(jsonString);\n",
    "\n",
    "console.log(user.name); // \"Alice\"\n",
    "console.log(user.age);  // 30"
   ]
  },
  {
   "cell_type": "markdown",
   "id": "f82142bf-6379-4e3a-8bec-aaa7253517cf",
   "metadata": {},
   "source": [
    "🛑 If the string is not valid JSON, it throws an error:"
   ]
  },
  {
   "cell_type": "code",
   "execution_count": 2,
   "id": "4988f090-ddf6-40b4-b3f6-ca96317e35ec",
   "metadata": {},
   "outputs": [
    {
     "ename": "SyntaxError",
     "evalue": "Expected property name or '}' in JSON at position 1 (line 1 column 2)",
     "output_type": "error",
     "traceback": [
      "Stack trace:",
      "SyntaxError: Expected property name or '}' in JSON at position 1 (line 1 column 2)",
      "    at JSON.parse (<anonymous>)",
      "    at <anonymous>:1:27"
     ]
    }
   ],
   "source": [
    "JSON.parse(\"{name: 'Alice'}\"); // ❌ Error: Unexpected token n in JSON"
   ]
  },
  {
   "cell_type": "markdown",
   "id": "b499f862-9722-4630-87f8-ad4fb422c722",
   "metadata": {},
   "source": [
    "JSON must use double quotes (\") for keys and strings."
   ]
  },
  {
   "cell_type": "markdown",
   "id": "8c7e2008-8f85-4220-a6ce-10ef8bb2b0a7",
   "metadata": {},
   "source": [
    "## ✅ JSON.stringify()"
   ]
  },
  {
   "cell_type": "markdown",
   "id": "fe6408e3-250a-47df-b1de-ba612ffae160",
   "metadata": {},
   "source": [
    "Converts a JavaScript object (or array) into a JSON-formatted string."
   ]
  },
  {
   "cell_type": "code",
   "execution_count": 3,
   "id": "630155bb-2d67-4554-bc1f-c21fb1f89f44",
   "metadata": {},
   "outputs": [
    {
     "name": "stdout",
     "output_type": "stream",
     "text": [
      "{\"name\":\"Alice\",\"age\":30}\n"
     ]
    }
   ],
   "source": [
    "const user = { name: \"Alice\", age: 30 };\n",
    "const jsonString = JSON.stringify(user);\n",
    "\n",
    "console.log(jsonString); // '{\"name\":\"Alice\",\"age\":30}'"
   ]
  },
  {
   "cell_type": "markdown",
   "id": "f1eb409b-986f-442a-a812-c532834a7cdc",
   "metadata": {},
   "source": [
    "### 💡 Filtering keys:"
   ]
  },
  {
   "cell_type": "code",
   "execution_count": 4,
   "id": "c263c1fd-724f-44e9-9d8b-77ff03eb91ed",
   "metadata": {},
   "outputs": [
    {
     "name": "stdout",
     "output_type": "stream",
     "text": [
      "{\"name\":\"Alice\"}\n"
     ]
    }
   ],
   "source": [
    "const jsonFiltered = JSON.stringify(user, [\"name\"]);\n",
    "console.log(jsonFiltered); // '{\"name\":\"Alice\"}'"
   ]
  },
  {
   "cell_type": "markdown",
   "id": "bad0a64a-c5fd-4c4f-9e36-1ae44006699b",
   "metadata": {},
   "source": [
    "### 🔁 Using a replacer function:"
   ]
  },
  {
   "cell_type": "code",
   "execution_count": 5,
   "id": "5282f962-c48c-422d-9c3f-7b6dee756dc2",
   "metadata": {},
   "outputs": [
    {
     "name": "stdout",
     "output_type": "stream",
     "text": [
      "{\"name\":\"Alice\"}\n"
     ]
    }
   ],
   "source": [
    "const json = JSON.stringify(user, (key, value) => {\n",
    "  if (key === \"age\") return undefined; // remove age\n",
    "  return value;\n",
    "});\n",
    "console.log(json); // {\"name\":\"Alice\"}"
   ]
  },
  {
   "cell_type": "markdown",
   "id": "28b568d4-997e-4659-a43f-338ec884b7e8",
   "metadata": {},
   "source": [
    "## 🚫 There is no JSON.encode() or JSON.decode() in JS\n",
    "\n",
    "Some languages use those names (like Python or PHP), but in JavaScript:\n",
    "\n",
    "Use JSON.stringify() → encode\n",
    "\n",
    "Use JSON.parse() → decode"
   ]
  }
 ],
 "metadata": {
  "kernelspec": {
   "display_name": "Deno",
   "language": "typescript",
   "name": "deno"
  },
  "language_info": {
   "codemirror_mode": "typescript",
   "file_extension": ".ts",
   "mimetype": "text/x.typescript",
   "name": "typescript",
   "nbconvert_exporter": "script",
   "pygments_lexer": "typescript",
   "version": "5.7.3"
  }
 },
 "nbformat": 4,
 "nbformat_minor": 5
}
