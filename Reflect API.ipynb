{
 "cells": [
  {
   "cell_type": "markdown",
   "id": "a59b0686-ce37-468a-984a-9c2ed60f26a1",
   "metadata": {},
   "source": [
    "# Reflect API"
   ]
  },
  {
   "cell_type": "markdown",
   "id": "e526be7b-7236-43b0-909c-f39e1d573912",
   "metadata": {},
   "source": [
    "The Reflect API is a built-in JavaScript object that provides methods for interceptable JavaScript operations (like reading, writing, deleting properties), similar to what `Proxy` handlers do."
   ]
  },
  {
   "cell_type": "markdown",
   "id": "80876f28-3d13-4345-a9f5-6afaa7033c18",
   "metadata": {},
   "source": [
    "Think of `Reflect` as a low-level meta-programming tool that gives you safe, functional access to object operations."
   ]
  },
  {
   "cell_type": "code",
   "execution_count": 1,
   "id": "d932f84d-bf3a-432a-81fa-d837408916a5",
   "metadata": {},
   "outputs": [],
   "source": [
    "const person = {\n",
    "  name: \"Alice\"\n",
    "};"
   ]
  },
  {
   "cell_type": "code",
   "execution_count": 2,
   "id": "f28072ec-87bb-40f0-a7ef-ed01ffefd3b8",
   "metadata": {},
   "outputs": [
    {
     "data": {
      "text/plain": [
       "\u001b[32m\"Alice\"\u001b[39m"
      ]
     },
     "execution_count": 2,
     "metadata": {},
     "output_type": "execute_result"
    }
   ],
   "source": [
    "Reflect.get(person, \"name\")"
   ]
  },
  {
   "cell_type": "code",
   "execution_count": 3,
   "id": "76b6a69e-be82-4baf-8707-ab8f117b92b3",
   "metadata": {},
   "outputs": [
    {
     "data": {
      "text/plain": [
       "\u001b[33mtrue\u001b[39m"
      ]
     },
     "execution_count": 3,
     "metadata": {},
     "output_type": "execute_result"
    }
   ],
   "source": [
    "Reflect.set(person, \"name\", \"Bob\");"
   ]
  },
  {
   "cell_type": "code",
   "execution_count": 4,
   "id": "36abe17b-8d39-499a-8cdb-9c2b4eb81d16",
   "metadata": {},
   "outputs": [
    {
     "data": {
      "text/plain": [
       "\u001b[32m\"Bob\"\u001b[39m"
      ]
     },
     "execution_count": 4,
     "metadata": {},
     "output_type": "execute_result"
    }
   ],
   "source": [
    "person.name"
   ]
  },
  {
   "cell_type": "code",
   "execution_count": 5,
   "id": "2dd97a95-71c1-4324-878a-17137bd013dd",
   "metadata": {},
   "outputs": [
    {
     "data": {
      "text/plain": [
       "\u001b[33mtrue\u001b[39m"
      ]
     },
     "execution_count": 5,
     "metadata": {},
     "output_type": "execute_result"
    }
   ],
   "source": [
    "Reflect.has(person, \"name\")"
   ]
  },
  {
   "cell_type": "code",
   "execution_count": 6,
   "id": "d284c2d0-d980-49cd-bc3a-d87affac4a6c",
   "metadata": {},
   "outputs": [
    {
     "data": {
      "text/plain": [
       "\u001b[33mfalse\u001b[39m"
      ]
     },
     "execution_count": 6,
     "metadata": {},
     "output_type": "execute_result"
    }
   ],
   "source": [
    "Reflect.has(person, \"age\")"
   ]
  },
  {
   "cell_type": "code",
   "execution_count": 7,
   "id": "d96a1551-c942-4d69-98ac-81c90f472a6e",
   "metadata": {},
   "outputs": [
    {
     "data": {
      "text/plain": [
       "\u001b[33mtrue\u001b[39m"
      ]
     },
     "execution_count": 7,
     "metadata": {},
     "output_type": "execute_result"
    }
   ],
   "source": [
    "Reflect.deleteProperty(person, \"name\");"
   ]
  },
  {
   "cell_type": "code",
   "execution_count": 13,
   "id": "43b64f68-dd61-4b6d-8e04-26c04d888da6",
   "metadata": {},
   "outputs": [
    {
     "data": {
      "text/plain": [
       "{}"
      ]
     },
     "execution_count": 13,
     "metadata": {},
     "output_type": "execute_result"
    }
   ],
   "source": [
    "person"
   ]
  },
  {
   "cell_type": "markdown",
   "id": "ef794859-418a-4715-ba06-7fde63faa868",
   "metadata": {},
   "source": [
    "## Use with Proxy"
   ]
  },
  {
   "cell_type": "markdown",
   "id": "26f5fbf3-f440-460f-8bee-0d199f4e83f7",
   "metadata": {},
   "source": [
    "The `Reflect` API is often used inside `Proxy` handlers to delegate the default behavior."
   ]
  },
  {
   "cell_type": "code",
   "execution_count": 9,
   "id": "a79dfe4a-1d0e-4a92-b984-98ed8dfba752",
   "metadata": {},
   "outputs": [],
   "source": [
    "const target = {\n",
    "  name: \"Charlie\"\n",
    "};"
   ]
  },
  {
   "cell_type": "code",
   "execution_count": 10,
   "id": "96240c81-168f-4cb7-82f2-ff43c47f483b",
   "metadata": {},
   "outputs": [],
   "source": [
    "const handler = {\n",
    "  get(obj, prop) {\n",
    "    console.log(`Accessing ${prop}`);\n",
    "    return Reflect.get(obj, prop); // default behavior\n",
    "  }\n",
    "};"
   ]
  },
  {
   "cell_type": "code",
   "execution_count": 11,
   "id": "efe6fa25-d5c3-4f84-aaaa-1da3eb11246a",
   "metadata": {},
   "outputs": [],
   "source": [
    "const proxy = new Proxy(target, handler);"
   ]
  },
  {
   "cell_type": "code",
   "execution_count": 12,
   "id": "35957e2e-f631-47d4-98f5-3b175881bcd1",
   "metadata": {},
   "outputs": [
    {
     "name": "stdout",
     "output_type": "stream",
     "text": [
      "Accessing name\n"
     ]
    },
    {
     "data": {
      "text/plain": [
       "\u001b[32m\"Charlie\"\u001b[39m"
      ]
     },
     "execution_count": 12,
     "metadata": {},
     "output_type": "execute_result"
    }
   ],
   "source": [
    "proxy.name"
   ]
  },
  {
   "cell_type": "markdown",
   "id": "711e013b-8cef-4dcf-81df-2ce76d5bf708",
   "metadata": {},
   "source": [
    "| Method                              | Description                                    |\n",
    "| ----------------------------------- | ---------------------------------------------- |\n",
    "| `Reflect.get(obj, prop)`            | Get a property value                           |\n",
    "| `Reflect.set(obj, prop, val)`       | Set a property value                           |\n",
    "| `Reflect.has(obj, prop)`            | Check if property exists (`in`)                |\n",
    "| `Reflect.deleteProperty(obj, prop)` | Delete a property                              |\n",
    "| `Reflect.ownKeys(obj)`              | Return all keys (own props)                    |\n",
    "| `Reflect.defineProperty()`          | Define a property like `Object.defineProperty` |\n",
    "| `Reflect.getPrototypeOf()`          | Get prototype                                  |"
   ]
  }
 ],
 "metadata": {
  "kernelspec": {
   "display_name": "Deno",
   "language": "typescript",
   "name": "deno"
  },
  "language_info": {
   "codemirror_mode": "typescript",
   "file_extension": ".ts",
   "mimetype": "text/x.typescript",
   "name": "typescript",
   "nbconvert_exporter": "script",
   "pygments_lexer": "typescript",
   "version": "5.7.3"
  }
 },
 "nbformat": 4,
 "nbformat_minor": 5
}
