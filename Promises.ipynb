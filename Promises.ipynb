{
 "cells": [
  {
   "cell_type": "markdown",
   "id": "bc8924f3-0027-4b68-8aca-0745214a08db",
   "metadata": {},
   "source": [
    "# Promises"
   ]
  },
  {
   "cell_type": "code",
   "execution_count": 1,
   "id": "8988eeb0-5d20-43bd-b9a1-2319571434c8",
   "metadata": {},
   "outputs": [],
   "source": [
    "const setTimer = (duration) => {\n",
    "    const promise = new Promise((resolve, reject) => {\n",
    "        setTimeout(() => {\n",
    "            resolve('Done!');\n",
    "        }, duration);\n",
    "    });\n",
    "    return promise;\n",
    "};"
   ]
  },
  {
   "cell_type": "code",
   "execution_count": 7,
   "id": "669206e2-7d90-47d9-8513-367ddfcdbadf",
   "metadata": {},
   "outputs": [
    {
     "data": {
      "text/plain": [
       "Promise { \u001b[36m<pending>\u001b[39m }"
      ]
     },
     "execution_count": 7,
     "metadata": {},
     "output_type": "execute_result"
    },
    {
     "name": "stdout",
     "output_type": "stream",
     "text": [
      "Done!\n"
     ]
    }
   ],
   "source": [
    "setTimer(1000).then(data => {\n",
    "    console.log(data);\n",
    "});"
   ]
  },
  {
   "cell_type": "markdown",
   "id": "23ed4b1a-5efb-4462-a02c-0ac1aa40b5b1",
   "metadata": {},
   "source": [
    "## Chaining multiple promises"
   ]
  },
  {
   "cell_type": "markdown",
   "id": "b8ee4f05-0f75-478b-9d95-e90576d18bad",
   "metadata": {},
   "source": [
    "Chaining multiple promises means executing a sequence of asynchronous tasks one after another, where each task starts after the previous one finishes."
   ]
  },
  {
   "cell_type": "code",
   "execution_count": 8,
   "id": "b57237c1-7329-4566-bde1-30f8ebb6a8b4",
   "metadata": {},
   "outputs": [],
   "source": [
    "function fetchUserId() {\n",
    "  return new Promise((resolve) => {\n",
    "    setTimeout(() => resolve(1), 1000);\n",
    "  });\n",
    "}\n",
    "\n",
    "function fetchUserDetails(userId) {\n",
    "  return new Promise((resolve) => {\n",
    "    setTimeout(() => resolve({ id: userId, name: \"Alice\" }), 1000);\n",
    "  });\n",
    "}\n",
    "\n",
    "function fetchUserPosts(user) {\n",
    "  return new Promise((resolve) => {\n",
    "    setTimeout(() => resolve([\"Post1\", \"Post2\"]), 1000);\n",
    "  });\n",
    "}"
   ]
  },
  {
   "cell_type": "code",
   "execution_count": 9,
   "id": "d573bfbe-7ff4-4fd6-863e-e7d58d38a024",
   "metadata": {},
   "outputs": [
    {
     "data": {
      "text/plain": [
       "Promise { \u001b[36m<pending>\u001b[39m }"
      ]
     },
     "execution_count": 9,
     "metadata": {},
     "output_type": "execute_result"
    },
    {
     "name": "stdout",
     "output_type": "stream",
     "text": [
      "Got ID: \u001b[33m1\u001b[39m\n",
      "User details: { id: \u001b[33m1\u001b[39m, name: \u001b[32m\"Alice\"\u001b[39m }\n",
      "User posts: [ \u001b[32m\"Post1\"\u001b[39m, \u001b[32m\"Post2\"\u001b[39m ]\n"
     ]
    }
   ],
   "source": [
    "// Chaining\n",
    "fetchUserId()\n",
    "  .then((id) => {\n",
    "    console.log(\"Got ID:\", id);\n",
    "    return fetchUserDetails(id);\n",
    "  })\n",
    "  .then((user) => {\n",
    "    console.log(\"User details:\", user);\n",
    "    return fetchUserPosts(user);\n",
    "  })\n",
    "  .then((posts) => {\n",
    "    console.log(\"User posts:\", posts);\n",
    "  })\n",
    "  .catch((err) => {\n",
    "    console.error(\"Something went wrong:\", err);\n",
    "  });"
   ]
  },
  {
   "cell_type": "code",
   "execution_count": 3,
   "id": "2cb804cd-46ff-4a11-b02d-0c8c0f9129e5",
   "metadata": {},
   "outputs": [],
   "source": [
    "const promise2 = new Promise((resolve, reject) => {\n",
    "    resolve('Second promise done!');\n",
    "});"
   ]
  },
  {
   "cell_type": "code",
   "execution_count": 15,
   "id": "c1fad67e-c7fd-4dd1-b26a-bd426e0e33c5",
   "metadata": {},
   "outputs": [
    {
     "name": "stdout",
     "output_type": "stream",
     "text": [
      "Second promise done!\n"
     ]
    },
    {
     "data": {
      "text/plain": [
       "Promise { \u001b[36m<pending>\u001b[39m }"
      ]
     },
     "execution_count": 15,
     "metadata": {},
     "output_type": "execute_result"
    },
    {
     "name": "stdout",
     "output_type": "stream",
     "text": [
      "Done!\n"
     ]
    }
   ],
   "source": [
    "promise2\n",
    "    .then(data => {\n",
    "        console.log(data);\n",
    "        return setTimer(1000);\n",
    "    })\n",
    "    .then(secondData => {\n",
    "        console.log(secondData);\n",
    "    });"
   ]
  },
  {
   "cell_type": "markdown",
   "id": "1fde3a30-f5fa-4812-b306-6772691f9a43",
   "metadata": {},
   "source": [
    "⚠️ Error Handling with reject in Promises"
   ]
  },
  {
   "cell_type": "code",
   "execution_count": 16,
   "id": "f298cc37-de60-4d2d-a09a-26c785646701",
   "metadata": {},
   "outputs": [],
   "source": [
    "function doSomethingRisky() {\n",
    "  return new Promise((resolve, reject) => {\n",
    "    const success = false; // Change to true to simulate success\n",
    "\n",
    "    if (success) {\n",
    "      resolve(\"✅ Success! Everything worked.\");\n",
    "    } else {\n",
    "      reject(\"❌ Something went wrong!\");\n",
    "    }\n",
    "  });\n",
    "}"
   ]
  },
  {
   "cell_type": "code",
   "execution_count": 17,
   "id": "9b3b2817-c990-48b4-95af-8b2627082489",
   "metadata": {},
   "outputs": [
    {
     "name": "stderr",
     "output_type": "stream",
     "text": [
      "Caught an error: ❌ Something went wrong!\n"
     ]
    },
    {
     "data": {
      "text/plain": [
       "Promise { \u001b[90mundefined\u001b[39m }"
      ]
     },
     "execution_count": 17,
     "metadata": {},
     "output_type": "execute_result"
    }
   ],
   "source": [
    "doSomethingRisky()\n",
    "  .then((result) => {\n",
    "    console.log(\"Result:\", result);\n",
    "  })\n",
    "  .catch((error) => {\n",
    "    console.error(\"Caught an error:\", error);\n",
    "  });"
   ]
  },
  {
   "cell_type": "code",
   "execution_count": 18,
   "id": "e0d52d92-31ed-4262-8a78-1c06489e93f6",
   "metadata": {},
   "outputs": [],
   "source": [
    "function fetchUserId() {\n",
    "  return new Promise((resolve, reject) => {\n",
    "    setTimeout(() => {\n",
    "      console.log(\"Fetching user ID...\");\n",
    "      const success = false; // Change to true to avoid rejection\n",
    "      if (success) {\n",
    "        resolve(1);\n",
    "      } else {\n",
    "        reject(\"Failed to fetch user ID\");\n",
    "      }\n",
    "    }, 1000);\n",
    "  });\n",
    "}\n",
    "\n",
    "function fetchUserDetails(userId) {\n",
    "  return new Promise((resolve, reject) => {\n",
    "    setTimeout(() => {\n",
    "      console.log(\"Fetching user details...\");\n",
    "      resolve({ id: userId, name: \"Alice\" });\n",
    "    }, 1000);\n",
    "  });\n",
    "}\n",
    "\n",
    "function fetchUserPosts(user) {\n",
    "  return new Promise((resolve, reject) => {\n",
    "    setTimeout(() => {\n",
    "      console.log(\"Fetching user posts...\");\n",
    "      resolve([\"Post1\", \"Post2\"]);\n",
    "    }, 1000);\n",
    "  });\n",
    "}"
   ]
  },
  {
   "cell_type": "code",
   "execution_count": 20,
   "id": "fa92da3e-19fa-4181-b759-41d97940d3c7",
   "metadata": {},
   "outputs": [
    {
     "data": {
      "text/plain": [
       "Promise { \u001b[36m<pending>\u001b[39m }"
      ]
     },
     "execution_count": 20,
     "metadata": {},
     "output_type": "execute_result"
    },
    {
     "name": "stdout",
     "output_type": "stream",
     "text": [
      "Fetching user ID...\n"
     ]
    },
    {
     "name": "stderr",
     "output_type": "stream",
     "text": [
      "❌ Error caught: Failed to fetch user ID\n"
     ]
    }
   ],
   "source": [
    "// Chaining with error handling\n",
    "fetchUserId()\n",
    "  .then((id) => fetchUserDetails(id))\n",
    "  .then((user) => fetchUserPosts(user))\n",
    "  .then((posts) => {\n",
    "    console.log(\"Posts:\", posts);\n",
    "  })\n",
    "  .catch((err) => {\n",
    "    console.error(\"❌ Error caught:\", err);\n",
    "  });"
   ]
  },
  {
   "cell_type": "code",
   "execution_count": 29,
   "id": "9ea3b1aa-abac-447d-9304-ec338532fc02",
   "metadata": {},
   "outputs": [],
   "source": [
    "function fetchUserId() {\n",
    "  return new Promise((resolve, reject) => {\n",
    "    setTimeout(() => {\n",
    "      console.log(\"Fetching user ID...\");\n",
    "      const success = true; // Change to true to avoid rejection\n",
    "      if (success) {\n",
    "        resolve(1);\n",
    "      } else {\n",
    "        reject(\"Failed to fetch user ID\");\n",
    "      }\n",
    "    }, 1000);\n",
    "  });\n",
    "}\n",
    "\n",
    "function fetchUserDetails(userId) {\n",
    "  return new Promise((resolve, reject) => {\n",
    "    setTimeout(() => {\n",
    "      console.log(\"Fetching user details...\");\n",
    "      const success = false; // Change to true to avoid rejection\n",
    "      if (success) {\n",
    "        resolve({ id: userId, name: \"Alice\" });\n",
    "      } else {\n",
    "        reject(\"Failed to fetch user details\");\n",
    "      }\n",
    "    }, 1000);\n",
    "  });\n",
    "}\n",
    "\n",
    "function fetchUserPosts(user) {\n",
    "  return new Promise((resolve, reject) => {\n",
    "    setTimeout(() => {\n",
    "      console.log(\"Fetching user posts...\");\n",
    "      resolve([\"Post1\", \"Post2\"]);\n",
    "    }, 1000);\n",
    "  });\n",
    "}"
   ]
  },
  {
   "cell_type": "markdown",
   "id": "f9e36c4e-a595-4b51-aea2-51919bc87f3d",
   "metadata": {},
   "source": [
    "## ✅ Correct Global Error Handling\n",
    "\n",
    "✅ This catches any error that occurs in the entire chain above it (from fetchUserId all the way to fetchUserPosts)."
   ]
  },
  {
   "cell_type": "code",
   "execution_count": 27,
   "id": "2b4a3587-3135-42f2-9985-0ba0ce819d39",
   "metadata": {},
   "outputs": [
    {
     "data": {
      "text/plain": [
       "Promise { \u001b[36m<pending>\u001b[39m }"
      ]
     },
     "execution_count": 27,
     "metadata": {},
     "output_type": "execute_result"
    },
    {
     "name": "stdout",
     "output_type": "stream",
     "text": [
      "Fetching user ID...\n",
      "Fetching user details...\n"
     ]
    },
    {
     "name": "stderr",
     "output_type": "stream",
     "text": [
      "❌ Error caught: Failed to fetch user details\n"
     ]
    }
   ],
   "source": [
    "// Chaining with error handling\n",
    "fetchUserId()\n",
    "  .then((id) => fetchUserDetails(id))\n",
    "  .then((user) => fetchUserPosts(user))\n",
    "  .then((posts) => {\n",
    "    console.log(\"Posts:\", posts);\n",
    "  })\n",
    "  .catch((err) => {\n",
    "    console.error(\"❌ Error caught:\", err);\n",
    "  });"
   ]
  },
  {
   "cell_type": "markdown",
   "id": "d3b24e35-f09a-47d0-8d59-68781a1bb0ac",
   "metadata": {},
   "source": [
    "## ⚠️ Incorrect / Partial Error Handling\n",
    "\n",
    "⚠️ This catches errors only from fetchUserId() or fetchUserDetails(), and then continues to run fetchUserPosts() — even though the user may be undefined.\n",
    "\n",
    "This version is less safe, because it continues the chain even after an error. It doesn't \"stop\" or prevent further .then()s from running."
   ]
  },
  {
   "cell_type": "code",
   "execution_count": 31,
   "id": "952836f9-63aa-4888-9fee-db5979bd0621",
   "metadata": {},
   "outputs": [
    {
     "data": {
      "text/plain": [
       "Promise { \u001b[36m<pending>\u001b[39m }"
      ]
     },
     "execution_count": 31,
     "metadata": {},
     "output_type": "execute_result"
    },
    {
     "name": "stdout",
     "output_type": "stream",
     "text": [
      "Fetching user ID...\n",
      "Fetching user details...\n"
     ]
    },
    {
     "name": "stderr",
     "output_type": "stream",
     "text": [
      "❌ Error caught: Failed to fetch user details\n"
     ]
    },
    {
     "name": "stdout",
     "output_type": "stream",
     "text": [
      "Fetching user posts...\n",
      "Posts: [ \u001b[32m\"Post1\"\u001b[39m, \u001b[32m\"Post2\"\u001b[39m ]\n"
     ]
    }
   ],
   "source": [
    "// Chaining with error handling\n",
    "fetchUserId()\n",
    "  .then((id) => fetchUserDetails(id))\n",
    "  .catch((err) => {\n",
    "    console.error(\"❌ Error caught:\", err);\n",
    "  })\n",
    "  .then((user) => fetchUserPosts(user))\n",
    "  .then((posts) => {\n",
    "    console.log(\"Posts:\", posts);\n",
    "  });"
   ]
  },
  {
   "cell_type": "markdown",
   "id": "7a516cfa-b837-4e42-bc85-c66eba78ec93",
   "metadata": {},
   "source": [
    "You learned about the different promise states:\n",
    "\n",
    "PENDING => Promise is doing work, neither then() nor catch() executes at this moment\n",
    "\n",
    "RESOLVED => Promise is resolved => then() executes\n",
    "\n",
    "REJECTED  => Promise was rejected => catch() executes\n",
    "\n",
    "When you have another then() block after a catch() or then() block, the promise re-enters PENDING mode (keep in mind: then() and catch() always return a new promise - either not resolving to anything or resolving to what you return inside of then()). Only if there are no more then() blocks left, it enters a new, final mode: SETTLED.\n",
    "\n",
    "Once SETTLED, you can use a special block - finally() - to do final cleanup work. finally() is reached no matter if you resolved or rejected before."
   ]
  },
  {
   "cell_type": "code",
   "execution_count": 32,
   "id": "a63d6151-0f6d-4ab1-8cb6-9def44063c09",
   "metadata": {},
   "outputs": [
    {
     "data": {
      "text/plain": [
       "Promise { \u001b[36m<pending>\u001b[39m }"
      ]
     },
     "execution_count": 32,
     "metadata": {},
     "output_type": "execute_result"
    },
    {
     "name": "stdout",
     "output_type": "stream",
     "text": [
      "Fetching user ID...\n",
      "Fetching user details...\n"
     ]
    },
    {
     "name": "stderr",
     "output_type": "stream",
     "text": [
      "❌ Error caught: Failed to fetch user details\n"
     ]
    },
    {
     "name": "stdout",
     "output_type": "stream",
     "text": [
      "finally!\n"
     ]
    }
   ],
   "source": [
    "fetchUserId()\n",
    "  .then((id) => fetchUserDetails(id))\n",
    "  .catch((err) => {\n",
    "    console.error(\"❌ Error caught:\", err);\n",
    "  })\n",
    "  .finally(() => {\n",
    "    console.log('finally!');\n",
    "  });"
   ]
  },
  {
   "cell_type": "code",
   "execution_count": 33,
   "id": "1abf2155-e689-4b25-99f2-741fe33f7a64",
   "metadata": {},
   "outputs": [
    {
     "data": {
      "text/plain": [
       "Promise { \u001b[36m<pending>\u001b[39m }"
      ]
     },
     "execution_count": 33,
     "metadata": {},
     "output_type": "execute_result"
    },
    {
     "name": "stdout",
     "output_type": "stream",
     "text": [
      "Fetching user ID...\n",
      "finally!\n"
     ]
    }
   ],
   "source": [
    "fetchUserId()\n",
    "  .then((id) => {})\n",
    "  .catch((err) => {\n",
    "    console.error(\"❌ Error caught:\", err);\n",
    "  })\n",
    "  .finally(() => {\n",
    "    console.log('finally!');\n",
    "  });"
   ]
  },
  {
   "cell_type": "markdown",
   "id": "f7f0d32c-4835-4414-9466-35be046d490e",
   "metadata": {},
   "source": [
    "## 🔁 Callback Hell"
   ]
  },
  {
   "cell_type": "markdown",
   "id": "f13d9d3a-2f87-4af8-8448-6f0dabafd9fa",
   "metadata": {},
   "source": [
    "Callback Hell (also known as \"Pyramid of Doom\") happens when you use nested callbacks, making your code deeply indented, hard to read, and harder to maintain."
   ]
  },
  {
   "cell_type": "code",
   "execution_count": 2,
   "id": "ab531b7a-aa56-4be9-9d00-f3a6da61f2bd",
   "metadata": {},
   "outputs": [],
   "source": [
    "function getUserId(callback) {\n",
    "  setTimeout(() => {\n",
    "    console.log(\"Fetched user ID\");\n",
    "    callback(1);\n",
    "  }, 1000);\n",
    "}\n",
    "\n",
    "function getUserDetails(userId, callback) {\n",
    "  setTimeout(() => {\n",
    "    console.log(\"Fetched user details for ID:\", userId);\n",
    "    callback({ id: userId, name: \"Alice\" });\n",
    "  }, 1000);\n",
    "}\n",
    "\n",
    "function getUserPosts(user, callback) {\n",
    "  setTimeout(() => {\n",
    "    console.log(\"Fetched posts for user:\", user.name);\n",
    "    callback([\"Post1\", \"Post2\"]);\n",
    "  }, 1000);\n",
    "}"
   ]
  },
  {
   "cell_type": "code",
   "execution_count": 3,
   "id": "96980e4c-0121-49df-b22d-51a19a00fee8",
   "metadata": {},
   "outputs": [
    {
     "name": "stdout",
     "output_type": "stream",
     "text": [
      "Fetched user ID\n",
      "Fetched user details for ID: \u001b[33m1\u001b[39m\n",
      "Fetched posts for user: Alice\n",
      "Posts: [ \u001b[32m\"Post1\"\u001b[39m, \u001b[32m\"Post2\"\u001b[39m ]\n"
     ]
    }
   ],
   "source": [
    "// ❌ Callback Hell\n",
    "getUserId(function (id) {\n",
    "  getUserDetails(id, function (user) {\n",
    "    getUserPosts(user, function (posts) {\n",
    "      console.log(\"Posts:\", posts);\n",
    "      // Imagine more nested callbacks here...\n",
    "    });\n",
    "  });\n",
    "});"
   ]
  },
  {
   "cell_type": "markdown",
   "id": "8c63d5e7-d9ee-45c4-92ca-7d39b965ce8f",
   "metadata": {},
   "source": [
    "## 🏁 Promise.race()"
   ]
  },
  {
   "cell_type": "markdown",
   "id": "21bd7400-e4c0-469a-b331-9731a2618467",
   "metadata": {},
   "source": [
    "Returns the first promise to settle (resolve or reject)."
   ]
  },
  {
   "cell_type": "code",
   "execution_count": 4,
   "id": "8c60e549-36e7-4424-9055-cf8d4e9f5490",
   "metadata": {},
   "outputs": [],
   "source": [
    "const fast = new Promise((resolve) => setTimeout(() => resolve(\"Fast!\"), 100));\n",
    "const slow = new Promise((resolve) => setTimeout(() => resolve(\"Slow...\"), 500));"
   ]
  },
  {
   "cell_type": "code",
   "execution_count": 5,
   "id": "4071b822-a8ab-4cf1-8cb6-c9acd7fe0421",
   "metadata": {},
   "outputs": [
    {
     "name": "stdout",
     "output_type": "stream",
     "text": [
      "🏁 Winner: Fast!\n"
     ]
    },
    {
     "data": {
      "text/plain": [
       "Promise { \u001b[90mundefined\u001b[39m }"
      ]
     },
     "execution_count": 5,
     "metadata": {},
     "output_type": "execute_result"
    }
   ],
   "source": [
    "Promise.race([fast, slow]).then((result) => {\n",
    "  console.log(\"🏁 Winner:\", result);\n",
    "});"
   ]
  },
  {
   "cell_type": "markdown",
   "id": "31ffce57-bdcb-47c8-a594-e909a9f27fa8",
   "metadata": {},
   "source": [
    "## ✅ Promise.all()"
   ]
  },
  {
   "cell_type": "markdown",
   "id": "726d5c45-0ee2-4d81-a899-78d88dcdf87f",
   "metadata": {},
   "source": [
    "Waits for all promises to resolve. If any promise rejects, it fails immediately."
   ]
  },
  {
   "cell_type": "code",
   "execution_count": 6,
   "id": "cf238b57-6b42-4349-8128-2bd246795aa0",
   "metadata": {},
   "outputs": [],
   "source": [
    "const p1 = Promise.resolve(\"A\");\n",
    "const p2 = Promise.resolve(\"B\");\n",
    "const p3 = Promise.resolve(\"C\");"
   ]
  },
  {
   "cell_type": "code",
   "execution_count": 7,
   "id": "fb553ebd-78ae-40eb-aae8-1c13eeeb443e",
   "metadata": {},
   "outputs": [
    {
     "name": "stdout",
     "output_type": "stream",
     "text": [
      "✅ All resolved: [ \u001b[32m\"A\"\u001b[39m, \u001b[32m\"B\"\u001b[39m, \u001b[32m\"C\"\u001b[39m ]\n"
     ]
    },
    {
     "data": {
      "text/plain": [
       "Promise { \u001b[90mundefined\u001b[39m }"
      ]
     },
     "execution_count": 7,
     "metadata": {},
     "output_type": "execute_result"
    }
   ],
   "source": [
    "Promise.all([p1, p2, p3])\n",
    "  .then((results) => {\n",
    "    console.log(\"✅ All resolved:\", results); // ['A', 'B', 'C']\n",
    "  })\n",
    "  .catch((err) => {\n",
    "    console.error(\"❌ One failed:\", err);\n",
    "  });"
   ]
  },
  {
   "cell_type": "code",
   "execution_count": 8,
   "id": "97865d0a-5fcf-4c01-b5c8-3d14db436c96",
   "metadata": {},
   "outputs": [],
   "source": [
    "const p1 = Promise.resolve(\"A\");\n",
    "const p2 = Promise.reject(\"B failed\");"
   ]
  },
  {
   "cell_type": "code",
   "execution_count": 9,
   "id": "0a00d620-44e0-47ec-b7a5-aa6873b43216",
   "metadata": {},
   "outputs": [
    {
     "name": "stderr",
     "output_type": "stream",
     "text": [
      "❌ Error: B failed\n"
     ]
    },
    {
     "data": {
      "text/plain": [
       "Promise { \u001b[90mundefined\u001b[39m }"
      ]
     },
     "execution_count": 9,
     "metadata": {},
     "output_type": "execute_result"
    }
   ],
   "source": [
    "Promise.all([p1, p2])\n",
    "  .then(console.log)\n",
    "  .catch((err) => console.error(\"❌ Error:\", err));"
   ]
  },
  {
   "cell_type": "markdown",
   "id": "d517088d-0a8c-4f0d-ab44-b3d1e107afde",
   "metadata": {},
   "source": [
    "## 🚦 Promise.allSettled()"
   ]
  },
  {
   "cell_type": "markdown",
   "id": "7362ab67-6d0d-4a15-a03f-cc56cbe5bcf9",
   "metadata": {},
   "source": [
    "Waits for all promises to finish, regardless of resolve or reject. Returns an array of result objects."
   ]
  },
  {
   "cell_type": "code",
   "execution_count": 10,
   "id": "3391a55a-9ed8-4212-9bb3-f28300c4d707",
   "metadata": {},
   "outputs": [],
   "source": [
    "const p1 = Promise.resolve(\"Success!\");\n",
    "const p2 = Promise.reject(\"Failure!\");\n",
    "const p3 = Promise.resolve(\"Another success!\");"
   ]
  },
  {
   "cell_type": "code",
   "execution_count": 11,
   "id": "9fa3268e-ac6c-4594-bc62-786979614444",
   "metadata": {},
   "outputs": [
    {
     "name": "stdout",
     "output_type": "stream",
     "text": [
      "📋 Results: [\n",
      "  { status: \u001b[32m\"fulfilled\"\u001b[39m, value: \u001b[32m\"Success!\"\u001b[39m },\n",
      "  { status: \u001b[32m\"rejected\"\u001b[39m, reason: \u001b[32m\"Failure!\"\u001b[39m },\n",
      "  { status: \u001b[32m\"fulfilled\"\u001b[39m, value: \u001b[32m\"Another success!\"\u001b[39m }\n",
      "]\n"
     ]
    },
    {
     "data": {
      "text/plain": [
       "Promise { \u001b[90mundefined\u001b[39m }"
      ]
     },
     "execution_count": 11,
     "metadata": {},
     "output_type": "execute_result"
    }
   ],
   "source": [
    "Promise.allSettled([p1, p2, p3]).then((results) => {\n",
    "  console.log(\"📋 Results:\", results);\n",
    "});"
   ]
  },
  {
   "cell_type": "markdown",
   "id": "46431486-be0e-4d5e-99ff-1f361dbed3a3",
   "metadata": {},
   "source": [
    "## 🔍 Promise.any()"
   ]
  },
  {
   "cell_type": "markdown",
   "id": "ca303e86-643c-47aa-b27f-68082c885b99",
   "metadata": {},
   "source": [
    "Waits for any promise to resolve. Ignores rejections unless all fail."
   ]
  },
  {
   "cell_type": "code",
   "execution_count": 12,
   "id": "f4cdf39a-f542-45ed-97e0-d8bcc0be5b36",
   "metadata": {},
   "outputs": [],
   "source": [
    "const p1 = Promise.reject(\"Fail 1\");\n",
    "const p2 = Promise.reject(\"Fail 2\");\n",
    "const p3 = Promise.resolve(\"🎉 First success\");"
   ]
  },
  {
   "cell_type": "code",
   "execution_count": 13,
   "id": "aded8b55-4c56-4175-a193-a2bddb36a5d2",
   "metadata": {},
   "outputs": [
    {
     "name": "stdout",
     "output_type": "stream",
     "text": [
      "✅ First resolved: 🎉 First success\n"
     ]
    },
    {
     "data": {
      "text/plain": [
       "Promise { \u001b[90mundefined\u001b[39m }"
      ]
     },
     "execution_count": 13,
     "metadata": {},
     "output_type": "execute_result"
    }
   ],
   "source": [
    "Promise.any([p1, p2, p3])\n",
    "  .then((value) => {\n",
    "    console.log(\"✅ First resolved:\", value);\n",
    "  })\n",
    "  .catch((err) => {\n",
    "    console.error(\"❌ All failed:\", err);\n",
    "  });"
   ]
  }
 ],
 "metadata": {
  "kernelspec": {
   "display_name": "Deno",
   "language": "typescript",
   "name": "deno"
  },
  "language_info": {
   "codemirror_mode": "typescript",
   "file_extension": ".ts",
   "mimetype": "text/x.typescript",
   "name": "typescript",
   "nbconvert_exporter": "script",
   "pygments_lexer": "typescript",
   "version": "5.7.3"
  }
 },
 "nbformat": 4,
 "nbformat_minor": 5
}
