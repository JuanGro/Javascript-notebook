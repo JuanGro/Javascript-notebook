{
 "cells": [
  {
   "cell_type": "markdown",
   "id": "7250c983-0cdd-465f-9a94-6a44bd5b868d",
   "metadata": {},
   "source": [
    "# Setting Timers and Intervals"
   ]
  },
  {
   "cell_type": "code",
   "execution_count": 9,
   "id": "74e27cf1-38f2-4e24-bbed-fe26b5213f23",
   "metadata": {},
   "outputs": [
    {
     "name": "stdout",
     "output_type": "stream",
     "text": [
      "Start\n",
      "End\n",
      "This runs after 2 seconds\n"
     ]
    }
   ],
   "source": [
    "console.log(\"Start\");\n",
    "\n",
    "setTimeout(() => {\n",
    "  console.log(\"This runs after 2 seconds\");\n",
    "}, 2000);\n",
    "\n",
    "console.log(\"End\");"
   ]
  },
  {
   "cell_type": "code",
   "execution_count": 10,
   "id": "2b240570-83ea-471b-bb20-e547e2342ed5",
   "metadata": {},
   "outputs": [],
   "source": [
    "const timeoutId = setTimeout(() => {\n",
    "  console.log(\"This will not run\");\n",
    "}, 3000);\n",
    "\n",
    "clearTimeout(timeoutId);"
   ]
  },
  {
   "cell_type": "code",
   "execution_count": 3,
   "id": "6312fe29-70be-44e8-bb9a-c0ba0cf94c47",
   "metadata": {},
   "outputs": [
    {
     "name": "stdout",
     "output_type": "stream",
     "text": [
      "Count: \u001b[33m1\u001b[39m\n",
      "Count: \u001b[33m2\u001b[39m\n",
      "Count: \u001b[33m3\u001b[39m\n",
      "Count: \u001b[33m4\u001b[39m\n",
      "Count: \u001b[33m5\u001b[39m\n"
     ]
    }
   ],
   "source": [
    "let count = 0;\n",
    "\n",
    "const timer = setInterval(() => {\n",
    "  count++;\n",
    "  console.log(\"Count:\", count);\n",
    "\n",
    "  if (count === 5) {\n",
    "    clearInterval(timer); // stop after 5 times\n",
    "  }\n",
    "}, 1000);"
   ]
  },
  {
   "cell_type": "code",
   "execution_count": 4,
   "id": "8db2c2ad-b675-45e4-95f6-b4293ca51c78",
   "metadata": {},
   "outputs": [
    {
     "data": {
      "text/plain": [
       "Promise { \u001b[36m<pending>\u001b[39m }"
      ]
     },
     "execution_count": 4,
     "metadata": {},
     "output_type": "execute_result"
    },
    {
     "name": "stdout",
     "output_type": "stream",
     "text": [
      "Done!\n"
     ]
    }
   ],
   "source": [
    "const promise = new Promise((resolve, reject) => {\n",
    "  setTimeout(() => {\n",
    "    resolve(\"Done!\");\n",
    "  }, 1000);\n",
    "});\n",
    "\n",
    "promise.then((message) => {\n",
    "  console.log(message); // \"Done!\"\n",
    "});"
   ]
  },
  {
   "cell_type": "code",
   "execution_count": 5,
   "id": "51552b37-a75b-44fc-ac1f-1e219e0019ba",
   "metadata": {},
   "outputs": [
    {
     "data": {
      "text/plain": [
       "Promise { \u001b[36m<pending>\u001b[39m }"
      ]
     },
     "execution_count": 5,
     "metadata": {},
     "output_type": "execute_result"
    },
    {
     "name": "stdout",
     "output_type": "stream",
     "text": [
      "{\n",
      "  userId: \u001b[33m1\u001b[39m,\n",
      "  id: \u001b[33m1\u001b[39m,\n",
      "  title: \u001b[32m\"sunt aut facere repellat provident occaecati excepturi optio reprehenderit\"\u001b[39m,\n",
      "  body: \u001b[32m\"quia et suscipit\\n\"\u001b[39m +\n",
      "    \u001b[32m\"suscipit recusandae consequuntur expedita et cum\\n\"\u001b[39m +\n",
      "    \u001b[32m\"reprehenderit molestiae ut ut quas totam\\n\"\u001b[39m +\n",
      "    \u001b[32m\"nostrum rerum est autem sunt rem eveniet architecto\"\u001b[39m\n",
      "}\n"
     ]
    }
   ],
   "source": [
    "fetch(\"https://jsonplaceholder.typicode.com/posts/1\")\n",
    "  .then((response) => response.json())\n",
    "  .then((data) => {\n",
    "    console.log(data);\n",
    "  });"
   ]
  }
 ],
 "metadata": {
  "kernelspec": {
   "display_name": "Deno",
   "language": "typescript",
   "name": "deno"
  },
  "language_info": {
   "codemirror_mode": "typescript",
   "file_extension": ".ts",
   "mimetype": "text/x.typescript",
   "name": "typescript",
   "nbconvert_exporter": "script",
   "pygments_lexer": "typescript",
   "version": "5.7.3"
  }
 },
 "nbformat": 4,
 "nbformat_minor": 5
}
