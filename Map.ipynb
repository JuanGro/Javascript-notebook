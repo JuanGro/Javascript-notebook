{
 "cells": [
  {
   "cell_type": "markdown",
   "id": "586fc149-10cb-40f6-8bb1-238784cb3c23",
   "metadata": {},
   "source": [
    "# Map"
   ]
  },
  {
   "cell_type": "code",
   "execution_count": 24,
   "id": "ba65928a-9316-40c9-80a5-4236b875bedf",
   "metadata": {},
   "outputs": [],
   "source": [
    "const myMap = new Map();"
   ]
  },
  {
   "cell_type": "code",
   "execution_count": 25,
   "id": "2fd95ecf-49bb-4a76-b100-53fd1a8614e0",
   "metadata": {},
   "outputs": [
    {
     "data": {
      "text/plain": [
       "Map(0) {}"
      ]
     },
     "execution_count": 25,
     "metadata": {},
     "output_type": "execute_result"
    }
   ],
   "source": [
    "myMap;"
   ]
  },
  {
   "cell_type": "code",
   "execution_count": 26,
   "id": "72cabed3-97aa-4090-9e8a-5b331565978d",
   "metadata": {},
   "outputs": [
    {
     "data": {
      "text/plain": [
       "Map(1) { \u001b[32m\"name\"\u001b[39m => \u001b[32m\"Alice\"\u001b[39m }"
      ]
     },
     "execution_count": 26,
     "metadata": {},
     "output_type": "execute_result"
    }
   ],
   "source": [
    "myMap.set('name', 'Alice');"
   ]
  },
  {
   "cell_type": "code",
   "execution_count": 27,
   "id": "dace0727-02a2-4610-8c11-d4cf4a25e5f2",
   "metadata": {},
   "outputs": [
    {
     "data": {
      "text/plain": [
       "Map(2) { \u001b[32m\"name\"\u001b[39m => \u001b[32m\"Alice\"\u001b[39m, \u001b[33m42\u001b[39m => \u001b[32m\"The answer\"\u001b[39m }"
      ]
     },
     "execution_count": 27,
     "metadata": {},
     "output_type": "execute_result"
    }
   ],
   "source": [
    "myMap.set(42, 'The answer');"
   ]
  },
  {
   "cell_type": "code",
   "execution_count": 28,
   "id": "f48055d5-a85c-4c56-adfe-ddc8cafb350e",
   "metadata": {},
   "outputs": [
    {
     "data": {
      "text/plain": [
       "Map(3) { \u001b[32m\"name\"\u001b[39m => \u001b[32m\"Alice\"\u001b[39m, \u001b[33m42\u001b[39m => \u001b[32m\"The answer\"\u001b[39m, \u001b[33mtrue\u001b[39m => \u001b[32m\"yes\"\u001b[39m }"
      ]
     },
     "execution_count": 28,
     "metadata": {},
     "output_type": "execute_result"
    }
   ],
   "source": [
    "myMap.set(true, 'yes');"
   ]
  },
  {
   "cell_type": "code",
   "execution_count": 29,
   "id": "41e90a4a-b39d-4e56-a8e7-5419d06d6455",
   "metadata": {},
   "outputs": [
    {
     "data": {
      "text/plain": [
       "\u001b[32m\"Alice\"\u001b[39m"
      ]
     },
     "execution_count": 29,
     "metadata": {},
     "output_type": "execute_result"
    }
   ],
   "source": [
    "myMap.get('name')"
   ]
  },
  {
   "cell_type": "code",
   "execution_count": 30,
   "id": "13d1e60c-d002-4011-ae7a-d35bad60e77d",
   "metadata": {},
   "outputs": [
    {
     "data": {
      "text/plain": [
       "\u001b[32m\"The answer\"\u001b[39m"
      ]
     },
     "execution_count": 30,
     "metadata": {},
     "output_type": "execute_result"
    }
   ],
   "source": [
    "myMap.get(42)"
   ]
  },
  {
   "cell_type": "code",
   "execution_count": 31,
   "id": "595067f9-e3e9-4533-b41f-d567b69594e3",
   "metadata": {},
   "outputs": [
    {
     "data": {
      "text/plain": [
       "\u001b[32m\"yes\"\u001b[39m"
      ]
     },
     "execution_count": 31,
     "metadata": {},
     "output_type": "execute_result"
    }
   ],
   "source": [
    "myMap.get(true)"
   ]
  },
  {
   "cell_type": "code",
   "execution_count": 32,
   "id": "6b0a5c86-4cc5-42d2-8549-02e5d907169c",
   "metadata": {},
   "outputs": [
    {
     "data": {
      "text/plain": [
       "\u001b[33mtrue\u001b[39m"
      ]
     },
     "execution_count": 32,
     "metadata": {},
     "output_type": "execute_result"
    }
   ],
   "source": [
    "myMap.has('name')"
   ]
  },
  {
   "cell_type": "code",
   "execution_count": 33,
   "id": "f6520e76-da16-407e-b303-6a8413356f39",
   "metadata": {},
   "outputs": [
    {
     "data": {
      "text/plain": [
       "\u001b[33mfalse\u001b[39m"
      ]
     },
     "execution_count": 33,
     "metadata": {},
     "output_type": "execute_result"
    }
   ],
   "source": [
    "myMap.has('age')"
   ]
  },
  {
   "cell_type": "code",
   "execution_count": 34,
   "id": "da9d7caf-8b46-446a-94cd-d85c24d2f893",
   "metadata": {},
   "outputs": [
    {
     "data": {
      "text/plain": [
       "\u001b[33mtrue\u001b[39m"
      ]
     },
     "execution_count": 34,
     "metadata": {},
     "output_type": "execute_result"
    }
   ],
   "source": [
    "myMap.delete(42);"
   ]
  },
  {
   "cell_type": "code",
   "execution_count": 35,
   "id": "55a54ef1-4187-4368-a3e1-137a7eda02dd",
   "metadata": {},
   "outputs": [
    {
     "name": "stdout",
     "output_type": "stream",
     "text": [
      "\u001b[33m2\u001b[39m\n"
     ]
    }
   ],
   "source": [
    "console.log(myMap.size);"
   ]
  },
  {
   "cell_type": "code",
   "execution_count": 36,
   "id": "f2d695e0-4436-4b25-a646-7e4030a65806",
   "metadata": {},
   "outputs": [
    {
     "name": "stdout",
     "output_type": "stream",
     "text": [
      "name => Alice\n",
      "true => yes\n"
     ]
    }
   ],
   "source": [
    "for (const [key, value] of myMap) {\n",
    "  console.log(`${key} => ${value}`);\n",
    "}"
   ]
  },
  {
   "cell_type": "code",
   "execution_count": 39,
   "id": "66009610-ace5-4610-bd16-d9c934316023",
   "metadata": {},
   "outputs": [
    {
     "name": "stdout",
     "output_type": "stream",
     "text": [
      "name: Alice\n",
      "true: yes\n"
     ]
    }
   ],
   "source": [
    "myMap.forEach((value, key) => {\n",
    "  console.log(`${key}: ${value}`);\n",
    "});"
   ]
  },
  {
   "cell_type": "code",
   "execution_count": 40,
   "id": "8ecce0fe-7e67-42c7-8577-7e0b573e36aa",
   "metadata": {},
   "outputs": [],
   "source": [
    "const user1 = { name: 'Alice' };\n",
    "const user2 = { name: 'Bob' };"
   ]
  },
  {
   "cell_type": "code",
   "execution_count": 42,
   "id": "4a658fbb-d324-4f14-a826-879acb900915",
   "metadata": {},
   "outputs": [],
   "source": [
    "const userRoles = new Map();"
   ]
  },
  {
   "cell_type": "code",
   "execution_count": 43,
   "id": "a48c6d1e-61c8-4c5f-9d30-6d2bb88a5c3a",
   "metadata": {},
   "outputs": [
    {
     "data": {
      "text/plain": [
       "Map(1) { { name: \u001b[32m\"Alice\"\u001b[39m } => \u001b[32m\"admin\"\u001b[39m }"
      ]
     },
     "execution_count": 43,
     "metadata": {},
     "output_type": "execute_result"
    }
   ],
   "source": [
    "userRoles.set(user1, 'admin');"
   ]
  },
  {
   "cell_type": "code",
   "execution_count": 44,
   "id": "f44a46e1-ada0-4993-800c-ca38aa4f4954",
   "metadata": {},
   "outputs": [
    {
     "data": {
      "text/plain": [
       "Map(2) { { name: \u001b[32m\"Alice\"\u001b[39m } => \u001b[32m\"admin\"\u001b[39m, { name: \u001b[32m\"Bob\"\u001b[39m } => \u001b[32m\"editor\"\u001b[39m }"
      ]
     },
     "execution_count": 44,
     "metadata": {},
     "output_type": "execute_result"
    }
   ],
   "source": [
    "userRoles.set(user2, 'editor');"
   ]
  },
  {
   "cell_type": "code",
   "execution_count": 45,
   "id": "1411b82d-4bf9-49b6-a5ba-8a15028482b7",
   "metadata": {},
   "outputs": [
    {
     "name": "stdout",
     "output_type": "stream",
     "text": [
      "admin\n"
     ]
    }
   ],
   "source": [
    "console.log(userRoles.get(user1));"
   ]
  },
  {
   "cell_type": "code",
   "execution_count": 46,
   "id": "12cbd789-e3fb-4ab0-a7e9-a306a8c18d90",
   "metadata": {},
   "outputs": [],
   "source": [
    "myMap.clear();"
   ]
  },
  {
   "cell_type": "code",
   "execution_count": 47,
   "id": "ac9d75a0-64ff-466a-8cdb-7b9f5fd71b5e",
   "metadata": {},
   "outputs": [
    {
     "data": {
      "text/plain": [
       "\u001b[33m0\u001b[39m"
      ]
     },
     "execution_count": 47,
     "metadata": {},
     "output_type": "execute_result"
    }
   ],
   "source": [
    "myMap.size"
   ]
  },
  {
   "cell_type": "code",
   "execution_count": 48,
   "id": "9893d37b-696a-4150-bfa4-bb8f52651b00",
   "metadata": {},
   "outputs": [
    {
     "data": {
      "text/plain": [
       "Map(1) { { name: \u001b[32m\"Alice\"\u001b[39m } => [ { date: \u001b[32m\"yesterday\"\u001b[39m, price: \u001b[33m10\u001b[39m } ] }"
      ]
     },
     "execution_count": 48,
     "metadata": {},
     "output_type": "execute_result"
    }
   ],
   "source": [
    "const personData = new Map([[user1, [{date: 'yesterday', price: 10 }]]]);\n",
    "personData"
   ]
  },
  {
   "cell_type": "code",
   "execution_count": 50,
   "id": "21e541d3-1205-436c-8967-c887e61eea50",
   "metadata": {},
   "outputs": [
    {
     "data": {
      "text/plain": [
       "Map(2) {\n",
       "  { name: \u001b[32m\"Alice\"\u001b[39m } => [ { date: \u001b[32m\"yesterday\"\u001b[39m, price: \u001b[33m10\u001b[39m } ],\n",
       "  { name: \u001b[32m\"Bob\"\u001b[39m } => [ { date: \u001b[32m\"two weeks ago\"\u001b[39m, price: \u001b[33m100\u001b[39m } ]\n",
       "}"
      ]
     },
     "execution_count": 50,
     "metadata": {},
     "output_type": "execute_result"
    }
   ],
   "source": [
    "personData.set(user2, [{ date: 'two weeks ago', price: 100 }]);"
   ]
  },
  {
   "cell_type": "code",
   "execution_count": 51,
   "id": "d43ab0e6-5383-4f79-a8ee-7d8d0db01d9d",
   "metadata": {},
   "outputs": [
    {
     "data": {
      "text/plain": [
       "[ { date: \u001b[32m\"yesterday\"\u001b[39m, price: \u001b[33m10\u001b[39m } ]"
      ]
     },
     "execution_count": 51,
     "metadata": {},
     "output_type": "execute_result"
    }
   ],
   "source": [
    "personData.get(user1);"
   ]
  },
  {
   "cell_type": "code",
   "execution_count": 53,
   "id": "78815d55-1a4a-463a-819d-809a36272d0f",
   "metadata": {},
   "outputs": [
    {
     "name": "stdout",
     "output_type": "stream",
     "text": [
      "[ { name: \u001b[32m\"Alice\"\u001b[39m }, [ { date: \u001b[32m\"yesterday\"\u001b[39m, price: \u001b[33m10\u001b[39m } ] ]\n",
      "[ { name: \u001b[32m\"Bob\"\u001b[39m }, [ { date: \u001b[32m\"two weeks ago\"\u001b[39m, price: \u001b[33m100\u001b[39m } ] ]\n"
     ]
    }
   ],
   "source": [
    "for (const entry of personData.entries()) {\n",
    "    console.log(entry);\n",
    "}"
   ]
  },
  {
   "cell_type": "code",
   "execution_count": 55,
   "id": "b4105db6-87e6-4336-8974-5c33c1900d5a",
   "metadata": {},
   "outputs": [
    {
     "name": "stdout",
     "output_type": "stream",
     "text": [
      "{ name: \u001b[32m\"Alice\"\u001b[39m } [ { date: \u001b[32m\"yesterday\"\u001b[39m, price: \u001b[33m10\u001b[39m } ]\n",
      "{ name: \u001b[32m\"Bob\"\u001b[39m } [ { date: \u001b[32m\"two weeks ago\"\u001b[39m, price: \u001b[33m100\u001b[39m } ]\n"
     ]
    }
   ],
   "source": [
    "for (const [key, value] of personData.entries()) {\n",
    "    console.log(key, value);\n",
    "}"
   ]
  },
  {
   "cell_type": "code",
   "execution_count": 56,
   "id": "bcdccb66-db4c-406d-9e8c-f58463e104a2",
   "metadata": {},
   "outputs": [
    {
     "name": "stdout",
     "output_type": "stream",
     "text": [
      "{ name: \u001b[32m\"Alice\"\u001b[39m }\n",
      "{ name: \u001b[32m\"Bob\"\u001b[39m }\n"
     ]
    }
   ],
   "source": [
    "for (const key of personData.keys()) {\n",
    "    console.log(key);\n",
    "}"
   ]
  },
  {
   "cell_type": "code",
   "execution_count": 57,
   "id": "9a8bb279-2997-4b60-9825-73caa73cb8a8",
   "metadata": {},
   "outputs": [
    {
     "name": "stdout",
     "output_type": "stream",
     "text": [
      "[ { date: \u001b[32m\"yesterday\"\u001b[39m, price: \u001b[33m10\u001b[39m } ]\n",
      "[ { date: \u001b[32m\"two weeks ago\"\u001b[39m, price: \u001b[33m100\u001b[39m } ]\n"
     ]
    }
   ],
   "source": [
    "for (const value of personData.values()) {\n",
    "    console.log(value);\n",
    "}"
   ]
  },
  {
   "cell_type": "code",
   "execution_count": null,
   "id": "53fc79e6-6a07-4338-bd32-ef350d552cba",
   "metadata": {},
   "outputs": [],
   "source": []
  }
 ],
 "metadata": {
  "kernelspec": {
   "display_name": "Deno",
   "language": "typescript",
   "name": "deno"
  },
  "language_info": {
   "codemirror_mode": "typescript",
   "file_extension": ".ts",
   "mimetype": "text/x.typescript",
   "name": "typescript",
   "nbconvert_exporter": "script",
   "pygments_lexer": "typescript",
   "version": "5.7.3"
  }
 },
 "nbformat": 4,
 "nbformat_minor": 5
}
