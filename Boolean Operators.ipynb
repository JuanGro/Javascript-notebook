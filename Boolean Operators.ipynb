{
 "cells": [
  {
   "cell_type": "markdown",
   "id": "6dc09ad2-f1ad-4563-998c-16a16cec7a23",
   "metadata": {},
   "source": [
    "# Boolean operators\n",
    "- == Check for value equality\n",
    "- != Check value for inequality\n",
    "- === and !== Check for value AND type (in)equality\n",
    "- \\> & < Check for value being greater / smaller\n",
    "- \\>= & <= Check for value being greater / smaller or equal\n",
    "- ! Check if NOT true"
   ]
  },
  {
   "cell_type": "code",
   "execution_count": 5,
   "id": "936ba566-651d-41d7-af5d-306106b3a91c",
   "metadata": {},
   "outputs": [
    {
     "data": {
      "text/plain": [
       "\u001b[33mtrue\u001b[39m"
      ]
     },
     "execution_count": 5,
     "metadata": {},
     "output_type": "execute_result"
    }
   ],
   "source": [
    "1 == 1"
   ]
  },
  {
   "cell_type": "code",
   "execution_count": 6,
   "id": "3c6d90a3-a103-4f24-9faa-c947d940baf4",
   "metadata": {},
   "outputs": [
    {
     "data": {
      "text/plain": [
       "\u001b[33mtrue\u001b[39m"
      ]
     },
     "execution_count": 6,
     "metadata": {},
     "output_type": "execute_result"
    }
   ],
   "source": [
    "1 == true"
   ]
  },
  {
   "cell_type": "code",
   "execution_count": 7,
   "id": "bd2fe30a-a990-49f2-ab01-65f7ac7969ce",
   "metadata": {},
   "outputs": [
    {
     "data": {
      "text/plain": [
       "\u001b[33mtrue\u001b[39m"
      ]
     },
     "execution_count": 7,
     "metadata": {},
     "output_type": "execute_result"
    }
   ],
   "source": [
    "1 === 1"
   ]
  },
  {
   "cell_type": "code",
   "execution_count": 2,
   "id": "1690e4e5-45c5-408e-b914-43e476140dc9",
   "metadata": {},
   "outputs": [
    {
     "data": {
      "text/plain": [
       "\u001b[33mfalse\u001b[39m"
      ]
     },
     "execution_count": 2,
     "metadata": {},
     "output_type": "execute_result"
    }
   ],
   "source": [
    "1 === true"
   ]
  },
  {
   "cell_type": "code",
   "execution_count": 3,
   "id": "f0911747-d581-4b3b-b09e-9b6b0568102d",
   "metadata": {},
   "outputs": [
    {
     "data": {
      "text/plain": [
       "\u001b[33mtrue\u001b[39m"
      ]
     },
     "execution_count": 3,
     "metadata": {},
     "output_type": "execute_result"
    }
   ],
   "source": [
    "0 !== false"
   ]
  },
  {
   "cell_type": "code",
   "execution_count": 4,
   "id": "3f145353-a86d-48f6-b8e3-4dfd6f0f6518",
   "metadata": {},
   "outputs": [
    {
     "data": {
      "text/plain": [
       "\u001b[33mfalse\u001b[39m"
      ]
     },
     "execution_count": 4,
     "metadata": {},
     "output_type": "execute_result"
    }
   ],
   "source": [
    "0 != false"
   ]
  },
  {
   "cell_type": "markdown",
   "id": "970d38aa-cb9d-417f-a3ef-f1a39391a216",
   "metadata": {},
   "source": [
    "More on Text (String) Comparisons\n",
    "Strings can also be compared with greater than (>) or lower/ smaller than (<) operators.\n",
    "\n",
    "JavaScript compares strings based on standard lexicographical ordering, using Unicode values.\n",
    "\n",
    "That means that b is greater than a for example.\n",
    "\n",
    "JavaScript always looks at the first character and only considers other characters if the first character is similar. In addition, capital characters are considered to be smaller than lowercase characters."
   ]
  },
  {
   "cell_type": "code",
   "execution_count": 5,
   "id": "7d128924-1942-4fb1-8b3c-9762461de95d",
   "metadata": {},
   "outputs": [
    {
     "data": {
      "text/plain": [
       "\u001b[33mtrue\u001b[39m"
      ]
     },
     "execution_count": 5,
     "metadata": {},
     "output_type": "execute_result"
    }
   ],
   "source": [
    "'ab' > 'aa' // true"
   ]
  },
  {
   "cell_type": "code",
   "execution_count": 6,
   "id": "a3d1a617-1fec-44ad-a475-362fc759d948",
   "metadata": {},
   "outputs": [
    {
     "data": {
      "text/plain": [
       "\u001b[33mtrue\u001b[39m"
      ]
     },
     "execution_count": 6,
     "metadata": {},
     "output_type": "execute_result"
    }
   ],
   "source": [
    "'a' > 'B' // true"
   ]
  },
  {
   "cell_type": "code",
   "execution_count": 8,
   "id": "ad410f9c-c409-4515-aa9b-1a998e8793bc",
   "metadata": {},
   "outputs": [
    {
     "data": {
      "text/plain": [
       "\u001b[33mfalse\u001b[39m"
      ]
     },
     "execution_count": 8,
     "metadata": {},
     "output_type": "execute_result"
    }
   ],
   "source": [
    "'a' > 'b' // false"
   ]
  },
  {
   "cell_type": "code",
   "execution_count": 9,
   "id": "4d42d861-4d57-4430-a061-fe0391f3ba38",
   "metadata": {},
   "outputs": [
    {
     "data": {
      "text/plain": [
       "\u001b[33mtrue\u001b[39m"
      ]
     },
     "execution_count": 9,
     "metadata": {},
     "output_type": "execute_result"
    }
   ],
   "source": [
    "'a' > 'A'"
   ]
  },
  {
   "cell_type": "code",
   "execution_count": 13,
   "id": "103ec01a-1ad8-4f3d-a368-2d38ab30795b",
   "metadata": {},
   "outputs": [
    {
     "data": {
      "text/plain": [
       "\u001b[33mfalse\u001b[39m"
      ]
     },
     "execution_count": 13,
     "metadata": {},
     "output_type": "execute_result"
    }
   ],
   "source": [
    "'a' > 0"
   ]
  },
  {
   "cell_type": "code",
   "execution_count": 14,
   "id": "1cbc93f0-59dd-4f5c-b176-7c502a28589e",
   "metadata": {},
   "outputs": [
    {
     "data": {
      "text/plain": [
       "\u001b[33mtrue\u001b[39m"
      ]
     },
     "execution_count": 14,
     "metadata": {},
     "output_type": "execute_result"
    }
   ],
   "source": [
    "true && true"
   ]
  },
  {
   "cell_type": "code",
   "execution_count": 16,
   "id": "77a7365d-9f8a-4bc4-9ba7-70a81ee40d08",
   "metadata": {},
   "outputs": [
    {
     "data": {
      "text/plain": [
       "\u001b[33mfalse\u001b[39m"
      ]
     },
     "execution_count": 16,
     "metadata": {},
     "output_type": "execute_result"
    }
   ],
   "source": [
    "true && false"
   ]
  },
  {
   "cell_type": "code",
   "execution_count": 17,
   "id": "49bbe85d-8233-4509-bd1e-97ed7e007cbb",
   "metadata": {},
   "outputs": [
    {
     "data": {
      "text/plain": [
       "\u001b[33mfalse\u001b[39m"
      ]
     },
     "execution_count": 17,
     "metadata": {},
     "output_type": "execute_result"
    }
   ],
   "source": [
    "false && false"
   ]
  },
  {
   "cell_type": "code",
   "execution_count": 18,
   "id": "07e8678d-839e-4414-b13c-18de516f1f64",
   "metadata": {},
   "outputs": [
    {
     "data": {
      "text/plain": [
       "\u001b[33mtrue\u001b[39m"
      ]
     },
     "execution_count": 18,
     "metadata": {},
     "output_type": "execute_result"
    }
   ],
   "source": [
    "true || true"
   ]
  },
  {
   "cell_type": "code",
   "execution_count": 19,
   "id": "8612daac-c512-40b9-a36f-98c20c7273e1",
   "metadata": {},
   "outputs": [
    {
     "data": {
      "text/plain": [
       "\u001b[33mtrue\u001b[39m"
      ]
     },
     "execution_count": 19,
     "metadata": {},
     "output_type": "execute_result"
    }
   ],
   "source": [
    "true || false"
   ]
  },
  {
   "cell_type": "code",
   "execution_count": 21,
   "id": "65942854-373d-434e-b2c5-79c217245c7c",
   "metadata": {},
   "outputs": [
    {
     "data": {
      "text/plain": [
       "\u001b[33mfalse\u001b[39m"
      ]
     },
     "execution_count": 21,
     "metadata": {},
     "output_type": "execute_result"
    }
   ],
   "source": [
    "false || false"
   ]
  },
  {
   "cell_type": "code",
   "execution_count": 22,
   "id": "3a16abac-1c98-4ba4-a1ab-7ad7133128d9",
   "metadata": {},
   "outputs": [
    {
     "data": {
      "text/plain": [
       "\u001b[33mtrue\u001b[39m"
      ]
     },
     "execution_count": 22,
     "metadata": {},
     "output_type": "execute_result"
    }
   ],
   "source": [
    "true && false || true"
   ]
  },
  {
   "cell_type": "code",
   "execution_count": 23,
   "id": "c8c3b519-069b-47c8-ab3f-80990cf4e9b4",
   "metadata": {},
   "outputs": [
    {
     "data": {
      "text/plain": [
       "\u001b[33mfalse\u001b[39m"
      ]
     },
     "execution_count": 23,
     "metadata": {},
     "output_type": "execute_result"
    }
   ],
   "source": [
    "true && false || false"
   ]
  },
  {
   "cell_type": "code",
   "execution_count": 25,
   "id": "279fa8a0-1b19-4c72-82f9-f28fc1fc5959",
   "metadata": {},
   "outputs": [
    {
     "data": {
      "text/plain": [
       "\u001b[33mtrue\u001b[39m"
      ]
     },
     "execution_count": 25,
     "metadata": {},
     "output_type": "execute_result"
    }
   ],
   "source": [
    "5 != 5 && 3 > 6 || 10 > 5"
   ]
  },
  {
   "cell_type": "code",
   "execution_count": 31,
   "id": "c39366f7-5637-4894-ae3a-c5002274bb04",
   "metadata": {},
   "outputs": [
    {
     "data": {
      "text/plain": [
       "\u001b[33mtrue\u001b[39m"
      ]
     },
     "execution_count": 31,
     "metadata": {},
     "output_type": "execute_result"
    }
   ],
   "source": [
    "true || false && false || true && false"
   ]
  },
  {
   "cell_type": "code",
   "execution_count": 35,
   "id": "a66484d2-24ef-4a9e-8df3-8526368ab9a5",
   "metadata": {},
   "outputs": [
    {
     "data": {
      "text/plain": [
       "\u001b[33mtrue\u001b[39m"
      ]
     },
     "execution_count": 35,
     "metadata": {},
     "output_type": "execute_result"
    }
   ],
   "source": [
    "Boolean(0) === false"
   ]
  },
  {
   "cell_type": "code",
   "execution_count": 36,
   "id": "6f71fb2d-d88b-4655-92a7-2aeba460d3d2",
   "metadata": {},
   "outputs": [
    {
     "data": {
      "text/plain": [
       "\u001b[33mtrue\u001b[39m"
      ]
     },
     "execution_count": 36,
     "metadata": {},
     "output_type": "execute_result"
    }
   ],
   "source": [
    "Boolean(-1) === true"
   ]
  },
  {
   "cell_type": "code",
   "execution_count": 38,
   "id": "29f9a1b4-1ac6-42f1-ad7b-fcf99442aeb8",
   "metadata": {},
   "outputs": [
    {
     "data": {
      "text/plain": [
       "\u001b[33mtrue\u001b[39m"
      ]
     },
     "execution_count": 38,
     "metadata": {},
     "output_type": "execute_result"
    }
   ],
   "source": [
    "Boolean(1) === true"
   ]
  },
  {
   "cell_type": "code",
   "execution_count": 40,
   "id": "0bf01e78-7a1f-480f-84b4-8e6c5f7d41a5",
   "metadata": {},
   "outputs": [
    {
     "data": {
      "text/plain": [
       "\u001b[33mfalse\u001b[39m"
      ]
     },
     "execution_count": 40,
     "metadata": {},
     "output_type": "execute_result"
    }
   ],
   "source": [
    "Boolean(\"\")"
   ]
  },
  {
   "cell_type": "code",
   "execution_count": 42,
   "id": "d5267c40-da21-4288-809d-2cf2db986449",
   "metadata": {},
   "outputs": [
    {
     "data": {
      "text/plain": [
       "\u001b[33mtrue\u001b[39m"
      ]
     },
     "execution_count": 42,
     "metadata": {},
     "output_type": "execute_result"
    }
   ],
   "source": [
    "Boolean(\"a\")"
   ]
  },
  {
   "cell_type": "code",
   "execution_count": 44,
   "id": "c296558d-439c-4e61-8f2c-b357f6288801",
   "metadata": {},
   "outputs": [
    {
     "data": {
      "text/plain": [
       "\u001b[33mfalse\u001b[39m"
      ]
     },
     "execution_count": 44,
     "metadata": {},
     "output_type": "execute_result"
    }
   ],
   "source": [
    "Boolean(NaN)"
   ]
  },
  {
   "cell_type": "code",
   "execution_count": 1,
   "id": "ba8d30e3-f629-4db2-b4e1-4632ea5f787e",
   "metadata": {},
   "outputs": [
    {
     "name": "stdin",
     "output_type": "stream",
     "text": [
      "Enter value [100] 100\n"
     ]
    },
    {
     "data": {
      "text/plain": [
       "\u001b[32m\"100\"\u001b[39m"
      ]
     },
     "execution_count": 1,
     "metadata": {},
     "output_type": "execute_result"
    }
   ],
   "source": [
    "prompt('Enter value', '100');"
   ]
  },
  {
   "cell_type": "code",
   "execution_count": 2,
   "id": "a11d4f6a-4d34-4f32-9345-7058d77a54f0",
   "metadata": {},
   "outputs": [
    {
     "data": {
      "text/plain": [
       "\u001b[33mtrue\u001b[39m"
      ]
     },
     "execution_count": 2,
     "metadata": {},
     "output_type": "execute_result"
    }
   ],
   "source": [
    "!!1"
   ]
  },
  {
   "cell_type": "code",
   "execution_count": 4,
   "id": "43fe2444-d042-4de2-aa33-e69248b15a8a",
   "metadata": {},
   "outputs": [
    {
     "data": {
      "text/plain": [
       "\u001b[33mtrue\u001b[39m"
      ]
     },
     "execution_count": 4,
     "metadata": {},
     "output_type": "execute_result"
    }
   ],
   "source": [
    "!!true"
   ]
  },
  {
   "cell_type": "code",
   "execution_count": 5,
   "id": "a3288650-e71c-4cb3-8d75-2cdee6445aec",
   "metadata": {},
   "outputs": [
    {
     "data": {
      "text/plain": [
       "\u001b[33mfalse\u001b[39m"
      ]
     },
     "execution_count": 5,
     "metadata": {},
     "output_type": "execute_result"
    }
   ],
   "source": [
    "!!0"
   ]
  },
  {
   "cell_type": "code",
   "execution_count": 6,
   "id": "9c2ef7d6-bb8e-4e3a-b748-ff19bbdf7a07",
   "metadata": {},
   "outputs": [
    {
     "data": {
      "text/plain": [
       "\u001b[33mtrue\u001b[39m"
      ]
     },
     "execution_count": 6,
     "metadata": {},
     "output_type": "execute_result"
    }
   ],
   "source": [
    "!!-1"
   ]
  },
  {
   "cell_type": "code",
   "execution_count": 27,
   "id": "b8f87eed-88ff-4a01-9f51-0dd00b85206b",
   "metadata": {},
   "outputs": [
    {
     "data": {
      "text/plain": [
       "\u001b[33mfalse\u001b[39m"
      ]
     },
     "execution_count": 27,
     "metadata": {},
     "output_type": "execute_result"
    }
   ],
   "source": [
    "!!\"\""
   ]
  },
  {
   "cell_type": "code",
   "execution_count": 28,
   "id": "69443a5c-8573-4816-90d3-9847116191b2",
   "metadata": {},
   "outputs": [
    {
     "data": {
      "text/plain": [
       "\u001b[1mnull\u001b[22m"
      ]
     },
     "execution_count": 28,
     "metadata": {},
     "output_type": "execute_result"
    }
   ],
   "source": [
    "'' || null"
   ]
  },
  {
   "cell_type": "code",
   "execution_count": 11,
   "id": "23de2f7f-d220-4f95-8d44-85bb379bb43e",
   "metadata": {},
   "outputs": [
    {
     "data": {
      "text/plain": [
       "\u001b[32m\"hi\"\u001b[39m"
      ]
     },
     "execution_count": 11,
     "metadata": {},
     "output_type": "execute_result"
    }
   ],
   "source": [
    "null || 'hi'"
   ]
  },
  {
   "cell_type": "code",
   "execution_count": 13,
   "id": "b0f4423a-0590-4362-9090-227d5bfb082f",
   "metadata": {},
   "outputs": [
    {
     "data": {
      "text/plain": [
       "\u001b[32m\"hi\"\u001b[39m"
      ]
     },
     "execution_count": 13,
     "metadata": {},
     "output_type": "execute_result"
    }
   ],
   "source": [
    "const orResult = null || 'hi'\n",
    "orResult"
   ]
  },
  {
   "cell_type": "code",
   "execution_count": 9,
   "id": "9c204354-c30e-4ddb-b9d7-8014186a4781",
   "metadata": {},
   "outputs": [],
   "source": [
    "const isLoggedIn = true;\n",
    "const name = 'Max';"
   ]
  },
  {
   "cell_type": "code",
   "execution_count": 29,
   "id": "c395c0a0-6db3-4b17-b3c4-d209eae4767f",
   "metadata": {},
   "outputs": [
    {
     "data": {
      "text/plain": [
       "\u001b[32m\"Max\"\u001b[39m"
      ]
     },
     "execution_count": 29,
     "metadata": {},
     "output_type": "execute_result"
    }
   ],
   "source": [
    "const result = isLoggedIn && name;\n",
    "result"
   ]
  },
  {
   "cell_type": "code",
   "execution_count": 30,
   "id": "92fe1885-896a-4b68-83f2-97f1b62e29f8",
   "metadata": {},
   "outputs": [
    {
     "data": {
      "text/plain": [
       "\u001b[32m\"Anna\"\u001b[39m"
      ]
     },
     "execution_count": 30,
     "metadata": {},
     "output_type": "execute_result"
    }
   ],
   "source": [
    "'Max' && 'Anna'"
   ]
  },
  {
   "cell_type": "code",
   "execution_count": 22,
   "id": "41c7ca39-5023-4e3a-8af9-f2fca2e9dfe1",
   "metadata": {},
   "outputs": [
    {
     "data": {
      "text/plain": [
       "\u001b[32m\"Max\"\u001b[39m"
      ]
     },
     "execution_count": 22,
     "metadata": {},
     "output_type": "execute_result"
    }
   ],
   "source": [
    "isLoggedIn && name;"
   ]
  },
  {
   "cell_type": "code",
   "execution_count": 25,
   "id": "3df35e49-a77b-40f0-820e-dca8f366db45",
   "metadata": {},
   "outputs": [
    {
     "data": {
      "text/plain": [
       "\u001b[33mfalse\u001b[39m"
      ]
     },
     "execution_count": 25,
     "metadata": {},
     "output_type": "execute_result"
    }
   ],
   "source": [
    "false && name;"
   ]
  },
  {
   "cell_type": "code",
   "execution_count": 31,
   "id": "57b75c51-0ac1-4480-b76e-7fb8c29adffc",
   "metadata": {},
   "outputs": [
    {
     "data": {
      "text/plain": [
       "\u001b[1mnull\u001b[22m"
      ]
     },
     "execution_count": 31,
     "metadata": {},
     "output_type": "execute_result"
    }
   ],
   "source": [
    "null && name;"
   ]
  },
  {
   "cell_type": "code",
   "execution_count": 33,
   "id": "97041d58-851c-406a-b64e-00125b7dec7b",
   "metadata": {},
   "outputs": [
    {
     "data": {
      "text/plain": [
       "\u001b[32m\"\"\u001b[39m"
      ]
     },
     "execution_count": 33,
     "metadata": {},
     "output_type": "execute_result"
    }
   ],
   "source": [
    "'' && 'Anna'"
   ]
  },
  {
   "cell_type": "code",
   "execution_count": 34,
   "id": "c2716da3-b8d7-42c0-8a1f-799ab159af8b",
   "metadata": {},
   "outputs": [
    {
     "data": {
      "text/plain": [
       "\u001b[32m\"\"\u001b[39m"
      ]
     },
     "execution_count": 34,
     "metadata": {},
     "output_type": "execute_result"
    }
   ],
   "source": [
    "'Max' && ''"
   ]
  },
  {
   "cell_type": "code",
   "execution_count": 15,
   "id": "74ab9429-966e-40e5-b2ea-5b4051c672e2",
   "metadata": {},
   "outputs": [
    {
     "data": {
      "text/plain": [
       "\u001b[32m\"\"\u001b[39m"
      ]
     },
     "execution_count": 15,
     "metadata": {},
     "output_type": "execute_result"
    }
   ],
   "source": [
    "const userInput = '';\n",
    "userInput"
   ]
  },
  {
   "cell_type": "code",
   "execution_count": 16,
   "id": "d7ab818a-d111-4337-b518-1f184cb66481",
   "metadata": {},
   "outputs": [
    {
     "data": {
      "text/plain": [
       "\u001b[33mfalse\u001b[39m"
      ]
     },
     "execution_count": 16,
     "metadata": {},
     "output_type": "execute_result"
    }
   ],
   "source": [
    "userInput ? true : false;"
   ]
  },
  {
   "cell_type": "code",
   "execution_count": 17,
   "id": "614056fd-b527-4172-943c-b8becd6e0310",
   "metadata": {},
   "outputs": [
    {
     "data": {
      "text/plain": [
       "\u001b[33mfalse\u001b[39m"
      ]
     },
     "execution_count": 17,
     "metadata": {},
     "output_type": "execute_result"
    }
   ],
   "source": [
    "!!userInput"
   ]
  },
  {
   "cell_type": "code",
   "execution_count": 18,
   "id": "0d171429-c8d3-46b7-a11f-08b9906a4b02",
   "metadata": {},
   "outputs": [
    {
     "data": {
      "text/plain": [
       "\u001b[33mtrue\u001b[39m"
      ]
     },
     "execution_count": 18,
     "metadata": {},
     "output_type": "execute_result"
    }
   ],
   "source": [
    "!!\"hi\""
   ]
  },
  {
   "cell_type": "code",
   "execution_count": 35,
   "id": "c8fa559f-c272-4cad-afd2-5dbd6086ef45",
   "metadata": {},
   "outputs": [
    {
     "data": {
      "text/plain": [
       "\u001b[33mfalse\u001b[39m"
      ]
     },
     "execution_count": 35,
     "metadata": {},
     "output_type": "execute_result"
    }
   ],
   "source": [
    "!'Max'"
   ]
  }
 ],
 "metadata": {
  "kernelspec": {
   "display_name": "Deno",
   "language": "typescript",
   "name": "deno"
  },
  "language_info": {
   "codemirror_mode": "typescript",
   "file_extension": ".ts",
   "mimetype": "text/x.typescript",
   "name": "typescript",
   "nbconvert_exporter": "script",
   "pygments_lexer": "typescript",
   "version": "5.7.3"
  }
 },
 "nbformat": 4,
 "nbformat_minor": 5
}
