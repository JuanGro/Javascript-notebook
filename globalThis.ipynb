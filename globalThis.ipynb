{
 "cells": [
  {
   "cell_type": "markdown",
   "id": "97cd575b-7585-4105-8c51-a082c372fa78",
   "metadata": {},
   "source": [
    "# globalThis"
   ]
  },
  {
   "cell_type": "markdown",
   "id": "2eb89a58-d2d0-433b-848d-42373d40ec3a",
   "metadata": {},
   "source": [
    "🔹 What is globalThis?\n",
    "\n",
    "It's like:\n",
    "\n",
    "window in the browser\n",
    "\n",
    "global in Node.js\n",
    "\n",
    "self in Web Workers\n",
    "\n",
    "But globalThis works everywhere"
   ]
  },
  {
   "cell_type": "code",
   "execution_count": 1,
   "id": "85e4e141-76b1-4a46-a524-78e3657a21e9",
   "metadata": {},
   "outputs": [
    {
     "data": {
      "text/plain": [
       "Window {}"
      ]
     },
     "execution_count": 1,
     "metadata": {},
     "output_type": "execute_result"
    }
   ],
   "source": [
    "globalThis"
   ]
  },
  {
   "cell_type": "code",
   "execution_count": 3,
   "id": "de8a0387-ce5d-4626-9572-3917e07b410b",
   "metadata": {},
   "outputs": [
    {
     "data": {
      "text/plain": [
       "\u001b[32m\"Max\"\u001b[39m"
      ]
     },
     "execution_count": 3,
     "metadata": {},
     "output_type": "execute_result"
    }
   ],
   "source": [
    "globalThis.DEFAULT_VALUE = 'Max';"
   ]
  },
  {
   "cell_type": "code",
   "execution_count": 4,
   "id": "74e5a5fc-e8e4-4164-8d2c-d1a4ade6f096",
   "metadata": {},
   "outputs": [
    {
     "data": {
      "text/plain": [
       "Window {}"
      ]
     },
     "execution_count": 4,
     "metadata": {},
     "output_type": "execute_result"
    }
   ],
   "source": [
    "globalThis"
   ]
  },
  {
   "cell_type": "code",
   "execution_count": 7,
   "id": "7049c741-5aa3-4214-9d63-aa7d7fde1317",
   "metadata": {},
   "outputs": [
    {
     "data": {
      "text/plain": [
       "\u001b[32m\"Max\"\u001b[39m"
      ]
     },
     "execution_count": 7,
     "metadata": {},
     "output_type": "execute_result"
    }
   ],
   "source": [
    "globalThis.DEFAULT_VALUE"
   ]
  },
  {
   "cell_type": "code",
   "execution_count": 8,
   "id": "f145ce3d-700f-4f04-8411-f4c1c18f8ce5",
   "metadata": {},
   "outputs": [
    {
     "data": {
      "text/plain": [
       "\u001b[36m[Function (anonymous)]\u001b[39m"
      ]
     },
     "execution_count": 8,
     "metadata": {},
     "output_type": "execute_result"
    }
   ],
   "source": [
    "globalThis.greet = (name: string) => `Hello, ${name}!`;"
   ]
  },
  {
   "cell_type": "code",
   "execution_count": 9,
   "id": "ebd707ff-1f51-4b18-ba61-aa3309887fd7",
   "metadata": {},
   "outputs": [
    {
     "data": {
      "text/plain": [
       "\u001b[32m\"Hello, Deno!\"\u001b[39m"
      ]
     },
     "execution_count": 9,
     "metadata": {},
     "output_type": "execute_result"
    }
   ],
   "source": [
    "globalThis.greet(\"Deno\")"
   ]
  },
  {
   "cell_type": "code",
   "execution_count": 11,
   "id": "5b523d23-6c2e-41ce-b4b4-9afe5ef73167",
   "metadata": {},
   "outputs": [
    {
     "data": {
      "text/plain": [
       "\u001b[32m\"object\"\u001b[39m"
      ]
     },
     "execution_count": 11,
     "metadata": {},
     "output_type": "execute_result"
    }
   ],
   "source": [
    "typeof globalThis // object"
   ]
  },
  {
   "cell_type": "code",
   "execution_count": 12,
   "id": "541b514d-0974-4556-8dea-41c10f0946aa",
   "metadata": {},
   "outputs": [
    {
     "data": {
      "text/plain": [
       "\u001b[33m1\u001b[39m"
      ]
     },
     "execution_count": 12,
     "metadata": {},
     "output_type": "execute_result"
    }
   ],
   "source": [
    "globalThis.counter = (globalThis.counter ?? 0) + 1;"
   ]
  },
  {
   "cell_type": "code",
   "execution_count": 13,
   "id": "ae5c402d-67b0-4c71-9022-a5a27b514b69",
   "metadata": {},
   "outputs": [
    {
     "data": {
      "text/plain": [
       "\u001b[33m1\u001b[39m"
      ]
     },
     "execution_count": 13,
     "metadata": {},
     "output_type": "execute_result"
    }
   ],
   "source": [
    "globalThis.counter"
   ]
  },
  {
   "cell_type": "code",
   "execution_count": 14,
   "id": "aef0c400-857f-407d-9fde-5701c3757bcc",
   "metadata": {},
   "outputs": [
    {
     "data": {
      "text/plain": [
       "{ theme: \u001b[32m\"dark\"\u001b[39m, version: \u001b[32m\"1.0.0\"\u001b[39m }"
      ]
     },
     "execution_count": 14,
     "metadata": {},
     "output_type": "execute_result"
    }
   ],
   "source": [
    "globalThis.config = {\n",
    "  theme: \"dark\",\n",
    "  version: \"1.0.0\",\n",
    "};"
   ]
  },
  {
   "cell_type": "code",
   "execution_count": 15,
   "id": "293eff25-ed29-41d7-9add-408ba37cb973",
   "metadata": {},
   "outputs": [
    {
     "data": {
      "text/plain": [
       "\u001b[32m\"dark\"\u001b[39m"
      ]
     },
     "execution_count": 15,
     "metadata": {},
     "output_type": "execute_result"
    }
   ],
   "source": [
    "globalThis.config.theme"
   ]
  },
  {
   "cell_type": "markdown",
   "id": "8e3f9f00-d26c-4df9-bfd4-55947e313c5c",
   "metadata": {},
   "source": [
    "🚫 Caution: Overwriting Global Values\n",
    "\n",
    "Avoid overwriting important globals like console, setTimeout, etc. Stick to your own variable/function names."
   ]
  },
  {
   "cell_type": "markdown",
   "id": "d9f98777-4599-46cc-910a-dfaafbaf2bf4",
   "metadata": {},
   "source": [
    "| Use Case         | How `globalThis` Helps                           |\n",
    "| ---------------- | ------------------------------------------------ |\n",
    "| Global variable  | `globalThis.myVar = 123`                         |\n",
    "| Global function  | `globalThis.sayHi = () => 'Hi!'`                 |\n",
    "| Persistent state | Great for counters, configs, etc. in notebooks   |\n",
    "| Portability      | Works the same across Deno, browser, and Node.js |\n"
   ]
  }
 ],
 "metadata": {
  "kernelspec": {
   "display_name": "Deno",
   "language": "typescript",
   "name": "deno"
  },
  "language_info": {
   "codemirror_mode": "typescript",
   "file_extension": ".ts",
   "mimetype": "text/x.typescript",
   "name": "typescript",
   "nbconvert_exporter": "script",
   "pygments_lexer": "typescript",
   "version": "5.7.3"
  }
 },
 "nbformat": 4,
 "nbformat_minor": 5
}
