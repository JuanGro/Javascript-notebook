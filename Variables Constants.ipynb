{
 "cells": [
  {
   "cell_type": "markdown",
   "id": "78e3b3fa-9685-45cc-8ca5-7ddd66920d01",
   "metadata": {},
   "source": [
    "# Variables and Constants"
   ]
  },
  {
   "cell_type": "code",
   "execution_count": 1,
   "id": "432b161c-b2ee-44cf-b732-4d073e7ebec8",
   "metadata": {},
   "outputs": [],
   "source": [
    "let userName = 'Max';"
   ]
  },
  {
   "cell_type": "code",
   "execution_count": 2,
   "id": "793395aa-60b3-4716-addc-d3cc8d40d232",
   "metadata": {},
   "outputs": [
    {
     "data": {
      "text/plain": [
       "\u001b[32m\"Max\"\u001b[39m"
      ]
     },
     "execution_count": 2,
     "metadata": {},
     "output_type": "execute_result"
    }
   ],
   "source": [
    "userName"
   ]
  },
  {
   "cell_type": "code",
   "execution_count": 3,
   "id": "8345d22c-dedd-49e6-a544-7a38e1bf67b7",
   "metadata": {},
   "outputs": [
    {
     "data": {
      "text/plain": [
       "\u001b[32m\"Manu\"\u001b[39m"
      ]
     },
     "execution_count": 3,
     "metadata": {},
     "output_type": "execute_result"
    }
   ],
   "source": [
    "userName = 'Manu'"
   ]
  },
  {
   "cell_type": "code",
   "execution_count": 4,
   "id": "7ca2b1af-c879-4cb6-a858-4e31c6ec45ad",
   "metadata": {},
   "outputs": [],
   "source": [
    "const totalUsers = 15;"
   ]
  },
  {
   "cell_type": "code",
   "execution_count": 5,
   "id": "611da325-7436-431a-a096-bf377f5225f0",
   "metadata": {},
   "outputs": [
    {
     "ename": "TypeError",
     "evalue": "Assignment to constant variable.",
     "output_type": "error",
     "traceback": [
      "Stack trace:",
      "TypeError: Assignment to constant variable.",
      "    at <anonymous>:1:33"
     ]
    }
   ],
   "source": [
    "totalUsers = 20;"
   ]
  },
  {
   "cell_type": "code",
   "execution_count": 6,
   "id": "bc3586a3-979f-4683-bf51-2c636061a0ec",
   "metadata": {},
   "outputs": [
    {
     "data": {
      "text/plain": [
       "\u001b[33m15\u001b[39m"
      ]
     },
     "execution_count": 6,
     "metadata": {},
     "output_type": "execute_result"
    }
   ],
   "source": [
    "totalUsers"
   ]
  },
  {
   "cell_type": "markdown",
   "id": "ee37bde1-ddd6-4a98-8948-6e8ed4d40484",
   "metadata": {},
   "source": [
    "### Allowed\n",
    "- Best Practice: camelCase:\n",
    "`let userName`\n",
    "\n",
    "- Only letters and digits:\n",
    "`let ageGroup5`\n",
    "\n",
    "- Starting with $ and _ is allowed:\n",
    "`let $kindOfSpecial`\n",
    "`let _internalValue`\n",
    "\n",
    "### Not Allowed / Not recommended\n",
    "- Not snake case:\n",
    "`let user_name`\n",
    "\n",
    "- Starting digits not allowed:\n",
    "`let 21Players`\n",
    "\n",
    "- No special characters:\n",
    "`let user-b`\n",
    "\n",
    "- Keywords not allowed:\n",
    "`let let`"
   ]
  },
  {
   "cell_type": "code",
   "execution_count": null,
   "id": "4749846c-5849-482a-abe0-069b5001ce3e",
   "metadata": {},
   "outputs": [],
   "source": []
  }
 ],
 "metadata": {
  "kernelspec": {
   "display_name": "Deno",
   "language": "typescript",
   "name": "deno"
  },
  "language_info": {
   "codemirror_mode": "typescript",
   "file_extension": ".ts",
   "mimetype": "text/x.typescript",
   "name": "typescript",
   "nbconvert_exporter": "script",
   "pygments_lexer": "typescript",
   "version": "5.7.3"
  }
 },
 "nbformat": 4,
 "nbformat_minor": 5
}
