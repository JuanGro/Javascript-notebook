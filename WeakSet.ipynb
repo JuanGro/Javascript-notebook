{
 "cells": [
  {
   "cell_type": "markdown",
   "id": "27acb269-fb20-4bc5-9f8e-498fc0c9af52",
   "metadata": {},
   "source": [
    "# WeakSet"
   ]
  },
  {
   "cell_type": "markdown",
   "id": "825af7cd-77d1-4abc-a607-84c2d5ab8258",
   "metadata": {},
   "source": [
    "| Feature                  | `Set`                             | `WeakSet`                                       |\n",
    "| ------------------------ | --------------------------------- | ----------------------------------------------- |\n",
    "| Stores                   | Any values (primitives + objects) | **Only objects** (not primitives)               |\n",
    "| References               | **Strong** references             | **Weak** references (objects can be GC'ed)      |\n",
    "| Iterable                 | ✅ Yes (`forEach`, `for...of`)     | ❌ No iteration                                  |\n",
    "| Size property            | ✅ `.size` available               | ❌ No `.size`                                    |\n",
    "| Garbage collection aware | ❌ No                              | ✅ Yes (entries can disappear if no other refs)  |\n",
    "| Use case                 | General purpose, iterable sets    | Storing metadata or private object associations |"
   ]
  },
  {
   "cell_type": "markdown",
   "id": "14a1ca86-7e06-4827-83fc-ed5e22f8aa6b",
   "metadata": {},
   "source": [
    "❌ You cannot add primitives (like numbers or strings)"
   ]
  },
  {
   "cell_type": "markdown",
   "id": "3d130688-19ce-42a7-b98d-73da92942f5b",
   "metadata": {},
   "source": [
    "❌ Not iterable — no .forEach(), .size, or for...of."
   ]
  },
  {
   "cell_type": "markdown",
   "id": "24a64137-7d0d-464d-abfb-410618754dcb",
   "metadata": {},
   "source": [
    "✅ Objects are held weakly — if the object is not referenced elsewhere, it can be garbage collected automatically."
   ]
  },
  {
   "cell_type": "markdown",
   "id": "440fd67d-7758-4802-83bd-a9599bc1a2db",
   "metadata": {},
   "source": [
    "🧠 What Does \"Keeping Track of Objects Without Preventing Garbage Collection\" Mean?\n",
    "\n",
    "In JavaScript, garbage collection (GC) is the automatic process of reclaiming memory by removing objects that are no longer reachable or needed.\n",
    "\n",
    "⚠️ Normally, if you store an object in a Set, Map, or any variable, it stays in memory — even if nothing else uses it — because it's still referenced.\n",
    "\n",
    "But with WeakSet, JavaScript allows the object to be garbage collected even if it's in the WeakSet, because:\n",
    "\n",
    "🔑 A WeakSet holds weak references to the objects inside it."
   ]
  },
  {
   "cell_type": "code",
   "execution_count": 1,
   "id": "592fc693-4748-446d-a3fc-9d2dccb63c61",
   "metadata": {},
   "outputs": [
    {
     "data": {
      "text/plain": [
       "{ name: \u001b[32m\"Max\"\u001b[39m }"
      ]
     },
     "execution_count": 1,
     "metadata": {},
     "output_type": "execute_result"
    }
   ],
   "source": [
    "let person = { name: 'Max' };\n",
    "person"
   ]
  },
  {
   "cell_type": "code",
   "execution_count": 5,
   "id": "041c95f4-6290-42f8-96bb-0446b2c6e980",
   "metadata": {},
   "outputs": [
    {
     "data": {
      "text/plain": [
       "Set(0) {}"
      ]
     },
     "execution_count": 5,
     "metadata": {},
     "output_type": "execute_result"
    }
   ],
   "source": [
    "const persons = new Set();\n",
    "persons"
   ]
  },
  {
   "cell_type": "code",
   "execution_count": 6,
   "id": "3986e415-3794-4f46-91de-56875c227022",
   "metadata": {},
   "outputs": [
    {
     "data": {
      "text/plain": [
       "Set(1) { { name: \u001b[32m\"Max\"\u001b[39m } }"
      ]
     },
     "execution_count": 6,
     "metadata": {},
     "output_type": "execute_result"
    }
   ],
   "source": [
    "persons.add(person);"
   ]
  },
  {
   "cell_type": "code",
   "execution_count": 7,
   "id": "2372540a-1429-4a8d-8860-7cb804546cd7",
   "metadata": {},
   "outputs": [
    {
     "data": {
      "text/plain": [
       "Set(1) { { name: \u001b[32m\"Max\"\u001b[39m } }"
      ]
     },
     "execution_count": 7,
     "metadata": {},
     "output_type": "execute_result"
    }
   ],
   "source": [
    "persons"
   ]
  },
  {
   "cell_type": "code",
   "execution_count": 8,
   "id": "67feaeab-5af2-466e-9ffc-26614ba5bd51",
   "metadata": {},
   "outputs": [
    {
     "data": {
      "text/plain": [
       "\u001b[1mnull\u001b[22m"
      ]
     },
     "execution_count": 8,
     "metadata": {},
     "output_type": "execute_result"
    }
   ],
   "source": [
    "person = null;"
   ]
  },
  {
   "cell_type": "code",
   "execution_count": 9,
   "id": "a54d237c-6d05-46ad-a48f-3740a2974196",
   "metadata": {},
   "outputs": [
    {
     "data": {
      "text/plain": [
       "Set(1) { { name: \u001b[32m\"Max\"\u001b[39m } }"
      ]
     },
     "execution_count": 9,
     "metadata": {},
     "output_type": "execute_result"
    }
   ],
   "source": [
    "persons"
   ]
  },
  {
   "cell_type": "code",
   "execution_count": 11,
   "id": "07926530-b819-42d9-8d2c-d46d0dcbc7e3",
   "metadata": {},
   "outputs": [
    {
     "data": {
      "text/plain": [
       "WeakSet { \u001b[36m<items unknown>\u001b[39m }"
      ]
     },
     "execution_count": 11,
     "metadata": {},
     "output_type": "execute_result"
    }
   ],
   "source": [
    "const weakPersons = new WeakSet();\n",
    "weakPersons"
   ]
  },
  {
   "cell_type": "code",
   "execution_count": 12,
   "id": "58fc8634-ea16-49c1-a43e-e1034c315707",
   "metadata": {},
   "outputs": [
    {
     "data": {
      "text/plain": [
       "{ name: \u001b[32m\"Max\"\u001b[39m }"
      ]
     },
     "execution_count": 12,
     "metadata": {},
     "output_type": "execute_result"
    }
   ],
   "source": [
    "let person = { name: 'Max' };\n",
    "person"
   ]
  },
  {
   "cell_type": "code",
   "execution_count": 13,
   "id": "77954f9e-d51f-4532-bbe4-6adc917891d5",
   "metadata": {},
   "outputs": [
    {
     "data": {
      "text/plain": [
       "WeakSet { \u001b[36m<items unknown>\u001b[39m }"
      ]
     },
     "execution_count": 13,
     "metadata": {},
     "output_type": "execute_result"
    }
   ],
   "source": [
    "weakPersons.add(person);"
   ]
  },
  {
   "cell_type": "code",
   "execution_count": 16,
   "id": "f9a4f708-9e24-4d52-b036-d1f850b1dbb3",
   "metadata": {},
   "outputs": [
    {
     "data": {
      "text/plain": [
       "\u001b[33mtrue\u001b[39m"
      ]
     },
     "execution_count": 16,
     "metadata": {},
     "output_type": "execute_result"
    }
   ],
   "source": [
    "weakPersons.has(person);"
   ]
  },
  {
   "cell_type": "code",
   "execution_count": 17,
   "id": "f874e147-d986-44a1-b7f9-56cb37b5293c",
   "metadata": {},
   "outputs": [
    {
     "data": {
      "text/plain": [
       "\u001b[1mnull\u001b[22m"
      ]
     },
     "execution_count": 17,
     "metadata": {},
     "output_type": "execute_result"
    }
   ],
   "source": [
    "person = null;"
   ]
  },
  {
   "cell_type": "code",
   "execution_count": 18,
   "id": "5b6b93fa-7e17-465a-888e-6cbfbfbf67fc",
   "metadata": {},
   "outputs": [
    {
     "data": {
      "text/plain": [
       "WeakSet { \u001b[36m<items unknown>\u001b[39m }"
      ]
     },
     "execution_count": 18,
     "metadata": {},
     "output_type": "execute_result"
    }
   ],
   "source": [
    "weakPersons"
   ]
  },
  {
   "cell_type": "code",
   "execution_count": 22,
   "id": "7f422e23-c14d-45d0-9cb2-f4d54ab77421",
   "metadata": {},
   "outputs": [
    {
     "data": {
      "text/plain": [
       "\u001b[33mfalse\u001b[39m"
      ]
     },
     "execution_count": 22,
     "metadata": {},
     "output_type": "execute_result"
    }
   ],
   "source": [
    "weakPersons.has(person); // The object dissapeared!"
   ]
  }
 ],
 "metadata": {
  "kernelspec": {
   "display_name": "Deno",
   "language": "typescript",
   "name": "deno"
  },
  "language_info": {
   "codemirror_mode": "typescript",
   "file_extension": ".ts",
   "mimetype": "text/x.typescript",
   "name": "typescript",
   "nbconvert_exporter": "script",
   "pygments_lexer": "typescript",
   "version": "5.7.3"
  }
 },
 "nbformat": 4,
 "nbformat_minor": 5
}
