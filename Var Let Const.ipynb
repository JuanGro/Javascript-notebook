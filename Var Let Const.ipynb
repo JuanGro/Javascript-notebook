{
 "cells": [
  {
   "cell_type": "markdown",
   "id": "b57d46ac-d5f5-4c69-8c72-65363a58f2a9",
   "metadata": {},
   "source": [
    "# var vs let vs const\n",
    "var:\n",
    "Variables declared with var have function scope or global scope.\n",
    "Function Scope: If declared inside a function, var variables are accessible throughout that entire function, regardless of block boundaries within the function (like if statements or for loops).\n",
    "Global Scope: If declared outside of any function, var variables are globally accessible throughout the entire script.\n",
    "\n",
    "\n",
    "let and const:\n",
    "Variables declared with let and const have block scope.\n",
    "Block Scope: This means they are only accessible within the specific block of code (defined by curly braces {}) where they are declared. This includes if statements, for loops, while loops, and any other code block.\n",
    "They are also accessible within the function they are declared in, but their scope is further restricted by the block they reside within."
   ]
  },
  {
   "cell_type": "code",
   "execution_count": 2,
   "id": "a0d1660e-6c16-47ac-ba87-fb8789428e13",
   "metadata": {},
   "outputs": [
    {
     "ename": "ReferenceError",
     "evalue": "age is not defined",
     "output_type": "error",
     "traceback": [
      "Stack trace:",
      "ReferenceError: age is not defined",
      "    at <anonymous>:6:19"
     ]
    }
   ],
   "source": [
    "let name = 'Max';\n",
    "\n",
    "function greet() {\n",
    "    let age = 20;\n",
    "    console.log(name, age);\n",
    "}\n",
    "\n",
    "console.log(name, age);\n",
    "\n",
    "greet();"
   ]
  },
  {
   "cell_type": "code",
   "execution_count": 5,
   "id": "6818498a-270b-4824-ab1b-dd9868c241a7",
   "metadata": {},
   "outputs": [
    {
     "name": "stdout",
     "output_type": "stream",
     "text": [
      "Max \u001b[33m30\u001b[39m\n",
      "Manuel \u001b[33m20\u001b[39m\n"
     ]
    }
   ],
   "source": [
    "let age = 30;\n",
    "let name = 'Max';\n",
    "\n",
    "function greet() {\n",
    "    let age = 20;\n",
    "    let name = 'Manuel';\n",
    "    console.log(name, age);\n",
    "}\n",
    "\n",
    "console.log(name, age);\n",
    "\n",
    "greet();"
   ]
  },
  {
   "cell_type": "code",
   "execution_count": 16,
   "id": "b1cdc760-fd83-4a2f-8ac6-814940255aac",
   "metadata": {},
   "outputs": [
    {
     "name": "stdout",
     "output_type": "stream",
     "text": [
      "Max \u001b[33m20\u001b[39m\n",
      "Max [ \u001b[32m\"Sports\"\u001b[39m, \u001b[32m\"Cooking\"\u001b[39m ]\n"
     ]
    },
    {
     "ename": "ReferenceError",
     "evalue": "ageGlobal is not defined",
     "output_type": "error",
     "traceback": [
      "Stack trace:",
      "ReferenceError: ageGlobal is not defined",
      "    at <anonymous>:14:13"
     ]
    }
   ],
   "source": [
    "var nameGlobal = 'Max';\n",
    "\n",
    "if (nameGlobal === 'Max') {\n",
    "    var hobbies = ['Sports', 'Cooking'];\n",
    "}\n",
    "\n",
    "function greet() {\n",
    "    var ageGlobal = 20;\n",
    "    console.log(nameGlobal, ageGlobal);\n",
    "}\n",
    "\n",
    "greet();\n",
    "console.log(nameGlobal, hobbies);\n",
    "console.log(ageGlobal);"
   ]
  },
  {
   "cell_type": "code",
   "execution_count": 22,
   "id": "81c1b989-6847-448b-aa14-2a3951dbb63b",
   "metadata": {},
   "outputs": [
    {
     "name": "stdout",
     "output_type": "stream",
     "text": [
      "Max \u001b[33m20\u001b[39m\n"
     ]
    },
    {
     "ename": "ReferenceError",
     "evalue": "hobbiesArray is not defined",
     "output_type": "error",
     "traceback": [
      "Stack trace:",
      "ReferenceError: hobbiesArray is not defined",
      "    at <anonymous>:13:25"
     ]
    }
   ],
   "source": [
    "var nameGlobal = 'Max';\n",
    "\n",
    "if (nameGlobal === 'Max') {\n",
    "    let hobbiesArray = ['Sports', 'Cooking'];\n",
    "}\n",
    "\n",
    "function greet() {\n",
    "    var ageGlobal = 20;\n",
    "    console.log(nameGlobal, ageGlobal);\n",
    "}\n",
    "\n",
    "greet();\n",
    "console.log(nameGlobal, hobbiesArray);\n",
    "console.log(ageGlobal);"
   ]
  }
 ],
 "metadata": {
  "kernelspec": {
   "display_name": "Deno",
   "language": "typescript",
   "name": "deno"
  },
  "language_info": {
   "codemirror_mode": "typescript",
   "file_extension": ".ts",
   "mimetype": "text/x.typescript",
   "name": "typescript",
   "nbconvert_exporter": "script",
   "pygments_lexer": "typescript",
   "version": "5.7.3"
  }
 },
 "nbformat": 4,
 "nbformat_minor": 5
}
