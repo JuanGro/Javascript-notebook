{
 "cells": [
  {
   "cell_type": "markdown",
   "id": "b054af46-f2ef-4a3a-b9e5-f67de5d50f08",
   "metadata": {},
   "source": [
    "# Functions"
   ]
  },
  {
   "cell_type": "code",
   "execution_count": 1,
   "id": "6fd23335-faf5-4109-bff6-6d60da26f95c",
   "metadata": {},
   "outputs": [],
   "source": [
    "function startGame() {\n",
    "    console.log('Game is starting...');\n",
    "}"
   ]
  },
  {
   "cell_type": "code",
   "execution_count": 2,
   "id": "8d414675-7ed0-449b-8336-279d05093a1f",
   "metadata": {},
   "outputs": [
    {
     "data": {
      "text/plain": [
       "\u001b[32m\"function\"\u001b[39m"
      ]
     },
     "execution_count": 2,
     "metadata": {},
     "output_type": "execute_result"
    }
   ],
   "source": [
    "typeof startGame"
   ]
  },
  {
   "cell_type": "code",
   "execution_count": 3,
   "id": "56217621-4baa-4430-9612-6819ad695bfd",
   "metadata": {},
   "outputs": [
    {
     "name": "stdout",
     "output_type": "stream",
     "text": [
      "\u001b[36m[Function: startGame]\u001b[39m\n"
     ]
    }
   ],
   "source": [
    "console.dir(startGame);"
   ]
  },
  {
   "cell_type": "markdown",
   "id": "47652961-7c9a-41ca-b451-3447d5f70a21",
   "metadata": {},
   "source": [
    "## Anonymous function"
   ]
  },
  {
   "cell_type": "code",
   "execution_count": 4,
   "id": "8a354937-9ab3-4282-895f-6ad4de97df3c",
   "metadata": {},
   "outputs": [],
   "source": [
    "const start = function() {\n",
    "    console.log('Game is starting...');\n",
    "}"
   ]
  },
  {
   "cell_type": "code",
   "execution_count": 5,
   "id": "88232c48-1727-4856-b1ff-1eee2063c266",
   "metadata": {},
   "outputs": [
    {
     "name": "stdout",
     "output_type": "stream",
     "text": [
      "Game is starting...\n"
     ]
    }
   ],
   "source": [
    "start();"
   ]
  },
  {
   "cell_type": "markdown",
   "id": "786025e3-1025-4c16-b932-b67cb633a4fc",
   "metadata": {},
   "source": [
    "This is more difficult to debug because the function doesn't have a name!"
   ]
  },
  {
   "cell_type": "markdown",
   "id": "15b1bb1c-4922-49f5-9a42-913bc2b3e44f",
   "metadata": {},
   "source": [
    "## Arrow function"
   ]
  },
  {
   "cell_type": "code",
   "execution_count": 6,
   "id": "af4e7b99-0a6d-42c6-9ef0-bcbc0c04d4f9",
   "metadata": {},
   "outputs": [],
   "source": [
    "const hi = (name) => {\n",
    "    return `Hi ${name}`;\n",
    "}"
   ]
  },
  {
   "cell_type": "code",
   "execution_count": 7,
   "id": "3198f31a-b7aa-4098-b4ab-d71ca6c4295a",
   "metadata": {},
   "outputs": [
    {
     "data": {
      "text/plain": [
       "\u001b[32m\"Hi John\"\u001b[39m"
      ]
     },
     "execution_count": 7,
     "metadata": {},
     "output_type": "execute_result"
    }
   ],
   "source": [
    "hi('John');"
   ]
  },
  {
   "cell_type": "code",
   "execution_count": 8,
   "id": "dee254b5-ec59-4c77-a3c4-439b55c8da1c",
   "metadata": {},
   "outputs": [],
   "source": [
    "const hi2 = (name) => `Hi ${name}`;"
   ]
  },
  {
   "cell_type": "code",
   "execution_count": 10,
   "id": "63cb420d-f963-4f0a-9c13-3a48202a91f4",
   "metadata": {},
   "outputs": [
    {
     "data": {
      "text/plain": [
       "\u001b[32m\"Hi Mary\"\u001b[39m"
      ]
     },
     "execution_count": 10,
     "metadata": {},
     "output_type": "execute_result"
    }
   ],
   "source": [
    "hi2('Mary');"
   ]
  },
  {
   "cell_type": "code",
   "execution_count": 11,
   "id": "766ca9aa-9540-4a89-b5c9-c1c1b9690c60",
   "metadata": {},
   "outputs": [],
   "source": [
    "const hi3 = name => `Hi ${name}`;"
   ]
  },
  {
   "cell_type": "code",
   "execution_count": 12,
   "id": "6e0e6e82-d985-472a-b564-079a00bdaf81",
   "metadata": {},
   "outputs": [
    {
     "data": {
      "text/plain": [
       "\u001b[32m\"Hi Peter\"\u001b[39m"
      ]
     },
     "execution_count": 12,
     "metadata": {},
     "output_type": "execute_result"
    }
   ],
   "source": [
    "hi3('Peter');"
   ]
  },
  {
   "cell_type": "code",
   "execution_count": 13,
   "id": "e8ef091c-c9ce-42d1-8823-eefc0348fcc2",
   "metadata": {},
   "outputs": [],
   "source": [
    "const loadPerson = pName => ({name: pName });"
   ]
  },
  {
   "cell_type": "code",
   "execution_count": 14,
   "id": "169da927-edae-419b-8aa1-ca71e8612bba",
   "metadata": {},
   "outputs": [
    {
     "data": {
      "text/plain": [
       "{ name: \u001b[32m\"Mark\"\u001b[39m }"
      ]
     },
     "execution_count": 14,
     "metadata": {},
     "output_type": "execute_result"
    }
   ],
   "source": [
    "loadPerson('Mark');"
   ]
  },
  {
   "cell_type": "code",
   "execution_count": 15,
   "id": "e059d9db-998c-4da6-816e-25cd5f2bab26",
   "metadata": {},
   "outputs": [],
   "source": [
    "const hiExample = (name, age = 20) => `Hi ${name}, you are ${age} years old`;"
   ]
  },
  {
   "cell_type": "code",
   "execution_count": 16,
   "id": "fe09b0cb-ad70-4f5b-b1f7-bdc69e85cfd3",
   "metadata": {},
   "outputs": [
    {
     "data": {
      "text/plain": [
       "\u001b[32m\"Hi John, you are 20 years old\"\u001b[39m"
      ]
     },
     "execution_count": 16,
     "metadata": {},
     "output_type": "execute_result"
    }
   ],
   "source": [
    "hiExample('John');"
   ]
  },
  {
   "cell_type": "code",
   "execution_count": 17,
   "id": "962c29c2-64f0-4342-b265-11c75b213144",
   "metadata": {},
   "outputs": [
    {
     "data": {
      "text/plain": [
       "\u001b[32m\"Hi John, you are 20 years old\"\u001b[39m"
      ]
     },
     "execution_count": 17,
     "metadata": {},
     "output_type": "execute_result"
    }
   ],
   "source": [
    "hiExample('John', undefined);"
   ]
  },
  {
   "cell_type": "code",
   "execution_count": 18,
   "id": "f192f9f1-95ef-4a3a-8865-130eaa437a3a",
   "metadata": {},
   "outputs": [
    {
     "data": {
      "text/plain": [
       "\u001b[32m\"Hi John, you are null years old\"\u001b[39m"
      ]
     },
     "execution_count": 18,
     "metadata": {},
     "output_type": "execute_result"
    }
   ],
   "source": [
    "hiExample('John', null);"
   ]
  },
  {
   "cell_type": "code",
   "execution_count": 20,
   "id": "380d53ca-2921-49d8-a77f-da6433bfb58c",
   "metadata": {},
   "outputs": [
    {
     "data": {
      "text/plain": [
       "\u001b[32m\"Hi John, you are 30 years old\"\u001b[39m"
      ]
     },
     "execution_count": 20,
     "metadata": {},
     "output_type": "execute_result"
    }
   ],
   "source": [
    "hiExample('John', 30);"
   ]
  },
  {
   "cell_type": "code",
   "execution_count": 22,
   "id": "0d7e7d67-b917-4c80-b2d5-f615ac0721c2",
   "metadata": {},
   "outputs": [],
   "source": [
    "const hiExample2 = (name = 'John', age = 20) => `Hi ${name}, you are ${age} years old`;"
   ]
  },
  {
   "cell_type": "code",
   "execution_count": 23,
   "id": "6948eff5-872f-4666-a0a9-51369b21f793",
   "metadata": {},
   "outputs": [
    {
     "data": {
      "text/plain": [
       "\u001b[32m\"Hi 0, you are 0 years old\"\u001b[39m"
      ]
     },
     "execution_count": 23,
     "metadata": {},
     "output_type": "execute_result"
    }
   ],
   "source": [
    "hiExample2(0, 0);"
   ]
  }
 ],
 "metadata": {
  "kernelspec": {
   "display_name": "Deno",
   "language": "typescript",
   "name": "deno"
  },
  "language_info": {
   "codemirror_mode": "typescript",
   "file_extension": ".ts",
   "mimetype": "text/x.typescript",
   "name": "typescript",
   "nbconvert_exporter": "script",
   "pygments_lexer": "typescript",
   "version": "5.7.3"
  }
 },
 "nbformat": 4,
 "nbformat_minor": 5
}
