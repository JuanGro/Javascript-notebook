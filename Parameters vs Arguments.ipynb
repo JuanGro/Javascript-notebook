{
 "cells": [
  {
   "cell_type": "markdown",
   "id": "920b1659-3148-45c7-912c-af5bfedf468c",
   "metadata": {},
   "source": [
    "# Parameters vs Arguments"
   ]
  },
  {
   "cell_type": "code",
   "execution_count": 1,
   "id": "29dbd959-8da8-48c9-8fa5-f9244c1ece1e",
   "metadata": {},
   "outputs": [],
   "source": [
    "function sayHi(name) { // This is a parameter\n",
    "    return `Hi, ${name}`;\n",
    "}"
   ]
  },
  {
   "cell_type": "code",
   "execution_count": 2,
   "id": "c6287286-f801-4fd0-91db-249d3ba57c7e",
   "metadata": {},
   "outputs": [
    {
     "data": {
      "text/plain": [
       "\u001b[32m\"Hi, John\"\u001b[39m"
      ]
     },
     "execution_count": 2,
     "metadata": {},
     "output_type": "execute_result"
    }
   ],
   "source": [
    "sayHi('John'); // This is an argument"
   ]
  },
  {
   "cell_type": "code",
   "execution_count": null,
   "id": "08a3bcba-02a0-49e9-9900-3d34cd441360",
   "metadata": {},
   "outputs": [],
   "source": []
  }
 ],
 "metadata": {
  "kernelspec": {
   "display_name": "Deno",
   "language": "typescript",
   "name": "deno"
  },
  "language_info": {
   "codemirror_mode": "typescript",
   "file_extension": ".ts",
   "mimetype": "text/x.typescript",
   "name": "typescript",
   "nbconvert_exporter": "script",
   "pygments_lexer": "typescript",
   "version": "5.7.3"
  }
 },
 "nbformat": 4,
 "nbformat_minor": 5
}
