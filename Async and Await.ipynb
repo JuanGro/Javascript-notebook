{
 "cells": [
  {
   "cell_type": "markdown",
   "id": "87e7d357-564a-40c5-a4d6-b196e279f64f",
   "metadata": {},
   "source": [
    "# Async/Await"
   ]
  },
  {
   "cell_type": "code",
   "execution_count": 1,
   "id": "9ece2b28-b74c-4333-a20a-f8a771c00544",
   "metadata": {},
   "outputs": [],
   "source": [
    "function fetchUserId() {\n",
    "  return new Promise((resolve) => {\n",
    "    setTimeout(() => {\n",
    "      console.log(\"Fetched user ID\");\n",
    "      resolve(1);\n",
    "    }, 1000);\n",
    "  });\n",
    "}\n",
    "\n",
    "function fetchUserDetails(userId) {\n",
    "  return new Promise((resolve) => {\n",
    "    setTimeout(() => {\n",
    "      console.log(\"Fetched user details for ID:\", userId);\n",
    "      resolve({ id: userId, name: \"Alice\" });\n",
    "    }, 1000);\n",
    "  });\n",
    "}\n",
    "\n",
    "function fetchUserPosts(user) {\n",
    "  return new Promise((resolve) => {\n",
    "    setTimeout(() => {\n",
    "      console.log(\"Fetched posts for user:\", user.name);\n",
    "      resolve([\"Post1\", \"Post2\"]);\n",
    "    }, 1000);\n",
    "  });\n",
    "}"
   ]
  },
  {
   "cell_type": "code",
   "execution_count": 2,
   "id": "033adfc9-a83b-444c-8f75-b2c40cb96455",
   "metadata": {},
   "outputs": [],
   "source": [
    "async function showUserPosts() {\n",
    "  try {\n",
    "    const id = await fetchUserId();\n",
    "    const user = await fetchUserDetails(id);\n",
    "    const posts = await fetchUserPosts(user);\n",
    "\n",
    "    console.log(\"Posts:\", posts);\n",
    "  } catch (error) {\n",
    "    console.error(\"❌ Error caught:\", error);\n",
    "  }\n",
    "}"
   ]
  },
  {
   "cell_type": "code",
   "execution_count": 3,
   "id": "59e4ef40-055c-48c4-aead-3a5328a2492f",
   "metadata": {},
   "outputs": [
    {
     "data": {
      "text/plain": [
       "Promise { \u001b[36m<pending>\u001b[39m }"
      ]
     },
     "execution_count": 3,
     "metadata": {},
     "output_type": "execute_result"
    },
    {
     "name": "stdout",
     "output_type": "stream",
     "text": [
      "Fetched user ID\n",
      "Fetched user details for ID: \u001b[33m1\u001b[39m\n",
      "Fetched posts for user: Alice\n",
      "Posts: [ \u001b[32m\"Post1\"\u001b[39m, \u001b[32m\"Post2\"\u001b[39m ]\n"
     ]
    }
   ],
   "source": [
    "showUserPosts();"
   ]
  },
  {
   "cell_type": "code",
   "execution_count": 4,
   "id": "5622c8e8-4bdf-40e2-8b3d-c3ee1f5f7f05",
   "metadata": {},
   "outputs": [],
   "source": [
    "function fetchUserId() {\n",
    "  return new Promise((resolve, reject) => {\n",
    "    setTimeout(() => {\n",
    "      const success = false; // Change to true to simulate success\n",
    "      if (success) {\n",
    "        console.log(\"Fetched user ID\");\n",
    "        resolve(1);\n",
    "      } else {\n",
    "        reject(\"Failed to fetch user ID\");\n",
    "      }\n",
    "    }, 1000);\n",
    "  });\n",
    "}"
   ]
  },
  {
   "cell_type": "code",
   "execution_count": 5,
   "id": "fb44486b-ed2f-4c59-9586-cbb3bad0814e",
   "metadata": {},
   "outputs": [],
   "source": [
    "async function showUserPosts() {\n",
    "  try {\n",
    "    const id = await fetchUserId(); // This will throw if rejected\n",
    "    const user = await fetchUserDetails(id);\n",
    "    const posts = await fetchUserPosts(user);\n",
    "\n",
    "    console.log(\"Posts:\", posts);\n",
    "  } catch (error) {\n",
    "    console.error(\"❌ Error caught in async/await:\", error);\n",
    "  }\n",
    "}"
   ]
  },
  {
   "cell_type": "code",
   "execution_count": 6,
   "id": "1eb2a113-36cc-4d72-8a5d-8bb85b89ccb5",
   "metadata": {},
   "outputs": [
    {
     "data": {
      "text/plain": [
       "Promise { \u001b[36m<pending>\u001b[39m }"
      ]
     },
     "execution_count": 6,
     "metadata": {},
     "output_type": "execute_result"
    },
    {
     "name": "stderr",
     "output_type": "stream",
     "text": [
      "❌ Error caught in async/await: Failed to fetch user ID\n"
     ]
    }
   ],
   "source": [
    "showUserPosts();"
   ]
  }
 ],
 "metadata": {
  "kernelspec": {
   "display_name": "Deno",
   "language": "typescript",
   "name": "deno"
  },
  "language_info": {
   "codemirror_mode": "typescript",
   "file_extension": ".ts",
   "mimetype": "text/x.typescript",
   "name": "typescript",
   "nbconvert_exporter": "script",
   "pygments_lexer": "typescript",
   "version": "5.7.3"
  }
 },
 "nbformat": 4,
 "nbformat_minor": 5
}
