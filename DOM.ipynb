{
 "cells": [
  {
   "cell_type": "markdown",
   "id": "e516990e-f162-4b3c-8cc7-92868c1bee1c",
   "metadata": {},
   "source": [
    "# DOM"
   ]
  },
  {
   "cell_type": "markdown",
   "id": "340e8f01-f55b-456c-ac80-3ac8cda62c13",
   "metadata": {},
   "source": [
    "childNodes includes the text between node elements, while children only shows the node elements"
   ]
  },
  {
   "cell_type": "code",
   "execution_count": null,
   "id": "4612fa06-acc1-4924-bb23-bc2180aa2325",
   "metadata": {},
   "outputs": [],
   "source": [
    "const ul = document.querySelector('ul');"
   ]
  },
  {
   "cell_type": "code",
   "execution_count": 1,
   "id": "a6e58ecb-95ca-4201-87d4-8e7f5e047f06",
   "metadata": {},
   "outputs": [
    {
     "ename": "ReferenceError",
     "evalue": "ul is not defined",
     "output_type": "error",
     "traceback": [
      "Stack trace:",
      "ReferenceError: ul is not defined",
      "    at <anonymous>:1:22"
     ]
    }
   ],
   "source": [
    "ul.children // Gives HTMLCollection(3)"
   ]
  },
  {
   "cell_type": "code",
   "execution_count": 2,
   "id": "3765d52d-ce9c-44ed-8b42-dfee4cc2f05f",
   "metadata": {},
   "outputs": [
    {
     "ename": "ReferenceError",
     "evalue": "ul is not defined",
     "output_type": "error",
     "traceback": [
      "Stack trace:",
      "ReferenceError: ul is not defined",
      "    at <anonymous>:1:22"
     ]
    }
   ],
   "source": [
    "ul.childNodes // Gives NodeList(7) with [text, li.list-item...]"
   ]
  },
  {
   "cell_type": "code",
   "execution_count": 3,
   "id": "8bdaca91-a258-4b55-9640-6ad9fab43495",
   "metadata": {},
   "outputs": [
    {
     "ename": "ReferenceError",
     "evalue": "document is not defined",
     "output_type": "error",
     "traceback": [
      "Stack trace:",
      "ReferenceError: document is not defined",
      "    at <anonymous>:1:35"
     ]
    }
   ],
   "source": [
    "const list = document.querySelector('ul');\n",
    "const listItems = list.querySelectorAll('li'); // This makes an static node list, if you add a li element, you won't see it here"
   ]
  },
  {
   "cell_type": "code",
   "execution_count": 5,
   "id": "d56bd426-4193-4062-a8e0-cc167b46aa1b",
   "metadata": {},
   "outputs": [
    {
     "ename": "ReferenceError",
     "evalue": "list is not defined",
     "output_type": "error",
     "traceback": [
      "Stack trace:",
      "ReferenceError: list is not defined",
      "    at <anonymous>:1:41"
     ]
    }
   ],
   "source": [
    "const listItems2 = list.getElementsByTagName('li'); // This makes a live node list, if you add a li element, you will see it here!"
   ]
  },
  {
   "cell_type": "code",
   "execution_count": 6,
   "id": "444c7737-65d0-4dc0-95b8-b425ea573ade",
   "metadata": {},
   "outputs": [
    {
     "ename": "ReferenceError",
     "evalue": "document is not defined",
     "output_type": "error",
     "traceback": [
      "Stack trace:",
      "ReferenceError: document is not defined",
      "    at <anonymous>:1:35"
     ]
    }
   ],
   "source": [
    "const root = document.getElementById('root-el'); // selects something like <div id=\"root-el\">"
   ]
  },
  {
   "cell_type": "code",
   "execution_count": 8,
   "id": "7ab08941-f6e9-4a5f-b875-85b260f67770",
   "metadata": {},
   "outputs": [
    {
     "ename": "ReferenceError",
     "evalue": "root is not defined",
     "output_type": "error",
     "traceback": [
      "Stack trace:",
      "ReferenceError: root is not defined",
      "    at <anonymous>:1:22"
     ]
    }
   ],
   "source": [
    "root.insertAdjacentHTML('afterbegin', `\n",
    "    <div>\n",
    "        <h2>Welcome!</h2>\n",
    "        <p>This is all create & rendered automatically!</p>\n",
    "    </div>\n",
    "`);"
   ]
  },
  {
   "cell_type": "code",
   "execution_count": 9,
   "id": "c45b162e-c0ed-4daf-8e62-aad1478ebb21",
   "metadata": {},
   "outputs": [
    {
     "ename": "ReferenceError",
     "evalue": "document is not defined",
     "output_type": "error",
     "traceback": [
      "Stack trace:",
      "ReferenceError: document is not defined",
      "    at <anonymous>:1:44"
     ]
    }
   ],
   "source": [
    "const someParagraph = document.createElement('p'); // creates a \"p\" element (i.e. a <p> element)"
   ]
  },
  {
   "cell_type": "code",
   "execution_count": 11,
   "id": "feae2869-bf7f-41f8-981f-a22ef7f828c3",
   "metadata": {},
   "outputs": [
    {
     "ename": "ReferenceError",
     "evalue": "document is not defined",
     "output_type": "error",
     "traceback": [
      "Stack trace:",
      "ReferenceError: document is not defined",
      "    at <anonymous>:1:35"
     ]
    }
   ],
   "source": [
    "const root = document.getElementById('root-el'); // selects something like <div id=\"root-el\">\n",
    "root.append(someParagraph);"
   ]
  },
  {
   "cell_type": "code",
   "execution_count": 12,
   "id": "c04a74a8-4ebd-4dad-a1f1-9dc58fdaff93",
   "metadata": {},
   "outputs": [
    {
     "ename": "ReferenceError",
     "evalue": "someElement is not defined",
     "output_type": "error",
     "traceback": [
      "Stack trace:",
      "ReferenceError: someElement is not defined",
      "    at <anonymous>:1:22"
     ]
    }
   ],
   "source": [
    "someElement.textContent = 'Hi there!';"
   ]
  },
  {
   "cell_type": "code",
   "execution_count": 13,
   "id": "7152d9b5-8476-44d6-9101-ad2cb4e114f5",
   "metadata": {},
   "outputs": [
    {
     "ename": "ReferenceError",
     "evalue": "someElement is not defined",
     "output_type": "error",
     "traceback": [
      "Stack trace:",
      "ReferenceError: someElement is not defined",
      "    at <anonymous>:1:22"
     ]
    }
   ],
   "source": [
    "someElement.textContent = someElement.textContent + 'More text!';"
   ]
  }
 ],
 "metadata": {
  "kernelspec": {
   "display_name": "Deno",
   "language": "typescript",
   "name": "deno"
  },
  "language_info": {
   "codemirror_mode": "typescript",
   "file_extension": ".ts",
   "mimetype": "text/x.typescript",
   "name": "typescript",
   "nbconvert_exporter": "script",
   "pygments_lexer": "typescript",
   "version": "5.7.3"
  }
 },
 "nbformat": 4,
 "nbformat_minor": 5
}
