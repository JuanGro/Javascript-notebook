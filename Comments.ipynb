{
 "cells": [
  {
   "cell_type": "markdown",
   "id": "f4eb7ece-c89a-45b8-9662-eea6a3779fae",
   "metadata": {},
   "source": [
    "# Comments"
   ]
  },
  {
   "cell_type": "code",
   "execution_count": 1,
   "id": "fca0fd18-b2f1-470a-89c6-c6425d7e5e1a",
   "metadata": {},
   "outputs": [],
   "source": [
    "// This is a comment"
   ]
  },
  {
   "cell_type": "code",
   "execution_count": 2,
   "id": "363251b2-ddfc-4c8f-ba29-65c45018604f",
   "metadata": {},
   "outputs": [],
   "source": [
    "/* This is also a comment */"
   ]
  },
  {
   "cell_type": "code",
   "execution_count": null,
   "id": "5fb25035-3b86-4a74-8fe5-90765550ed9f",
   "metadata": {},
   "outputs": [],
   "source": []
  }
 ],
 "metadata": {
  "kernelspec": {
   "display_name": "Deno",
   "language": "typescript",
   "name": "deno"
  },
  "language_info": {
   "codemirror_mode": "typescript",
   "file_extension": ".ts",
   "mimetype": "text/x.typescript",
   "name": "typescript",
   "nbconvert_exporter": "script",
   "pygments_lexer": "typescript",
   "version": "5.7.3"
  }
 },
 "nbformat": 4,
 "nbformat_minor": 5
}
