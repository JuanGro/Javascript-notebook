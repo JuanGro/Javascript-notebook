{
 "cells": [
  {
   "cell_type": "markdown",
   "id": "5ee11794-f3eb-44af-a27a-b14d511d1e98",
   "metadata": {},
   "source": [
    "# Operators"
   ]
  },
  {
   "cell_type": "code",
   "execution_count": 1,
   "id": "9f6522fb-faf8-4341-bbc4-9f29825bf1b1",
   "metadata": {},
   "outputs": [
    {
     "data": {
      "text/plain": [
       "4"
      ]
     },
     "execution_count": 1,
     "metadata": {},
     "output_type": "execute_result"
    }
   ],
   "source": [
    "2 + 2"
   ]
  },
  {
   "cell_type": "code",
   "execution_count": 2,
   "id": "344b7aad-477a-44dd-af79-7945b4e49d3b",
   "metadata": {},
   "outputs": [
    {
     "data": {
      "text/plain": [
       "0"
      ]
     },
     "execution_count": 2,
     "metadata": {},
     "output_type": "execute_result"
    }
   ],
   "source": [
    "2 - 2"
   ]
  },
  {
   "cell_type": "code",
   "execution_count": 3,
   "id": "43f9b20d-b1d4-4306-9df2-34008eaba092",
   "metadata": {},
   "outputs": [
    {
     "data": {
      "text/plain": [
       "8"
      ]
     },
     "execution_count": 3,
     "metadata": {},
     "output_type": "execute_result"
    }
   ],
   "source": [
    "2 * 4"
   ]
  },
  {
   "cell_type": "code",
   "execution_count": 4,
   "id": "aec9e2c6-7309-4dfb-922b-27e11fe916a7",
   "metadata": {},
   "outputs": [
    {
     "data": {
      "text/plain": [
       "2.0"
      ]
     },
     "execution_count": 4,
     "metadata": {},
     "output_type": "execute_result"
    }
   ],
   "source": [
    "4 / 2"
   ]
  },
  {
   "cell_type": "code",
   "execution_count": 5,
   "id": "dbe1fa88-8bc7-469f-94f3-b8ec8d867449",
   "metadata": {},
   "outputs": [
    {
     "data": {
      "text/plain": [
       "0"
      ]
     },
     "execution_count": 5,
     "metadata": {},
     "output_type": "execute_result"
    }
   ],
   "source": [
    "4 % 2"
   ]
  },
  {
   "cell_type": "code",
   "execution_count": 6,
   "id": "0bf198af-5987-40d5-84a5-8844c3dac875",
   "metadata": {},
   "outputs": [
    {
     "data": {
      "text/plain": [
       "8"
      ]
     },
     "execution_count": 6,
     "metadata": {},
     "output_type": "execute_result"
    }
   ],
   "source": [
    "2 ** 3"
   ]
  },
  {
   "cell_type": "code",
   "execution_count": 1,
   "id": "49147067-8c78-4f2b-b8e6-677e650c14b9",
   "metadata": {},
   "outputs": [],
   "source": [
    "let a = 3;"
   ]
  },
  {
   "cell_type": "code",
   "execution_count": 7,
   "id": "25ea2574-746b-47b4-9337-60f0ba147c6e",
   "metadata": {},
   "outputs": [
    {
     "data": {
      "text/plain": [
       "\u001b[33m11\u001b[39m"
      ]
     },
     "execution_count": 7,
     "metadata": {},
     "output_type": "execute_result"
    }
   ],
   "source": [
    "a += 3;"
   ]
  },
  {
   "cell_type": "code",
   "execution_count": 8,
   "id": "ed922db3-2c44-4873-af86-ba3b4c2a0bc2",
   "metadata": {},
   "outputs": [
    {
     "data": {
      "text/plain": [
       "\u001b[33m8\u001b[39m"
      ]
     },
     "execution_count": 8,
     "metadata": {},
     "output_type": "execute_result"
    }
   ],
   "source": [
    "a -= 3;"
   ]
  },
  {
   "cell_type": "code",
   "execution_count": 10,
   "id": "218ef24a-4b92-4839-900a-2a9d441fe86e",
   "metadata": {},
   "outputs": [
    {
     "data": {
      "text/plain": [
       "\u001b[33m72\u001b[39m"
      ]
     },
     "execution_count": 10,
     "metadata": {},
     "output_type": "execute_result"
    }
   ],
   "source": [
    "a *= 3;"
   ]
  },
  {
   "cell_type": "code",
   "execution_count": 11,
   "id": "68a46db4-935f-47e9-80b9-eb31c230b654",
   "metadata": {},
   "outputs": [
    {
     "data": {
      "text/plain": [
       "\u001b[33m24\u001b[39m"
      ]
     },
     "execution_count": 11,
     "metadata": {},
     "output_type": "execute_result"
    }
   ],
   "source": [
    "a /= 3;"
   ]
  },
  {
   "cell_type": "code",
   "execution_count": 15,
   "id": "a9e348cf-03c1-48f1-aea6-63327c135c86",
   "metadata": {},
   "outputs": [
    {
     "data": {
      "text/plain": [
       "\u001b[33m23\u001b[39m"
      ]
     },
     "execution_count": 15,
     "metadata": {},
     "output_type": "execute_result"
    }
   ],
   "source": [
    "// it returns the value BEFORE the change\n",
    "a++;"
   ]
  },
  {
   "cell_type": "code",
   "execution_count": 13,
   "id": "4a1b55c0-2f80-4282-a763-8fb58697037d",
   "metadata": {},
   "outputs": [
    {
     "data": {
      "text/plain": [
       "\u001b[33m25\u001b[39m"
      ]
     },
     "execution_count": 13,
     "metadata": {},
     "output_type": "execute_result"
    }
   ],
   "source": [
    "a--;"
   ]
  },
  {
   "cell_type": "code",
   "execution_count": 16,
   "id": "6bdf2488-185f-4a81-a188-0a0542fd17bf",
   "metadata": {},
   "outputs": [
    {
     "data": {
      "text/plain": [
       "\u001b[33m25\u001b[39m"
      ]
     },
     "execution_count": 16,
     "metadata": {},
     "output_type": "execute_result"
    }
   ],
   "source": [
    "// it returns the value already changed\n",
    "++a;"
   ]
  },
  {
   "cell_type": "code",
   "execution_count": null,
   "id": "9757c826-1150-4b35-8685-ad71cda320d0",
   "metadata": {},
   "outputs": [],
   "source": []
  }
 ],
 "metadata": {
  "kernelspec": {
   "display_name": "Deno",
   "language": "typescript",
   "name": "deno"
  },
  "language_info": {
   "codemirror_mode": "typescript",
   "file_extension": ".ts",
   "mimetype": "text/x.typescript",
   "name": "typescript",
   "nbconvert_exporter": "script",
   "pygments_lexer": "typescript",
   "version": "5.7.3"
  }
 },
 "nbformat": 4,
 "nbformat_minor": 5
}
