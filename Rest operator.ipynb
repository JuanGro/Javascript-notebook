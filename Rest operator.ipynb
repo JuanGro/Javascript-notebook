{
 "cells": [
  {
   "cell_type": "markdown",
   "id": "48241ff1-6f62-4cdf-b494-69a86226ee45",
   "metadata": {},
   "source": [
    "# Rest operator"
   ]
  },
  {
   "cell_type": "code",
   "execution_count": 2,
   "id": "b2baef22-1bc5-4072-9139-5f50ceaa0784",
   "metadata": {},
   "outputs": [],
   "source": [
    "const sumUp = (...numbers) => {\n",
    "    let total = 0;\n",
    "    for(let num of numbers) {\n",
    "        total += num;\n",
    "    }\n",
    "    return total;\n",
    "};"
   ]
  },
  {
   "cell_type": "code",
   "execution_count": 4,
   "id": "053fe2fc-96ae-4fd2-a909-0b504bc80a85",
   "metadata": {},
   "outputs": [
    {
     "data": {
      "text/plain": [
       "\u001b[33m29\u001b[39m"
      ]
     },
     "execution_count": 4,
     "metadata": {},
     "output_type": "execute_result"
    }
   ],
   "source": [
    "sumUp(1, 5, 10, -3, 6, 10);"
   ]
  },
  {
   "cell_type": "code",
   "execution_count": 10,
   "id": "ee75da8e-8a12-4f66-a631-cd7a09c29d28",
   "metadata": {},
   "outputs": [
    {
     "data": {
      "text/plain": [
       "\u001b[33m142\u001b[39m"
      ]
     },
     "execution_count": 10,
     "metadata": {},
     "output_type": "execute_result"
    }
   ],
   "source": [
    "sumUp(1, 5, 10, -3, 6, 10, 25, 88);"
   ]
  },
  {
   "cell_type": "markdown",
   "id": "b736be83-6222-4acf-a16d-821995b6a177",
   "metadata": {},
   "source": [
    "You can place more params at the beginning, but the spread operator must be at the end"
   ]
  },
  {
   "cell_type": "code",
   "execution_count": 8,
   "id": "557d5028-12d8-4465-a41a-73568d532d20",
   "metadata": {},
   "outputs": [],
   "source": [
    "const sumUp = (totalParam, additionalNum, ...numbers) => {\n",
    "    let total = totalParam;\n",
    "    total += additionalNum\n",
    "    for(let num of numbers) {\n",
    "        total += num;\n",
    "    }\n",
    "    return total;\n",
    "};"
   ]
  },
  {
   "cell_type": "code",
   "execution_count": 9,
   "id": "88473432-792a-46c2-99d0-ab02b76f1a62",
   "metadata": {},
   "outputs": [
    {
     "data": {
      "text/plain": [
       "\u001b[33m229\u001b[39m"
      ]
     },
     "execution_count": 9,
     "metadata": {},
     "output_type": "execute_result"
    }
   ],
   "source": [
    "sumUp(100, 100, 1, 5, 10, -3, 6, 10);"
   ]
  }
 ],
 "metadata": {
  "kernelspec": {
   "display_name": "Deno",
   "language": "typescript",
   "name": "deno"
  },
  "language_info": {
   "codemirror_mode": "typescript",
   "file_extension": ".ts",
   "mimetype": "text/x.typescript",
   "name": "typescript",
   "nbconvert_exporter": "script",
   "pygments_lexer": "typescript",
   "version": "5.7.3"
  }
 },
 "nbformat": 4,
 "nbformat_minor": 5
}
