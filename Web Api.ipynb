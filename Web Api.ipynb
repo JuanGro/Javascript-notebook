{
 "cells": [
  {
   "cell_type": "markdown",
   "id": "dc19fd9e-1cf9-4642-9d9f-4033eed2dc64",
   "metadata": {},
   "source": [
    "# Web API"
   ]
  },
  {
   "cell_type": "markdown",
   "id": "18a19699-96ae-4d17-9608-4e1dcb262a45",
   "metadata": {},
   "source": [
    "A Web API is an interface provided by the browser (or a web server) that allows developers to interact with browser features or remote services using JavaScript.\n",
    "\n",
    "It can be:\n",
    "- Built into the browser (like DOM, Fetch, localStorage, etc.)\n",
    "- Or hosted on a server (like REST or GraphQL APIs)"
   ]
  },
  {
   "cell_type": "markdown",
   "id": "550d7cfd-f07d-4bc2-a934-3441752c290b",
   "metadata": {},
   "source": [
    "| Web API           | Description                 | Example                                      |\n",
    "| ----------------- | --------------------------- | -------------------------------------------- |\n",
    "| `DOM API`         | Manipulate HTML elements    | `document.querySelector()`                   |\n",
    "| `Fetch API`       | Make HTTP requests          | `fetch('https://api.example.com')`           |\n",
    "| `Geolocation API` | Get user’s location         | `navigator.geolocation.getCurrentPosition()` |\n",
    "| `Storage API`     | Save data locally           | `localStorage.setItem('key', 'value')`       |\n",
    "| `Canvas API`      | Draw graphics in `<canvas>` | `canvas.getContext('2d')`                    |"
   ]
  },
  {
   "cell_type": "code",
   "execution_count": 5,
   "id": "9ec0a992-1525-454b-ad34-9fe28683a2dd",
   "metadata": {},
   "outputs": [
    {
     "data": {
      "text/plain": [
       "Promise { \u001b[36m<pending>\u001b[39m }"
      ]
     },
     "execution_count": 5,
     "metadata": {},
     "output_type": "execute_result"
    },
    {
     "name": "stdout",
     "output_type": "stream",
     "text": [
      "{\n",
      "  userId: \u001b[33m1\u001b[39m,\n",
      "  id: \u001b[33m1\u001b[39m,\n",
      "  title: \u001b[32m\"sunt aut facere repellat provident occaecati excepturi optio reprehenderit\"\u001b[39m,\n",
      "  body: \u001b[32m\"quia et suscipit\\n\"\u001b[39m +\n",
      "    \u001b[32m\"suscipit recusandae consequuntur expedita et cum\\n\"\u001b[39m +\n",
      "    \u001b[32m\"reprehenderit molestiae ut ut quas totam\\n\"\u001b[39m +\n",
      "    \u001b[32m\"nostrum rerum est autem sunt rem eveniet architecto\"\u001b[39m\n",
      "}\n"
     ]
    }
   ],
   "source": [
    "fetch(\"https://jsonplaceholder.typicode.com/posts/1\")\n",
    "  .then(response => response.json()) // convert response to JSON\n",
    "  .then(data => console.log(data))   // use the data\n",
    "  .catch(error => console.error(\"Error:\", error));"
   ]
  },
  {
   "cell_type": "code",
   "execution_count": 11,
   "id": "5c9d6925-f5ca-4860-b3b5-aeb9b9066900",
   "metadata": {},
   "outputs": [
    {
     "data": {
      "text/plain": [
       "Navigator {\n",
       "  hardwareConcurrency: \u001b[33m10\u001b[39m,\n",
       "  userAgent: \u001b[32m\"Deno/2.2.9\"\u001b[39m,\n",
       "  language: \u001b[32m\"en-US\"\u001b[39m,\n",
       "  languages: [ \u001b[32m\"en-US\"\u001b[39m ]\n",
       "}"
      ]
     },
     "execution_count": 11,
     "metadata": {},
     "output_type": "execute_result"
    }
   ],
   "source": [
    "navigator"
   ]
  }
 ],
 "metadata": {
  "kernelspec": {
   "display_name": "Deno",
   "language": "typescript",
   "name": "deno"
  },
  "language_info": {
   "codemirror_mode": "typescript",
   "file_extension": ".ts",
   "mimetype": "text/x.typescript",
   "name": "typescript",
   "nbconvert_exporter": "script",
   "pygments_lexer": "typescript",
   "version": "5.7.3"
  }
 },
 "nbformat": 4,
 "nbformat_minor": 5
}
