{
 "cells": [
  {
   "cell_type": "markdown",
   "id": "8c126d1e-0f78-45f9-b193-5409a62da103",
   "metadata": {},
   "source": [
    "# Function vs Method"
   ]
  },
  {
   "cell_type": "markdown",
   "id": "c56e522b-0a4d-4690-ade7-1f5c57d96406",
   "metadata": {},
   "source": [
    "A function is a block of code that performs a specific task. It can exist independently of any object."
   ]
  },
  {
   "cell_type": "code",
   "execution_count": 2,
   "id": "4ee3e798-7511-4a80-af81-0eb351d97fa4",
   "metadata": {},
   "outputs": [
    {
     "data": {
      "text/plain": [
       "\u001b[32m\"Hello, Alice\"\u001b[39m"
      ]
     },
     "execution_count": 2,
     "metadata": {},
     "output_type": "execute_result"
    }
   ],
   "source": [
    "function greet(name) {\n",
    "  return \"Hello, \" + name;\n",
    "}\n",
    "\n",
    "greet(\"Alice\"); // Output: Hello, Alice"
   ]
  },
  {
   "cell_type": "markdown",
   "id": "3e8d1f0c-af3e-4751-b779-288c0d7dd7b0",
   "metadata": {},
   "source": [
    "A method is a function that is a property of an object. It operates on the data within that object."
   ]
  },
  {
   "cell_type": "code",
   "execution_count": 4,
   "id": "5a363013-d102-42d2-92c6-958c87cd2926",
   "metadata": {},
   "outputs": [
    {
     "data": {
      "text/plain": [
       "\u001b[32m\"Hello, Bob\"\u001b[39m"
      ]
     },
     "execution_count": 4,
     "metadata": {},
     "output_type": "execute_result"
    }
   ],
   "source": [
    "const person = {\n",
    "  name: \"Bob\",\n",
    "  greet: function() {\n",
    "    return \"Hello, \" + this.name;\n",
    "  }\n",
    "};\n",
    "\n",
    "person.greet(); // Output: Hello, Bob"
   ]
  }
 ],
 "metadata": {
  "kernelspec": {
   "display_name": "Deno",
   "language": "typescript",
   "name": "deno"
  },
  "language_info": {
   "codemirror_mode": "typescript",
   "file_extension": ".ts",
   "mimetype": "text/x.typescript",
   "name": "typescript",
   "nbconvert_exporter": "script",
   "pygments_lexer": "typescript",
   "version": "5.7.3"
  }
 },
 "nbformat": 4,
 "nbformat_minor": 5
}
