{
 "cells": [
  {
   "cell_type": "markdown",
   "id": "fefec553-120c-4630-a568-2ae8c50e8b0f",
   "metadata": {},
   "source": [
    "# lodash"
   ]
  },
  {
   "cell_type": "code",
   "execution_count": 1,
   "id": "c18f57b3-c772-4f80-9753-a948a028c603",
   "metadata": {},
   "outputs": [],
   "source": [
    "import _ from \"https://esm.sh/lodash@4.17.21\";"
   ]
  },
  {
   "cell_type": "code",
   "execution_count": 2,
   "id": "91bb17bb-7adb-4e94-9ffb-7e949d6d796b",
   "metadata": {},
   "outputs": [
    {
     "data": {
      "text/plain": [
       "[ [ \u001b[32m\"a\"\u001b[39m, \u001b[32m\"b\"\u001b[39m ], [ \u001b[32m\"c\"\u001b[39m, \u001b[32m\"d\"\u001b[39m ] ]"
      ]
     },
     "execution_count": 2,
     "metadata": {},
     "output_type": "execute_result"
    }
   ],
   "source": [
    "_.chunk(['a', 'b', 'c', 'd'], 2);"
   ]
  },
  {
   "cell_type": "code",
   "execution_count": 3,
   "id": "216dadd8-b1d9-410b-8d78-1bf5610c53eb",
   "metadata": {},
   "outputs": [],
   "source": [
    "const customers = ['Max', 'Manuel', 'Anna'];"
   ]
  },
  {
   "cell_type": "code",
   "execution_count": 7,
   "id": "a4d53fa4-b283-47f7-a44d-99106e7b6283",
   "metadata": {},
   "outputs": [],
   "source": [
    "const activeCustomers = ['Max', 'Manuel'];"
   ]
  },
  {
   "cell_type": "code",
   "execution_count": 9,
   "id": "491132ea-cd85-4242-a086-dc8ebaec27fb",
   "metadata": {},
   "outputs": [
    {
     "data": {
      "text/plain": [
       "[ \u001b[32m\"Anna\"\u001b[39m ]"
      ]
     },
     "execution_count": 9,
     "metadata": {},
     "output_type": "execute_result"
    }
   ],
   "source": [
    "_.difference(customers, activeCustomers);"
   ]
  },
  {
   "cell_type": "markdown",
   "id": "31d1d226-3048-47ed-ba57-4a38a4a0cb5c",
   "metadata": {},
   "source": [
    "## Without lodash"
   ]
  },
  {
   "cell_type": "code",
   "execution_count": 12,
   "id": "c7587c9d-36a8-47cf-ac7b-768c89fe8ca1",
   "metadata": {},
   "outputs": [
    {
     "data": {
      "text/plain": [
       "[ \u001b[32m\"Anna\"\u001b[39m ]"
      ]
     },
     "execution_count": 12,
     "metadata": {},
     "output_type": "execute_result"
    }
   ],
   "source": [
    "customers.filter(c => !activeCustomers.includes(c));"
   ]
  },
  {
   "cell_type": "markdown",
   "id": "86d3a099-6b33-418c-b411-e08f4f0f3a24",
   "metadata": {},
   "source": [
    "## Faster version"
   ]
  },
  {
   "cell_type": "code",
   "execution_count": 15,
   "id": "382a4887-289e-48cc-b031-c655cace5f44",
   "metadata": {},
   "outputs": [],
   "source": [
    "const activeCustomersSet = new Set(['Max', 'Manuel']);"
   ]
  },
  {
   "cell_type": "code",
   "execution_count": 17,
   "id": "abac4f59-aac7-4eb9-a817-5903d33df626",
   "metadata": {},
   "outputs": [
    {
     "data": {
      "text/plain": [
       "[ \u001b[32m\"Anna\"\u001b[39m ]"
      ]
     },
     "execution_count": 17,
     "metadata": {},
     "output_type": "execute_result"
    }
   ],
   "source": [
    "customers.filter(c => !activeCustomersSet.has(c));"
   ]
  },
  {
   "cell_type": "markdown",
   "id": "7cb49f23-b63a-4351-9dc2-492a6365a6cb",
   "metadata": {},
   "source": [
    "## Another example with lodash"
   ]
  },
  {
   "cell_type": "code",
   "execution_count": 5,
   "id": "ede0d68e-0c7d-4e3d-9c9e-69be20e4602e",
   "metadata": {},
   "outputs": [],
   "source": [
    "const inactiveCustomers = _.difference([2, 1], [2, 3]);"
   ]
  },
  {
   "cell_type": "code",
   "execution_count": 6,
   "id": "b35edc21-4ef0-4ae5-ac33-49e8367607c1",
   "metadata": {},
   "outputs": [
    {
     "data": {
      "text/plain": [
       "[ \u001b[33m1\u001b[39m ]"
      ]
     },
     "execution_count": 6,
     "metadata": {},
     "output_type": "execute_result"
    }
   ],
   "source": [
    "inactiveCustomers"
   ]
  }
 ],
 "metadata": {
  "kernelspec": {
   "display_name": "Deno",
   "language": "typescript",
   "name": "deno"
  },
  "language_info": {
   "codemirror_mode": "typescript",
   "file_extension": ".ts",
   "mimetype": "text/x.typescript",
   "name": "typescript",
   "nbconvert_exporter": "script",
   "pygments_lexer": "typescript",
   "version": "5.7.3"
  }
 },
 "nbformat": 4,
 "nbformat_minor": 5
}
