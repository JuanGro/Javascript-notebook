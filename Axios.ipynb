{
 "cells": [
  {
   "cell_type": "code",
   "execution_count": 1,
   "id": "b66888b1-f0c2-43a8-a100-b00ac4ef5519",
   "metadata": {},
   "outputs": [],
   "source": [
    "import axios from \"https://esm.sh/axios@1.6.8\";"
   ]
  },
  {
   "cell_type": "code",
   "execution_count": 2,
   "id": "6f17f4b4-3077-41f3-ac7d-df4ab702944b",
   "metadata": {},
   "outputs": [],
   "source": [
    "const response = await axios.get(\"https://jsonplaceholder.typicode.com/posts/1\");"
   ]
  },
  {
   "cell_type": "code",
   "execution_count": 3,
   "id": "6d971650-2574-47ed-88ab-9934c8197fda",
   "metadata": {},
   "outputs": [
    {
     "data": {
      "text/plain": [
       "{\n",
       "  data: {\n",
       "    userId: \u001b[33m1\u001b[39m,\n",
       "    id: \u001b[33m1\u001b[39m,\n",
       "    title: \u001b[32m\"sunt aut facere repellat provident occaecati excepturi optio reprehenderit\"\u001b[39m,\n",
       "    body: \u001b[32m\"quia et suscipit\\n\"\u001b[39m +\n",
       "      \u001b[32m\"suscipit recusandae consequuntur expedita et cum\\n\"\u001b[39m +\n",
       "      \u001b[32m\"reprehenderit molestiae ut ut quas totam\\n\"\u001b[39m +\n",
       "      \u001b[32m\"nostrum rerum est autem sunt rem eveniet architecto\"\u001b[39m\n",
       "  },\n",
       "  status: \u001b[33m200\u001b[39m,\n",
       "  statusText: \u001b[32m\"OK\"\u001b[39m,\n",
       "  headers: Object [AxiosHeaders] {\n",
       "    \u001b[32m\"access-control-allow-credentials\"\u001b[39m: \u001b[32m\"true\"\u001b[39m,\n",
       "    age: \u001b[32m\"19565\"\u001b[39m,\n",
       "    \u001b[32m\"alt-svc\"\u001b[39m: \u001b[32m'h3=\":443\"; ma=86400'\u001b[39m,\n",
       "    \u001b[32m\"cache-control\"\u001b[39m: \u001b[32m\"max-age=43200\"\u001b[39m,\n",
       "    \u001b[32m\"cf-cache-status\"\u001b[39m: \u001b[32m\"HIT\"\u001b[39m,\n",
       "    \u001b[32m\"cf-ray\"\u001b[39m: \u001b[32m\"97eba87ebad046d4-DFW\"\u001b[39m,\n",
       "    \u001b[32m\"content-type\"\u001b[39m: \u001b[32m\"application/json; charset=utf-8\"\u001b[39m,\n",
       "    date: \u001b[32m\"Sun, 14 Sep 2025 00:09:53 GMT\"\u001b[39m,\n",
       "    etag: \u001b[32m'W/\"124-yiKdLzqO5gfBrJFrcdJ8Yq0LGnU\"'\u001b[39m,\n",
       "    expires: \u001b[32m\"-1\"\u001b[39m,\n",
       "    nel: \u001b[32m'{\"report_to\":\"heroku-nel\",\"response_headers\":[\"Via\"],\"max_age\":3600,\"success_fraction\":0.01,\"failure_fraction\":0.1}'\u001b[39m,\n",
       "    pragma: \u001b[32m\"no-cache\"\u001b[39m,\n",
       "    \u001b[32m\"report-to\"\u001b[39m: \u001b[32m'{\"group\":\"heroku-nel\",\"endpoints\":[{\"url\":\"https://nel.heroku.com/reports?s=tZIeceqVyF1dEeg6a7GN8l6JfVbWJLrLhX9Mkz64e6E%3D\\\\u0026sid=e11707d5-02a7-43ef-b45e-2cf4d2036f7d\\\\u0026ts=1757789028\"}],\"max_age\":3600}'\u001b[39m,\n",
       "    \u001b[32m\"reporting-endpoints\"\u001b[39m: \u001b[32m'heroku-nel=\"https://nel.heroku.com/reports?s=tZIeceqVyF1dEeg6a7GN8l6JfVbWJLrLhX9Mkz64e6E%3D&sid=e11707d5-02a7-43ef-b45e-2cf4d2036f7d&ts=1757789028\"'\u001b[39m,\n",
       "    server: \u001b[32m\"cloudflare\"\u001b[39m,\n",
       "    vary: \u001b[32m\"Origin, Accept-Encoding\"\u001b[39m,\n",
       "    via: \u001b[32m\"2.0 heroku-router\"\u001b[39m,\n",
       "    \u001b[32m\"x-content-type-options\"\u001b[39m: \u001b[32m\"nosniff\"\u001b[39m,\n",
       "    \u001b[32m\"x-powered-by\"\u001b[39m: \u001b[32m\"Express\"\u001b[39m,\n",
       "    \u001b[32m\"x-ratelimit-limit\"\u001b[39m: \u001b[32m\"1000\"\u001b[39m,\n",
       "    \u001b[32m\"x-ratelimit-remaining\"\u001b[39m: \u001b[32m\"999\"\u001b[39m,\n",
       "    \u001b[32m\"x-ratelimit-reset\"\u001b[39m: \u001b[32m\"1757789075\"\u001b[39m\n",
       "  },\n",
       "  config: {\n",
       "    transitional: {\n",
       "      silentJSONParsing: \u001b[33mtrue\u001b[39m,\n",
       "      forcedJSONParsing: \u001b[33mtrue\u001b[39m,\n",
       "      clarifyTimeoutError: \u001b[33mfalse\u001b[39m\n",
       "    },\n",
       "    adapter: [ \u001b[32m\"xhr\"\u001b[39m, \u001b[32m\"http\"\u001b[39m ],\n",
       "    transformRequest: [ \u001b[36m[Function (anonymous)]\u001b[39m ],\n",
       "    transformResponse: [ \u001b[36m[Function (anonymous)]\u001b[39m ],\n",
       "    timeout: \u001b[33m0\u001b[39m,\n",
       "    xsrfCookieName: \u001b[32m\"XSRF-TOKEN\"\u001b[39m,\n",
       "    xsrfHeaderName: \u001b[32m\"X-XSRF-TOKEN\"\u001b[39m,\n",
       "    maxContentLength: \u001b[33m-1\u001b[39m,\n",
       "    maxBodyLength: \u001b[33m-1\u001b[39m,\n",
       "    env: {\n",
       "      FormData: [Function: n] [FormData] {\n",
       "        LINE_BREAK: \u001b[32m\"\\r\\n\"\u001b[39m,\n",
       "        DEFAULT_CONTENT_TYPE: \u001b[32m\"application/octet-stream\"\u001b[39m\n",
       "      },\n",
       "      Blob: \u001b[36m[class Blob]\u001b[39m\n",
       "    },\n",
       "    validateStatus: \u001b[36m[Function: validateStatus]\u001b[39m,\n",
       "    headers: Object [AxiosHeaders] {\n",
       "      Accept: \u001b[32m\"application/json, text/plain, */*\"\u001b[39m,\n",
       "      \u001b[32m\"Content-Type\"\u001b[39m: \u001b[1mnull\u001b[22m\n",
       "    },\n",
       "    method: \u001b[32m\"get\"\u001b[39m,\n",
       "    url: \u001b[32m\"https://jsonplaceholder.typicode.com/posts/1\"\u001b[39m,\n",
       "    data: \u001b[90mundefined\u001b[39m\n",
       "  },\n",
       "  request: XMLHttpRequest {}\n",
       "}"
      ]
     },
     "execution_count": 3,
     "metadata": {},
     "output_type": "execute_result"
    }
   ],
   "source": [
    "response"
   ]
  },
  {
   "cell_type": "code",
   "execution_count": 4,
   "id": "e5fb6e0d-f105-4eae-8a2d-e738b36cb893",
   "metadata": {},
   "outputs": [
    {
     "data": {
      "text/plain": [
       "{\n",
       "  userId: \u001b[33m1\u001b[39m,\n",
       "  id: \u001b[33m1\u001b[39m,\n",
       "  title: \u001b[32m\"sunt aut facere repellat provident occaecati excepturi optio reprehenderit\"\u001b[39m,\n",
       "  body: \u001b[32m\"quia et suscipit\\n\"\u001b[39m +\n",
       "    \u001b[32m\"suscipit recusandae consequuntur expedita et cum\\n\"\u001b[39m +\n",
       "    \u001b[32m\"reprehenderit molestiae ut ut quas totam\\n\"\u001b[39m +\n",
       "    \u001b[32m\"nostrum rerum est autem sunt rem eveniet architecto\"\u001b[39m\n",
       "}"
      ]
     },
     "execution_count": 4,
     "metadata": {},
     "output_type": "execute_result"
    }
   ],
   "source": [
    "response.data"
   ]
  },
  {
   "cell_type": "code",
   "execution_count": 5,
   "id": "c997183c-8bb3-409e-891a-cd8f347c2084",
   "metadata": {},
   "outputs": [],
   "source": [
    "const newPost = {\n",
    "  title: 'My New Post',\n",
    "  body: 'This is the body of the post.',\n",
    "  userId: 1\n",
    "};\n",
    "\n",
    "const response = await axios.post('https://jsonplaceholder.typicode.com/posts', newPost);"
   ]
  },
  {
   "cell_type": "code",
   "execution_count": 6,
   "id": "07dea274-fd5d-4c7c-b8fd-eaccf754270e",
   "metadata": {},
   "outputs": [
    {
     "data": {
      "text/plain": [
       "{\n",
       "  title: \u001b[32m\"My New Post\"\u001b[39m,\n",
       "  body: \u001b[32m\"This is the body of the post.\"\u001b[39m,\n",
       "  userId: \u001b[33m1\u001b[39m,\n",
       "  id: \u001b[33m101\u001b[39m\n",
       "}"
      ]
     },
     "execution_count": 6,
     "metadata": {},
     "output_type": "execute_result"
    }
   ],
   "source": [
    "response.data"
   ]
  },
  {
   "cell_type": "code",
   "execution_count": 7,
   "id": "bf380412-ea4f-423d-aba2-d1cb31ebb3b2",
   "metadata": {},
   "outputs": [],
   "source": [
    "const updatedPost = {\n",
    "  id: 1,\n",
    "  title: 'Updated Title',\n",
    "  body: 'Completely new body content.',\n",
    "  userId: 1\n",
    "};\n",
    "\n",
    "const response = await axios.put('https://jsonplaceholder.typicode.com/posts/1', updatedPost);"
   ]
  },
  {
   "cell_type": "code",
   "execution_count": 8,
   "id": "6e2cfc5e-a175-4dec-a564-f1e43151c97e",
   "metadata": {},
   "outputs": [
    {
     "data": {
      "text/plain": [
       "{\n",
       "  id: \u001b[33m1\u001b[39m,\n",
       "  title: \u001b[32m\"Updated Title\"\u001b[39m,\n",
       "  body: \u001b[32m\"Completely new body content.\"\u001b[39m,\n",
       "  userId: \u001b[33m1\u001b[39m\n",
       "}"
      ]
     },
     "execution_count": 8,
     "metadata": {},
     "output_type": "execute_result"
    }
   ],
   "source": [
    "response.data"
   ]
  },
  {
   "cell_type": "code",
   "execution_count": 9,
   "id": "0a9cbd8e-1add-4782-9212-276407694c1c",
   "metadata": {},
   "outputs": [],
   "source": [
    "const partialUpdate = {\n",
    "  title: 'Partially Updated Title'\n",
    "};\n",
    "\n",
    "const response = await axios.patch('https://jsonplaceholder.typicode.com/posts/1', partialUpdate);"
   ]
  },
  {
   "cell_type": "code",
   "execution_count": 11,
   "id": "c8df038f-c193-47fc-947b-a7efc0a777ad",
   "metadata": {},
   "outputs": [
    {
     "data": {
      "text/plain": [
       "{\n",
       "  userId: \u001b[33m1\u001b[39m,\n",
       "  id: \u001b[33m1\u001b[39m,\n",
       "  title: \u001b[32m\"Partially Updated Title\"\u001b[39m,\n",
       "  body: \u001b[32m\"quia et suscipit\\n\"\u001b[39m +\n",
       "    \u001b[32m\"suscipit recusandae consequuntur expedita et cum\\n\"\u001b[39m +\n",
       "    \u001b[32m\"reprehenderit molestiae ut ut quas totam\\n\"\u001b[39m +\n",
       "    \u001b[32m\"nostrum rerum est autem sunt rem eveniet architecto\"\u001b[39m\n",
       "}"
      ]
     },
     "execution_count": 11,
     "metadata": {},
     "output_type": "execute_result"
    }
   ],
   "source": [
    "response.data"
   ]
  },
  {
   "cell_type": "code",
   "execution_count": 12,
   "id": "3bd14b68-b12d-4eac-b840-5d08c5ba9bb7",
   "metadata": {},
   "outputs": [],
   "source": [
    "const response = await axios.delete('https://jsonplaceholder.typicode.com/posts/1');"
   ]
  },
  {
   "cell_type": "code",
   "execution_count": 13,
   "id": "d57defde-7ddd-4ecc-9714-920e457c33b4",
   "metadata": {},
   "outputs": [
    {
     "data": {
      "text/plain": [
       "\u001b[33m200\u001b[39m"
      ]
     },
     "execution_count": 13,
     "metadata": {},
     "output_type": "execute_result"
    }
   ],
   "source": [
    "response.status"
   ]
  }
 ],
 "metadata": {
  "kernelspec": {
   "display_name": "Deno",
   "language": "typescript",
   "name": "deno"
  },
  "language_info": {
   "codemirror_mode": "typescript",
   "file_extension": ".ts",
   "mimetype": "text/x.typescript",
   "name": "typescript",
   "nbconvert_exporter": "script",
   "pygments_lexer": "typescript",
   "version": "5.7.3"
  }
 },
 "nbformat": 4,
 "nbformat_minor": 5
}
