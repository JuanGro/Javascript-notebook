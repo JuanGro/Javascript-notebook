{
 "cells": [
  {
   "cell_type": "markdown",
   "id": "2a626500-b385-4145-9141-da1fa498908f",
   "metadata": {},
   "source": [
    "# Numbers"
   ]
  },
  {
   "cell_type": "markdown",
   "id": "3d9a39c4-bee0-4026-8e42-54c87e0c1853",
   "metadata": {},
   "source": [
    "Every number is a Float, JS doesn't know special Integer types."
   ]
  },
  {
   "cell_type": "code",
   "execution_count": 1,
   "id": "fbe6b404-0a72-4a29-8e24-6488ea5243d6",
   "metadata": {},
   "outputs": [
    {
     "data": {
      "text/plain": [
       "\u001b[33m9007199254740991\u001b[39m"
      ]
     },
     "execution_count": 1,
     "metadata": {},
     "output_type": "execute_result"
    }
   ],
   "source": [
    "Number.MAX_SAFE_INTEGER;"
   ]
  },
  {
   "cell_type": "code",
   "execution_count": 3,
   "id": "9156ba24-0f56-4577-9697-d511b41287b3",
   "metadata": {},
   "outputs": [
    {
     "data": {
      "text/plain": [
       "\u001b[33m9007199254740991\u001b[39m"
      ]
     },
     "execution_count": 3,
     "metadata": {},
     "output_type": "execute_result"
    }
   ],
   "source": [
    "Math.pow(2, 53) - 1"
   ]
  },
  {
   "cell_type": "code",
   "execution_count": 4,
   "id": "760570ef-b0ee-4db4-99fb-918c02a1738b",
   "metadata": {},
   "outputs": [
    {
     "data": {
      "text/plain": [
       "\u001b[33m9007199254740992\u001b[39m"
      ]
     },
     "execution_count": 4,
     "metadata": {},
     "output_type": "execute_result"
    }
   ],
   "source": [
    "Math.pow(2, 53)"
   ]
  },
  {
   "cell_type": "code",
   "execution_count": 5,
   "id": "3212b4c3-96cb-4564-bf48-ae090a3307ac",
   "metadata": {},
   "outputs": [
    {
     "data": {
      "text/plain": [
       "\u001b[33m9007199254740992\u001b[39m"
      ]
     },
     "execution_count": 5,
     "metadata": {},
     "output_type": "execute_result"
    }
   ],
   "source": [
    "Math.pow(2, 53) + 1"
   ]
  },
  {
   "cell_type": "code",
   "execution_count": 6,
   "id": "c615e364-2fb6-405e-84c7-60677e2c702d",
   "metadata": {},
   "outputs": [
    {
     "data": {
      "text/plain": [
       "\u001b[33m1.7976931348623157e+308\u001b[39m"
      ]
     },
     "execution_count": 6,
     "metadata": {},
     "output_type": "execute_result"
    }
   ],
   "source": [
    "Number.MAX_VALUE"
   ]
  },
  {
   "cell_type": "code",
   "execution_count": 8,
   "id": "e7726eb1-6162-4000-8952-b9d49958a1a5",
   "metadata": {},
   "outputs": [
    {
     "data": {
      "text/plain": [
       "\u001b[33m-9007199254740991\u001b[39m"
      ]
     },
     "execution_count": 8,
     "metadata": {},
     "output_type": "execute_result"
    }
   ],
   "source": [
    "Number.MIN_SAFE_INTEGER"
   ]
  },
  {
   "cell_type": "code",
   "execution_count": 9,
   "id": "0cfb914f-55c8-4ec9-aca4-aeee58a6025c",
   "metadata": {},
   "outputs": [
    {
     "data": {
      "text/plain": [
       "\u001b[33m0.6000000000000001\u001b[39m"
      ]
     },
     "execution_count": 9,
     "metadata": {},
     "output_type": "execute_result"
    }
   ],
   "source": [
    "0.2 + 0.4"
   ]
  },
  {
   "cell_type": "code",
   "execution_count": 10,
   "id": "840a0711-2bc5-454e-84ec-f60a9e5ca35a",
   "metadata": {},
   "outputs": [
    {
     "data": {
      "text/plain": [
       "\u001b[33mfalse\u001b[39m"
      ]
     },
     "execution_count": 10,
     "metadata": {},
     "output_type": "execute_result"
    }
   ],
   "source": [
    "0.2 + 0.4 === 0.6"
   ]
  },
  {
   "cell_type": "code",
   "execution_count": 11,
   "id": "3b060522-3adf-410a-adf8-3e543bef82be",
   "metadata": {},
   "outputs": [
    {
     "data": {
      "text/plain": [
       "\u001b[33m0.4\u001b[39m"
      ]
     },
     "execution_count": 11,
     "metadata": {},
     "output_type": "execute_result"
    }
   ],
   "source": [
    "2 / 5"
   ]
  },
  {
   "cell_type": "code",
   "execution_count": 12,
   "id": "9c097078-bcbb-4a52-8bea-f5cf4cdf8f1f",
   "metadata": {},
   "outputs": [
    {
     "data": {
      "text/plain": [
       "\u001b[33m0.3333333333333333\u001b[39m"
      ]
     },
     "execution_count": 12,
     "metadata": {},
     "output_type": "execute_result"
    }
   ],
   "source": [
    "1 / 3"
   ]
  },
  {
   "cell_type": "code",
   "execution_count": 13,
   "id": "4b6d0789-537a-41ee-ace8-f42fb32c78cf",
   "metadata": {},
   "outputs": [
    {
     "data": {
      "text/plain": [
       "\u001b[32m\"1\"\u001b[39m"
      ]
     },
     "execution_count": 13,
     "metadata": {},
     "output_type": "execute_result"
    }
   ],
   "source": [
    "(1).toString(2);"
   ]
  },
  {
   "cell_type": "code",
   "execution_count": 14,
   "id": "fdd24d65-edea-42c6-8dbf-8a1caf2b8a97",
   "metadata": {},
   "outputs": [
    {
     "data": {
      "text/plain": [
       "\u001b[32m\"101\"\u001b[39m"
      ]
     },
     "execution_count": 14,
     "metadata": {},
     "output_type": "execute_result"
    }
   ],
   "source": [
    "(5).toString(2);"
   ]
  },
  {
   "cell_type": "code",
   "execution_count": 15,
   "id": "9c158d5f-aa33-44c7-aa89-b7ce83a60bf1",
   "metadata": {},
   "outputs": [
    {
     "data": {
      "text/plain": [
       "\u001b[32m\"0.001100110011001100110011001100110011001100110011001101\"\u001b[39m"
      ]
     },
     "execution_count": 15,
     "metadata": {},
     "output_type": "execute_result"
    }
   ],
   "source": [
    "(1 / 5).toString(2);"
   ]
  },
  {
   "cell_type": "code",
   "execution_count": 16,
   "id": "d41a0b89-d169-467b-a919-755d0dd78dbe",
   "metadata": {},
   "outputs": [
    {
     "data": {
      "text/plain": [
       "\u001b[32m\"0.001100110011001100110011001100110011001100110011001101\"\u001b[39m"
      ]
     },
     "execution_count": 16,
     "metadata": {},
     "output_type": "execute_result"
    }
   ],
   "source": [
    "(0.2).toString(2);"
   ]
  },
  {
   "cell_type": "code",
   "execution_count": 17,
   "id": "e78c9377-bfef-4c11-8362-90cdc7cc1652",
   "metadata": {},
   "outputs": [
    {
     "data": {
      "text/plain": [
       "\u001b[33m1\u001b[39m"
      ]
     },
     "execution_count": 17,
     "metadata": {},
     "output_type": "execute_result"
    }
   ],
   "source": [
    "1/3 + 1/3 + 1/3"
   ]
  },
  {
   "cell_type": "code",
   "execution_count": 18,
   "id": "2675be8a-28bc-45cd-b3db-a932ae73f1ce",
   "metadata": {},
   "outputs": [
    {
     "data": {
      "text/plain": [
       "\u001b[33m0.2\u001b[39m"
      ]
     },
     "execution_count": 18,
     "metadata": {},
     "output_type": "execute_result"
    }
   ],
   "source": [
    "0.2"
   ]
  },
  {
   "cell_type": "code",
   "execution_count": 19,
   "id": "399f77bd-8804-4152-a67a-ac75db67d175",
   "metadata": {},
   "outputs": [
    {
     "data": {
      "text/plain": [
       "\u001b[32m\"0.001100110011001100110011001100110011001100110011001101\"\u001b[39m"
      ]
     },
     "execution_count": 19,
     "metadata": {},
     "output_type": "execute_result"
    }
   ],
   "source": [
    "0.2.toString(2)"
   ]
  },
  {
   "cell_type": "code",
   "execution_count": 20,
   "id": "c190a9a0-f6df-4880-a6eb-2ca8cfbb2fb0",
   "metadata": {},
   "outputs": [
    {
     "data": {
      "text/plain": [
       "\u001b[32m\"0.20000000000000001110\"\u001b[39m"
      ]
     },
     "execution_count": 20,
     "metadata": {},
     "output_type": "execute_result"
    }
   ],
   "source": [
    "0.2.toFixed(20);"
   ]
  },
  {
   "cell_type": "code",
   "execution_count": 22,
   "id": "48e4c985-e3f2-4a86-8e45-00eb57a86149",
   "metadata": {},
   "outputs": [
    {
     "data": {
      "text/plain": [
       "\u001b[32m\"0.60\"\u001b[39m"
      ]
     },
     "execution_count": 22,
     "metadata": {},
     "output_type": "execute_result"
    }
   ],
   "source": [
    "(0.2 + 0.4).toFixed(2);"
   ]
  },
  {
   "cell_type": "code",
   "execution_count": 23,
   "id": "eb29c92a-af33-4267-8aa7-78c8851dbd5f",
   "metadata": {},
   "outputs": [
    {
     "data": {
      "text/plain": [
       "\u001b[32m\"20.19999999999999928946\"\u001b[39m"
      ]
     },
     "execution_count": 23,
     "metadata": {},
     "output_type": "execute_result"
    }
   ],
   "source": [
    "20.2.toFixed(20);"
   ]
  },
  {
   "cell_type": "code",
   "execution_count": 24,
   "id": "112bec9a-ccac-4cb6-ad62-d8471fd98060",
   "metadata": {},
   "outputs": [
    {
     "data": {
      "text/plain": [
       "\u001b[33m9007199254740991\u001b[39m"
      ]
     },
     "execution_count": 24,
     "metadata": {},
     "output_type": "execute_result"
    }
   ],
   "source": [
    "Number.MAX_SAFE_INTEGER;"
   ]
  },
  {
   "cell_type": "code",
   "execution_count": 25,
   "id": "ffadd42e-35ea-4b30-b092-1e7a9226b9b5",
   "metadata": {},
   "outputs": [
    {
     "data": {
      "text/plain": [
       "\u001b[33m90071992547409919n\u001b[39m"
      ]
     },
     "execution_count": 25,
     "metadata": {},
     "output_type": "execute_result"
    }
   ],
   "source": [
    "90071992547409919n"
   ]
  },
  {
   "cell_type": "code",
   "execution_count": 26,
   "id": "dca7b792-b8af-478f-94e2-f95c7224f18e",
   "metadata": {},
   "outputs": [
    {
     "data": {
      "text/plain": [
       "\u001b[33m9007199254740991324801209089123n\u001b[39m"
      ]
     },
     "execution_count": 26,
     "metadata": {},
     "output_type": "execute_result"
    }
   ],
   "source": [
    "9007199254740991324801209089123n"
   ]
  },
  {
   "cell_type": "code",
   "execution_count": 27,
   "id": "c7de50bd-e4bb-4812-a4b0-039204be9c39",
   "metadata": {},
   "outputs": [
    {
     "data": {
      "text/plain": [
       "\u001b[33m-900719925474099143280934092n\u001b[39m"
      ]
     },
     "execution_count": 27,
     "metadata": {},
     "output_type": "execute_result"
    }
   ],
   "source": [
    "-900719925474099143280934092n"
   ]
  },
  {
   "cell_type": "code",
   "execution_count": 28,
   "id": "9baaab6a-7ad4-4718-aa69-7d53345a0e14",
   "metadata": {},
   "outputs": [
    {
     "data": {
      "text/plain": [
       "\u001b[33m-890071992547409912193120n\u001b[39m"
      ]
     },
     "execution_count": 28,
     "metadata": {},
     "output_type": "execute_result"
    }
   ],
   "source": [
    "-890071992547409912193120n"
   ]
  },
  {
   "cell_type": "code",
   "execution_count": 29,
   "id": "0e1aea3b-9184-47dc-9a3b-170b1d036441",
   "metadata": {},
   "outputs": [
    {
     "data": {
      "text/plain": [
       "\u001b[33m6n\u001b[39m"
      ]
     },
     "execution_count": 29,
     "metadata": {},
     "output_type": "execute_result"
    }
   ],
   "source": [
    "10n - 4n"
   ]
  },
  {
   "cell_type": "code",
   "execution_count": 30,
   "id": "393d2787-f51e-4d19-a38e-3c6a355d4e6a",
   "metadata": {},
   "outputs": [
    {
     "ename": "TypeError",
     "evalue": "Cannot mix BigInt and other types, use explicit conversions",
     "output_type": "error",
     "traceback": [
      "Stack trace:",
      "TypeError: Cannot mix BigInt and other types, use explicit conversions",
      "    at <anonymous>:1:26"
     ]
    }
   ],
   "source": [
    "10n - 4"
   ]
  },
  {
   "cell_type": "code",
   "execution_count": 31,
   "id": "7e5d1c5d-c5e9-4986-94a4-6763dbc7be3c",
   "metadata": {},
   "outputs": [
    {
     "data": {
      "text/plain": [
       "\u001b[33m30n\u001b[39m"
      ]
     },
     "execution_count": 31,
     "metadata": {},
     "output_type": "execute_result"
    }
   ],
   "source": [
    "10n * 3n"
   ]
  },
  {
   "cell_type": "code",
   "execution_count": 32,
   "id": "792c674f-d88e-4545-8c21-c735c9b43800",
   "metadata": {},
   "outputs": [
    {
     "data": {
      "text/plain": [
       "\u001b[33m5n\u001b[39m"
      ]
     },
     "execution_count": 32,
     "metadata": {},
     "output_type": "execute_result"
    }
   ],
   "source": [
    "10n / 2n"
   ]
  },
  {
   "cell_type": "code",
   "execution_count": 33,
   "id": "08dec5ec-786a-4acb-aa3d-5cbf07c67cb7",
   "metadata": {},
   "outputs": [
    {
     "data": {
      "text/plain": [
       "\u001b[33m2n\u001b[39m"
      ]
     },
     "execution_count": 33,
     "metadata": {},
     "output_type": "execute_result"
    }
   ],
   "source": [
    "5n / 2n"
   ]
  },
  {
   "cell_type": "code",
   "execution_count": 34,
   "id": "2ad9ac6c-197f-4469-bc76-2de9fb220e26",
   "metadata": {},
   "outputs": [
    {
     "data": {
      "text/plain": [
       "\u001b[33mInfinity\u001b[39m"
      ]
     },
     "execution_count": 34,
     "metadata": {},
     "output_type": "execute_result"
    }
   ],
   "source": [
    "Number.POSITIVE_INFINITY"
   ]
  },
  {
   "cell_type": "code",
   "execution_count": 35,
   "id": "5e618dba-7ffe-4181-a910-6774c064168b",
   "metadata": {},
   "outputs": [
    {
     "data": {
      "text/plain": [
       "\u001b[33mInfinity\u001b[39m"
      ]
     },
     "execution_count": 35,
     "metadata": {},
     "output_type": "execute_result"
    }
   ],
   "source": [
    "Infinity"
   ]
  },
  {
   "cell_type": "code",
   "execution_count": 36,
   "id": "079d717e-a4f6-45f2-beef-f198b58947c5",
   "metadata": {},
   "outputs": [
    {
     "data": {
      "text/plain": [
       "\u001b[33m-Infinity\u001b[39m"
      ]
     },
     "execution_count": 36,
     "metadata": {},
     "output_type": "execute_result"
    }
   ],
   "source": [
    "-Infinity"
   ]
  },
  {
   "cell_type": "code",
   "execution_count": 37,
   "id": "f74a0d3e-6fa1-4016-a184-31cd799370d4",
   "metadata": {},
   "outputs": [
    {
     "data": {
      "text/plain": [
       "\u001b[33mInfinity\u001b[39m"
      ]
     },
     "execution_count": 37,
     "metadata": {},
     "output_type": "execute_result"
    }
   ],
   "source": [
    "1/0"
   ]
  },
  {
   "cell_type": "code",
   "execution_count": 38,
   "id": "5c0d38b9-77a9-42e2-8c0e-10e159e901b6",
   "metadata": {},
   "outputs": [
    {
     "data": {
      "text/plain": [
       "\u001b[33mtrue\u001b[39m"
      ]
     },
     "execution_count": 38,
     "metadata": {},
     "output_type": "execute_result"
    }
   ],
   "source": [
    "Number.isFinite(10)"
   ]
  },
  {
   "cell_type": "code",
   "execution_count": 39,
   "id": "98e692c9-201e-48ca-970e-cda1ba7f1049",
   "metadata": {},
   "outputs": [
    {
     "data": {
      "text/plain": [
       "\u001b[33mfalse\u001b[39m"
      ]
     },
     "execution_count": 39,
     "metadata": {},
     "output_type": "execute_result"
    }
   ],
   "source": [
    "Number.isFinite(1/0)"
   ]
  },
  {
   "cell_type": "code",
   "execution_count": 40,
   "id": "2254983d-3caa-4bab-a04c-e27cbf1af7ef",
   "metadata": {},
   "outputs": [
    {
     "data": {
      "text/plain": [
       "\u001b[33m0.2811475362781656\u001b[39m"
      ]
     },
     "execution_count": 40,
     "metadata": {},
     "output_type": "execute_result"
    }
   ],
   "source": [
    "Math.random()"
   ]
  },
  {
   "cell_type": "code",
   "execution_count": 46,
   "id": "71f696c9-b44e-4bf3-b13d-33f58870f895",
   "metadata": {},
   "outputs": [],
   "source": [
    "function randomIntBetween(min, max) {\n",
    "    return Math.floor(Math.random() * (max - min + 1) + min);\n",
    "}"
   ]
  },
  {
   "cell_type": "code",
   "execution_count": 64,
   "id": "81743f48-9608-447a-90c3-719357afc9b3",
   "metadata": {},
   "outputs": [
    {
     "data": {
      "text/plain": [
       "\u001b[33m7\u001b[39m"
      ]
     },
     "execution_count": 64,
     "metadata": {},
     "output_type": "execute_result"
    }
   ],
   "source": [
    "randomIntBetween(5, 10);"
   ]
  }
 ],
 "metadata": {
  "kernelspec": {
   "display_name": "Deno",
   "language": "typescript",
   "name": "deno"
  },
  "language_info": {
   "codemirror_mode": "typescript",
   "file_extension": ".ts",
   "mimetype": "text/x.typescript",
   "name": "typescript",
   "nbconvert_exporter": "script",
   "pygments_lexer": "typescript",
   "version": "5.7.3"
  }
 },
 "nbformat": 4,
 "nbformat_minor": 5
}
