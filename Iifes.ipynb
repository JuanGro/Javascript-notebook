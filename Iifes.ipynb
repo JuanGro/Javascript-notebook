{
 "cells": [
  {
   "cell_type": "markdown",
   "id": "cd799d00-4524-49b9-976e-931b78896acb",
   "metadata": {},
   "source": [
    "# IIFEs (Immediately Invoked Function Expression)"
   ]
  },
  {
   "cell_type": "markdown",
   "id": "8707615d-a21b-4be2-9b15-900816d49501",
   "metadata": {},
   "source": [
    "Please note that the snippet uses var, NOT let or const. Remember that var does NOT use block scope but only differ between global and function scope.\n",
    "\n",
    "As a consequence, it was hard to control where variables were available - variables outside of function always were available globally. Well, IIFEs solve that problem since the script (or parts of it) essentially are wrapped in a function => Function scope is used.\n",
    "\n",
    "Nowadays, this is not really required anymore. With let and const we got block scope and if you want to restrict where variables are available (outside of functions, if statements, for loops etc - where you automatically have scoped variables since these structures create blocks), you can simply wrap the code that should have scoped variables with {}."
   ]
  },
  {
   "cell_type": "code",
   "execution_count": 1,
   "id": "2e347ff0-e4fa-48ff-b328-23389a9119cc",
   "metadata": {},
   "outputs": [
    {
     "name": "stdout",
     "output_type": "stream",
     "text": [
      "\u001b[33m30\u001b[39m\n"
     ]
    }
   ],
   "source": [
    "(function() {\n",
    "    var age = 30;\n",
    "    console.log(age); // 30\n",
    "})()"
   ]
  },
  {
   "cell_type": "code",
   "execution_count": 2,
   "id": "f5d01f57-94c7-4094-944f-7f6b42a95ab0",
   "metadata": {},
   "outputs": [
    {
     "ename": "ReferenceError",
     "evalue": "age is not defined",
     "output_type": "error",
     "traceback": [
      "Stack trace:",
      "ReferenceError: age is not defined",
      "    at <anonymous>:1:22"
     ]
    }
   ],
   "source": [
    "age"
   ]
  },
  {
   "cell_type": "code",
   "execution_count": 3,
   "id": "8f7b29e9-0260-4649-b361-00fefb1fdb74",
   "metadata": {},
   "outputs": [],
   "source": [
    "function printAge () {\n",
    "    var age = 20;\n",
    "    console.log(age);\n",
    "}"
   ]
  },
  {
   "cell_type": "code",
   "execution_count": 4,
   "id": "063ee267-c5ec-4209-a9f5-f0044c31f19d",
   "metadata": {},
   "outputs": [
    {
     "ename": "ReferenceError",
     "evalue": "age is not defined",
     "output_type": "error",
     "traceback": [
      "Stack trace:",
      "ReferenceError: age is not defined",
      "    at <anonymous>:1:22"
     ]
    }
   ],
   "source": [
    "age"
   ]
  },
  {
   "cell_type": "code",
   "execution_count": 5,
   "id": "831d0b8f-52ab-409c-b829-53c2afb05aa9",
   "metadata": {},
   "outputs": [
    {
     "name": "stdout",
     "output_type": "stream",
     "text": [
      "\u001b[33m20\u001b[39m\n"
     ]
    }
   ],
   "source": [
    "printAge();"
   ]
  },
  {
   "cell_type": "code",
   "execution_count": 6,
   "id": "c51320ee-b010-47cf-9cf8-6e59d0b2fd40",
   "metadata": {},
   "outputs": [
    {
     "ename": "ReferenceError",
     "evalue": "age is not defined",
     "output_type": "error",
     "traceback": [
      "Stack trace:",
      "ReferenceError: age is not defined",
      "    at <anonymous>:1:22"
     ]
    }
   ],
   "source": [
    "age"
   ]
  },
  {
   "cell_type": "code",
   "execution_count": null,
   "id": "c0a6bd6d-c697-4471-88bc-0a659d933868",
   "metadata": {},
   "outputs": [],
   "source": []
  }
 ],
 "metadata": {
  "kernelspec": {
   "display_name": "Deno",
   "language": "typescript",
   "name": "deno"
  },
  "language_info": {
   "codemirror_mode": "typescript",
   "file_extension": ".ts",
   "mimetype": "text/x.typescript",
   "name": "typescript",
   "nbconvert_exporter": "script",
   "pygments_lexer": "typescript",
   "version": "5.7.3"
  }
 },
 "nbformat": 4,
 "nbformat_minor": 5
}
