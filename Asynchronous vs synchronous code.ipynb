{
 "cells": [
  {
   "cell_type": "markdown",
   "id": "ff9846f5-b15d-4ce4-9fc9-60ab423dd86d",
   "metadata": {},
   "source": [
    "# Asynchronous vs synchronous code"
   ]
  },
  {
   "cell_type": "markdown",
   "id": "d3d6e9da-3157-4aee-bce2-d5db5494ecc7",
   "metadata": {},
   "source": [
    "First the synchronous code is executed and then the asynchronous code"
   ]
  },
  {
   "cell_type": "code",
   "execution_count": 1,
   "id": "8bda9bc9-a05e-4787-b2a5-af17b0ea9871",
   "metadata": {},
   "outputs": [
    {
     "name": "stdout",
     "output_type": "stream",
     "text": [
      "Hi from JS stack\n",
      "Hi from setTimeout\n"
     ]
    }
   ],
   "source": [
    "setTimeout(() => {\n",
    "    console.log('Hi from setTimeout');\n",
    "}, 0);\n",
    "console.log('Hi from JS stack');"
   ]
  },
  {
   "cell_type": "code",
   "execution_count": 4,
   "id": "679172b8-0d06-4315-8fb0-5211856c6fa7",
   "metadata": {},
   "outputs": [
    {
     "name": "stdout",
     "output_type": "stream",
     "text": [
      "Hi from JS stack\n",
      "Hi from setTimeout\n",
      "Hi from setTimeout 2\n",
      "Hi from setTimeout 3\n",
      "Hi from setTimeout 4\n",
      "Hi from setTimeout 5\n"
     ]
    }
   ],
   "source": [
    "setTimeout(() => {\n",
    "    console.log('Hi from setTimeout');\n",
    "}, 0);\n",
    "setTimeout(() => {\n",
    "    console.log('Hi from setTimeout 2');\n",
    "}, 0);\n",
    "setTimeout(() => {\n",
    "    console.log('Hi from setTimeout 3');\n",
    "}, 0);\n",
    "setTimeout(() => {\n",
    "    console.log('Hi from setTimeout 4');\n",
    "}, 0);\n",
    "setTimeout(() => {\n",
    "    console.log('Hi from setTimeout 5');\n",
    "}, 0);\n",
    "console.log('Hi from JS stack');"
   ]
  },
  {
   "cell_type": "code",
   "execution_count": 9,
   "id": "62d309a1-60f6-468f-b699-c24485e9012a",
   "metadata": {},
   "outputs": [],
   "source": [
    "function delayedPromise() {\n",
    "  return new Promise((resolve) => {\n",
    "    setTimeout(() => {\n",
    "      console.log(\"⏳ Promise resolved!\");\n",
    "      resolve();\n",
    "    }, 1000);\n",
    "  });\n",
    "}"
   ]
  },
  {
   "cell_type": "code",
   "execution_count": 10,
   "id": "c30f8bf3-b295-4346-b90f-5f765fa5948c",
   "metadata": {},
   "outputs": [],
   "source": [
    "async function test() {\n",
    "  await delayedPromise();\n",
    "  console.log(\"✅ This runs after the promise is done\");\n",
    "}"
   ]
  },
  {
   "cell_type": "code",
   "execution_count": 11,
   "id": "3293ca0d-e507-493a-9dda-db34f7f67bbf",
   "metadata": {},
   "outputs": [
    {
     "data": {
      "text/plain": [
       "Promise { \u001b[36m<pending>\u001b[39m }"
      ]
     },
     "execution_count": 11,
     "metadata": {},
     "output_type": "execute_result"
    },
    {
     "name": "stdout",
     "output_type": "stream",
     "text": [
      "⏳ Promise resolved!\n",
      "✅ This runs after the promise is done\n"
     ]
    }
   ],
   "source": [
    "test();"
   ]
  }
 ],
 "metadata": {
  "kernelspec": {
   "display_name": "Deno",
   "language": "typescript",
   "name": "deno"
  },
  "language_info": {
   "codemirror_mode": "typescript",
   "file_extension": ".ts",
   "mimetype": "text/x.typescript",
   "name": "typescript",
   "nbconvert_exporter": "script",
   "pygments_lexer": "typescript",
   "version": "5.7.3"
  }
 },
 "nbformat": 4,
 "nbformat_minor": 5
}
