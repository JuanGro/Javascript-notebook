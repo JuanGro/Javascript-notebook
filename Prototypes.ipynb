{
 "cells": [
  {
   "cell_type": "markdown",
   "id": "778c9122-2e20-49f2-bc30-13d1141df88d",
   "metadata": {},
   "source": [
    "# Prototypes"
   ]
  },
  {
   "cell_type": "code",
   "execution_count": 1,
   "id": "21b24d08-675c-4de7-aba0-05a8e5b44c8d",
   "metadata": {},
   "outputs": [],
   "source": [
    "function Person() {}"
   ]
  },
  {
   "cell_type": "code",
   "execution_count": 2,
   "id": "8e8d609f-01e3-430a-9479-b3b89dda051a",
   "metadata": {},
   "outputs": [
    {
     "data": {
      "text/plain": [
       "{ age: \u001b[33m30\u001b[39m, printAge: \u001b[36m[Function: printAge]\u001b[39m }"
      ]
     },
     "execution_count": 2,
     "metadata": {},
     "output_type": "execute_result"
    }
   ],
   "source": [
    "Person.prototype = {\n",
    "    age: 30,\n",
    "    printAge() {\n",
    "        console.log(`This is the age: ${this.age}`);\n",
    "    }\n",
    "};"
   ]
  },
  {
   "cell_type": "code",
   "execution_count": 3,
   "id": "0d7e3478-e4e0-4afa-8f9d-64c1c85b5ba4",
   "metadata": {},
   "outputs": [
    {
     "data": {
      "text/plain": [
       "{}"
      ]
     },
     "execution_count": 3,
     "metadata": {},
     "output_type": "execute_result"
    }
   ],
   "source": [
    "const person = new Person();\n",
    "person"
   ]
  },
  {
   "cell_type": "code",
   "execution_count": 4,
   "id": "438aecf4-90b4-41da-b690-2e650e368da4",
   "metadata": {},
   "outputs": [
    {
     "name": "stdout",
     "output_type": "stream",
     "text": [
      "This is the age: 30\n"
     ]
    }
   ],
   "source": [
    "person.printAge();"
   ]
  },
  {
   "cell_type": "code",
   "execution_count": 5,
   "id": "b65f062e-d6f7-4ef9-8937-9effdfe6882a",
   "metadata": {},
   "outputs": [
    {
     "data": {
      "text/plain": [
       "\u001b[33mfalse\u001b[39m"
      ]
     },
     "execution_count": 5,
     "metadata": {},
     "output_type": "execute_result"
    }
   ],
   "source": [
    "person.__proto__ === Person.prototype;"
   ]
  },
  {
   "cell_type": "code",
   "execution_count": 7,
   "id": "f5f199f0-4bd0-43ed-bf80-b22b9063357a",
   "metadata": {},
   "outputs": [
    {
     "data": {
      "text/plain": [
       "\u001b[33mtrue\u001b[39m"
      ]
     },
     "execution_count": 7,
     "metadata": {},
     "output_type": "execute_result"
    }
   ],
   "source": [
    "person.__proto__ === Person.__proto__;"
   ]
  },
  {
   "cell_type": "code",
   "execution_count": 8,
   "id": "e52483b1-33cc-405f-8b4f-30a16a572f88",
   "metadata": {},
   "outputs": [],
   "source": [
    "person.__proto__;"
   ]
  },
  {
   "cell_type": "code",
   "execution_count": 11,
   "id": "c84c70dc-1462-4586-bef6-074404b175bf",
   "metadata": {},
   "outputs": [
    {
     "data": {
      "text/plain": [
       "\u001b[32m\"[object Object]\"\u001b[39m"
      ]
     },
     "execution_count": 11,
     "metadata": {},
     "output_type": "execute_result"
    }
   ],
   "source": [
    "person.toString(); // It also includes the Object prototype"
   ]
  },
  {
   "cell_type": "code",
   "execution_count": 19,
   "id": "64313147-347e-44b7-94f4-4d9416b6562a",
   "metadata": {},
   "outputs": [
    {
     "data": {
      "text/plain": [
       "\u001b[36m[Function: Object]\u001b[39m"
      ]
     },
     "execution_count": 19,
     "metadata": {},
     "output_type": "execute_result"
    }
   ],
   "source": [
    "Object"
   ]
  },
  {
   "cell_type": "code",
   "execution_count": 21,
   "id": "41736ad3-c246-4dd0-a58a-d06044881c4b",
   "metadata": {},
   "outputs": [
    {
     "data": {
      "text/plain": [
       "[Object: null prototype] {}"
      ]
     },
     "execution_count": 21,
     "metadata": {},
     "output_type": "execute_result"
    }
   ],
   "source": [
    "Object.prototype;"
   ]
  },
  {
   "cell_type": "code",
   "execution_count": 29,
   "id": "bf05bdb4-2230-4b4e-add9-01d52944a333",
   "metadata": {},
   "outputs": [],
   "source": [
    "Object.__proto__;"
   ]
  },
  {
   "cell_type": "code",
   "execution_count": 30,
   "id": "40e229bd-b7ee-4347-a22f-9a0c87fa5da1",
   "metadata": {},
   "outputs": [
    {
     "data": {
      "text/plain": [
       "{ age: \u001b[33m30\u001b[39m, printAge: \u001b[36m[Function: printAge]\u001b[39m }"
      ]
     },
     "execution_count": 30,
     "metadata": {},
     "output_type": "execute_result"
    }
   ],
   "source": [
    "Object.getPrototypeOf(person);"
   ]
  },
  {
   "cell_type": "code",
   "execution_count": 32,
   "id": "0f94832d-cb46-4cad-a5d6-cef03c046e56",
   "metadata": {},
   "outputs": [
    {
     "data": {
      "text/plain": [
       "{}"
      ]
     },
     "execution_count": 32,
     "metadata": {},
     "output_type": "execute_result"
    }
   ],
   "source": [
    "Object.getPrototypeOf(Object);"
   ]
  },
  {
   "cell_type": "code",
   "execution_count": 34,
   "id": "f573e5e7-d534-49b3-9c78-4ed0fdc45c97",
   "metadata": {},
   "outputs": [
    {
     "data": {
      "text/plain": [
       "{}"
      ]
     },
     "execution_count": 34,
     "metadata": {},
     "output_type": "execute_result"
    }
   ],
   "source": [
    "Object.setPrototypeOf(person, {});"
   ]
  },
  {
   "cell_type": "code",
   "execution_count": 35,
   "id": "480bed7a-d5b0-4c0b-b1dc-dac486c558ff",
   "metadata": {},
   "outputs": [
    {
     "ename": "TypeError",
     "evalue": "person.printAge is not a function",
     "output_type": "error",
     "traceback": [
      "Stack trace:",
      "TypeError: person.printAge is not a function",
      "    at <anonymous>:1:29"
     ]
    }
   ],
   "source": [
    "person.printAge();"
   ]
  },
  {
   "cell_type": "code",
   "execution_count": 37,
   "id": "84009cfd-7cd7-454d-b6aa-73095c55bbe9",
   "metadata": {},
   "outputs": [
    {
     "data": {
      "text/plain": [
       "{}"
      ]
     },
     "execution_count": 37,
     "metadata": {},
     "output_type": "execute_result"
    }
   ],
   "source": [
    "Object.setPrototypeOf(person, {\n",
    "    age: 30,\n",
    "    printAge() {\n",
    "        console.log(`This is the age: ${this.age}`);\n",
    "    }\n",
    "});"
   ]
  },
  {
   "cell_type": "code",
   "execution_count": 39,
   "id": "1747f3df-045c-4e1d-afb6-2bdaf483a07b",
   "metadata": {},
   "outputs": [
    {
     "name": "stdout",
     "output_type": "stream",
     "text": [
      "This is the age: 30\n"
     ]
    }
   ],
   "source": [
    "person.printAge();"
   ]
  },
  {
   "cell_type": "code",
   "execution_count": 40,
   "id": "7224754e-951b-4a51-b3ac-110d3bddcc46",
   "metadata": {},
   "outputs": [
    {
     "name": "stdout",
     "output_type": "stream",
     "text": [
      "\u001b[33mtrue\u001b[39m\n"
     ]
    }
   ],
   "source": [
    "const animal = {\n",
    "  eats: true,\n",
    "};\n",
    "\n",
    "const dog = Object.create(animal); // Sets animal as prototype of dog\n",
    "\n",
    "console.log(dog.eats); // true — from prototype"
   ]
  },
  {
   "cell_type": "markdown",
   "id": "a47caa56-edd6-4b6f-9d1f-2c8f0516f972",
   "metadata": {},
   "source": [
    "## Prototype Chain\n",
    "dog → animal → Object.prototype → null\n",
    "\n",
    "So when you do dog.eats, JS checks:\n",
    "\n",
    "dog — not found\n",
    "\n",
    "dog.__proto__ (animal) — found!"
   ]
  }
 ],
 "metadata": {
  "kernelspec": {
   "display_name": "Deno",
   "language": "typescript",
   "name": "deno"
  },
  "language_info": {
   "codemirror_mode": "typescript",
   "file_extension": ".ts",
   "mimetype": "text/x.typescript",
   "name": "typescript",
   "nbconvert_exporter": "script",
   "pygments_lexer": "typescript",
   "version": "5.7.3"
  }
 },
 "nbformat": 4,
 "nbformat_minor": 5
}
