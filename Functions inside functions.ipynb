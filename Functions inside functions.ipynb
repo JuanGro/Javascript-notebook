{
 "cells": [
  {
   "cell_type": "markdown",
   "id": "9580c4aa-3c16-47ba-8e13-eb986ef28510",
   "metadata": {},
   "source": [
    "# Functions inside functions"
   ]
  },
  {
   "cell_type": "code",
   "execution_count": 10,
   "id": "bca5f32b-1f1f-4c25-9bba-ef975ef513ce",
   "metadata": {},
   "outputs": [],
   "source": [
    "const sumUp = (...numbers) => {\n",
    "    const validateNumber = number => isNaN(number) ? 0 : number;\n",
    "\n",
    "    let sum = 0;\n",
    "    for (const num of numbers) {\n",
    "        sum += validateNumber(num);\n",
    "    }\n",
    "    return sum;\n",
    "}"
   ]
  },
  {
   "cell_type": "code",
   "execution_count": 11,
   "id": "7f299846-6b1d-460f-8f2f-e6a28ff7aecd",
   "metadata": {},
   "outputs": [
    {
     "data": {
      "text/plain": [
       "\u001b[33m15\u001b[39m"
      ]
     },
     "execution_count": 11,
     "metadata": {},
     "output_type": "execute_result"
    }
   ],
   "source": [
    "sumUp(1, 2, 3, 4, 5);"
   ]
  },
  {
   "cell_type": "code",
   "execution_count": 12,
   "id": "aea5fdb1-c2aa-4c97-9c87-8561488047d8",
   "metadata": {},
   "outputs": [
    {
     "data": {
      "text/plain": [
       "\u001b[33m10\u001b[39m"
      ]
     },
     "execution_count": 12,
     "metadata": {},
     "output_type": "execute_result"
    }
   ],
   "source": [
    "sumUp(1, false, 2, 3, 4);"
   ]
  },
  {
   "cell_type": "code",
   "execution_count": 13,
   "id": "75e81009-06f3-452e-8d70-f84ce99a6469",
   "metadata": {},
   "outputs": [
    {
     "data": {
      "text/plain": [
       "\u001b[33m11\u001b[39m"
      ]
     },
     "execution_count": 13,
     "metadata": {},
     "output_type": "execute_result"
    }
   ],
   "source": [
    "sumUp(1, true, 2, 3, 4);"
   ]
  },
  {
   "cell_type": "code",
   "execution_count": 15,
   "id": "1cb678ee-68db-4a3a-a6db-40e68636ba46",
   "metadata": {},
   "outputs": [
    {
     "data": {
      "text/plain": [
       "\u001b[33m10\u001b[39m"
      ]
     },
     "execution_count": 15,
     "metadata": {},
     "output_type": "execute_result"
    }
   ],
   "source": [
    "sumUp(1, 'fdsa', 2, 3, 4);"
   ]
  },
  {
   "cell_type": "code",
   "execution_count": 16,
   "id": "a0edeb2f-e268-435f-8485-8baba139be29",
   "metadata": {},
   "outputs": [
    {
     "data": {
      "text/plain": [
       "\u001b[32m\"1234\"\u001b[39m"
      ]
     },
     "execution_count": 16,
     "metadata": {},
     "output_type": "execute_result"
    }
   ],
   "source": [
    "sumUp(1, '', 2, 3, 4);"
   ]
  }
 ],
 "metadata": {
  "kernelspec": {
   "display_name": "Deno",
   "language": "typescript",
   "name": "deno"
  },
  "language_info": {
   "codemirror_mode": "typescript",
   "file_extension": ".ts",
   "mimetype": "text/x.typescript",
   "name": "typescript",
   "nbconvert_exporter": "script",
   "pygments_lexer": "typescript",
   "version": "5.7.3"
  }
 },
 "nbformat": 4,
 "nbformat_minor": 5
}
