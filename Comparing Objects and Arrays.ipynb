{
 "cells": [
  {
   "cell_type": "markdown",
   "id": "03ee77a4-e51f-4962-b235-ca60947028b7",
   "metadata": {},
   "source": [
    "# Comparing Objects and Arrays"
   ]
  },
  {
   "cell_type": "code",
   "execution_count": 2,
   "id": "c41b2b67-8a27-47ae-b372-50df8a2ee932",
   "metadata": {},
   "outputs": [],
   "source": [
    "const person1 = { name: 'Max' };"
   ]
  },
  {
   "cell_type": "code",
   "execution_count": 3,
   "id": "8f26b480-b12d-4693-85dc-1942a80edb5d",
   "metadata": {},
   "outputs": [],
   "source": [
    "const person2 = { name: 'Max' };"
   ]
  },
  {
   "cell_type": "code",
   "execution_count": 4,
   "id": "c9ecaf15-b1cf-4185-aeda-0199972b3470",
   "metadata": {},
   "outputs": [
    {
     "data": {
      "text/plain": [
       "\u001b[33mfalse\u001b[39m"
      ]
     },
     "execution_count": 4,
     "metadata": {},
     "output_type": "execute_result"
    }
   ],
   "source": [
    "person1 == person2"
   ]
  },
  {
   "cell_type": "code",
   "execution_count": 5,
   "id": "2e2e1f61-07df-441e-96c9-be8b6281a2ab",
   "metadata": {},
   "outputs": [
    {
     "data": {
      "text/plain": [
       "\u001b[33mfalse\u001b[39m"
      ]
     },
     "execution_count": 5,
     "metadata": {},
     "output_type": "execute_result"
    }
   ],
   "source": [
    "person1 === person2"
   ]
  },
  {
   "cell_type": "code",
   "execution_count": 6,
   "id": "c7fffb41-d07d-4e68-9a9a-a06bd60d6e65",
   "metadata": {},
   "outputs": [],
   "source": [
    "const hobbies = ['Sports', 'Cooking'];"
   ]
  },
  {
   "cell_type": "code",
   "execution_count": 7,
   "id": "50b06168-4c9e-4088-8131-2fd6b3f76651",
   "metadata": {},
   "outputs": [],
   "source": [
    "const moreHobbies = ['Sports', 'Cooking'];"
   ]
  },
  {
   "cell_type": "code",
   "execution_count": 8,
   "id": "2f823572-9bd5-43fe-b4dd-cefd1d4b996e",
   "metadata": {},
   "outputs": [
    {
     "data": {
      "text/plain": [
       "\u001b[33mfalse\u001b[39m"
      ]
     },
     "execution_count": 8,
     "metadata": {},
     "output_type": "execute_result"
    }
   ],
   "source": [
    "hobbies === moreHobbies"
   ]
  },
  {
   "cell_type": "code",
   "execution_count": 10,
   "id": "2445ab98-5703-4644-a331-55d8c6919a31",
   "metadata": {},
   "outputs": [
    {
     "data": {
      "text/plain": [
       "\u001b[33mfalse\u001b[39m"
      ]
     },
     "execution_count": 10,
     "metadata": {},
     "output_type": "execute_result"
    }
   ],
   "source": [
    "hobbies == moreHobbies"
   ]
  },
  {
   "cell_type": "code",
   "execution_count": 11,
   "id": "d8906c78-670c-48f5-84cf-39282755a814",
   "metadata": {},
   "outputs": [],
   "source": [
    "function objectsEqual(obj1, obj2) {\n",
    "  const keys1 = Object.keys(obj1);\n",
    "  const keys2 = Object.keys(obj2);\n",
    "  if (keys1.length !== keys2.length) return false;\n",
    "\n",
    "  return keys1.every(key => obj1[key] === obj2[key]);\n",
    "}"
   ]
  },
  {
   "cell_type": "code",
   "execution_count": 12,
   "id": "f73f782c-20f7-42b2-b81c-582b21a694c0",
   "metadata": {},
   "outputs": [
    {
     "data": {
      "text/plain": [
       "\u001b[33mtrue\u001b[39m"
      ]
     },
     "execution_count": 12,
     "metadata": {},
     "output_type": "execute_result"
    }
   ],
   "source": [
    "objectsEqual(person1, person2);"
   ]
  },
  {
   "cell_type": "code",
   "execution_count": 13,
   "id": "2a74dff8-f99d-4d9d-9cd2-0beb03f28acb",
   "metadata": {},
   "outputs": [],
   "source": [
    "function arraysEqual(arr1, arr2) {\n",
    "  if (arr1.length !== arr2.length) return false;\n",
    "  return arr1.every((val, index) => val === arr2[index]);\n",
    "}"
   ]
  },
  {
   "cell_type": "code",
   "execution_count": 14,
   "id": "d292498d-4017-47b9-998e-0bee318da155",
   "metadata": {},
   "outputs": [
    {
     "data": {
      "text/plain": [
       "\u001b[33mtrue\u001b[39m"
      ]
     },
     "execution_count": 14,
     "metadata": {},
     "output_type": "execute_result"
    }
   ],
   "source": [
    "arraysEqual(hobbies, moreHobbies);"
   ]
  }
 ],
 "metadata": {
  "kernelspec": {
   "display_name": "Deno",
   "language": "typescript",
   "name": "deno"
  },
  "language_info": {
   "codemirror_mode": "typescript",
   "file_extension": ".ts",
   "mimetype": "text/x.typescript",
   "name": "typescript",
   "nbconvert_exporter": "script",
   "pygments_lexer": "typescript",
   "version": "5.7.3"
  }
 },
 "nbformat": 4,
 "nbformat_minor": 5
}
