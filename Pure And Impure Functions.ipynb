{
 "cells": [
  {
   "cell_type": "markdown",
   "id": "d4931f23-1f6f-4729-8259-059a7d6bed5c",
   "metadata": {},
   "source": [
    "# Pure and impure functions"
   ]
  },
  {
   "cell_type": "markdown",
   "id": "1f9d5adb-7c09-41e2-9b61-5ee9bd5985d2",
   "metadata": {},
   "source": [
    "✅ Pure if:\n",
    "\n",
    "It always returns the same output for the same input.\n",
    "\n",
    "It has no side effects (doesn’t modify anything outside itself).\n",
    "\n",
    "❌ Impure if:\n",
    "\n",
    "It produces different results with the same inputs.\n",
    "\n",
    "It modifies external state or relies on it."
   ]
  },
  {
   "cell_type": "code",
   "execution_count": 1,
   "id": "574acfb5-5e55-4f51-bb6a-36547c959cf2",
   "metadata": {},
   "outputs": [],
   "source": [
    "function add(num1, num2) {\n",
    "    return num1 + num2;\n",
    "}"
   ]
  },
  {
   "cell_type": "code",
   "execution_count": 2,
   "id": "5149b721-32cc-4365-a340-bb92dbcc221b",
   "metadata": {},
   "outputs": [
    {
     "data": {
      "text/plain": [
       "\u001b[33m6\u001b[39m"
      ]
     },
     "execution_count": 2,
     "metadata": {},
     "output_type": "execute_result"
    }
   ],
   "source": [
    "add(1, 5);"
   ]
  },
  {
   "cell_type": "code",
   "execution_count": 16,
   "id": "ba160ee8-0346-4f57-be0c-0690fcbe571b",
   "metadata": {},
   "outputs": [
    {
     "data": {
      "text/plain": [
       "\u001b[33m27\u001b[39m"
      ]
     },
     "execution_count": 16,
     "metadata": {},
     "output_type": "execute_result"
    }
   ],
   "source": [
    "add(12, 15);"
   ]
  },
  {
   "cell_type": "markdown",
   "id": "03f3d752-2157-42ed-85a6-5ba767697eac",
   "metadata": {},
   "source": [
    "🧠 This function:\n",
    "\n",
    "Always returns the same result for the same input.\n",
    "\n",
    "Doesn’t change anything outside of itself.\n",
    "\n",
    "✅ Pure"
   ]
  },
  {
   "cell_type": "markdown",
   "id": "ce18ccb1-99cf-4fe3-9526-987d3ed33ea6",
   "metadata": {},
   "source": [
    "❌ Impure Function: Random Values"
   ]
  },
  {
   "cell_type": "code",
   "execution_count": 4,
   "id": "9c036039-aa53-4dcb-a101-dfb825b07857",
   "metadata": {},
   "outputs": [],
   "source": [
    "function addRandom(num1) {\n",
    "    return num1 + Math.random();\n",
    "}"
   ]
  },
  {
   "cell_type": "code",
   "execution_count": 5,
   "id": "79c3e738-379e-4a6e-9404-8ac0583ea645",
   "metadata": {},
   "outputs": [
    {
     "data": {
      "text/plain": [
       "\u001b[33m5.935736599889153\u001b[39m"
      ]
     },
     "execution_count": 5,
     "metadata": {},
     "output_type": "execute_result"
    }
   ],
   "source": [
    "addRandom(5);"
   ]
  },
  {
   "cell_type": "code",
   "execution_count": 17,
   "id": "954ac1da-ea0b-4264-a457-f9aa0598e663",
   "metadata": {},
   "outputs": [
    {
     "data": {
      "text/plain": [
       "\u001b[33m5.899296627451436\u001b[39m"
      ]
     },
     "execution_count": 17,
     "metadata": {},
     "output_type": "execute_result"
    }
   ],
   "source": [
    "addRandom(5);"
   ]
  },
  {
   "cell_type": "markdown",
   "id": "4fbead78-6ce9-4a0f-a9bd-6abf2b539ae3",
   "metadata": {},
   "source": [
    "🧠 This function:\n",
    "\n",
    "Returns different results for the same input.\n",
    "\n",
    "✅ Depends on something external (Math.random)\n",
    "\n",
    "❌ Impure"
   ]
  },
  {
   "cell_type": "markdown",
   "id": "49587aac-c540-4b96-b42f-7c440e77f023",
   "metadata": {},
   "source": [
    "❌ Impure Function: Modifies External Variable"
   ]
  },
  {
   "cell_type": "code",
   "execution_count": 7,
   "id": "94ecc285-dd2b-43de-b57a-d14a74d288ea",
   "metadata": {},
   "outputs": [],
   "source": [
    "let previousResult = 0;\n",
    "\n",
    "function addMoreNumbers(num1, num2) {\n",
    "    const sum = num1 + num2;\n",
    "    previousResult = sum;\n",
    "    return sum;\n",
    "}"
   ]
  },
  {
   "cell_type": "code",
   "execution_count": 8,
   "id": "a717bcf2-ceba-4f70-a39d-21a6e6d8cc9a",
   "metadata": {},
   "outputs": [
    {
     "data": {
      "text/plain": [
       "\u001b[33m6\u001b[39m"
      ]
     },
     "execution_count": 8,
     "metadata": {},
     "output_type": "execute_result"
    }
   ],
   "source": [
    "addMoreNumbers(1, 5);"
   ]
  },
  {
   "cell_type": "code",
   "execution_count": 18,
   "id": "04818b58-f5bd-4955-9a09-0bfed40b725c",
   "metadata": {},
   "outputs": [
    {
     "data": {
      "text/plain": [
       "\u001b[33m6\u001b[39m"
      ]
     },
     "execution_count": 18,
     "metadata": {},
     "output_type": "execute_result"
    }
   ],
   "source": [
    "previousResult"
   ]
  },
  {
   "cell_type": "markdown",
   "id": "f1a40ddf-531a-4e75-956f-96604da7f1ab",
   "metadata": {},
   "source": [
    "🧠 Why is it impure?\n",
    "\n",
    "Changes the value of a variable outside the function.\n",
    "\n",
    "This is a side effect.\n",
    "\n",
    "❌ Impure"
   ]
  },
  {
   "cell_type": "markdown",
   "id": "6e62fbff-7626-4556-b1f7-203f536dacaa",
   "metadata": {},
   "source": [
    "❌ Impure Function: Mutates Input + Logs Output"
   ]
  },
  {
   "cell_type": "code",
   "execution_count": 12,
   "id": "64aa5e4b-ced1-4ae2-bd2e-02a8865a4e05",
   "metadata": {},
   "outputs": [],
   "source": [
    "const hobbies = ['Sports', 'Cooking'];"
   ]
  },
  {
   "cell_type": "code",
   "execution_count": 15,
   "id": "df749271-b4ac-47ac-8229-dcb7cadcea90",
   "metadata": {},
   "outputs": [],
   "source": [
    "function printHobbies(h) {\n",
    "    h.push('New hobby');   // ❌ modifies input\n",
    "    console.log(h);        // ❌ side effect (console output)\n",
    "}"
   ]
  },
  {
   "cell_type": "code",
   "execution_count": 14,
   "id": "6fe3335b-0ca7-46d8-ae41-0fc210c15716",
   "metadata": {},
   "outputs": [
    {
     "name": "stdout",
     "output_type": "stream",
     "text": [
      "[ \u001b[32m\"Sports\"\u001b[39m, \u001b[32m\"Cooking\"\u001b[39m, \u001b[32m\"New hobby\"\u001b[39m ]\n"
     ]
    }
   ],
   "source": [
    "printHobbies(hobbies);"
   ]
  },
  {
   "cell_type": "markdown",
   "id": "caa9f931-2f1f-4913-ac36-d4d139dbd06a",
   "metadata": {},
   "source": [
    "🧠 Problems:\n",
    "\n",
    "✅ The original array is modified\n",
    "\n",
    "✅ It logs to the console (side effect)\n",
    "\n",
    "❌ Doesn’t return a value\n",
    "\n",
    "❌ Impure"
   ]
  },
  {
   "cell_type": "markdown",
   "id": "b3825bf7-c38f-4987-8bad-23e6832b9a37",
   "metadata": {},
   "source": [
    "✅ Best Practices\n",
    "\n",
    "Prefer pure functions when possible — they are easier to test and debug.\n",
    "\n",
    "Avoid modifying inputs (no mutation).\n",
    "\n",
    "Avoid using or changing global variables.\n",
    "\n",
    "Keep side effects outside of logic functions (like in a separate controller or UI handler)."
   ]
  }
 ],
 "metadata": {
  "kernelspec": {
   "display_name": "Deno",
   "language": "typescript",
   "name": "deno"
  },
  "language_info": {
   "codemirror_mode": "typescript",
   "file_extension": ".ts",
   "mimetype": "text/x.typescript",
   "name": "typescript",
   "nbconvert_exporter": "script",
   "pygments_lexer": "typescript",
   "version": "5.7.3"
  }
 },
 "nbformat": 4,
 "nbformat_minor": 5
}
