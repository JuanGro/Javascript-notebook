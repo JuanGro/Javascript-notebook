{
 "cells": [
  {
   "cell_type": "markdown",
   "id": "a1e5ae75-adec-42f7-8006-9deeb8a8fdb5",
   "metadata": {},
   "source": [
    "# Bind(), call(), and apply()"
   ]
  },
  {
   "cell_type": "markdown",
   "id": "d496603d-dcf5-4279-bf11-2c85517327e3",
   "metadata": {},
   "source": [
    "## bind()"
   ]
  },
  {
   "cell_type": "code",
   "execution_count": 1,
   "id": "77927cad-c485-472b-aff3-ac269df760ab",
   "metadata": {},
   "outputs": [],
   "source": [
    "const combine = (resultHandler, operation, ...numbers) => {\n",
    "    const validateNumber = number => {\n",
    "        return isNaN(number) ? 0 : number;\n",
    "    };\n",
    "\n",
    "    let sum = 0;\n",
    "    for (const num of numbers) {\n",
    "        if (operation === 'ADD') {\n",
    "            sum += validateNumber(num);\n",
    "        } else {\n",
    "            sum -= validateNumber(num);\n",
    "        }\n",
    "    }\n",
    "    resultHandler(sum);\n",
    "};"
   ]
  },
  {
   "cell_type": "code",
   "execution_count": 2,
   "id": "b1b6369a-5642-4654-b59b-7442bc5302c8",
   "metadata": {},
   "outputs": [],
   "source": [
    "const showResult = (messageText, result) => {\n",
    "    console.log(messageText + ' ' + result);\n",
    "};"
   ]
  },
  {
   "cell_type": "code",
   "execution_count": 5,
   "id": "261544c4-90a5-40cf-8ed1-dcffb3e9f003",
   "metadata": {},
   "outputs": [
    {
     "name": "stdout",
     "output_type": "stream",
     "text": [
      "The result after adding all numbers is: 15\n"
     ]
    }
   ],
   "source": [
    "combine(showResult.bind(this, 'The result after adding all numbers is:'), 'ADD', 1, 5, 9);"
   ]
  },
  {
   "cell_type": "code",
   "execution_count": 8,
   "id": "f6f1d27a-3691-449e-83c1-4a298c709e4c",
   "metadata": {},
   "outputs": [
    {
     "name": "stdout",
     "output_type": "stream",
     "text": [
      "Alice, your meal is: Pasta\n",
      "Alice, your meal is: Salad\n",
      "Bob, your meal is: Steak\n"
     ]
    }
   ],
   "source": [
    "// This is the original function — like a waiter calling out name and dish\n",
    "function showMeal(name, dish) {\n",
    "  console.log(`${name}, your meal is: ${dish}`);\n",
    "}\n",
    "\n",
    "// We know Alice is coming, but we don't know her dish yet.\n",
    "// So we pre-fill her name using bind:\n",
    "const aliceMeal = showMeal.bind(this, 'Alice');\n",
    "\n",
    "// Later, when we know what she's having:\n",
    "aliceMeal('Pasta');       // Output: Alice, your meal is: Pasta\n",
    "aliceMeal('Salad');       // Output: Alice, your meal is: Salad\n",
    "\n",
    "// Now let's do the same for Bob\n",
    "const bobMeal = showMeal.bind(this, 'Bob');\n",
    "\n",
    "bobMeal('Steak');         // Output: Bob, your meal is: Steak"
   ]
  },
  {
   "cell_type": "markdown",
   "id": "0fae3c36-42af-4055-a180-c3234454b9e3",
   "metadata": {},
   "source": [
    "When might bind() come in handy?\n",
    "In situations where you want to \"pre-configure\" a function's arguments, when you're not calling the function on your own."
   ]
  },
  {
   "cell_type": "code",
   "execution_count": 9,
   "id": "f6f70379-89f0-4bd5-9e34-743cae8ee1fb",
   "metadata": {},
   "outputs": [
    {
     "name": "stdout",
     "output_type": "stream",
     "text": [
      "Hello, Sam\n"
     ]
    }
   ],
   "source": [
    "function sayHello(name) {\n",
    "  console.log('Hello, ' + name);\n",
    "}\n",
    "\n",
    "// Use bind to create a new function with name fixed as 'Sam'\n",
    "const sayHelloToSam = sayHello.bind(null, 'Sam');\n",
    "\n",
    "sayHelloToSam(); // Output: Hello, Sam"
   ]
  },
  {
   "cell_type": "code",
   "execution_count": 10,
   "id": "8faabbdb-935f-4f9c-993d-c33655242d88",
   "metadata": {},
   "outputs": [
    {
     "name": "stdout",
     "output_type": "stream",
     "text": [
      "\u001b[33m10\u001b[39m\n",
      "\u001b[33m20\u001b[39m\n"
     ]
    }
   ],
   "source": [
    "function multiply(a, b) {\n",
    "  console.log(a * b);\n",
    "}\n",
    "\n",
    "const double = multiply.bind(null, 2); // Fix `a` as 2\n",
    "\n",
    "double(5); // Output: 10\n",
    "double(10); // Output: 20"
   ]
  },
  {
   "cell_type": "code",
   "execution_count": 11,
   "id": "72e4619a-56f8-460d-9aa6-9ce42225cc3b",
   "metadata": {},
   "outputs": [
    {
     "name": "stdout",
     "output_type": "stream",
     "text": [
      "[ERROR] Something went wrong!\n",
      "[SUCCESS] Operation completed!\n"
     ]
    }
   ],
   "source": [
    "function logMessage(type, message) {\n",
    "  console.log(`[${type}] ${message}`);\n",
    "}\n",
    "\n",
    "const logError = logMessage.bind(null, 'ERROR');\n",
    "const logSuccess = logMessage.bind(null, 'SUCCESS');\n",
    "\n",
    "logError('Something went wrong!');     // [ERROR] Something went wrong!\n",
    "logSuccess('Operation completed!');    // [SUCCESS] Operation completed!"
   ]
  },
  {
   "cell_type": "markdown",
   "id": "885bc6be-2378-495e-827a-d5dd56251b7a",
   "metadata": {},
   "source": [
    "```const newFunction = originalFunction.bind(thisArg, arg1, arg2, ...);```\n",
    "- thisArg is usually null unless you're dealing with objects and classes.\n",
    "- arg1, arg2, etc., are the values you're pre-setting.\n",
    "- The result is a new function that takes the remaining arguments."
   ]
  },
  {
   "cell_type": "markdown",
   "id": "371c3162-0a0c-41d8-a0c0-1280baa76553",
   "metadata": {},
   "source": [
    "## call()"
   ]
  },
  {
   "cell_type": "code",
   "execution_count": 1,
   "id": "3baa601e-29ba-4626-a435-f14d97b36e06",
   "metadata": {},
   "outputs": [],
   "source": [
    "function greet(greeting, punctuation) {\n",
    "  console.log(`${greeting}, ${this.name}${punctuation}`);\n",
    "}"
   ]
  },
  {
   "cell_type": "code",
   "execution_count": null,
   "id": "4e24796e-6c76-471e-a056-f3627df2e191",
   "metadata": {},
   "outputs": [],
   "source": [
    "const person = { name: \"Alice\" };"
   ]
  },
  {
   "cell_type": "code",
   "execution_count": null,
   "id": "c839b808-36c3-4c14-90c8-8ff5de4bff98",
   "metadata": {},
   "outputs": [],
   "source": [
    "greet.call(person, \"Hello\", \"!\");"
   ]
  },
  {
   "cell_type": "markdown",
   "id": "843b7067-84b2-406f-a38f-5ee1627d06f7",
   "metadata": {},
   "source": [
    "## apply()"
   ]
  },
  {
   "cell_type": "code",
   "execution_count": null,
   "id": "af038d5a-e333-40b9-92f6-7d3d1c6fa697",
   "metadata": {},
   "outputs": [],
   "source": [
    "function greet(greeting, punctuation) {\n",
    "  console.log(`${greeting}, ${this.name}${punctuation}`);\n",
    "}"
   ]
  },
  {
   "cell_type": "code",
   "execution_count": null,
   "id": "5221127b-f50b-4062-8c78-1e0984a5d09d",
   "metadata": {},
   "outputs": [],
   "source": [
    "const person = { name: \"Bob\" };"
   ]
  },
  {
   "cell_type": "code",
   "execution_count": null,
   "id": "6e791cc9-4885-4f55-b608-ffb83d8abe08",
   "metadata": {},
   "outputs": [],
   "source": [
    "greet.apply(person, [\"Hi\", \"?\"]);"
   ]
  },
  {
   "cell_type": "code",
   "execution_count": null,
   "id": "beec9202-5024-4841-bfbc-ed9544382dd8",
   "metadata": {},
   "outputs": [],
   "source": []
  }
 ],
 "metadata": {
  "kernelspec": {
   "display_name": "Deno",
   "language": "typescript",
   "name": "deno"
  },
  "language_info": {
   "codemirror_mode": "typescript",
   "file_extension": ".ts",
   "mimetype": "text/x.typescript",
   "name": "typescript",
   "nbconvert_exporter": "script",
   "pygments_lexer": "typescript",
   "version": "5.7.3"
  }
 },
 "nbformat": 4,
 "nbformat_minor": 5
}
