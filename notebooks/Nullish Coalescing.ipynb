{
 "cells": [
  {
   "cell_type": "markdown",
   "id": "fc9eee39-5fec-43cd-9436-d856fa291646",
   "metadata": {},
   "source": [
    "# Nullish Coalescing"
   ]
  },
  {
   "cell_type": "code",
   "execution_count": 1,
   "id": "b84fe2a5-e41d-4d0f-91d2-4930e6666441",
   "metadata": {},
   "outputs": [
    {
     "data": {
      "text/plain": [
       "\u001b[32m\"Hi\"\u001b[39m"
      ]
     },
     "execution_count": 1,
     "metadata": {},
     "output_type": "execute_result"
    }
   ],
   "source": [
    "undefined ?? 'Hi'"
   ]
  },
  {
   "cell_type": "code",
   "execution_count": 2,
   "id": "ea609f44-352f-4f9f-8084-6150f31955af",
   "metadata": {},
   "outputs": [
    {
     "data": {
      "text/plain": [
       "\u001b[32m\"Hi\"\u001b[39m"
      ]
     },
     "execution_count": 2,
     "metadata": {},
     "output_type": "execute_result"
    }
   ],
   "source": [
    "null ?? 'Hi'"
   ]
  },
  {
   "cell_type": "code",
   "execution_count": 3,
   "id": "d458e870-0770-4354-b252-f15d35ab7472",
   "metadata": {},
   "outputs": [
    {
     "data": {
      "text/plain": [
       "\u001b[33mfalse\u001b[39m"
      ]
     },
     "execution_count": 3,
     "metadata": {},
     "output_type": "execute_result"
    }
   ],
   "source": [
    "false ?? 'Hi'"
   ]
  },
  {
   "cell_type": "code",
   "execution_count": 4,
   "id": "1850768e-17f1-406d-863f-9b6e8b8c1751",
   "metadata": {},
   "outputs": [
    {
     "data": {
      "text/plain": [
       "\u001b[33m0\u001b[39m"
      ]
     },
     "execution_count": 4,
     "metadata": {},
     "output_type": "execute_result"
    }
   ],
   "source": [
    "0 ?? 'Hi'"
   ]
  },
  {
   "cell_type": "code",
   "execution_count": 5,
   "id": "dd967423-5a5c-4a2a-b462-5ba1cc50c322",
   "metadata": {},
   "outputs": [
    {
     "data": {
      "text/plain": [
       "\u001b[33mNaN\u001b[39m"
      ]
     },
     "execution_count": 5,
     "metadata": {},
     "output_type": "execute_result"
    }
   ],
   "source": [
    "NaN ?? 'Hi'"
   ]
  },
  {
   "cell_type": "code",
   "execution_count": 7,
   "id": "02f7b0b2-c5bc-4de7-8779-f9c72c35732e",
   "metadata": {},
   "outputs": [
    {
     "data": {
      "text/plain": [
       "\u001b[32m\"Hey\"\u001b[39m"
      ]
     },
     "execution_count": 7,
     "metadata": {},
     "output_type": "execute_result"
    }
   ],
   "source": [
    "'Hey' ?? 'Hi'"
   ]
  },
  {
   "cell_type": "code",
   "execution_count": 9,
   "id": "6d8e8ac9-740b-4df9-8658-6c53be9939cb",
   "metadata": {},
   "outputs": [
    {
     "data": {
      "text/plain": [
       "\u001b[32m\"Hi\"\u001b[39m"
      ]
     },
     "execution_count": 9,
     "metadata": {},
     "output_type": "execute_result"
    }
   ],
   "source": [
    "false || 'Hi'"
   ]
  },
  {
   "cell_type": "code",
   "execution_count": 10,
   "id": "791b86ed-f932-4b45-9424-9b06f989e43a",
   "metadata": {},
   "outputs": [
    {
     "data": {
      "text/plain": [
       "\u001b[1mnull\u001b[22m"
      ]
     },
     "execution_count": 10,
     "metadata": {},
     "output_type": "execute_result"
    }
   ],
   "source": [
    "null && 'hi'"
   ]
  },
  {
   "cell_type": "code",
   "execution_count": 12,
   "id": "c702148a-f425-456b-8230-277bc35ef2c6",
   "metadata": {},
   "outputs": [],
   "source": [
    "undefined && 'hi'"
   ]
  },
  {
   "cell_type": "code",
   "execution_count": 14,
   "id": "33bb694f-a92d-44f1-b3bd-914f1529a3ff",
   "metadata": {},
   "outputs": [
    {
     "data": {
      "text/plain": [
       "\u001b[33mfalse\u001b[39m"
      ]
     },
     "execution_count": 14,
     "metadata": {},
     "output_type": "execute_result"
    }
   ],
   "source": [
    "false && 'hi'"
   ]
  },
  {
   "cell_type": "code",
   "execution_count": 16,
   "id": "f800e861-029d-4a2d-bf40-a6ad5a2da24e",
   "metadata": {},
   "outputs": [
    {
     "data": {
      "text/plain": [
       "\u001b[33m0\u001b[39m"
      ]
     },
     "execution_count": 16,
     "metadata": {},
     "output_type": "execute_result"
    }
   ],
   "source": [
    "0 && 'hi'"
   ]
  },
  {
   "cell_type": "code",
   "execution_count": 19,
   "id": "3ca567dd-efd5-42b6-99c8-71b90931882d",
   "metadata": {},
   "outputs": [
    {
     "data": {
      "text/plain": [
       "\u001b[32m\"Hi\"\u001b[39m"
      ]
     },
     "execution_count": 19,
     "metadata": {},
     "output_type": "execute_result"
    }
   ],
   "source": [
    "true && 'Hi'"
   ]
  },
  {
   "cell_type": "markdown",
   "id": "623b1503-f1b1-4f54-9f86-0e959b67b012",
   "metadata": {},
   "source": [
    "| Expression                       | Condition                        | Returns |\n",
    "| -------------------------------- | -------------------------------- | ------- |\n",
    "| `A && B`                         | If `A` is **truthy**             | `B`     |\n",
    "| `A && B`                         | If `A` is **falsy**              | `A`     |\n",
    "| `A OR B` | If `A` is **truthy**             | `A`     |\n",
    "| `A OR B` | If `A` is **falsy**              | `B`     |\n",
    "| `A ?? B`                         | If `A` is **not null/undefined** | `A`     |\n",
    "| `A ?? B`                         | If `A` **is null/undefined**     | `B`     |\n"
   ]
  }
 ],
 "metadata": {
  "kernelspec": {
   "display_name": "Deno",
   "language": "typescript",
   "name": "deno"
  },
  "language_info": {
   "codemirror_mode": "typescript",
   "file_extension": ".ts",
   "mimetype": "text/x.typescript",
   "name": "typescript",
   "nbconvert_exporter": "script",
   "pygments_lexer": "typescript",
   "version": "5.7.3"
  }
 },
 "nbformat": 4,
 "nbformat_minor": 5
}
