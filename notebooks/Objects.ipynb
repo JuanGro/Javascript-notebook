{
 "cells": [
  {
   "cell_type": "markdown",
   "id": "63652bb1-8d5d-4563-a4da-7e828ab4f092",
   "metadata": {},
   "source": [
    "# Objects"
   ]
  },
  {
   "cell_type": "code",
   "execution_count": 1,
   "id": "847924e8-74a9-4fdb-aec6-d2244932b9b3",
   "metadata": {},
   "outputs": [
    {
     "data": {
      "text/plain": [
       "{}"
      ]
     },
     "execution_count": 1,
     "metadata": {},
     "output_type": "execute_result"
    }
   ],
   "source": [
    "new Object(); // Slower than just {}"
   ]
  },
  {
   "cell_type": "code",
   "execution_count": 4,
   "id": "63bd69ad-26fb-4d4f-8b5e-735ea64782f3",
   "metadata": {},
   "outputs": [],
   "source": [
    "const person = {\n",
    "    name: 'Max',\n",
    "    age: 30,\n",
    "    hobbies: ['Sports', 'Cooking'],\n",
    "    greet: function() {\n",
    "        console.log('Hi there!');\n",
    "    }\n",
    "};"
   ]
  },
  {
   "cell_type": "code",
   "execution_count": 5,
   "id": "2b760bf4-3a16-4c59-bd9c-751c4229d275",
   "metadata": {},
   "outputs": [
    {
     "data": {
      "text/plain": [
       "{\n",
       "  name: \u001b[32m\"Max\"\u001b[39m,\n",
       "  age: \u001b[33m30\u001b[39m,\n",
       "  hobbies: [ \u001b[32m\"Sports\"\u001b[39m, \u001b[32m\"Cooking\"\u001b[39m ],\n",
       "  greet: \u001b[36m[Function: greet]\u001b[39m\n",
       "}"
      ]
     },
     "execution_count": 5,
     "metadata": {},
     "output_type": "execute_result"
    }
   ],
   "source": [
    "person"
   ]
  },
  {
   "cell_type": "code",
   "execution_count": 6,
   "id": "8c0b46ff-734e-467a-bbe6-eea500c7999d",
   "metadata": {},
   "outputs": [
    {
     "name": "stdout",
     "output_type": "stream",
     "text": [
      "Hi there!\n"
     ]
    }
   ],
   "source": [
    "person.greet();"
   ]
  },
  {
   "cell_type": "code",
   "execution_count": 7,
   "id": "e75a2880-7140-4e85-b3bd-554b1eaba41f",
   "metadata": {},
   "outputs": [
    {
     "data": {
      "text/plain": [
       "\u001b[33mtrue\u001b[39m"
      ]
     },
     "execution_count": 7,
     "metadata": {},
     "output_type": "execute_result"
    }
   ],
   "source": [
    "person.isAdmin = true;"
   ]
  },
  {
   "cell_type": "code",
   "execution_count": 8,
   "id": "a8cfa414-4902-476b-8721-4daa4a4e48be",
   "metadata": {},
   "outputs": [
    {
     "data": {
      "text/plain": [
       "{\n",
       "  name: \u001b[32m\"Max\"\u001b[39m,\n",
       "  age: \u001b[33m30\u001b[39m,\n",
       "  hobbies: [ \u001b[32m\"Sports\"\u001b[39m, \u001b[32m\"Cooking\"\u001b[39m ],\n",
       "  greet: \u001b[36m[Function: greet]\u001b[39m,\n",
       "  isAdmin: \u001b[33mtrue\u001b[39m\n",
       "}"
      ]
     },
     "execution_count": 8,
     "metadata": {},
     "output_type": "execute_result"
    }
   ],
   "source": [
    "person"
   ]
  },
  {
   "cell_type": "code",
   "execution_count": 9,
   "id": "7ba50a37-77cc-4840-838b-16b7b650c1ff",
   "metadata": {},
   "outputs": [],
   "source": [
    "person.doesnotExist"
   ]
  },
  {
   "cell_type": "code",
   "execution_count": 10,
   "id": "47b809e7-2d0a-437c-b582-79a08215fddf",
   "metadata": {},
   "outputs": [
    {
     "data": {
      "text/plain": [
       "\u001b[33mtrue\u001b[39m"
      ]
     },
     "execution_count": 10,
     "metadata": {},
     "output_type": "execute_result"
    }
   ],
   "source": [
    "delete person.age;"
   ]
  },
  {
   "cell_type": "code",
   "execution_count": 11,
   "id": "aca524d8-cd9b-4e48-99b2-3018ce68a7e5",
   "metadata": {},
   "outputs": [
    {
     "data": {
      "text/plain": [
       "{\n",
       "  name: \u001b[32m\"Max\"\u001b[39m,\n",
       "  hobbies: [ \u001b[32m\"Sports\"\u001b[39m, \u001b[32m\"Cooking\"\u001b[39m ],\n",
       "  greet: \u001b[36m[Function: greet]\u001b[39m,\n",
       "  isAdmin: \u001b[33mtrue\u001b[39m\n",
       "}"
      ]
     },
     "execution_count": 11,
     "metadata": {},
     "output_type": "execute_result"
    }
   ],
   "source": [
    "person"
   ]
  },
  {
   "cell_type": "code",
   "execution_count": 12,
   "id": "492e48f5-f151-455d-a68c-cc58e1e5637b",
   "metadata": {},
   "outputs": [],
   "source": [
    "person.name = undefined;"
   ]
  },
  {
   "cell_type": "code",
   "execution_count": 13,
   "id": "a8bdc908-504f-49f0-b17c-672911558149",
   "metadata": {},
   "outputs": [
    {
     "data": {
      "text/plain": [
       "{\n",
       "  name: \u001b[90mundefined\u001b[39m,\n",
       "  hobbies: [ \u001b[32m\"Sports\"\u001b[39m, \u001b[32m\"Cooking\"\u001b[39m ],\n",
       "  greet: \u001b[36m[Function: greet]\u001b[39m,\n",
       "  isAdmin: \u001b[33mtrue\u001b[39m\n",
       "}"
      ]
     },
     "execution_count": 13,
     "metadata": {},
     "output_type": "execute_result"
    }
   ],
   "source": [
    "person"
   ]
  },
  {
   "cell_type": "code",
   "execution_count": 14,
   "id": "907a1fbe-d57d-4794-99cc-4633db770bfd",
   "metadata": {},
   "outputs": [
    {
     "data": {
      "text/plain": [
       "\u001b[1mnull\u001b[22m"
      ]
     },
     "execution_count": 14,
     "metadata": {},
     "output_type": "execute_result"
    }
   ],
   "source": [
    "person.name = null;"
   ]
  },
  {
   "cell_type": "code",
   "execution_count": 15,
   "id": "94e7e0df-1eec-4dd5-995b-54ded34e208f",
   "metadata": {},
   "outputs": [
    {
     "data": {
      "text/plain": [
       "{\n",
       "  name: \u001b[1mnull\u001b[22m,\n",
       "  hobbies: [ \u001b[32m\"Sports\"\u001b[39m, \u001b[32m\"Cooking\"\u001b[39m ],\n",
       "  greet: \u001b[36m[Function: greet]\u001b[39m,\n",
       "  isAdmin: \u001b[33mtrue\u001b[39m\n",
       "}"
      ]
     },
     "execution_count": 15,
     "metadata": {},
     "output_type": "execute_result"
    }
   ],
   "source": [
    "person"
   ]
  },
  {
   "cell_type": "code",
   "execution_count": 16,
   "id": "d58fa0a4-6e81-4b3b-947d-d94358966409",
   "metadata": {},
   "outputs": [
    {
     "data": {
      "text/plain": [
       "\u001b[32m\"Max\"\u001b[39m"
      ]
     },
     "execution_count": 16,
     "metadata": {},
     "output_type": "execute_result"
    }
   ],
   "source": [
    "person.name = 'Max';"
   ]
  },
  {
   "cell_type": "code",
   "execution_count": 17,
   "id": "48889486-23d8-4bda-816a-f8847bf707c2",
   "metadata": {},
   "outputs": [
    {
     "data": {
      "text/plain": [
       "\u001b[32m\"Max\"\u001b[39m"
      ]
     },
     "execution_count": 17,
     "metadata": {},
     "output_type": "execute_result"
    }
   ],
   "source": [
    "person['first name'] = 'Max';"
   ]
  },
  {
   "cell_type": "code",
   "execution_count": 18,
   "id": "e1a75e2a-2afd-44f1-8db2-950641659a02",
   "metadata": {},
   "outputs": [
    {
     "data": {
      "text/plain": [
       "{\n",
       "  name: \u001b[32m\"Max\"\u001b[39m,\n",
       "  hobbies: [ \u001b[32m\"Sports\"\u001b[39m, \u001b[32m\"Cooking\"\u001b[39m ],\n",
       "  greet: \u001b[36m[Function: greet]\u001b[39m,\n",
       "  isAdmin: \u001b[33mtrue\u001b[39m,\n",
       "  \u001b[32m\"first name\"\u001b[39m: \u001b[32m\"Max\"\u001b[39m\n",
       "}"
      ]
     },
     "execution_count": 18,
     "metadata": {},
     "output_type": "execute_result"
    }
   ],
   "source": [
    "person"
   ]
  },
  {
   "cell_type": "code",
   "execution_count": 19,
   "id": "6447c42a-01da-43f1-a50a-1c304c403bd2",
   "metadata": {},
   "outputs": [],
   "source": [
    "person[0]"
   ]
  },
  {
   "cell_type": "code",
   "execution_count": 20,
   "id": "bc41f387-8241-4e34-ba19-1d3cd755e878",
   "metadata": {},
   "outputs": [
    {
     "data": {
      "text/plain": [
       "\u001b[32m\"name\"\u001b[39m"
      ]
     },
     "execution_count": 20,
     "metadata": {},
     "output_type": "execute_result"
    }
   ],
   "source": [
    "person[1.5] = 'name';"
   ]
  },
  {
   "cell_type": "code",
   "execution_count": 22,
   "id": "1d984220-8b94-48f6-9045-9ca2aee7dad9",
   "metadata": {},
   "outputs": [
    {
     "data": {
      "text/plain": [
       "\u001b[32m\"Hi\"\u001b[39m"
      ]
     },
     "execution_count": 22,
     "metadata": {},
     "output_type": "execute_result"
    }
   ],
   "source": [
    "person[0] = 'Hi';"
   ]
  },
  {
   "cell_type": "code",
   "execution_count": 23,
   "id": "3c8adcc7-ec95-4b74-a30e-79c39eba434d",
   "metadata": {},
   "outputs": [
    {
     "data": {
      "text/plain": [
       "{\n",
       "  \u001b[32m\"0\"\u001b[39m: \u001b[32m\"Hi\"\u001b[39m,\n",
       "  name: \u001b[32m\"Max\"\u001b[39m,\n",
       "  hobbies: [ \u001b[32m\"Sports\"\u001b[39m, \u001b[32m\"Cooking\"\u001b[39m ],\n",
       "  greet: \u001b[36m[Function: greet]\u001b[39m,\n",
       "  isAdmin: \u001b[33mtrue\u001b[39m,\n",
       "  \u001b[32m\"first name\"\u001b[39m: \u001b[32m\"Max\"\u001b[39m,\n",
       "  \u001b[32m\"1.5\"\u001b[39m: \u001b[32m\"name\"\u001b[39m\n",
       "}"
      ]
     },
     "execution_count": 23,
     "metadata": {},
     "output_type": "execute_result"
    }
   ],
   "source": [
    "person"
   ]
  },
  {
   "cell_type": "code",
   "execution_count": 24,
   "id": "6f50014b-9199-432e-9268-97aabcc01cb9",
   "metadata": {},
   "outputs": [
    {
     "data": {
      "text/plain": [
       "\u001b[32m\"Not allowed\"\u001b[39m"
      ]
     },
     "execution_count": 24,
     "metadata": {},
     "output_type": "execute_result"
    }
   ],
   "source": [
    "person[-1] = 'Not allowed';"
   ]
  },
  {
   "cell_type": "code",
   "execution_count": 25,
   "id": "6f877e69-18b3-4a9e-9f54-5831117f4a2d",
   "metadata": {},
   "outputs": [
    {
     "data": {
      "text/plain": [
       "{\n",
       "  \u001b[32m\"0\"\u001b[39m: \u001b[32m\"Hi\"\u001b[39m,\n",
       "  name: \u001b[32m\"Max\"\u001b[39m,\n",
       "  hobbies: [ \u001b[32m\"Sports\"\u001b[39m, \u001b[32m\"Cooking\"\u001b[39m ],\n",
       "  greet: \u001b[36m[Function: greet]\u001b[39m,\n",
       "  isAdmin: \u001b[33mtrue\u001b[39m,\n",
       "  \u001b[32m\"first name\"\u001b[39m: \u001b[32m\"Max\"\u001b[39m,\n",
       "  \u001b[32m\"1.5\"\u001b[39m: \u001b[32m\"name\"\u001b[39m,\n",
       "  \u001b[32m\"-1\"\u001b[39m: \u001b[32m\"Not allowed\"\u001b[39m\n",
       "}"
      ]
     },
     "execution_count": 25,
     "metadata": {},
     "output_type": "execute_result"
    }
   ],
   "source": [
    "person"
   ]
  },
  {
   "cell_type": "code",
   "execution_count": 26,
   "id": "93a39f7b-25cb-4d67-8a3f-5374d137c8ea",
   "metadata": {},
   "outputs": [],
   "source": [
    "const keyName = 'first-name';"
   ]
  },
  {
   "cell_type": "code",
   "execution_count": 27,
   "id": "4923949d-141b-4282-9795-130bca78cb4d",
   "metadata": {},
   "outputs": [
    {
     "data": {
      "text/plain": [
       "\u001b[32m\"John\"\u001b[39m"
      ]
     },
     "execution_count": 27,
     "metadata": {},
     "output_type": "execute_result"
    }
   ],
   "source": [
    "person[keyName] = 'John';"
   ]
  },
  {
   "cell_type": "code",
   "execution_count": 28,
   "id": "14f5d829-699a-4e02-ad6f-e26c23dbd97b",
   "metadata": {},
   "outputs": [
    {
     "data": {
      "text/plain": [
       "{\n",
       "  \u001b[32m\"0\"\u001b[39m: \u001b[32m\"Hi\"\u001b[39m,\n",
       "  name: \u001b[32m\"Max\"\u001b[39m,\n",
       "  hobbies: [ \u001b[32m\"Sports\"\u001b[39m, \u001b[32m\"Cooking\"\u001b[39m ],\n",
       "  greet: \u001b[36m[Function: greet]\u001b[39m,\n",
       "  isAdmin: \u001b[33mtrue\u001b[39m,\n",
       "  \u001b[32m\"first name\"\u001b[39m: \u001b[32m\"Max\"\u001b[39m,\n",
       "  \u001b[32m\"1.5\"\u001b[39m: \u001b[32m\"name\"\u001b[39m,\n",
       "  \u001b[32m\"-1\"\u001b[39m: \u001b[32m\"Not allowed\"\u001b[39m,\n",
       "  \u001b[32m\"first-name\"\u001b[39m: \u001b[32m\"John\"\u001b[39m\n",
       "}"
      ]
     },
     "execution_count": 28,
     "metadata": {},
     "output_type": "execute_result"
    }
   ],
   "source": [
    "person"
   ]
  },
  {
   "cell_type": "code",
   "execution_count": 29,
   "id": "20a6fc6c-255a-4775-ab64-581589a320d6",
   "metadata": {},
   "outputs": [
    {
     "data": {
      "text/plain": [
       "{ \u001b[32m\"first-name\"\u001b[39m: \u001b[32m\"...\"\u001b[39m }"
      ]
     },
     "execution_count": 29,
     "metadata": {},
     "output_type": "execute_result"
    }
   ],
   "source": [
    "{\n",
    "    [keyName]: '...'\n",
    "}"
   ]
  },
  {
   "cell_type": "code",
   "execution_count": 37,
   "id": "709497fd-c60e-4485-a4bf-669fc5cd37aa",
   "metadata": {},
   "outputs": [
    {
     "data": {
      "text/plain": [
       "{\n",
       "  \u001b[32m\"0\"\u001b[39m: \u001b[32m\"Hi\"\u001b[39m,\n",
       "  name: \u001b[32m\"Max\"\u001b[39m,\n",
       "  hobbies: [ \u001b[32m\"Sports\"\u001b[39m, \u001b[32m\"Cooking\"\u001b[39m ],\n",
       "  greet: \u001b[36m[Function: greet]\u001b[39m,\n",
       "  isAdmin: \u001b[33mtrue\u001b[39m,\n",
       "  \u001b[32m\"first name\"\u001b[39m: \u001b[32m\"Max\"\u001b[39m,\n",
       "  \u001b[32m\"1.5\"\u001b[39m: \u001b[32m\"name\"\u001b[39m,\n",
       "  \u001b[32m\"-1\"\u001b[39m: \u001b[32m\"Not allowed\"\u001b[39m,\n",
       "  \u001b[32m\"first-name\"\u001b[39m: \u001b[32m\"John\"\u001b[39m\n",
       "}"
      ]
     },
     "execution_count": 37,
     "metadata": {},
     "output_type": "execute_result"
    }
   ],
   "source": [
    "{...person}"
   ]
  },
  {
   "cell_type": "code",
   "execution_count": 32,
   "id": "30fbcaf5-9e1d-4bf0-8092-5c2a1f6eaf40",
   "metadata": {},
   "outputs": [
    {
     "data": {
      "text/plain": [
       "{\n",
       "  \u001b[32m\"0\"\u001b[39m: \u001b[32m\"Hi\"\u001b[39m,\n",
       "  name: \u001b[32m\"Manuel\"\u001b[39m,\n",
       "  hobbies: [ \u001b[32m\"Sports\"\u001b[39m, \u001b[32m\"Cooking\"\u001b[39m ],\n",
       "  greet: \u001b[36m[Function: greet]\u001b[39m,\n",
       "  isAdmin: \u001b[33mtrue\u001b[39m,\n",
       "  \u001b[32m\"first name\"\u001b[39m: \u001b[32m\"Max\"\u001b[39m,\n",
       "  \u001b[32m\"1.5\"\u001b[39m: \u001b[32m\"name\"\u001b[39m,\n",
       "  \u001b[32m\"-1\"\u001b[39m: \u001b[32m\"Not allowed\"\u001b[39m,\n",
       "  \u001b[32m\"first-name\"\u001b[39m: \u001b[32m\"John\"\u001b[39m,\n",
       "  age: \u001b[33m30\u001b[39m\n",
       "}"
      ]
     },
     "execution_count": 32,
     "metadata": {},
     "output_type": "execute_result"
    }
   ],
   "source": [
    "{...person, age: 30, name: 'Manuel'}"
   ]
  },
  {
   "cell_type": "code",
   "execution_count": 35,
   "id": "cb852a38-5cad-4851-bc42-7a0006579e2e",
   "metadata": {},
   "outputs": [
    {
     "data": {
      "text/plain": [
       "{\n",
       "  \u001b[32m\"0\"\u001b[39m: \u001b[32m\"Hi\"\u001b[39m,\n",
       "  name: \u001b[32m\"Manuel\"\u001b[39m,\n",
       "  hobbies: [ \u001b[32m\"Sports\"\u001b[39m, \u001b[32m\"Cooking\"\u001b[39m ],\n",
       "  greet: \u001b[36m[Function: greet]\u001b[39m,\n",
       "  isAdmin: \u001b[33mtrue\u001b[39m,\n",
       "  \u001b[32m\"first name\"\u001b[39m: \u001b[32m\"Max\"\u001b[39m,\n",
       "  \u001b[32m\"1.5\"\u001b[39m: \u001b[32m\"name\"\u001b[39m,\n",
       "  \u001b[32m\"-1\"\u001b[39m: \u001b[32m\"Not allowed\"\u001b[39m,\n",
       "  \u001b[32m\"first-name\"\u001b[39m: \u001b[32m\"John\"\u001b[39m,\n",
       "  age: \u001b[33m30\u001b[39m\n",
       "}"
      ]
     },
     "execution_count": 35,
     "metadata": {},
     "output_type": "execute_result"
    }
   ],
   "source": [
    "{...person, age: 30, name: 'Manuel', hobbies: [...person.hobbies]}"
   ]
  },
  {
   "cell_type": "code",
   "execution_count": 39,
   "id": "78b388ce-c28a-4e51-b267-510af17735b0",
   "metadata": {},
   "outputs": [
    {
     "data": {
      "text/plain": [
       "{\n",
       "  \u001b[32m\"0\"\u001b[39m: \u001b[32m\"Hi\"\u001b[39m,\n",
       "  name: \u001b[32m\"Max\"\u001b[39m,\n",
       "  hobbies: [ \u001b[32m\"Sports\"\u001b[39m, \u001b[32m\"Cooking\"\u001b[39m ],\n",
       "  greet: \u001b[36m[Function: greet]\u001b[39m,\n",
       "  isAdmin: \u001b[33mtrue\u001b[39m,\n",
       "  \u001b[32m\"first name\"\u001b[39m: \u001b[32m\"Max\"\u001b[39m,\n",
       "  \u001b[32m\"1.5\"\u001b[39m: \u001b[32m\"name\"\u001b[39m,\n",
       "  \u001b[32m\"-1\"\u001b[39m: \u001b[32m\"Not allowed\"\u001b[39m,\n",
       "  \u001b[32m\"first-name\"\u001b[39m: \u001b[32m\"John\"\u001b[39m\n",
       "}"
      ]
     },
     "execution_count": 39,
     "metadata": {},
     "output_type": "execute_result"
    }
   ],
   "source": [
    "Object.assign({}, person); // Copy of the object"
   ]
  },
  {
   "cell_type": "code",
   "execution_count": 40,
   "id": "24508f97-92b1-44fe-8098-8f7463074e57",
   "metadata": {},
   "outputs": [
    {
     "data": {
      "text/plain": [
       "{\n",
       "  \u001b[32m\"0\"\u001b[39m: \u001b[32m\"Hi\"\u001b[39m,\n",
       "  name: \u001b[32m\"Max\"\u001b[39m,\n",
       "  hobbies: [ \u001b[32m\"Sports\"\u001b[39m, \u001b[32m\"Cooking\"\u001b[39m ],\n",
       "  greet: \u001b[36m[Function: greet]\u001b[39m,\n",
       "  isAdmin: \u001b[33mtrue\u001b[39m,\n",
       "  \u001b[32m\"first name\"\u001b[39m: \u001b[32m\"Max\"\u001b[39m,\n",
       "  \u001b[32m\"1.5\"\u001b[39m: \u001b[32m\"name\"\u001b[39m,\n",
       "  \u001b[32m\"-1\"\u001b[39m: \u001b[32m\"Not allowed\"\u001b[39m,\n",
       "  \u001b[32m\"first-name\"\u001b[39m: \u001b[32m\"John\"\u001b[39m,\n",
       "  help: \u001b[33mtrue\u001b[39m,\n",
       "  isWorker: \u001b[33mfalse\u001b[39m\n",
       "}"
      ]
     },
     "execution_count": 40,
     "metadata": {},
     "output_type": "execute_result"
    }
   ],
   "source": [
    "Object.assign(person, { help: true, isWorker: false });"
   ]
  },
  {
   "cell_type": "code",
   "execution_count": 41,
   "id": "8207bdb1-97e6-4c72-a4fc-6da4367b07c3",
   "metadata": {},
   "outputs": [],
   "source": [
    "const { name } = person;"
   ]
  },
  {
   "cell_type": "code",
   "execution_count": 42,
   "id": "a9436506-6844-430f-a278-1684ae28dc70",
   "metadata": {},
   "outputs": [
    {
     "data": {
      "text/plain": [
       "\u001b[32m\"Max\"\u001b[39m"
      ]
     },
     "execution_count": 42,
     "metadata": {},
     "output_type": "execute_result"
    }
   ],
   "source": [
    "name"
   ]
  },
  {
   "cell_type": "code",
   "execution_count": 43,
   "id": "59a99c80-3297-412e-a684-52d9fd5bd0c5",
   "metadata": {},
   "outputs": [],
   "source": [
    "const { isAdmin, help, ...others } = person;"
   ]
  },
  {
   "cell_type": "code",
   "execution_count": 44,
   "id": "adbe33b5-c75d-45f6-8aa8-781f95472108",
   "metadata": {},
   "outputs": [
    {
     "data": {
      "text/plain": [
       "\u001b[33mtrue\u001b[39m"
      ]
     },
     "execution_count": 44,
     "metadata": {},
     "output_type": "execute_result"
    }
   ],
   "source": [
    "isAdmin"
   ]
  },
  {
   "cell_type": "code",
   "execution_count": 52,
   "id": "c857609a-3bc0-4c85-b54c-10bccf5290b2",
   "metadata": {},
   "outputs": [
    {
     "data": {
      "text/plain": [
       "{\n",
       "  \u001b[32m\"0\"\u001b[39m: \u001b[32m\"Hi\"\u001b[39m,\n",
       "  name: \u001b[32m\"Max\"\u001b[39m,\n",
       "  hobbies: [ \u001b[32m\"Sports\"\u001b[39m, \u001b[32m\"Cooking\"\u001b[39m ],\n",
       "  greet: \u001b[36m[Function: greet]\u001b[39m,\n",
       "  \u001b[32m\"first name\"\u001b[39m: \u001b[32m\"Max\"\u001b[39m,\n",
       "  \u001b[32m\"1.5\"\u001b[39m: \u001b[32m\"name\"\u001b[39m,\n",
       "  \u001b[32m\"-1\"\u001b[39m: \u001b[32m\"Not allowed\"\u001b[39m,\n",
       "  \u001b[32m\"first-name\"\u001b[39m: \u001b[32m\"John\"\u001b[39m,\n",
       "  isWorker: \u001b[33mfalse\u001b[39m\n",
       "}"
      ]
     },
     "execution_count": 52,
     "metadata": {},
     "output_type": "execute_result"
    }
   ],
   "source": [
    "others"
   ]
  },
  {
   "cell_type": "code",
   "execution_count": 61,
   "id": "a3f67aa6-71e0-4cc4-9137-fa424fb1fe81",
   "metadata": {},
   "outputs": [],
   "source": [
    "const person2 = {\n",
    "  \"0\": \"Hi\",\n",
    "  name: \"Max\",\n",
    "  hobbies: [ \"Sports\", \"Cooking\" ],\n",
    "  isAdmin: true,\n",
    "  \"first name\": \"Max\",\n",
    "  \"1.5\": \"name\",\n",
    "  \"-1\": \"Not allowed\",\n",
    "  \"first-name\": \"John\",\n",
    "  help: true,\n",
    "  isWorker: false\n",
    "}"
   ]
  },
  {
   "cell_type": "code",
   "execution_count": 66,
   "id": "84ec0f1b-af2f-4f39-bf10-528c5becc1e1",
   "metadata": {},
   "outputs": [],
   "source": [
    "const { name: firstName } = person2;"
   ]
  },
  {
   "cell_type": "code",
   "execution_count": 67,
   "id": "c35cc31b-cc3c-4401-a8dc-3138b5e2ef6f",
   "metadata": {},
   "outputs": [
    {
     "data": {
      "text/plain": [
       "\u001b[32m\"Max\"\u001b[39m"
      ]
     },
     "execution_count": 67,
     "metadata": {},
     "output_type": "execute_result"
    }
   ],
   "source": [
    "firstName"
   ]
  },
  {
   "cell_type": "code",
   "execution_count": 70,
   "id": "6505e3ff-b895-437b-99ff-f9cc610993be",
   "metadata": {},
   "outputs": [
    {
     "data": {
      "text/plain": [
       "\u001b[33mtrue\u001b[39m"
      ]
     },
     "execution_count": 70,
     "metadata": {},
     "output_type": "execute_result"
    }
   ],
   "source": [
    "'name' in person2"
   ]
  },
  {
   "cell_type": "code",
   "execution_count": 71,
   "id": "076fab88-b1fe-4f83-9798-060d6952df79",
   "metadata": {},
   "outputs": [
    {
     "data": {
      "text/plain": [
       "\u001b[33mtrue\u001b[39m"
      ]
     },
     "execution_count": 71,
     "metadata": {},
     "output_type": "execute_result"
    }
   ],
   "source": [
    "'help' in person2"
   ]
  },
  {
   "cell_type": "code",
   "execution_count": 21,
   "id": "8e5c94cf-fc22-44ef-b44d-4749bb2360f2",
   "metadata": {},
   "outputs": [],
   "source": [
    "const person3 = {\n",
    "  name: \"Max\",\n",
    "  printNameUpperCase: function() {\n",
    "      console.log(this);\n",
    "      return this.name.toUpperCase();\n",
    "  },\n",
    "  printNameLowCase() { return this.name.toLowerCase(); },\n",
    "  printName: () => this.name + '.', // DON'T use arrow functions if you want to use the THIS object!\n",
    "}"
   ]
  },
  {
   "cell_type": "code",
   "execution_count": 22,
   "id": "4d90d188-e56d-44fe-99b7-1ed6532fcd13",
   "metadata": {},
   "outputs": [
    {
     "name": "stdout",
     "output_type": "stream",
     "text": [
      "{\n",
      "  name: \u001b[32m\"Max\"\u001b[39m,\n",
      "  printNameUpperCase: \u001b[36m[Function: printNameUpperCase]\u001b[39m,\n",
      "  printNameLowCase: \u001b[36m[Function: printNameLowCase]\u001b[39m,\n",
      "  printName: \u001b[36m[Function: printName]\u001b[39m\n",
      "}\n"
     ]
    },
    {
     "data": {
      "text/plain": [
       "\u001b[32m\"MAX\"\u001b[39m"
      ]
     },
     "execution_count": 22,
     "metadata": {},
     "output_type": "execute_result"
    }
   ],
   "source": [
    "person3.printNameUpperCase();"
   ]
  },
  {
   "cell_type": "code",
   "execution_count": 23,
   "id": "1f3a1906-ad06-4eb8-9122-7173da9f6fc1",
   "metadata": {},
   "outputs": [
    {
     "data": {
      "text/plain": [
       "\u001b[32m\"max\"\u001b[39m"
      ]
     },
     "execution_count": 23,
     "metadata": {},
     "output_type": "execute_result"
    }
   ],
   "source": [
    "person3.printNameLowCase();"
   ]
  },
  {
   "cell_type": "code",
   "execution_count": 24,
   "id": "9cb6884d-8be0-471c-a01a-4e8688922421",
   "metadata": {},
   "outputs": [
    {
     "data": {
      "text/plain": [
       "\u001b[32m\".\"\u001b[39m"
      ]
     },
     "execution_count": 24,
     "metadata": {},
     "output_type": "execute_result"
    }
   ],
   "source": [
    "person3.printName(); // The object \"this\" is different"
   ]
  },
  {
   "cell_type": "code",
   "execution_count": 25,
   "id": "008933ac-3d08-48dd-bb72-230fce511ccc",
   "metadata": {},
   "outputs": [],
   "source": [
    "const { printNameUpperCase } = person3;"
   ]
  },
  {
   "cell_type": "code",
   "execution_count": 26,
   "id": "2fa5c501-8696-4c9f-852f-82bdd1038f85",
   "metadata": {},
   "outputs": [
    {
     "name": "stdout",
     "output_type": "stream",
     "text": [
      "\u001b[90mundefined\u001b[39m\n"
     ]
    },
    {
     "ename": "TypeError",
     "evalue": "Cannot read properties of undefined (reading 'name')",
     "output_type": "error",
     "traceback": [
      "Stack trace:",
      "TypeError: Cannot read properties of undefined (reading 'name')",
      "    at printNameUpperCase (<anonymous>:5:17)",
      "    at <anonymous>:1:22"
     ]
    }
   ],
   "source": [
    "printNameUpperCase(); // The object THIS is now different!"
   ]
  },
  {
   "cell_type": "code",
   "execution_count": 27,
   "id": "00a7c7f9-bff3-4f16-a1af-334088d06d71",
   "metadata": {},
   "outputs": [],
   "source": [
    "const printNameUpperCaseBind = printNameUpperCase.bind({ name: 'Kylian' });"
   ]
  },
  {
   "cell_type": "code",
   "execution_count": 28,
   "id": "f8562183-385b-47c3-8faf-c41201bf6861",
   "metadata": {},
   "outputs": [
    {
     "name": "stdout",
     "output_type": "stream",
     "text": [
      "{ name: \u001b[32m\"Kylian\"\u001b[39m }\n"
     ]
    },
    {
     "data": {
      "text/plain": [
       "\u001b[32m\"KYLIAN\"\u001b[39m"
      ]
     },
     "execution_count": 28,
     "metadata": {},
     "output_type": "execute_result"
    }
   ],
   "source": [
    "printNameUpperCaseBind();"
   ]
  },
  {
   "cell_type": "code",
   "execution_count": 29,
   "id": "5c94f919-f7fa-44d4-bdfb-80b786edd805",
   "metadata": {},
   "outputs": [
    {
     "name": "stdout",
     "output_type": "stream",
     "text": [
      "{ name: \u001b[32m\"Marcelo\"\u001b[39m }\n"
     ]
    },
    {
     "data": {
      "text/plain": [
       "\u001b[32m\"MARCELO\"\u001b[39m"
      ]
     },
     "execution_count": 29,
     "metadata": {},
     "output_type": "execute_result"
    }
   ],
   "source": [
    "printNameUpperCase.call({ name: 'Marcelo' });"
   ]
  },
  {
   "cell_type": "code",
   "execution_count": 31,
   "id": "7ada57a1-e100-4542-8cfa-de28768022d9",
   "metadata": {},
   "outputs": [
    {
     "name": "stdout",
     "output_type": "stream",
     "text": [
      "{ name: \u001b[32m\"Alvaro\"\u001b[39m }\n"
     ]
    },
    {
     "data": {
      "text/plain": [
       "\u001b[32m\"ALVARO\"\u001b[39m"
      ]
     },
     "execution_count": 31,
     "metadata": {},
     "output_type": "execute_result"
    }
   ],
   "source": [
    "printNameUpperCase.apply({ name: 'Alvaro' });"
   ]
  },
  {
   "cell_type": "code",
   "execution_count": 4,
   "id": "49aaa25f-3b9f-4dcd-a2da-aa668a305d98",
   "metadata": {},
   "outputs": [],
   "source": [
    "const person4 = {\n",
    "  set name(val) {\n",
    "      if (val.trim() === '') {\n",
    "          this._name = 'DEFAULT';\n",
    "          return;\n",
    "      }\n",
    "      this._name = val;\n",
    "  },\n",
    "  get name() {\n",
    "      return this._name.toUpperCase();\n",
    "  }\n",
    "}"
   ]
  },
  {
   "cell_type": "code",
   "execution_count": 43,
   "id": "bc489c25-dbf7-411d-87bd-cea96059d8a9",
   "metadata": {},
   "outputs": [
    {
     "data": {
      "text/plain": [
       "\u001b[32m\"Will\"\u001b[39m"
      ]
     },
     "execution_count": 43,
     "metadata": {},
     "output_type": "execute_result"
    }
   ],
   "source": [
    "person4.name = 'Will';"
   ]
  },
  {
   "cell_type": "code",
   "execution_count": 44,
   "id": "714cc9d8-5f61-48f8-b960-e2dd3e36efea",
   "metadata": {},
   "outputs": [
    {
     "data": {
      "text/plain": [
       "\u001b[32m\"\"\u001b[39m"
      ]
     },
     "execution_count": 44,
     "metadata": {},
     "output_type": "execute_result"
    }
   ],
   "source": [
    "person4.name = '';"
   ]
  },
  {
   "cell_type": "code",
   "execution_count": 2,
   "id": "6b4dddae-7a40-457b-bc0f-7522778dbce6",
   "metadata": {},
   "outputs": [
    {
     "ename": "ReferenceError",
     "evalue": "person4 is not defined",
     "output_type": "error",
     "traceback": [
      "Stack trace:",
      "ReferenceError: person4 is not defined",
      "    at <anonymous>:1:22"
     ]
    }
   ],
   "source": [
    "person4.name"
   ]
  },
  {
   "cell_type": "code",
   "execution_count": 5,
   "id": "9ffbe35e-46a9-4165-a47d-17cdb815dd39",
   "metadata": {},
   "outputs": [
    {
     "data": {
      "text/plain": [
       "{\n",
       "  name: {\n",
       "    get: \u001b[36m[Function: get name]\u001b[39m,\n",
       "    set: \u001b[36m[Function: set name]\u001b[39m,\n",
       "    enumerable: \u001b[33mtrue\u001b[39m,\n",
       "    configurable: \u001b[33mtrue\u001b[39m\n",
       "  }\n",
       "}"
      ]
     },
     "execution_count": 5,
     "metadata": {},
     "output_type": "execute_result"
    }
   ],
   "source": [
    "Object.getOwnPropertyDescriptors(person4);"
   ]
  },
  {
   "cell_type": "code",
   "execution_count": 9,
   "id": "2cfcc99f-61f3-4227-843b-8e18d9fc5a86",
   "metadata": {},
   "outputs": [
    {
     "data": {
      "text/plain": [
       "{ name: \u001b[32m\"Max\"\u001b[39m }"
      ]
     },
     "execution_count": 9,
     "metadata": {},
     "output_type": "execute_result"
    }
   ],
   "source": [
    "Object.defineProperty(person4, 'name', {\n",
    "    configurable: true,\n",
    "    enumarable: true,\n",
    "    value: 'Max',\n",
    "    writable: false\n",
    "});"
   ]
  },
  {
   "cell_type": "code",
   "execution_count": 11,
   "id": "28d7d494-e8b5-4a7f-b886-f4737a874ebc",
   "metadata": {},
   "outputs": [
    {
     "ename": "TypeError",
     "evalue": "Cannot assign to read only property 'name' of object '#<Object>'",
     "output_type": "error",
     "traceback": [
      "Stack trace:",
      "TypeError: Cannot assign to read only property 'name' of object '#<Object>'",
      "    at <anonymous>:1:35"
     ]
    }
   ],
   "source": [
    "person4.name = 'John';"
   ]
  },
  {
   "cell_type": "raw",
   "id": "719d6b9f-5fac-46fb-a396-5deab65de130",
   "metadata": {},
   "source": [
    "person4.name"
   ]
  },
  {
   "cell_type": "code",
   "execution_count": 12,
   "id": "dec05134-67f1-4030-acba-9c5f11fe3ff0",
   "metadata": {},
   "outputs": [
    {
     "data": {
      "text/plain": [
       "{ name: \u001b[32m\"Max\"\u001b[39m }"
      ]
     },
     "execution_count": 12,
     "metadata": {},
     "output_type": "execute_result"
    }
   ],
   "source": [
    "person4"
   ]
  },
  {
   "cell_type": "code",
   "execution_count": 13,
   "id": "ac3e0d80-c609-435c-8bfe-8a7e5616cb7e",
   "metadata": {},
   "outputs": [
    {
     "data": {
      "text/plain": [
       "\u001b[33mtrue\u001b[39m"
      ]
     },
     "execution_count": 13,
     "metadata": {},
     "output_type": "execute_result"
    }
   ],
   "source": [
    "delete person4.name;"
   ]
  },
  {
   "cell_type": "code",
   "execution_count": 16,
   "id": "bdd56d37-8592-4c3a-a6a8-8ecf02d235a2",
   "metadata": {},
   "outputs": [
    {
     "data": {
      "text/plain": [
       "{}"
      ]
     },
     "execution_count": 16,
     "metadata": {},
     "output_type": "execute_result"
    }
   ],
   "source": [
    "person4"
   ]
  },
  {
   "cell_type": "code",
   "execution_count": 18,
   "id": "65f3c721-9077-4003-9a91-84b75508c2c6",
   "metadata": {},
   "outputs": [
    {
     "data": {
      "text/plain": [
       "{}"
      ]
     },
     "execution_count": 18,
     "metadata": {},
     "output_type": "execute_result"
    }
   ],
   "source": [
    "Object.defineProperty(person4, 'name', {\n",
    "    configurable: false,\n",
    "    enumarable: true,\n",
    "    value: 'Max',\n",
    "    writable: false\n",
    "});"
   ]
  },
  {
   "cell_type": "code",
   "execution_count": 20,
   "id": "afee2a22-16f4-4168-b440-eed4cdb87515",
   "metadata": {},
   "outputs": [
    {
     "data": {
      "text/plain": [
       "{}"
      ]
     },
     "execution_count": 20,
     "metadata": {},
     "output_type": "execute_result"
    }
   ],
   "source": [
    "person4"
   ]
  },
  {
   "cell_type": "code",
   "execution_count": 21,
   "id": "6a6115f0-14d3-4ba2-a832-f30e887eb055",
   "metadata": {},
   "outputs": [
    {
     "ename": "TypeError",
     "evalue": "Cannot delete property 'name' of #<Object>",
     "output_type": "error",
     "traceback": [
      "Stack trace:",
      "TypeError: Cannot delete property 'name' of #<Object>",
      "    at <anonymous>:1:22"
     ]
    }
   ],
   "source": [
    "delete person4.name"
   ]
  },
  {
   "cell_type": "code",
   "execution_count": 22,
   "id": "626ee6e8-063b-4fc6-8c80-d8a06354a2f8",
   "metadata": {},
   "outputs": [
    {
     "data": {
      "text/plain": [
       "{}"
      ]
     },
     "execution_count": 22,
     "metadata": {},
     "output_type": "execute_result"
    }
   ],
   "source": [
    "person4"
   ]
  }
 ],
 "metadata": {
  "kernelspec": {
   "display_name": "Deno",
   "language": "typescript",
   "name": "deno"
  },
  "language_info": {
   "codemirror_mode": "typescript",
   "file_extension": ".ts",
   "mimetype": "text/x.typescript",
   "name": "typescript",
   "nbconvert_exporter": "script",
   "pygments_lexer": "typescript",
   "version": "5.7.3"
  }
 },
 "nbformat": 4,
 "nbformat_minor": 5
}
