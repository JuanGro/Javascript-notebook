{
 "cells": [
  {
   "cell_type": "markdown",
   "id": "daad5a64-c0ec-45f8-978f-253e4767b749",
   "metadata": {},
   "source": [
    "# Strict Mode"
   ]
  },
  {
   "cell_type": "code",
   "execution_count": 2,
   "id": "8a524305-d389-4daa-93ca-86fd60bd0040",
   "metadata": {},
   "outputs": [
    {
     "ename": "ReferenceError",
     "evalue": "x is not defined",
     "output_type": "error",
     "traceback": [
      "Stack trace:",
      "ReferenceError: x is not defined",
      "    at <anonymous>:2:3"
     ]
    }
   ],
   "source": [
    "\"use strict\";\n",
    "x = 10; // ❌ ReferenceError: x is not defined"
   ]
  },
  {
   "cell_type": "code",
   "execution_count": 3,
   "id": "f0feb7f0-b9e6-4b0d-9b82-74c25826aa05",
   "metadata": {},
   "outputs": [
    {
     "ename": "SyntaxError",
     "evalue": "Duplicate parameter name not allowed in this context",
     "output_type": "error",
     "traceback": [
      "Stack trace:",
      "SyntaxError: Duplicate parameter name not allowed in this context"
     ]
    }
   ],
   "source": [
    "function sum(a, a, b) { // ❌ SyntaxError\n",
    "  return a + b;\n",
    "}"
   ]
  },
  {
   "cell_type": "code",
   "execution_count": 4,
   "id": "9efba19c-0887-43dd-b7ae-1351e7f092ed",
   "metadata": {},
   "outputs": [
    {
     "ename": "TypeError",
     "evalue": "Cannot assign to read only property 'x' of object '#<Object>'",
     "output_type": "error",
     "traceback": [
      "Stack trace:",
      "TypeError: Cannot assign to read only property 'x' of object '#<Object>'",
      "    at <anonymous>:6:7"
     ]
    }
   ],
   "source": [
    "const obj = {};\n",
    "Object.defineProperty(obj, \"x\", { value: 42, writable: false });\n",
    "obj.x = 9; // ❌ TypeError"
   ]
  },
  {
   "cell_type": "code",
   "execution_count": 5,
   "id": "9af576f5-a20a-474f-b587-226a7e8301c1",
   "metadata": {},
   "outputs": [
    {
     "ename": "SyntaxError",
     "evalue": "Strict mode code may not include a with statement",
     "output_type": "error",
     "traceback": [
      "Stack trace:",
      "SyntaxError: Strict mode code may not include a with statement"
     ]
    }
   ],
   "source": [
    "with (Math) { // ❌ SyntaxError\n",
    "  console.log(sin(2));\n",
    "}"
   ]
  },
  {
   "cell_type": "code",
   "execution_count": 6,
   "id": "3ddcf193-6283-4389-9a83-f14114bb8c4b",
   "metadata": {},
   "outputs": [
    {
     "name": "stdout",
     "output_type": "stream",
     "text": [
      "\u001b[90mundefined\u001b[39m\n"
     ]
    }
   ],
   "source": [
    "function test() {\n",
    "  console.log(this); // undefined\n",
    "}\n",
    "test();"
   ]
  },
  {
   "cell_type": "code",
   "execution_count": null,
   "id": "5df4302b-93a3-4017-990f-90fef803a404",
   "metadata": {},
   "outputs": [],
   "source": []
  }
 ],
 "metadata": {
  "kernelspec": {
   "display_name": "Deno",
   "language": "typescript",
   "name": "deno"
  },
  "language_info": {
   "codemirror_mode": "typescript",
   "file_extension": ".ts",
   "mimetype": "text/x.typescript",
   "name": "typescript",
   "nbconvert_exporter": "script",
   "pygments_lexer": "typescript",
   "version": "5.7.3"
  }
 },
 "nbformat": 4,
 "nbformat_minor": 5
}
