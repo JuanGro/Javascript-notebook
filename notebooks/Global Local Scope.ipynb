{
 "cells": [
  {
   "cell_type": "markdown",
   "id": "800e5ee7-4e9d-454c-9c1f-ce2afef61040",
   "metadata": {},
   "source": [
    "# Global & Local scope"
   ]
  },
  {
   "cell_type": "code",
   "execution_count": 1,
   "id": "f40a83ff-bc42-4e07-976c-bd3d51472049",
   "metadata": {},
   "outputs": [],
   "source": [
    "let result = 9;"
   ]
  },
  {
   "cell_type": "code",
   "execution_count": 2,
   "id": "c5500006-09dc-47ce-b73a-22b402da6b20",
   "metadata": {},
   "outputs": [
    {
     "data": {
      "text/plain": [
       "\u001b[33m9\u001b[39m"
      ]
     },
     "execution_count": 2,
     "metadata": {},
     "output_type": "execute_result"
    }
   ],
   "source": [
    "result"
   ]
  },
  {
   "cell_type": "code",
   "execution_count": 3,
   "id": "2a244496-6259-4227-b06c-47d70328c1b8",
   "metadata": {},
   "outputs": [],
   "source": [
    "function add() {\n",
    "    result = 8;\n",
    "}"
   ]
  },
  {
   "cell_type": "code",
   "execution_count": 4,
   "id": "e5d759c7-8159-4d78-be57-1a4d42431c8d",
   "metadata": {},
   "outputs": [],
   "source": [
    "add();"
   ]
  },
  {
   "cell_type": "code",
   "execution_count": 5,
   "id": "cdf9861c-2fa7-455e-af54-fe82d493b260",
   "metadata": {},
   "outputs": [
    {
     "data": {
      "text/plain": [
       "\u001b[33m8\u001b[39m"
      ]
     },
     "execution_count": 5,
     "metadata": {},
     "output_type": "execute_result"
    }
   ],
   "source": [
    "result"
   ]
  },
  {
   "cell_type": "code",
   "execution_count": 6,
   "id": "c3af14b8-9ff5-4fdf-96c4-e83d88333fc0",
   "metadata": {},
   "outputs": [],
   "source": [
    "function addLocal() {\n",
    "    const result = 7;\n",
    "    console.log(result);\n",
    "}"
   ]
  },
  {
   "cell_type": "code",
   "execution_count": 7,
   "id": "637e32dd-66ea-411b-b3b3-9df4f5628b9a",
   "metadata": {},
   "outputs": [
    {
     "name": "stdout",
     "output_type": "stream",
     "text": [
      "\u001b[33m7\u001b[39m\n"
     ]
    }
   ],
   "source": [
    "addLocal()"
   ]
  },
  {
   "cell_type": "code",
   "execution_count": 8,
   "id": "da4273ce-f889-4c7d-8641-1e0c839b56e5",
   "metadata": {},
   "outputs": [
    {
     "data": {
      "text/plain": [
       "\u001b[33m8\u001b[39m"
      ]
     },
     "execution_count": 8,
     "metadata": {},
     "output_type": "execute_result"
    }
   ],
   "source": [
    "result"
   ]
  },
  {
   "cell_type": "markdown",
   "id": "c1d718df-e384-44f2-9fce-12c0868bae2c",
   "metadata": {},
   "source": [
    "## Shadowed variables\n",
    "Shadowed variables occur when a local variable (e.g. inside a function) has the same name as a variable in an outer scope (e.g. global). The local variable \"shadows\" the outer one, meaning it takes priority within its scope."
   ]
  },
  {
   "cell_type": "code",
   "execution_count": 9,
   "id": "dd86c438-d0de-4fec-befd-7909163c6129",
   "metadata": {},
   "outputs": [],
   "source": [
    "let userName = 'Max';\n",
    "\n",
    "function greetUser(name) {\n",
    "  let userName = name;  // This shadows the global userName\n",
    "  alert(userName);      // Refers to the local userName ('Max')\n",
    "}\n",
    "\n",
    "userName = 'Manu';\n",
    "greetUser('Max');  // Alerts 'Max'\n"
   ]
  },
  {
   "cell_type": "markdown",
   "id": "5a74c1a6-63b6-484e-aa34-0fe92905fd8b",
   "metadata": {},
   "source": [
    "`return` can be used to quit a function, it doesn't matter if it doesn't return something."
   ]
  },
  {
   "cell_type": "code",
   "execution_count": 10,
   "id": "40888416-995e-466a-92ce-39a313ee6fd8",
   "metadata": {},
   "outputs": [],
   "source": [
    "function greet() {\n",
    "    const a = 'hi';\n",
    "    return; // Quit\n",
    "}"
   ]
  },
  {
   "cell_type": "code",
   "execution_count": 12,
   "id": "b0081afc-805f-4bec-ac3c-a383e1ad5d1d",
   "metadata": {},
   "outputs": [],
   "source": [
    "greet()"
   ]
  },
  {
   "cell_type": "markdown",
   "id": "2c02e08b-b459-4685-92cf-dfd6b16b85ef",
   "metadata": {},
   "source": [
    "### Function reference"
   ]
  },
  {
   "cell_type": "code",
   "execution_count": 14,
   "id": "a0cdbdc5-55ba-4f2e-903d-aed729966009",
   "metadata": {},
   "outputs": [
    {
     "data": {
      "text/plain": [
       "\u001b[36m[Function: greet]\u001b[39m"
      ]
     },
     "execution_count": 14,
     "metadata": {},
     "output_type": "execute_result"
    }
   ],
   "source": [
    "greet"
   ]
  },
  {
   "cell_type": "markdown",
   "id": "75523d05-590a-4deb-9d9d-99b7fe968f99",
   "metadata": {},
   "source": [
    "### Function triggered"
   ]
  },
  {
   "cell_type": "code",
   "execution_count": 15,
   "id": "6da54b1a-4f03-4f37-aac8-30db0a94eaa6",
   "metadata": {},
   "outputs": [],
   "source": [
    "greet()"
   ]
  },
  {
   "cell_type": "code",
   "execution_count": null,
   "id": "a5472681-cf2b-42d8-a6d7-43b6d5ac529c",
   "metadata": {},
   "outputs": [],
   "source": []
  }
 ],
 "metadata": {
  "kernelspec": {
   "display_name": "Deno",
   "language": "typescript",
   "name": "deno"
  },
  "language_info": {
   "codemirror_mode": "typescript",
   "file_extension": ".ts",
   "mimetype": "text/x.typescript",
   "name": "typescript",
   "nbconvert_exporter": "script",
   "pygments_lexer": "typescript",
   "version": "5.7.3"
  }
 },
 "nbformat": 4,
 "nbformat_minor": 5
}
