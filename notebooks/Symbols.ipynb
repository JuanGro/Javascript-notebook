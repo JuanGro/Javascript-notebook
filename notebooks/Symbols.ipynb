{
 "cells": [
  {
   "cell_type": "markdown",
   "id": "7391dc76-0dac-4e03-b61d-2f3a83e843b6",
   "metadata": {},
   "source": [
    "# Symbols"
   ]
  },
  {
   "cell_type": "markdown",
   "id": "622518ed-9b34-4fc8-9bd2-46284a666cb3",
   "metadata": {},
   "source": [
    "In JavaScript, Symbol is a primitive data type introduced in ES6. It is used to create unique identifiers for object properties, ensuring that no property keys collide—even if they have the same description."
   ]
  },
  {
   "cell_type": "code",
   "execution_count": 13,
   "id": "ff68c100-6003-4672-aa24-e0ee2ae83cf9",
   "metadata": {},
   "outputs": [
    {
     "data": {
      "text/plain": [
       "\u001b[33mfalse\u001b[39m"
      ]
     },
     "execution_count": 13,
     "metadata": {},
     "output_type": "execute_result"
    }
   ],
   "source": [
    "Symbol('uid') === Symbol('uid')"
   ]
  },
  {
   "cell_type": "markdown",
   "id": "0f37b0de-dc4f-4b0b-857b-4f19a10bef13",
   "metadata": {},
   "source": [
    "## 1. Creating Unique Symbols"
   ]
  },
  {
   "cell_type": "code",
   "execution_count": 4,
   "id": "fddfbd5d-40df-4f6a-96c0-074cc9ea5f7b",
   "metadata": {},
   "outputs": [],
   "source": [
    "const uid = Symbol('uid');"
   ]
  },
  {
   "cell_type": "code",
   "execution_count": 14,
   "id": "fe70e5ce-594d-40b2-9e63-d5eb47d0316f",
   "metadata": {},
   "outputs": [
    {
     "data": {
      "text/plain": [
       "\u001b[32mSymbol(uid)\u001b[39m"
      ]
     },
     "execution_count": 14,
     "metadata": {},
     "output_type": "execute_result"
    }
   ],
   "source": [
    "uid"
   ]
  },
  {
   "cell_type": "markdown",
   "id": "d883b4e0-35b2-4af5-83ec-a6b9dedf8ddf",
   "metadata": {},
   "source": [
    "## 2. Using Symbols as Object Keys"
   ]
  },
  {
   "cell_type": "code",
   "execution_count": 23,
   "id": "8f39cc9e-2b73-4d04-9943-e9a6378d5238",
   "metadata": {},
   "outputs": [],
   "source": [
    "const user = {\n",
    "    // id: 'p1',\n",
    "    [uid]: 'p1',\n",
    "    name: 'Max',\n",
    "    [Symbol.toStringTag]: 'User'\n",
    "};"
   ]
  },
  {
   "cell_type": "code",
   "execution_count": 24,
   "id": "55238830-f380-44ed-84a1-fb5257dd84f7",
   "metadata": {},
   "outputs": [
    {
     "data": {
      "text/plain": [
       "Object [User] {\n",
       "  name: \u001b[32m\"Max\"\u001b[39m,\n",
       "  [\u001b[32mSymbol(uid)\u001b[39m]: \u001b[32m\"p1\"\u001b[39m,\n",
       "  [\u001b[32mSymbol(Symbol.toStringTag)\u001b[39m]: \u001b[32m\"User\"\u001b[39m\n",
       "}"
      ]
     },
     "execution_count": 24,
     "metadata": {},
     "output_type": "execute_result"
    }
   ],
   "source": [
    "user"
   ]
  },
  {
   "cell_type": "code",
   "execution_count": 25,
   "id": "8da3ed55-9cfd-45f9-990d-c159d0196273",
   "metadata": {},
   "outputs": [],
   "source": [
    "user[Symbol('uid')]"
   ]
  },
  {
   "cell_type": "code",
   "execution_count": 27,
   "id": "7e430606-a608-4264-ba46-24b59be6ca1b",
   "metadata": {},
   "outputs": [
    {
     "data": {
      "text/plain": [
       "[ \u001b[32m\"name\"\u001b[39m ]"
      ]
     },
     "execution_count": 27,
     "metadata": {},
     "output_type": "execute_result"
    }
   ],
   "source": [
    "Object.keys(user); // [\"name\"] — Symbol is not enumerable"
   ]
  },
  {
   "cell_type": "code",
   "execution_count": 28,
   "id": "adc7b719-3a7b-4d5f-993f-11842cfc9b35",
   "metadata": {},
   "outputs": [
    {
     "data": {
      "text/plain": [
       "[ \u001b[32mSymbol(uid)\u001b[39m, \u001b[32mSymbol(Symbol.toStringTag)\u001b[39m ]"
      ]
     },
     "execution_count": 28,
     "metadata": {},
     "output_type": "execute_result"
    }
   ],
   "source": [
    "Object.getOwnPropertySymbols(user); // [ Symbol(userId) ]"
   ]
  },
  {
   "cell_type": "markdown",
   "id": "457fffa8-2859-4aac-aa5b-c77c50cbeb7f",
   "metadata": {},
   "source": [
    "## 3. Hiding Object Properties Using Symbols"
   ]
  },
  {
   "cell_type": "code",
   "execution_count": 34,
   "id": "a3ea6834-0cf4-4cb2-9165-d8a688115481",
   "metadata": {},
   "outputs": [],
   "source": [
    "const secret = Symbol(\"secret\");\n",
    "\n",
    "const obj = {\n",
    "  public: \"I am public\",\n",
    "  [secret]: \"I am hidden\"\n",
    "};"
   ]
  },
  {
   "cell_type": "code",
   "execution_count": 35,
   "id": "13e56466-75e3-460c-84dc-3f35d764e02c",
   "metadata": {},
   "outputs": [
    {
     "data": {
      "text/plain": [
       "{ public: \u001b[32m\"I am public\"\u001b[39m, [\u001b[32mSymbol(secret)\u001b[39m]: \u001b[32m\"I am hidden\"\u001b[39m }"
      ]
     },
     "execution_count": 35,
     "metadata": {},
     "output_type": "execute_result"
    }
   ],
   "source": [
    "obj"
   ]
  },
  {
   "cell_type": "code",
   "execution_count": 33,
   "id": "9d3e0fd5-6ce0-4896-932f-1761a075bf6a",
   "metadata": {},
   "outputs": [
    {
     "name": "stdout",
     "output_type": "stream",
     "text": [
      "public\n"
     ]
    }
   ],
   "source": [
    "for (let key in obj) {\n",
    "  console.log(key); // only logs: public\n",
    "}"
   ]
  },
  {
   "cell_type": "code",
   "execution_count": 36,
   "id": "1de55888-9783-49dc-9c75-c59bf283dbde",
   "metadata": {},
   "outputs": [
    {
     "name": "stdout",
     "output_type": "stream",
     "text": [
      "I am hidden\n"
     ]
    }
   ],
   "source": [
    "console.log(obj[secret]); // \"I am hidden\""
   ]
  },
  {
   "cell_type": "markdown",
   "id": "3d83720a-7d41-46ea-b2ba-781c7eeff10d",
   "metadata": {},
   "source": [
    "## 4. Symbol.for() – Shared Symbols"
   ]
  },
  {
   "cell_type": "code",
   "execution_count": 37,
   "id": "45b69ba4-e863-496d-a369-cbcf2cbb5d94",
   "metadata": {},
   "outputs": [],
   "source": [
    "const globalSym1 = Symbol.for(\"shared\");\n",
    "const globalSym2 = Symbol.for(\"shared\");"
   ]
  },
  {
   "cell_type": "code",
   "execution_count": 38,
   "id": "9c457549-c8a7-4aee-a80b-143bf89ab253",
   "metadata": {},
   "outputs": [
    {
     "data": {
      "text/plain": [
       "\u001b[32mSymbol(shared)\u001b[39m"
      ]
     },
     "execution_count": 38,
     "metadata": {},
     "output_type": "execute_result"
    }
   ],
   "source": [
    "globalSym1"
   ]
  },
  {
   "cell_type": "code",
   "execution_count": 39,
   "id": "f1cbf08c-3598-4cd1-bf31-0f860803bb6a",
   "metadata": {},
   "outputs": [
    {
     "data": {
      "text/plain": [
       "\u001b[32mSymbol(shared)\u001b[39m"
      ]
     },
     "execution_count": 39,
     "metadata": {},
     "output_type": "execute_result"
    }
   ],
   "source": [
    "globalSym2"
   ]
  },
  {
   "cell_type": "code",
   "execution_count": 40,
   "id": "33080949-7cbc-429a-b252-4384feea2b65",
   "metadata": {},
   "outputs": [
    {
     "data": {
      "text/plain": [
       "\u001b[33mtrue\u001b[39m"
      ]
     },
     "execution_count": 40,
     "metadata": {},
     "output_type": "execute_result"
    }
   ],
   "source": [
    "globalSym1 === globalSym2"
   ]
  },
  {
   "cell_type": "markdown",
   "id": "04eb83c8-8922-4c40-8ddd-f2576b2c33a1",
   "metadata": {},
   "source": [
    "## 5. Symbol.keyFor() – Get Key from Global Symbol"
   ]
  },
  {
   "cell_type": "code",
   "execution_count": 41,
   "id": "e014f0ce-46d6-4fb3-9463-c0c50fe540ba",
   "metadata": {},
   "outputs": [],
   "source": [
    "const globalSym = Symbol.for(\"mySymbol\");"
   ]
  },
  {
   "cell_type": "code",
   "execution_count": 42,
   "id": "a818ad32-d889-4190-860e-1817052e0c2e",
   "metadata": {},
   "outputs": [
    {
     "data": {
      "text/plain": [
       "\u001b[32mSymbol(mySymbol)\u001b[39m"
      ]
     },
     "execution_count": 42,
     "metadata": {},
     "output_type": "execute_result"
    }
   ],
   "source": [
    "globalSym"
   ]
  },
  {
   "cell_type": "code",
   "execution_count": 44,
   "id": "a03b0212-250e-4f36-9df2-3b338cc2f8ac",
   "metadata": {},
   "outputs": [
    {
     "data": {
      "text/plain": [
       "\u001b[32m\"mySymbol\"\u001b[39m"
      ]
     },
     "execution_count": 44,
     "metadata": {},
     "output_type": "execute_result"
    }
   ],
   "source": [
    "Symbol.keyFor(globalSym)"
   ]
  },
  {
   "cell_type": "markdown",
   "id": "0944d89f-d438-4e0e-b233-23d43df8a194",
   "metadata": {},
   "source": [
    "## 6. Well-Known Symbols (Advanced Use Cases)"
   ]
  },
  {
   "cell_type": "markdown",
   "id": "378c9494-3962-4a12-8af4-599973ab4df5",
   "metadata": {},
   "source": [
    "JavaScript provides built-in well-known symbols that allow customization of native behaviors."
   ]
  },
  {
   "cell_type": "code",
   "execution_count": 45,
   "id": "6156071b-5fb3-4b38-a173-494184cfad4e",
   "metadata": {},
   "outputs": [],
   "source": [
    "const myIterable = {\n",
    "  *[Symbol.iterator]() {\n",
    "    yield 1;\n",
    "    yield 2;\n",
    "    yield 3;\n",
    "  }\n",
    "};"
   ]
  },
  {
   "cell_type": "code",
   "execution_count": 46,
   "id": "d2877d97-1faf-4e7f-a87c-77f73e7f3168",
   "metadata": {},
   "outputs": [
    {
     "name": "stdout",
     "output_type": "stream",
     "text": [
      "\u001b[33m1\u001b[39m\n",
      "\u001b[33m2\u001b[39m\n",
      "\u001b[33m3\u001b[39m\n"
     ]
    }
   ],
   "source": [
    "for (let value of myIterable) {\n",
    "  console.log(value); // 1, 2, 3\n",
    "}"
   ]
  }
 ],
 "metadata": {
  "kernelspec": {
   "display_name": "Deno",
   "language": "typescript",
   "name": "deno"
  },
  "language_info": {
   "codemirror_mode": "typescript",
   "file_extension": ".ts",
   "mimetype": "text/x.typescript",
   "name": "typescript",
   "nbconvert_exporter": "script",
   "pygments_lexer": "typescript",
   "version": "5.7.3"
  }
 },
 "nbformat": 4,
 "nbformat_minor": 5
}
