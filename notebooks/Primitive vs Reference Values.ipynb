{
 "cells": [
  {
   "cell_type": "markdown",
   "id": "89a6341d-5286-4ba4-a79c-4691986f66b3",
   "metadata": {},
   "source": [
    "# Primitive vs Reference Values"
   ]
  },
  {
   "cell_type": "markdown",
   "id": "0c00d61b-d646-46a2-9bf4-23fee0d6839c",
   "metadata": {},
   "source": [
    "## Primitive Values copy the values"
   ]
  },
  {
   "cell_type": "code",
   "execution_count": 2,
   "id": "98b908ad-849d-4f97-b10f-b8eb1b18c791",
   "metadata": {},
   "outputs": [
    {
     "data": {
      "text/plain": [
       "\u001b[32m\"Max\"\u001b[39m"
      ]
     },
     "execution_count": 2,
     "metadata": {},
     "output_type": "execute_result"
    }
   ],
   "source": [
    "let name = 'Max';\n",
    "name"
   ]
  },
  {
   "cell_type": "code",
   "execution_count": 3,
   "id": "c613aa51-a714-4e51-8e18-551cc3d8abf9",
   "metadata": {},
   "outputs": [
    {
     "data": {
      "text/plain": [
       "\u001b[32m\"Max\"\u001b[39m"
      ]
     },
     "execution_count": 3,
     "metadata": {},
     "output_type": "execute_result"
    }
   ],
   "source": [
    "let anotherUser = name;\n",
    "anotherUser"
   ]
  },
  {
   "cell_type": "code",
   "execution_count": 4,
   "id": "67d81218-9317-4134-92b1-9e9097aaab7d",
   "metadata": {},
   "outputs": [
    {
     "data": {
      "text/plain": [
       "\u001b[32m\"Manuel\"\u001b[39m"
      ]
     },
     "execution_count": 4,
     "metadata": {},
     "output_type": "execute_result"
    }
   ],
   "source": [
    "name = 'Manuel';\n",
    "name"
   ]
  },
  {
   "cell_type": "code",
   "execution_count": 5,
   "id": "3f8e08ef-786c-45ae-811c-6d75500074df",
   "metadata": {},
   "outputs": [
    {
     "data": {
      "text/plain": [
       "\u001b[32m\"Max\"\u001b[39m"
      ]
     },
     "execution_count": 5,
     "metadata": {},
     "output_type": "execute_result"
    }
   ],
   "source": [
    "anotherUser"
   ]
  },
  {
   "cell_type": "markdown",
   "id": "cb099da6-7166-4d76-a5b6-cc2e8c18e403",
   "metadata": {},
   "source": [
    "## Reference Values copy the memory location"
   ]
  },
  {
   "cell_type": "code",
   "execution_count": 6,
   "id": "952e8e0d-fd8e-4215-8815-8f63e40f848d",
   "metadata": {},
   "outputs": [
    {
     "data": {
      "text/plain": [
       "[ \u001b[32m\"Sports\"\u001b[39m ]"
      ]
     },
     "execution_count": 6,
     "metadata": {},
     "output_type": "execute_result"
    }
   ],
   "source": [
    "let hobbies = ['Sports'];\n",
    "hobbies"
   ]
  },
  {
   "cell_type": "code",
   "execution_count": 7,
   "id": "3e7b2863-73a0-4d4c-9f1a-6a887b55e8e1",
   "metadata": {},
   "outputs": [
    {
     "data": {
      "text/plain": [
       "[ \u001b[32m\"Sports\"\u001b[39m ]"
      ]
     },
     "execution_count": 7,
     "metadata": {},
     "output_type": "execute_result"
    }
   ],
   "source": [
    "let newHobbies = hobbies;\n",
    "newHobbies"
   ]
  },
  {
   "cell_type": "code",
   "execution_count": 8,
   "id": "e078c156-00b7-40b4-aaf1-a5fbed1b2a3e",
   "metadata": {},
   "outputs": [
    {
     "data": {
      "text/plain": [
       "\u001b[33m2\u001b[39m"
      ]
     },
     "execution_count": 8,
     "metadata": {},
     "output_type": "execute_result"
    }
   ],
   "source": [
    "hobbies.push('Cookies');"
   ]
  },
  {
   "cell_type": "code",
   "execution_count": 9,
   "id": "dd051037-0e51-4049-9b37-4e648f31b648",
   "metadata": {},
   "outputs": [
    {
     "data": {
      "text/plain": [
       "[ \u001b[32m\"Sports\"\u001b[39m, \u001b[32m\"Cookies\"\u001b[39m ]"
      ]
     },
     "execution_count": 9,
     "metadata": {},
     "output_type": "execute_result"
    }
   ],
   "source": [
    "hobbies;"
   ]
  },
  {
   "cell_type": "code",
   "execution_count": 10,
   "id": "2d465f3e-56e1-4f00-a55a-c9354c3bffee",
   "metadata": {},
   "outputs": [
    {
     "data": {
      "text/plain": [
       "[ \u001b[32m\"Sports\"\u001b[39m, \u001b[32m\"Cookies\"\u001b[39m ]"
      ]
     },
     "execution_count": 10,
     "metadata": {},
     "output_type": "execute_result"
    }
   ],
   "source": [
    "newHobbies;"
   ]
  },
  {
   "cell_type": "code",
   "execution_count": 11,
   "id": "4caef282-ca2f-462f-b48d-8d0cb35ba190",
   "metadata": {},
   "outputs": [
    {
     "data": {
      "text/plain": [
       "{ age: \u001b[33m30\u001b[39m }"
      ]
     },
     "execution_count": 11,
     "metadata": {},
     "output_type": "execute_result"
    }
   ],
   "source": [
    "let person = {\n",
    "    age: 30\n",
    "};\n",
    "person;"
   ]
  },
  {
   "cell_type": "code",
   "execution_count": 12,
   "id": "0215b583-4b06-4b76-bd94-f9336f5281c3",
   "metadata": {},
   "outputs": [
    {
     "data": {
      "text/plain": [
       "{ age: \u001b[33m30\u001b[39m }"
      ]
     },
     "execution_count": 12,
     "metadata": {},
     "output_type": "execute_result"
    }
   ],
   "source": [
    "let anotherPerson = person;\n",
    "anotherPerson;"
   ]
  },
  {
   "cell_type": "code",
   "execution_count": 19,
   "id": "ddc82e00-b6c3-4d1b-b2f2-fdfd0c8789d9",
   "metadata": {},
   "outputs": [
    {
     "data": {
      "text/plain": [
       "{ age: \u001b[33m32\u001b[39m }"
      ]
     },
     "execution_count": 19,
     "metadata": {},
     "output_type": "execute_result"
    }
   ],
   "source": [
    "anotherPerson.age = 32;\n",
    "anotherPerson;"
   ]
  },
  {
   "cell_type": "code",
   "execution_count": 26,
   "id": "bc3caa19-fb19-433c-a17b-89f0c3d6ee7a",
   "metadata": {},
   "outputs": [
    {
     "data": {
      "text/plain": [
       "{ age: \u001b[33m32\u001b[39m }"
      ]
     },
     "execution_count": 26,
     "metadata": {},
     "output_type": "execute_result"
    }
   ],
   "source": [
    "person;"
   ]
  },
  {
   "cell_type": "markdown",
   "id": "7e833ba1-7c6b-48f0-b53e-82f3132139ff",
   "metadata": {},
   "source": [
    "## Real copy of values in objects"
   ]
  },
  {
   "cell_type": "code",
   "execution_count": 21,
   "id": "ce94b77b-cfc1-4b02-af80-32192090ca5b",
   "metadata": {},
   "outputs": [
    {
     "data": {
      "text/plain": [
       "{ age: \u001b[33m32\u001b[39m }"
      ]
     },
     "execution_count": 21,
     "metadata": {},
     "output_type": "execute_result"
    }
   ],
   "source": [
    "let yetAnotherPerson = { ...person }; // Real copy of values\n",
    "yetAnotherPerson;"
   ]
  },
  {
   "cell_type": "code",
   "execution_count": 16,
   "id": "80f472a9-b9b0-416a-9658-8a513bd0e677",
   "metadata": {},
   "outputs": [
    {
     "data": {
      "text/plain": [
       "{ age: \u001b[33m30\u001b[39m }"
      ]
     },
     "execution_count": 16,
     "metadata": {},
     "output_type": "execute_result"
    }
   ],
   "source": [
    "person.age = 30;\n",
    "person;"
   ]
  },
  {
   "cell_type": "code",
   "execution_count": 17,
   "id": "e1d44086-e7cb-4830-8888-3fc3d1700c82",
   "metadata": {},
   "outputs": [
    {
     "data": {
      "text/plain": [
       "{ age: \u001b[33m32\u001b[39m }"
      ]
     },
     "execution_count": 17,
     "metadata": {},
     "output_type": "execute_result"
    }
   ],
   "source": [
    "yetAnotherPerson;"
   ]
  },
  {
   "cell_type": "code",
   "execution_count": 22,
   "id": "6667a7a3-a92a-42cc-a2e5-bb0e888b181e",
   "metadata": {},
   "outputs": [
    {
     "data": {
      "text/plain": [
       "[ \u001b[32m\"Sports\"\u001b[39m, \u001b[32m\"Cookies\"\u001b[39m ]"
      ]
     },
     "execution_count": 22,
     "metadata": {},
     "output_type": "execute_result"
    }
   ],
   "source": [
    "let moreHobbies = [...hobbies];\n",
    "moreHobbies;"
   ]
  },
  {
   "cell_type": "code",
   "execution_count": 23,
   "id": "088f4bee-3044-4539-8410-78be4761e0be",
   "metadata": {},
   "outputs": [
    {
     "data": {
      "text/plain": [
       "[ \u001b[32m\"Sports\"\u001b[39m, \u001b[32m\"Cookies\"\u001b[39m, \u001b[32m\"Pictures\"\u001b[39m ]"
      ]
     },
     "execution_count": 23,
     "metadata": {},
     "output_type": "execute_result"
    }
   ],
   "source": [
    "hobbies.push('Pictures');\n",
    "hobbies;"
   ]
  },
  {
   "cell_type": "code",
   "execution_count": 25,
   "id": "90bbb2c7-1ae7-423d-9def-6d9423cd9b51",
   "metadata": {},
   "outputs": [
    {
     "data": {
      "text/plain": [
       "[ \u001b[32m\"Sports\"\u001b[39m, \u001b[32m\"Cookies\"\u001b[39m ]"
      ]
     },
     "execution_count": 25,
     "metadata": {},
     "output_type": "execute_result"
    }
   ],
   "source": [
    "moreHobbies;"
   ]
  },
  {
   "cell_type": "markdown",
   "id": "c5282003-d4be-4d2e-b71b-650d706cee43",
   "metadata": {},
   "source": [
    "## Comparison of objects"
   ]
  },
  {
   "cell_type": "code",
   "execution_count": 1,
   "id": "1939ae11-adce-494e-952e-64d7f4bad7f0",
   "metadata": {},
   "outputs": [
    {
     "data": {
      "text/plain": [
       "{ age: \u001b[33m30\u001b[39m }"
      ]
     },
     "execution_count": 1,
     "metadata": {},
     "output_type": "execute_result"
    }
   ],
   "source": [
    "const person1 = {\n",
    "    age: 30\n",
    "};\n",
    "person1;"
   ]
  },
  {
   "cell_type": "code",
   "execution_count": 3,
   "id": "87e0f2e8-8473-4e60-b47a-dd0a20298561",
   "metadata": {},
   "outputs": [
    {
     "data": {
      "text/plain": [
       "{ age: \u001b[33m30\u001b[39m }"
      ]
     },
     "execution_count": 3,
     "metadata": {},
     "output_type": "execute_result"
    }
   ],
   "source": [
    "const person2 = {\n",
    "    age: 30\n",
    "};\n",
    "person2;"
   ]
  },
  {
   "cell_type": "code",
   "execution_count": 4,
   "id": "feda932b-1f95-4fb6-8b49-fafe75dde19c",
   "metadata": {},
   "outputs": [
    {
     "data": {
      "text/plain": [
       "\u001b[33mfalse\u001b[39m"
      ]
     },
     "execution_count": 4,
     "metadata": {},
     "output_type": "execute_result"
    }
   ],
   "source": [
    "person1 === person2 // Pointers are not the same"
   ]
  },
  {
   "cell_type": "code",
   "execution_count": 5,
   "id": "97a020c9-c158-4607-afe1-e9894a7e4535",
   "metadata": {},
   "outputs": [
    {
     "data": {
      "text/plain": [
       "\u001b[33mfalse\u001b[39m"
      ]
     },
     "execution_count": 5,
     "metadata": {},
     "output_type": "execute_result"
    }
   ],
   "source": [
    "person1 == person2 // Pointers are not the same"
   ]
  },
  {
   "cell_type": "markdown",
   "id": "cc2742be-d114-4102-bce5-de6cb14bfbbe",
   "metadata": {},
   "source": [
    "## You can modify objects save in a constant because the memory address is not changing. But you cannot replace the memory address"
   ]
  },
  {
   "cell_type": "code",
   "execution_count": 7,
   "id": "475471ab-e673-48c0-98b7-54a4d1c0b269",
   "metadata": {},
   "outputs": [
    {
     "data": {
      "text/plain": [
       "[ \u001b[32m\"Sports\"\u001b[39m ]"
      ]
     },
     "execution_count": 7,
     "metadata": {},
     "output_type": "execute_result"
    }
   ],
   "source": [
    "const hobbiesExample = ['Sports']; // Pointer is saved\n",
    "hobbiesExample;"
   ]
  },
  {
   "cell_type": "code",
   "execution_count": 8,
   "id": "69149f52-56a7-4c22-baa8-0cff5d19eba6",
   "metadata": {},
   "outputs": [
    {
     "data": {
      "text/plain": [
       "\u001b[33m2\u001b[39m"
      ]
     },
     "execution_count": 8,
     "metadata": {},
     "output_type": "execute_result"
    }
   ],
   "source": [
    "hobbiesExample.push('Cooking');"
   ]
  },
  {
   "cell_type": "code",
   "execution_count": 9,
   "id": "6acfb4f2-1a1f-4e1a-8671-fc29e54b525c",
   "metadata": {},
   "outputs": [
    {
     "data": {
      "text/plain": [
       "[ \u001b[32m\"Sports\"\u001b[39m, \u001b[32m\"Cooking\"\u001b[39m ]"
      ]
     },
     "execution_count": 9,
     "metadata": {},
     "output_type": "execute_result"
    }
   ],
   "source": [
    "hobbiesExample;"
   ]
  },
  {
   "cell_type": "code",
   "execution_count": 10,
   "id": "2bd77e4c-9360-4c27-a889-19353ee321ea",
   "metadata": {},
   "outputs": [
    {
     "ename": "TypeError",
     "evalue": "Assignment to constant variable.",
     "output_type": "error",
     "traceback": [
      "Stack trace:",
      "TypeError: Assignment to constant variable.",
      "    at <anonymous>:1:37"
     ]
    }
   ],
   "source": [
    "hobbiesExample = [];"
   ]
  },
  {
   "cell_type": "code",
   "execution_count": 11,
   "id": "89a571e9-d9c4-4ca6-9028-d224017eb341",
   "metadata": {},
   "outputs": [
    {
     "data": {
      "text/plain": [
       "{ age: \u001b[33m30\u001b[39m }"
      ]
     },
     "execution_count": 11,
     "metadata": {},
     "output_type": "execute_result"
    }
   ],
   "source": [
    "const personExample = {\n",
    "    age: 30\n",
    "};\n",
    "personExample;"
   ]
  },
  {
   "cell_type": "code",
   "execution_count": 12,
   "id": "50c711da-d3bc-48b1-810f-502c632ceb78",
   "metadata": {},
   "outputs": [
    {
     "data": {
      "text/plain": [
       "\u001b[33m32\u001b[39m"
      ]
     },
     "execution_count": 12,
     "metadata": {},
     "output_type": "execute_result"
    }
   ],
   "source": [
    "personExample.age = 32;"
   ]
  },
  {
   "cell_type": "code",
   "execution_count": 13,
   "id": "a91f7e6a-e396-4f31-9efe-50baddce8187",
   "metadata": {},
   "outputs": [
    {
     "data": {
      "text/plain": [
       "{ age: \u001b[33m32\u001b[39m }"
      ]
     },
     "execution_count": 13,
     "metadata": {},
     "output_type": "execute_result"
    }
   ],
   "source": [
    "personExample;"
   ]
  },
  {
   "cell_type": "code",
   "execution_count": 14,
   "id": "e7b97317-7a25-4c73-908b-16f03c738a5b",
   "metadata": {},
   "outputs": [
    {
     "ename": "TypeError",
     "evalue": "Assignment to constant variable.",
     "output_type": "error",
     "traceback": [
      "Stack trace:",
      "TypeError: Assignment to constant variable.",
      "    at <anonymous>:1:36"
     ]
    }
   ],
   "source": [
    "personExample = {};"
   ]
  },
  {
   "cell_type": "code",
   "execution_count": null,
   "id": "3a6ab9eb-92c6-4883-8d5c-842c6e6e675e",
   "metadata": {},
   "outputs": [],
   "source": []
  }
 ],
 "metadata": {
  "kernelspec": {
   "display_name": "Deno",
   "language": "typescript",
   "name": "deno"
  },
  "language_info": {
   "codemirror_mode": "typescript",
   "file_extension": ".ts",
   "mimetype": "text/x.typescript",
   "name": "typescript",
   "nbconvert_exporter": "script",
   "pygments_lexer": "typescript",
   "version": "5.7.3"
  }
 },
 "nbformat": 4,
 "nbformat_minor": 5
}
