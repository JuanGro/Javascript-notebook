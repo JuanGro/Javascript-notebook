{
 "cells": [
  {
   "cell_type": "markdown",
   "id": "7922d5ad-fb90-409b-8d4b-1aa2c19fd01f",
   "metadata": {},
   "source": [
    "# Functions"
   ]
  },
  {
   "cell_type": "markdown",
   "id": "c54aadf8-8109-41be-a017-8f5e9779e169",
   "metadata": {},
   "source": [
    "## Define function"
   ]
  },
  {
   "cell_type": "code",
   "execution_count": null,
   "id": "5c8b31aa-cab9-4300-b592-972665e6ca22",
   "metadata": {},
   "outputs": [],
   "source": [
    "function greetUser(name) {\n",
    "    console.log('Hi ' + name);\n",
    "}"
   ]
  },
  {
   "cell_type": "code",
   "execution_count": 8,
   "id": "34ed802e-017d-4436-a543-799223daf218",
   "metadata": {},
   "outputs": [
    {
     "name": "stdout",
     "output_type": "stream",
     "text": [
      "Hi John\n"
     ]
    }
   ],
   "source": [
    "greetUser('John');"
   ]
  },
  {
   "cell_type": "markdown",
   "id": "e34805ad-1326-4002-a584-5b6246cb6669",
   "metadata": {},
   "source": [
    "## \"Indirect\" vs \"Direct\" Function Execution\n",
    "\n",
    "It can be confusing to see that there seem to be two ways of executing a function:\n",
    "`\n",
    "function add() {\n",
    "  something = someNum + someOtherNum;\n",
    "}\n",
    "`\n",
    "add() vs add\n",
    "\n",
    "It's important to understand why we have these \"two ways\"!\n",
    "\n",
    "In general, you call a function that you defined by using its name (e.g. add) and adding parentheses (with any parameters the function might need - or empty parentheses if no parameters are required like in the above example).\n",
    "`\n",
    "=> add()\n",
    "`\n",
    "This is how you execute a function from your code. Whenever JavaScript encounters this statement, it goes ahead and runs the code in the function. Period!\n",
    "\n",
    "Sometimes however, you don't want to execute the function immediately. You rather want to \"tell JavaScript\" that it should execute a certain function at some point in the future (e.g. when some event occurs).\n",
    "\n",
    "That's when you don't directly call the function but when you instead just provide JavaScript with the name of the function.\n",
    "`\n",
    "=> someButton.addEventListener('click', add);\n",
    "`\n",
    "This snippet would tell JavaScript: \"Hey, when the button is clicked, go ahead and execute add.\".\n",
    "`\n",
    "someButton.addEventListener('click', add()); would be wrong.\n",
    "`\n",
    "Why? Because JavaScript would encounter that line when it parses/ executes your script and register the event listener AND immediately execute add - because you added parentheses => That means (see above): \"Please execute that function!\".\n",
    "\n",
    "Just writing add somewhere in your code would do nothing by the way:\n",
    "`\n",
    "let someVar = 5;\n",
    "add\n",
    "alert('Do something else...');\n",
    "`\n",
    "Why?\n",
    "Because you just throw the name of the function in there but you don't give any other information to JavaScript. It basically doesn't know what to do with that name (\"Should I run that when a click occurs? After a certain amount of time? I don't know...\") and hence JavaScript kind of ignores this statement."
   ]
  },
  {
   "cell_type": "code",
   "execution_count": null,
   "id": "f275c7e7-20c6-4f79-90e8-b260d6504b9f",
   "metadata": {},
   "outputs": [],
   "source": [
    "### Function reference"
   ]
  },
  {
   "cell_type": "code",
   "execution_count": null,
   "id": "8ee14bb5-2e80-4c1a-88a0-5ecc9ff925af",
   "metadata": {},
   "outputs": [],
   "source": [
    "greetUser"
   ]
  },
  {
   "cell_type": "code",
   "execution_count": null,
   "id": "63d3a548-dbac-4010-ba54-13d1dacf81fb",
   "metadata": {},
   "outputs": [],
   "source": [
    "### Function triggered"
   ]
  },
  {
   "cell_type": "code",
   "execution_count": null,
   "id": "cfe997c3-e41a-4c3f-ae58-1aa6f812eb54",
   "metadata": {},
   "outputs": [],
   "source": [
    "greetUser()"
   ]
  },
  {
   "cell_type": "code",
   "execution_count": null,
   "id": "febf27ed-0e33-4a1e-aa95-82c466f0f0b9",
   "metadata": {},
   "outputs": [],
   "source": []
  }
 ],
 "metadata": {
  "kernelspec": {
   "display_name": "Deno",
   "language": "typescript",
   "name": "deno"
  },
  "language_info": {
   "codemirror_mode": "typescript",
   "file_extension": ".ts",
   "mimetype": "text/x.typescript",
   "name": "typescript",
   "nbconvert_exporter": "script",
   "pygments_lexer": "typescript",
   "version": "5.7.3"
  }
 },
 "nbformat": 4,
 "nbformat_minor": 5
}
