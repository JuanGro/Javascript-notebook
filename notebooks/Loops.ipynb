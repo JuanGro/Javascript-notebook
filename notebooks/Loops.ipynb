{
 "cells": [
  {
   "cell_type": "markdown",
   "id": "9eee2157-9d32-4c50-90a4-c124fa892f82",
   "metadata": {},
   "source": [
    "# Loops"
   ]
  },
  {
   "cell_type": "code",
   "execution_count": 2,
   "id": "2c4338d9-4e26-44ee-9652-a9825641bc5d",
   "metadata": {},
   "outputs": [],
   "source": [
    "const exampleArray = [1, 2, 3, 4, 5];\n",
    "const exampleObject = { a: 'a1', b: 'b2', c: 'c3', d: 'd4', e: 'e5' };"
   ]
  },
  {
   "cell_type": "code",
   "execution_count": 4,
   "id": "52c88f19-07a3-45ac-a7d7-042562e32a2f",
   "metadata": {},
   "outputs": [
    {
     "name": "stdout",
     "output_type": "stream",
     "text": [
      "\u001b[33m1\u001b[39m\n",
      "\u001b[33m2\u001b[39m\n",
      "\u001b[33m3\u001b[39m\n",
      "\u001b[33m4\u001b[39m\n",
      "\u001b[33m5\u001b[39m\n"
     ]
    }
   ],
   "source": [
    "for (let i = 0; i < exampleArray.length; i++) {\n",
    "    console.log(exampleArray[i]);\n",
    "}"
   ]
  },
  {
   "cell_type": "code",
   "execution_count": 5,
   "id": "7b5c5620-4c7a-4af1-b544-6c8b17e07879",
   "metadata": {},
   "outputs": [
    {
     "name": "stdout",
     "output_type": "stream",
     "text": [
      "\u001b[33m1\u001b[39m\n",
      "\u001b[33m2\u001b[39m\n",
      "\u001b[33m3\u001b[39m\n",
      "\u001b[33m4\u001b[39m\n",
      "\u001b[33m5\u001b[39m\n"
     ]
    }
   ],
   "source": [
    "for (let element of exampleArray) {\n",
    "    console.log(element);\n",
    "}"
   ]
  },
  {
   "cell_type": "code",
   "execution_count": 8,
   "id": "16ce157c-6ddf-4336-a7d8-15203598e33f",
   "metadata": {},
   "outputs": [
    {
     "name": "stdout",
     "output_type": "stream",
     "text": [
      "0\n",
      "\u001b[33m1\u001b[39m\n",
      "1\n",
      "\u001b[33m2\u001b[39m\n",
      "2\n",
      "\u001b[33m3\u001b[39m\n",
      "3\n",
      "\u001b[33m4\u001b[39m\n",
      "4\n",
      "\u001b[33m5\u001b[39m\n"
     ]
    }
   ],
   "source": [
    "for (let index in exampleArray) {\n",
    "    console.log(index);\n",
    "    console.log(exampleArray[index]);\n",
    "}"
   ]
  },
  {
   "cell_type": "code",
   "execution_count": 13,
   "id": "c1f46eda-6a25-4cc0-9d53-125c8a18d1e9",
   "metadata": {},
   "outputs": [
    {
     "name": "stdout",
     "output_type": "stream",
     "text": [
      "a1\n",
      "b2\n",
      "c3\n",
      "d4\n",
      "e5\n"
     ]
    }
   ],
   "source": [
    "for (let key in exampleObject) {\n",
    "    console.log(exampleObject[key]);\n",
    "}"
   ]
  },
  {
   "cell_type": "code",
   "execution_count": 15,
   "id": "0832ac89-328a-4355-b68d-43a2a97252d4",
   "metadata": {},
   "outputs": [
    {
     "name": "stdout",
     "output_type": "stream",
     "text": [
      "\u001b[33m5\u001b[39m\n",
      "\u001b[33m4\u001b[39m\n",
      "\u001b[33m3\u001b[39m\n",
      "\u001b[33m2\u001b[39m\n",
      "\u001b[33m1\u001b[39m\n"
     ]
    }
   ],
   "source": [
    "let j = exampleArray.length;\n",
    "while (j > 0){\n",
    "    console.log(j--);\n",
    "}"
   ]
  },
  {
   "cell_type": "code",
   "execution_count": 20,
   "id": "00d879bb-8f90-4b3d-b1e1-dcd196a1eded",
   "metadata": {},
   "outputs": [
    {
     "name": "stdout",
     "output_type": "stream",
     "text": [
      "\u001b[33m1\u001b[39m \u001b[33m0\u001b[39m\n",
      "\u001b[33m2\u001b[39m \u001b[33m1\u001b[39m\n",
      "\u001b[33m3\u001b[39m \u001b[33m2\u001b[39m\n",
      "\u001b[33m4\u001b[39m \u001b[33m3\u001b[39m\n",
      "\u001b[33m5\u001b[39m \u001b[33m4\u001b[39m\n"
     ]
    },
    {
     "data": {
      "text/plain": [
       "\u001b[33m4\u001b[39m"
      ]
     },
     "execution_count": 20,
     "metadata": {},
     "output_type": "execute_result"
    }
   ],
   "source": [
    "for (let i = 0, j = 0; i < exampleArray.length; i++) {\n",
    "    console.log(exampleArray[i], j);\n",
    "    j++\n",
    "}"
   ]
  },
  {
   "cell_type": "code",
   "execution_count": 23,
   "id": "6e22ccff-cdf8-469c-aeb9-2dad169462a6",
   "metadata": {},
   "outputs": [
    {
     "name": "stdout",
     "output_type": "stream",
     "text": [
      "\u001b[33m1\u001b[39m\n"
     ]
    },
    {
     "ename": "TypeError",
     "evalue": "Assignment to constant variable.",
     "output_type": "error",
     "traceback": [
      "Stack trace:",
      "TypeError: Assignment to constant variable.",
      "    at <anonymous>:1:65"
     ]
    }
   ],
   "source": [
    "for (const i = 0; i < exampleArray.length; i++) {\n",
    "    console.log(exampleArray[i]);\n",
    "}"
   ]
  },
  {
   "cell_type": "code",
   "execution_count": 25,
   "id": "9d4dcae3-28de-4003-aee1-108959e2b394",
   "metadata": {},
   "outputs": [
    {
     "name": "stdout",
     "output_type": "stream",
     "text": [
      "\u001b[33m45\u001b[39m\n"
     ]
    }
   ],
   "source": [
    "let sum = 0;\n",
    "for (let i = 0; i < 3; i++) {\n",
    "    for (let j = 5; j > 2; j--) {\n",
    "        sum = sum + j + i;\n",
    "    }\n",
    "}\n",
    "console.log(sum);"
   ]
  },
  {
   "cell_type": "code",
   "execution_count": 27,
   "id": "75d7ec20-90c5-4f74-8de8-6541ad8fda5e",
   "metadata": {},
   "outputs": [
    {
     "name": "stdout",
     "output_type": "stream",
     "text": [
      "\u001b[33m5\u001b[39m\n"
     ]
    }
   ],
   "source": [
    "let sum = 0;\n",
    "for (let i = 0; i < 3; i++) {\n",
    "    for (let j = 5; j > 2; j--) {\n",
    "        sum = j + i;\n",
    "    }\n",
    "}\n",
    "console.log(sum);"
   ]
  },
  {
   "cell_type": "code",
   "execution_count": 3,
   "id": "02ad5bb7-0f6e-40cc-ac1f-45dc52ca43f8",
   "metadata": {},
   "outputs": [
    {
     "name": "stdout",
     "output_type": "stream",
     "text": [
      "\u001b[33m5\u001b[39m\n",
      "\u001b[33m4\u001b[39m\n",
      "\u001b[33m3\u001b[39m\n"
     ]
    }
   ],
   "source": [
    "let j = exampleArray.length;\n",
    "while (j > 0){\n",
    "    if (j === 2) {\n",
    "        break;\n",
    "    }\n",
    "    console.log(j--);\n",
    "}"
   ]
  },
  {
   "cell_type": "code",
   "execution_count": 5,
   "id": "f7fb73e6-36b6-46de-862e-2f55dae618c7",
   "metadata": {},
   "outputs": [
    {
     "name": "stdout",
     "output_type": "stream",
     "text": [
      "\u001b[33m5\u001b[39m\n",
      "\u001b[33m4\u001b[39m\n",
      "\u001b[33m3\u001b[39m\n",
      "\u001b[33m1\u001b[39m\n"
     ]
    }
   ],
   "source": [
    "let j = exampleArray.length;\n",
    "while (j > 0){\n",
    "    if (j === 2) {\n",
    "        j--\n",
    "        continue;\n",
    "    }\n",
    "    console.log(j--);\n",
    "}"
   ]
  },
  {
   "cell_type": "code",
   "execution_count": 13,
   "id": "d0c1989c-fff2-491c-b80c-7b5f62066cc9",
   "metadata": {},
   "outputs": [
    {
     "name": "stdout",
     "output_type": "stream",
     "text": [
      "\u001b[33m0\u001b[39m\n",
      "\u001b[33m1\u001b[39m\n",
      "\u001b[33m2\u001b[39m\n",
      "\u001b[33m3\u001b[39m\n",
      "\u001b[33m4\u001b[39m\n"
     ]
    }
   ],
   "source": [
    "let k = 0;\n",
    "do {\n",
    "    console.log(k++);\n",
    "} while (k < 5);"
   ]
  },
  {
   "cell_type": "code",
   "execution_count": 1,
   "id": "7246a577-ca14-401c-9245-d64b7d99a913",
   "metadata": {},
   "outputs": [
    {
     "name": "stdout",
     "output_type": "stream",
     "text": [
      "\u001b[33m0\u001b[39m\n"
     ]
    }
   ],
   "source": [
    "let k = 0;\n",
    "do {\n",
    "    console.log(k++);\n",
    "} while (k >= 5);"
   ]
  },
  {
   "cell_type": "code",
   "execution_count": 2,
   "id": "3a654b7e-04e1-4386-b50e-8232454d364c",
   "metadata": {},
   "outputs": [
    {
     "data": {
      "text/plain": [
       "[ \u001b[33m1\u001b[39m, \u001b[33m2\u001b[39m, \u001b[33m3\u001b[39m, \u001b[33m4\u001b[39m, \u001b[33m5\u001b[39m ]"
      ]
     },
     "execution_count": 2,
     "metadata": {},
     "output_type": "execute_result"
    }
   ],
   "source": [
    "const numbers = [1, 2, 3, 4 ,5];\n",
    "numbers"
   ]
  },
  {
   "cell_type": "code",
   "execution_count": 4,
   "id": "b91a7138-c14b-49e4-8887-98c12fea14d7",
   "metadata": {},
   "outputs": [
    {
     "name": "stdout",
     "output_type": "stream",
     "text": [
      "\u001b[33m1\u001b[39m \u001b[33m0\u001b[39m [ \u001b[33m1\u001b[39m, \u001b[33m2\u001b[39m, \u001b[33m3\u001b[39m, \u001b[33m4\u001b[39m, \u001b[33m5\u001b[39m ]\n",
      "\u001b[33m2\u001b[39m \u001b[33m1\u001b[39m [ \u001b[33m1\u001b[39m, \u001b[33m2\u001b[39m, \u001b[33m3\u001b[39m, \u001b[33m4\u001b[39m, \u001b[33m5\u001b[39m ]\n",
      "\u001b[33m3\u001b[39m \u001b[33m2\u001b[39m [ \u001b[33m1\u001b[39m, \u001b[33m2\u001b[39m, \u001b[33m3\u001b[39m, \u001b[33m4\u001b[39m, \u001b[33m5\u001b[39m ]\n",
      "\u001b[33m4\u001b[39m \u001b[33m3\u001b[39m [ \u001b[33m1\u001b[39m, \u001b[33m2\u001b[39m, \u001b[33m3\u001b[39m, \u001b[33m4\u001b[39m, \u001b[33m5\u001b[39m ]\n",
      "\u001b[33m5\u001b[39m \u001b[33m4\u001b[39m [ \u001b[33m1\u001b[39m, \u001b[33m2\u001b[39m, \u001b[33m3\u001b[39m, \u001b[33m4\u001b[39m, \u001b[33m5\u001b[39m ]\n"
     ]
    }
   ],
   "source": [
    "numbers.forEach((number, index, array) => console.log(number, index, array));"
   ]
  }
 ],
 "metadata": {
  "kernelspec": {
   "display_name": "Deno",
   "language": "typescript",
   "name": "deno"
  },
  "language_info": {
   "codemirror_mode": "typescript",
   "file_extension": ".ts",
   "mimetype": "text/x.typescript",
   "name": "typescript",
   "nbconvert_exporter": "script",
   "pygments_lexer": "typescript",
   "version": "5.7.3"
  }
 },
 "nbformat": 4,
 "nbformat_minor": 5
}
