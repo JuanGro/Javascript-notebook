{
 "cells": [
  {
   "cell_type": "markdown",
   "id": "921d4764-c05e-49b9-98e8-e76c06dc6ca9",
   "metadata": {},
   "source": [
    "# Closures"
   ]
  },
  {
   "cell_type": "markdown",
   "id": "13ca2ec2-b65b-4bf2-ac14-f272d51ec4d1",
   "metadata": {},
   "source": [
    "A closure is a function that retains access to its lexical scope, \n",
    "even when that function is executed outside of its original scope."
   ]
  },
  {
   "cell_type": "markdown",
   "id": "e987062d-cad5-4e0f-abb0-fa88dd33381d",
   "metadata": {},
   "source": [
    "Basic Closure Example"
   ]
  },
  {
   "cell_type": "code",
   "execution_count": 1,
   "id": "ddf45672-e686-4b10-9ec7-44b5bf682677",
   "metadata": {},
   "outputs": [],
   "source": [
    "function outer() {\n",
    "    let counter = 0;\n",
    "    return function inner() {\n",
    "        counter++;\n",
    "        return counter;\n",
    "    }\n",
    "}"
   ]
  },
  {
   "cell_type": "code",
   "execution_count": 2,
   "id": "72101bb0-2054-4e18-bee1-62e80627d52b",
   "metadata": {},
   "outputs": [],
   "source": [
    "const count = outer();"
   ]
  },
  {
   "cell_type": "code",
   "execution_count": 3,
   "id": "9595b5a2-2cf6-403c-be26-2ceb515a1035",
   "metadata": {},
   "outputs": [
    {
     "data": {
      "text/plain": [
       "\u001b[33m1\u001b[39m"
      ]
     },
     "execution_count": 3,
     "metadata": {},
     "output_type": "execute_result"
    }
   ],
   "source": [
    "count()"
   ]
  },
  {
   "cell_type": "code",
   "execution_count": 4,
   "id": "4cbdffaf-6b65-4c32-9cf8-37d7365a9803",
   "metadata": {},
   "outputs": [
    {
     "data": {
      "text/plain": [
       "\u001b[33m2\u001b[39m"
      ]
     },
     "execution_count": 4,
     "metadata": {},
     "output_type": "execute_result"
    }
   ],
   "source": [
    "count()"
   ]
  },
  {
   "cell_type": "code",
   "execution_count": 5,
   "id": "3c5818c0-425e-4aa8-a61b-1d7dcb814ed5",
   "metadata": {},
   "outputs": [
    {
     "data": {
      "text/plain": [
       "\u001b[33m3\u001b[39m"
      ]
     },
     "execution_count": 5,
     "metadata": {},
     "output_type": "execute_result"
    }
   ],
   "source": [
    "count()"
   ]
  },
  {
   "cell_type": "markdown",
   "id": "b289b8de-e44c-40d7-9046-db9b5746437d",
   "metadata": {},
   "source": [
    "Closure with Parameters"
   ]
  },
  {
   "cell_type": "code",
   "execution_count": 6,
   "id": "b0aef3b8-4b5b-42d5-b048-1cf1c0be899b",
   "metadata": {},
   "outputs": [],
   "source": [
    "function makeAdder(x) {\n",
    "    return function(y) {\n",
    "        return x + y;\n",
    "    }\n",
    "}"
   ]
  },
  {
   "cell_type": "code",
   "execution_count": 7,
   "id": "13d9ee6c-bfd6-4a0e-85a3-14f2f393895e",
   "metadata": {},
   "outputs": [],
   "source": [
    "const add5 = makeAdder(5);"
   ]
  },
  {
   "cell_type": "code",
   "execution_count": 8,
   "id": "6f20b1bb-dfd3-49bf-8ec7-3f876f1a4893",
   "metadata": {},
   "outputs": [],
   "source": [
    "const add10 = makeAdder(10);"
   ]
  },
  {
   "cell_type": "code",
   "execution_count": 9,
   "id": "643557b4-67c8-4632-803f-bc63ca3773a8",
   "metadata": {},
   "outputs": [
    {
     "data": {
      "text/plain": [
       "\u001b[33m7\u001b[39m"
      ]
     },
     "execution_count": 9,
     "metadata": {},
     "output_type": "execute_result"
    }
   ],
   "source": [
    "add5(2)"
   ]
  },
  {
   "cell_type": "code",
   "execution_count": 10,
   "id": "1d1e882a-1916-4c74-b5bf-19b4bfa15f18",
   "metadata": {},
   "outputs": [
    {
     "data": {
      "text/plain": [
       "\u001b[33m12\u001b[39m"
      ]
     },
     "execution_count": 10,
     "metadata": {},
     "output_type": "execute_result"
    }
   ],
   "source": [
    "add10(2)"
   ]
  },
  {
   "cell_type": "markdown",
   "id": "bcf38338-7259-4953-ba0c-a19605e62064",
   "metadata": {},
   "source": [
    "Common Use Case — Data Privacy"
   ]
  },
  {
   "cell_type": "code",
   "execution_count": 11,
   "id": "e79e757f-619c-4c0d-866c-df24f28bd523",
   "metadata": {},
   "outputs": [],
   "source": [
    "function secretHolder(secret) {\n",
    "    return {\n",
    "        getSecret: function() {\n",
    "            return secret;\n",
    "        },\n",
    "        setSecret: function(newSecret) {\n",
    "            secret = newSecret;\n",
    "        }\n",
    "    };\n",
    "}"
   ]
  },
  {
   "cell_type": "code",
   "execution_count": 12,
   "id": "dc3df4fe-6d17-468a-aba0-e044c93233d0",
   "metadata": {},
   "outputs": [],
   "source": [
    "const mySecret = secretHolder(\"initial\");"
   ]
  },
  {
   "cell_type": "code",
   "execution_count": 13,
   "id": "10b5e188-cb5c-49e4-a7ff-c4dad2e4e579",
   "metadata": {},
   "outputs": [
    {
     "data": {
      "text/plain": [
       "\u001b[32m\"initial\"\u001b[39m"
      ]
     },
     "execution_count": 13,
     "metadata": {},
     "output_type": "execute_result"
    }
   ],
   "source": [
    "mySecret.getSecret()  // initial"
   ]
  },
  {
   "cell_type": "code",
   "execution_count": 14,
   "id": "aa9a11ce-cfdf-47da-bcd8-4788c3936efd",
   "metadata": {},
   "outputs": [],
   "source": [
    "mySecret.setSecret(\"updated\");"
   ]
  },
  {
   "cell_type": "code",
   "execution_count": 15,
   "id": "c5cb1d5e-ec53-40a4-9b71-2b0d8b7d04f5",
   "metadata": {},
   "outputs": [
    {
     "data": {
      "text/plain": [
       "\u001b[32m\"updated\"\u001b[39m"
      ]
     },
     "execution_count": 15,
     "metadata": {},
     "output_type": "execute_result"
    }
   ],
   "source": [
    "mySecret.getSecret()  // updated"
   ]
  },
  {
   "cell_type": "markdown",
   "id": "287fd30e-fa6e-4bf5-88f7-e1186e8f8ba5",
   "metadata": {},
   "source": [
    "Pitfall Example (var in Loop)"
   ]
  },
  {
   "cell_type": "code",
   "execution_count": 16,
   "id": "24f7de00-93a7-47c5-8075-366763ead59b",
   "metadata": {},
   "outputs": [
    {
     "data": {
      "text/plain": [
       "\u001b[33m3\u001b[39m"
      ]
     },
     "execution_count": 16,
     "metadata": {},
     "output_type": "execute_result"
    }
   ],
   "source": [
    "var funcs = [];\n",
    "\n",
    "for (var i = 0; i < 3; i++) {\n",
    "    funcs.push(function() {\n",
    "        console.log(i);\n",
    "    });\n",
    "}"
   ]
  },
  {
   "cell_type": "code",
   "execution_count": 17,
   "id": "d9c93467-2cb5-4407-b5fa-82adac8ca369",
   "metadata": {},
   "outputs": [
    {
     "name": "stdout",
     "output_type": "stream",
     "text": [
      "\u001b[33m3\u001b[39m\n"
     ]
    }
   ],
   "source": [
    "funcs[0]();"
   ]
  },
  {
   "cell_type": "code",
   "execution_count": 18,
   "id": "d6501932-e705-4f36-89cf-16e34f9ca428",
   "metadata": {},
   "outputs": [
    {
     "name": "stdout",
     "output_type": "stream",
     "text": [
      "\u001b[33m3\u001b[39m\n"
     ]
    }
   ],
   "source": [
    "funcs[1]();"
   ]
  },
  {
   "cell_type": "code",
   "execution_count": 20,
   "id": "419c4157-e319-47c8-b46a-45b75353040c",
   "metadata": {},
   "outputs": [
    {
     "name": "stdout",
     "output_type": "stream",
     "text": [
      "\u001b[33m3\u001b[39m\n"
     ]
    }
   ],
   "source": [
    "funcs[2]();"
   ]
  },
  {
   "cell_type": "markdown",
   "id": "fb416e5c-7f92-46e0-91c7-6654ce2a2b6c",
   "metadata": {},
   "source": [
    "Solution Using Closure (IIFE or let)"
   ]
  },
  {
   "cell_type": "code",
   "execution_count": 21,
   "id": "89897b8d-ec5f-469d-bf8e-300121bc4271",
   "metadata": {},
   "outputs": [
    {
     "data": {
      "text/plain": [
       "\u001b[33m3\u001b[39m"
      ]
     },
     "execution_count": 21,
     "metadata": {},
     "output_type": "execute_result"
    }
   ],
   "source": [
    "var funcsFixed = [];\n",
    "\n",
    "for (let i = 0; i < 3; i++) {\n",
    "    funcsFixed.push(function() {\n",
    "        console.log(i);\n",
    "    });\n",
    "}"
   ]
  },
  {
   "cell_type": "code",
   "execution_count": 22,
   "id": "1e924615-8322-4169-a469-6a46c7229b57",
   "metadata": {},
   "outputs": [
    {
     "name": "stdout",
     "output_type": "stream",
     "text": [
      "\u001b[33m0\u001b[39m\n"
     ]
    }
   ],
   "source": [
    "funcsFixed[0](); // 0"
   ]
  },
  {
   "cell_type": "code",
   "execution_count": 23,
   "id": "c0f00c3a-57c7-47ca-b3f3-8aadcc4125db",
   "metadata": {},
   "outputs": [
    {
     "name": "stdout",
     "output_type": "stream",
     "text": [
      "\u001b[33m1\u001b[39m\n"
     ]
    }
   ],
   "source": [
    "funcsFixed[1](); // 1"
   ]
  },
  {
   "cell_type": "code",
   "execution_count": 25,
   "id": "4e7ef9c5-674a-49d4-bd25-3743dff3f474",
   "metadata": {},
   "outputs": [
    {
     "name": "stdout",
     "output_type": "stream",
     "text": [
      "\u001b[33m2\u001b[39m\n"
     ]
    }
   ],
   "source": [
    "funcsFixed[2](); // 2"
   ]
  },
  {
   "cell_type": "markdown",
   "id": "4e69f3ca-e7e0-4b27-a011-c57fbacf0c18",
   "metadata": {},
   "source": [
    "Other examples"
   ]
  },
  {
   "cell_type": "code",
   "execution_count": 30,
   "id": "63a41e4b-ef1c-4347-b75a-c8bcc87b2a01",
   "metadata": {},
   "outputs": [
    {
     "name": "stdout",
     "output_type": "stream",
     "text": [
      "Hi Manuel\n"
     ]
    }
   ],
   "source": [
    "let userName = 'Max';\n",
    "\n",
    "function greetUser() {\n",
    "    console.log('Hi ' + userName);\n",
    "}\n",
    "\n",
    "userName = 'Manuel';\n",
    "\n",
    "greetUser();"
   ]
  },
  {
   "cell_type": "code",
   "execution_count": 31,
   "id": "f7573eec-9f4e-412b-accc-fb3bc63d4b7f",
   "metadata": {},
   "outputs": [
    {
     "name": "stdout",
     "output_type": "stream",
     "text": [
      "Hi Anna\n"
     ]
    }
   ],
   "source": [
    "function greetUser() {\n",
    "    let name = 'Anna';\n",
    "    console.log('Hi ' + name);\n",
    "}\n",
    "\n",
    "let name = 'Maximilian';\n",
    "\n",
    "greetUser();"
   ]
  },
  {
   "cell_type": "code",
   "execution_count": 32,
   "id": "8ba20a7a-e33c-4fa7-99a0-ddba4ce3086f",
   "metadata": {},
   "outputs": [
    {
     "name": "stdout",
     "output_type": "stream",
     "text": [
      "Hi Maximilian\n"
     ]
    }
   ],
   "source": [
    "function greetUser() {\n",
    "    console.log('Hi ' + name);\n",
    "}\n",
    "\n",
    "let name = 'Maximilian';\n",
    "\n",
    "greetUser();"
   ]
  }
 ],
 "metadata": {
  "kernelspec": {
   "display_name": "Deno",
   "language": "typescript",
   "name": "deno"
  },
  "language_info": {
   "codemirror_mode": "typescript",
   "file_extension": ".ts",
   "mimetype": "text/x.typescript",
   "name": "typescript",
   "nbconvert_exporter": "script",
   "pygments_lexer": "typescript",
   "version": "5.7.3"
  }
 },
 "nbformat": 4,
 "nbformat_minor": 5
}
