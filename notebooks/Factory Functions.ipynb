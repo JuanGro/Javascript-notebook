{
 "cells": [
  {
   "cell_type": "markdown",
   "id": "5b1af7a8-6de4-413e-be65-74fe3b87fc58",
   "metadata": {},
   "source": [
    "# Factory Functions"
   ]
  },
  {
   "cell_type": "markdown",
   "id": "fa4793d8-0840-4fe3-bb78-eee28b25e8e3",
   "metadata": {},
   "source": [
    "A factory function is a function that returns another function (or object), often customized with specific parameters."
   ]
  },
  {
   "cell_type": "code",
   "execution_count": 1,
   "id": "18e53d4b-76ff-4be1-beeb-c4e6d09f20b1",
   "metadata": {},
   "outputs": [],
   "source": [
    "function createTaxCalculator(tax) {\n",
    "    function calculateTax(amount) {\n",
    "        return amount * tax;\n",
    "    }\n",
    "\n",
    "    return calculateTax;\n",
    "}"
   ]
  },
  {
   "cell_type": "code",
   "execution_count": 2,
   "id": "e63b68fa-89e0-4f85-8129-ee139dfd2f93",
   "metadata": {},
   "outputs": [],
   "source": [
    "const calculateVatAmount = createTaxCalculator(0.19);"
   ]
  },
  {
   "cell_type": "code",
   "execution_count": 3,
   "id": "47d8026f-3cfc-4fa1-8b59-96730a84ad5e",
   "metadata": {},
   "outputs": [],
   "source": [
    "const calculateIncomeTaxAmount = createTaxCalculator(0.25);"
   ]
  },
  {
   "cell_type": "code",
   "execution_count": 4,
   "id": "71b9cb9b-def5-4ad6-86a7-b6d7ff54e0b7",
   "metadata": {},
   "outputs": [
    {
     "data": {
      "text/plain": [
       "\u001b[33m19\u001b[39m"
      ]
     },
     "execution_count": 4,
     "metadata": {},
     "output_type": "execute_result"
    }
   ],
   "source": [
    "calculateVatAmount(100);"
   ]
  },
  {
   "cell_type": "code",
   "execution_count": 5,
   "id": "e5ee2827-b02e-46f7-acae-cb94a938d1a4",
   "metadata": {},
   "outputs": [
    {
     "data": {
      "text/plain": [
       "\u001b[33m38\u001b[39m"
      ]
     },
     "execution_count": 5,
     "metadata": {},
     "output_type": "execute_result"
    }
   ],
   "source": [
    "calculateVatAmount(200);"
   ]
  },
  {
   "cell_type": "markdown",
   "id": "bf6fed36-30c5-4a35-ac6f-4062f0e9b3d4",
   "metadata": {},
   "source": [
    "📘 Why Use Factory Functions?\n",
    "\n",
    "✅ Code reusability — you avoid repeating logic\n",
    "✅ Customization — easily generate functions with preset values\n",
    "✅ Closure — tax rate is remembered by the returned function"
   ]
  }
 ],
 "metadata": {
  "kernelspec": {
   "display_name": "Deno",
   "language": "typescript",
   "name": "deno"
  },
  "language_info": {
   "codemirror_mode": "typescript",
   "file_extension": ".ts",
   "mimetype": "text/x.typescript",
   "name": "typescript",
   "nbconvert_exporter": "script",
   "pygments_lexer": "typescript",
   "version": "5.7.3"
  }
 },
 "nbformat": 4,
 "nbformat_minor": 5
}
