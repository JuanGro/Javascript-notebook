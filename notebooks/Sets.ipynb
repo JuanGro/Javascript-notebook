{
 "cells": [
  {
   "cell_type": "markdown",
   "id": "4426f12a-389b-476c-89ad-61886d8775aa",
   "metadata": {},
   "source": [
    "# Sets"
   ]
  },
  {
   "cell_type": "code",
   "execution_count": 1,
   "id": "280b59c7-7b9f-4043-b851-4ca7178e0a6a",
   "metadata": {},
   "outputs": [],
   "source": [
    "const ids = new Set();"
   ]
  },
  {
   "cell_type": "code",
   "execution_count": 3,
   "id": "f91621bd-226f-42a4-8caf-5ac36ab271b4",
   "metadata": {},
   "outputs": [
    {
     "data": {
      "text/plain": [
       "Set(0) {}"
      ]
     },
     "execution_count": 3,
     "metadata": {},
     "output_type": "execute_result"
    }
   ],
   "source": [
    "ids"
   ]
  },
  {
   "cell_type": "code",
   "execution_count": 6,
   "id": "e0cd9798-5260-4e0f-ac5b-3c99c219d195",
   "metadata": {},
   "outputs": [
    {
     "data": {
      "text/plain": [
       "Set(3) { \u001b[33m1\u001b[39m, \u001b[33m2\u001b[39m, \u001b[33m3\u001b[39m }"
      ]
     },
     "execution_count": 6,
     "metadata": {},
     "output_type": "execute_result"
    }
   ],
   "source": [
    "new Set([1, 2, 3]);"
   ]
  },
  {
   "cell_type": "code",
   "execution_count": 7,
   "id": "d7b8bd31-5bae-4f0f-a70c-b11a5c4a0f1f",
   "metadata": {},
   "outputs": [
    {
     "data": {
      "text/plain": [
       "Set(1) { \u001b[33m1\u001b[39m }"
      ]
     },
     "execution_count": 7,
     "metadata": {},
     "output_type": "execute_result"
    }
   ],
   "source": [
    "ids.add(1);"
   ]
  },
  {
   "cell_type": "code",
   "execution_count": 8,
   "id": "2d976fa1-2161-4635-b3ba-32e538fd5751",
   "metadata": {},
   "outputs": [
    {
     "data": {
      "text/plain": [
       "Set(2) { \u001b[33m1\u001b[39m, \u001b[33m2\u001b[39m }"
      ]
     },
     "execution_count": 8,
     "metadata": {},
     "output_type": "execute_result"
    }
   ],
   "source": [
    "ids.add(2);"
   ]
  },
  {
   "cell_type": "code",
   "execution_count": 9,
   "id": "a8d94781-fc0e-4621-9336-f1cbd245848d",
   "metadata": {},
   "outputs": [
    {
     "data": {
      "text/plain": [
       "Set(3) { \u001b[33m1\u001b[39m, \u001b[33m2\u001b[39m, \u001b[33m3\u001b[39m }"
      ]
     },
     "execution_count": 9,
     "metadata": {},
     "output_type": "execute_result"
    }
   ],
   "source": [
    "ids.add(3);"
   ]
  },
  {
   "cell_type": "code",
   "execution_count": 11,
   "id": "e3f81c27-8d9e-40db-adad-5b56bddb9fe5",
   "metadata": {},
   "outputs": [
    {
     "data": {
      "text/plain": [
       "Set(3) { \u001b[33m1\u001b[39m, \u001b[33m2\u001b[39m, \u001b[33m3\u001b[39m }"
      ]
     },
     "execution_count": 11,
     "metadata": {},
     "output_type": "execute_result"
    }
   ],
   "source": [
    "ids.add(3);"
   ]
  },
  {
   "cell_type": "code",
   "execution_count": 16,
   "id": "ec6c82af-44a6-41cf-ba97-30128316af33",
   "metadata": {},
   "outputs": [
    {
     "data": {
      "text/plain": [
       "\u001b[33mtrue\u001b[39m"
      ]
     },
     "execution_count": 16,
     "metadata": {},
     "output_type": "execute_result"
    }
   ],
   "source": [
    "ids.has(2);"
   ]
  },
  {
   "cell_type": "code",
   "execution_count": 17,
   "id": "0dd724d7-a135-4136-a13f-85ee0c7c3fd0",
   "metadata": {},
   "outputs": [
    {
     "data": {
      "text/plain": [
       "Set(4) { \u001b[33m1\u001b[39m, \u001b[33m2\u001b[39m, \u001b[33m3\u001b[39m, \u001b[32m\"a\"\u001b[39m }"
      ]
     },
     "execution_count": 17,
     "metadata": {},
     "output_type": "execute_result"
    }
   ],
   "source": [
    "ids.add('a');"
   ]
  },
  {
   "cell_type": "code",
   "execution_count": 22,
   "id": "fccccfe2-65e8-4c1a-9153-475835dd04e5",
   "metadata": {},
   "outputs": [
    {
     "data": {
      "text/plain": [
       "[Set Entries] { [ \u001b[33m1\u001b[39m, \u001b[33m1\u001b[39m ], [ \u001b[33m2\u001b[39m, \u001b[33m2\u001b[39m ], [ \u001b[33m3\u001b[39m, \u001b[33m3\u001b[39m ] }"
      ]
     },
     "execution_count": 22,
     "metadata": {},
     "output_type": "execute_result"
    }
   ],
   "source": [
    "ids.entries();"
   ]
  },
  {
   "cell_type": "code",
   "execution_count": 23,
   "id": "0273e529-ba8c-41eb-bb9e-a9ca560df3ce",
   "metadata": {},
   "outputs": [
    {
     "name": "stdout",
     "output_type": "stream",
     "text": [
      "[ \u001b[33m1\u001b[39m, \u001b[33m1\u001b[39m ]\n",
      "[ \u001b[33m2\u001b[39m, \u001b[33m2\u001b[39m ]\n",
      "[ \u001b[33m3\u001b[39m, \u001b[33m3\u001b[39m ]\n"
     ]
    }
   ],
   "source": [
    "for (const entry of ids.entries()) {\n",
    "    console.log(entry);\n",
    "}"
   ]
  },
  {
   "cell_type": "code",
   "execution_count": 20,
   "id": "9ddb0fb7-bcb9-4fb7-b625-3cd2f9820e5c",
   "metadata": {},
   "outputs": [
    {
     "data": {
      "text/plain": [
       "\u001b[33mtrue\u001b[39m"
      ]
     },
     "execution_count": 20,
     "metadata": {},
     "output_type": "execute_result"
    }
   ],
   "source": [
    "ids.delete('a');"
   ]
  },
  {
   "cell_type": "code",
   "execution_count": 21,
   "id": "5ca9f492-9503-48c3-a714-ea83a5ce2283",
   "metadata": {},
   "outputs": [
    {
     "data": {
      "text/plain": [
       "Set(3) { \u001b[33m1\u001b[39m, \u001b[33m2\u001b[39m, \u001b[33m3\u001b[39m }"
      ]
     },
     "execution_count": 21,
     "metadata": {},
     "output_type": "execute_result"
    }
   ],
   "source": [
    "ids"
   ]
  }
 ],
 "metadata": {
  "kernelspec": {
   "display_name": "Deno",
   "language": "typescript",
   "name": "deno"
  },
  "language_info": {
   "codemirror_mode": "typescript",
   "file_extension": ".ts",
   "mimetype": "text/x.typescript",
   "name": "typescript",
   "nbconvert_exporter": "script",
   "pygments_lexer": "typescript",
   "version": "5.7.3"
  }
 },
 "nbformat": 4,
 "nbformat_minor": 5
}
