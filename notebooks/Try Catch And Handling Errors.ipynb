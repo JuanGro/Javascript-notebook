{
 "cells": [
  {
   "cell_type": "markdown",
   "id": "01f2bffd-c37f-40b0-82bd-79e3cd9f0810",
   "metadata": {},
   "source": [
    "# Try-Catch and Handling Errors"
   ]
  },
  {
   "cell_type": "code",
   "execution_count": 3,
   "id": "2a463707-5cf1-4d37-8100-de51a8082d93",
   "metadata": {},
   "outputs": [
    {
     "name": "stderr",
     "output_type": "stream",
     "text": [
      "Error: this is an error\n",
      "    at <anonymous>:2:9\n"
     ]
    }
   ],
   "source": [
    "try {\n",
    "    throw new Error('this is an error');\n",
    "} catch (error) {\n",
    "    console.error(error);\n",
    "}"
   ]
  },
  {
   "cell_type": "code",
   "execution_count": 5,
   "id": "1c7c16cc-6843-49bf-afc4-692901893887",
   "metadata": {},
   "outputs": [
    {
     "name": "stderr",
     "output_type": "stream",
     "text": [
      "Error: this is an error\n",
      "    at <anonymous>:2:9\n"
     ]
    },
    {
     "name": "stdout",
     "output_type": "stream",
     "text": [
      "finally!\n"
     ]
    }
   ],
   "source": [
    "try {\n",
    "    throw new Error('this is an error');\n",
    "} catch (error) {\n",
    "    console.error(error);\n",
    "} finally {\n",
    "    console.log('finally!');\n",
    "}"
   ]
  },
  {
   "cell_type": "code",
   "execution_count": 7,
   "id": "6bbb7dba-86cc-4215-a517-3e8dbe474e5e",
   "metadata": {},
   "outputs": [
    {
     "ename": "Error",
     "evalue": "this is an error",
     "output_type": "error",
     "traceback": [
      "Stack trace:",
      "Error: this is an error",
      "    at <anonymous>:2:9"
     ]
    }
   ],
   "source": [
    "try {\n",
    "    throw new Error('this is an error');\n",
    "} catch (error) {\n",
    "    throw error;\n",
    "}"
   ]
  }
 ],
 "metadata": {
  "kernelspec": {
   "display_name": "Deno",
   "language": "typescript",
   "name": "deno"
  },
  "language_info": {
   "codemirror_mode": "typescript",
   "file_extension": ".ts",
   "mimetype": "text/x.typescript",
   "name": "typescript",
   "nbconvert_exporter": "script",
   "pygments_lexer": "typescript",
   "version": "5.7.3"
  }
 },
 "nbformat": 4,
 "nbformat_minor": 5
}
