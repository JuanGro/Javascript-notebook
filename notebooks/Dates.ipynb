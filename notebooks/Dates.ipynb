{
 "cells": [
  {
   "cell_type": "markdown",
   "id": "e4356afc-a876-4745-8347-2150be7e78fc",
   "metadata": {},
   "source": [
    "# Dates"
   ]
  },
  {
   "cell_type": "code",
   "execution_count": 1,
   "id": "f6002291-6e59-417c-8954-34b11f30402d",
   "metadata": {},
   "outputs": [
    {
     "data": {
      "text/plain": [
       "\u001b[35m2025-09-11T21:51:00.131Z\u001b[39m"
      ]
     },
     "execution_count": 1,
     "metadata": {},
     "output_type": "execute_result"
    }
   ],
   "source": [
    "new Date();"
   ]
  },
  {
   "cell_type": "code",
   "execution_count": 2,
   "id": "433aacde-ba32-44ab-b684-4ba2650e79f8",
   "metadata": {},
   "outputs": [
    {
     "data": {
      "text/plain": [
       "\u001b[35m2025-09-11T21:51:07.108Z\u001b[39m"
      ]
     },
     "execution_count": 2,
     "metadata": {},
     "output_type": "execute_result"
    }
   ],
   "source": [
    "const date = new Date();\n",
    "date"
   ]
  },
  {
   "cell_type": "code",
   "execution_count": 3,
   "id": "24ca9553-1610-4964-a40c-f3fae7a66c9c",
   "metadata": {},
   "outputs": [
    {
     "data": {
      "text/plain": [
       "\u001b[35m2025-09-11T21:51:07.000Z\u001b[39m"
      ]
     },
     "execution_count": 3,
     "metadata": {},
     "output_type": "execute_result"
    }
   ],
   "source": [
    "new Date(date.toString());"
   ]
  },
  {
   "cell_type": "code",
   "execution_count": 4,
   "id": "a12994bd-a504-4ef0-8993-66e3efbeccb7",
   "metadata": {},
   "outputs": [
    {
     "data": {
      "text/plain": [
       "\u001b[33m68414\u001b[39m"
      ]
     },
     "execution_count": 4,
     "metadata": {},
     "output_type": "execute_result"
    }
   ],
   "source": [
    "(new Date()) - date;"
   ]
  },
  {
   "cell_type": "code",
   "execution_count": null,
   "id": "5606e85b-e7e3-4bd4-8f5e-ae6e5fa1efd9",
   "metadata": {},
   "outputs": [],
   "source": []
  }
 ],
 "metadata": {
  "kernelspec": {
   "display_name": "Deno",
   "language": "typescript",
   "name": "deno"
  },
  "language_info": {
   "codemirror_mode": "typescript",
   "file_extension": ".ts",
   "mimetype": "text/x.typescript",
   "name": "typescript",
   "nbconvert_exporter": "script",
   "pygments_lexer": "typescript",
   "version": "5.7.3"
  }
 },
 "nbformat": 4,
 "nbformat_minor": 5
}
