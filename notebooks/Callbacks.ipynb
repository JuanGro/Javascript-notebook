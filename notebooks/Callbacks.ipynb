{
 "cells": [
  {
   "cell_type": "markdown",
   "id": "299015a0-354c-4759-807d-92056cbc9ef6",
   "metadata": {},
   "source": [
    "# Callbacks"
   ]
  },
  {
   "cell_type": "code",
   "execution_count": 3,
   "id": "e2a73e42-b07d-421f-a26c-e3d58651389d",
   "metadata": {},
   "outputs": [],
   "source": [
    "const sumUp = (cb, ...numbers) => {\n",
    "    const validateNumber = number => isNaN(number) ? 0 : number;\n",
    "\n",
    "    let sum = 0;\n",
    "    for (const num of numbers) {\n",
    "        sum += validateNumber(num);\n",
    "    }\n",
    "    cb(sum, numbers);\n",
    "    return sum;\n",
    "}"
   ]
  },
  {
   "cell_type": "code",
   "execution_count": 6,
   "id": "314083a8-45e9-4fbc-b5db-f83536d5b8b3",
   "metadata": {},
   "outputs": [],
   "source": [
    "const callbackFunction = (total, numbersArray) => console.log(`Total: ${total}, Numbers: ${numbersArray}`);"
   ]
  },
  {
   "cell_type": "code",
   "execution_count": 7,
   "id": "b6bcc578-86d8-4f44-90f5-a4939ae9968b",
   "metadata": {},
   "outputs": [
    {
     "name": "stdout",
     "output_type": "stream",
     "text": [
      "Total: 15, Numbers: 1,2,3,4,5\n"
     ]
    },
    {
     "data": {
      "text/plain": [
       "\u001b[33m15\u001b[39m"
      ]
     },
     "execution_count": 7,
     "metadata": {},
     "output_type": "execute_result"
    }
   ],
   "source": [
    "sumUp(callbackFunction, 1, 2, 3, 4, 5);"
   ]
  },
  {
   "cell_type": "code",
   "execution_count": null,
   "id": "40c4f2d2-b2e2-4944-afdd-183ccfc1d17d",
   "metadata": {},
   "outputs": [],
   "source": []
  }
 ],
 "metadata": {
  "kernelspec": {
   "display_name": "Deno",
   "language": "typescript",
   "name": "deno"
  },
  "language_info": {
   "codemirror_mode": "typescript",
   "file_extension": ".ts",
   "mimetype": "text/x.typescript",
   "name": "typescript",
   "nbconvert_exporter": "script",
   "pygments_lexer": "typescript",
   "version": "5.7.3"
  }
 },
 "nbformat": 4,
 "nbformat_minor": 5
}
