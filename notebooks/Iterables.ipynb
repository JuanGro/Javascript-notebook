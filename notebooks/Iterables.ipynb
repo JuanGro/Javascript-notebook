{
 "cells": [
  {
   "cell_type": "markdown",
   "id": "91833ae2-34db-4626-a68d-f27ca3cdf001",
   "metadata": {},
   "source": [
    "# Iterables"
   ]
  },
  {
   "cell_type": "markdown",
   "id": "f54b1710-3adc-4fcd-a57f-625b7914efea",
   "metadata": {},
   "source": [
    "## Objects where you can use the for-of loop. E.g. NodeList, String, Map, Set."
   ]
  },
  {
   "cell_type": "code",
   "execution_count": null,
   "id": "0111ceb3-b359-44b1-8e07-e0d7402ed386",
   "metadata": {},
   "outputs": [],
   "source": []
  }
 ],
 "metadata": {
  "kernelspec": {
   "display_name": "Deno",
   "language": "typescript",
   "name": "deno"
  },
  "language_info": {
   "codemirror_mode": "typescript",
   "file_extension": ".ts",
   "mimetype": "text/x.typescript",
   "name": "typescript",
   "nbconvert_exporter": "script",
   "pygments_lexer": "typescript",
   "version": "5.7.3"
  }
 },
 "nbformat": 4,
 "nbformat_minor": 5
}
