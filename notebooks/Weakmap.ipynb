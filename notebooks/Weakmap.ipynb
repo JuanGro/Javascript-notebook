{
 "cells": [
  {
   "cell_type": "markdown",
   "id": "83f3bb09-568a-45e5-af5e-21009ee9be83",
   "metadata": {},
   "source": [
    "# WeakMap"
   ]
  },
  {
   "cell_type": "code",
   "execution_count": 1,
   "id": "40d176ba-b05e-42f1-98b6-f582c021232d",
   "metadata": {},
   "outputs": [
    {
     "data": {
      "text/plain": [
       "Map(0) {}"
      ]
     },
     "execution_count": 1,
     "metadata": {},
     "output_type": "execute_result"
    }
   ],
   "source": [
    "const personData = new Map();\n",
    "personData"
   ]
  },
  {
   "cell_type": "code",
   "execution_count": 2,
   "id": "563cae27-d41a-43b2-b072-a2b75b1e90ee",
   "metadata": {},
   "outputs": [
    {
     "data": {
      "text/plain": [
       "{ name: \u001b[32m\"Max\"\u001b[39m }"
      ]
     },
     "execution_count": 2,
     "metadata": {},
     "output_type": "execute_result"
    }
   ],
   "source": [
    "let person = { name: 'Max' };\n",
    "person"
   ]
  },
  {
   "cell_type": "code",
   "execution_count": 4,
   "id": "98b88a16-25da-4584-b2ea-d2f6da92be56",
   "metadata": {},
   "outputs": [
    {
     "data": {
      "text/plain": [
       "Map(1) { { name: \u001b[32m\"Max\"\u001b[39m } => \u001b[32m\"Extra info!\"\u001b[39m }"
      ]
     },
     "execution_count": 4,
     "metadata": {},
     "output_type": "execute_result"
    }
   ],
   "source": [
    "personData.set(person, 'Extra info!');"
   ]
  },
  {
   "cell_type": "code",
   "execution_count": 5,
   "id": "56bdb783-079f-4d8d-a0e3-f4c901449605",
   "metadata": {},
   "outputs": [
    {
     "data": {
      "text/plain": [
       "\u001b[1mnull\u001b[22m"
      ]
     },
     "execution_count": 5,
     "metadata": {},
     "output_type": "execute_result"
    }
   ],
   "source": [
    "person = null;"
   ]
  },
  {
   "cell_type": "code",
   "execution_count": 6,
   "id": "537992bb-ea83-4fb0-879f-837c0e92ccb9",
   "metadata": {},
   "outputs": [
    {
     "data": {
      "text/plain": [
       "Map(1) { { name: \u001b[32m\"Max\"\u001b[39m } => \u001b[32m\"Extra info!\"\u001b[39m }"
      ]
     },
     "execution_count": 6,
     "metadata": {},
     "output_type": "execute_result"
    }
   ],
   "source": [
    "personData"
   ]
  },
  {
   "cell_type": "code",
   "execution_count": 7,
   "id": "88c44a0a-f21c-402a-bd9d-3b35f6837386",
   "metadata": {},
   "outputs": [
    {
     "data": {
      "text/plain": [
       "WeakMap { \u001b[36m<items unknown>\u001b[39m }"
      ]
     },
     "execution_count": 7,
     "metadata": {},
     "output_type": "execute_result"
    }
   ],
   "source": [
    "const weakPersonData = new WeakMap();\n",
    "weakPersonData"
   ]
  },
  {
   "cell_type": "code",
   "execution_count": 8,
   "id": "e86b2b21-57d6-4a17-a5ef-cfedaac0b3ce",
   "metadata": {},
   "outputs": [
    {
     "data": {
      "text/plain": [
       "{ name: \u001b[32m\"Max\"\u001b[39m }"
      ]
     },
     "execution_count": 8,
     "metadata": {},
     "output_type": "execute_result"
    }
   ],
   "source": [
    "let person = { name: 'Max' };\n",
    "person"
   ]
  },
  {
   "cell_type": "code",
   "execution_count": 10,
   "id": "d47d87db-7257-4309-9079-9c579fb9a576",
   "metadata": {},
   "outputs": [
    {
     "data": {
      "text/plain": [
       "WeakMap { \u001b[36m<items unknown>\u001b[39m }"
      ]
     },
     "execution_count": 10,
     "metadata": {},
     "output_type": "execute_result"
    }
   ],
   "source": [
    "weakPersonData.set(person, 'Extra info!');"
   ]
  },
  {
   "cell_type": "code",
   "execution_count": 11,
   "id": "0ec9fc71-56e4-4feb-9968-535c1483aad1",
   "metadata": {},
   "outputs": [
    {
     "data": {
      "text/plain": [
       "\u001b[33mtrue\u001b[39m"
      ]
     },
     "execution_count": 11,
     "metadata": {},
     "output_type": "execute_result"
    }
   ],
   "source": [
    "weakPersonData.has(person);"
   ]
  },
  {
   "cell_type": "code",
   "execution_count": 12,
   "id": "e1e227d3-e61f-4ab6-9d97-7739b3771404",
   "metadata": {},
   "outputs": [
    {
     "data": {
      "text/plain": [
       "\u001b[1mnull\u001b[22m"
      ]
     },
     "execution_count": 12,
     "metadata": {},
     "output_type": "execute_result"
    }
   ],
   "source": [
    "person = null;"
   ]
  },
  {
   "cell_type": "code",
   "execution_count": 13,
   "id": "dbbed25f-1380-45bf-8849-b0b575da4de7",
   "metadata": {},
   "outputs": [
    {
     "data": {
      "text/plain": [
       "\u001b[33mfalse\u001b[39m"
      ]
     },
     "execution_count": 13,
     "metadata": {},
     "output_type": "execute_result"
    }
   ],
   "source": [
    "weakPersonData.has(person);"
   ]
  },
  {
   "cell_type": "code",
   "execution_count": null,
   "id": "45d51bdc-e456-4dca-bafe-a4493f611107",
   "metadata": {},
   "outputs": [],
   "source": []
  }
 ],
 "metadata": {
  "kernelspec": {
   "display_name": "Deno",
   "language": "typescript",
   "name": "deno"
  },
  "language_info": {
   "codemirror_mode": "typescript",
   "file_extension": ".ts",
   "mimetype": "text/x.typescript",
   "name": "typescript",
   "nbconvert_exporter": "script",
   "pygments_lexer": "typescript",
   "version": "5.7.3"
  }
 },
 "nbformat": 4,
 "nbformat_minor": 5
}
