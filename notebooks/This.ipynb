{
 "cells": [
  {
   "cell_type": "markdown",
   "id": "96c2cd26-d3d7-4eb7-b019-94fd43cb0ed5",
   "metadata": {},
   "source": [
    "# This"
   ]
  },
  {
   "cell_type": "code",
   "execution_count": 1,
   "id": "439f58be-466d-4858-aeb4-44fb648390f2",
   "metadata": {},
   "outputs": [
    {
     "name": "stdout",
     "output_type": "stream",
     "text": [
      "\u001b[90mundefined\u001b[39m\n"
     ]
    }
   ],
   "source": [
    "function showThis() {\n",
    "  console.log(this);\n",
    "}\n",
    "\n",
    "showThis(); // In browser: Window, in strict mode: undefined"
   ]
  },
  {
   "cell_type": "code",
   "execution_count": 2,
   "id": "3593628f-c68a-459e-91cd-a0aba842249a",
   "metadata": {},
   "outputs": [
    {
     "name": "stdout",
     "output_type": "stream",
     "text": [
      "Alice\n"
     ]
    }
   ],
   "source": [
    "const user = {\n",
    "  name: \"Alice\",\n",
    "  greet() {\n",
    "    console.log(this.name);\n",
    "  },\n",
    "};\n",
    "\n",
    "user.greet(); // \"Alice\" — because `user` is calling the method"
   ]
  },
  {
   "cell_type": "code",
   "execution_count": 5,
   "id": "9c07eadd-d68f-4368-a831-cbda1d9f77d8",
   "metadata": {},
   "outputs": [
    {
     "name": "stdout",
     "output_type": "stream",
     "text": [
      "John\n"
     ]
    }
   ],
   "source": [
    "function Person(name) {\n",
    "  this.name = name;\n",
    "}\n",
    "\n",
    "const p = new Person(\"John\");\n",
    "console.log(p.name); // \"John\""
   ]
  },
  {
   "cell_type": "markdown",
   "id": "6475f8e3-b56e-4b7d-b587-53ec796f9c32",
   "metadata": {},
   "source": [
    "🔹 With arrow functions:\n",
    "\n",
    "Arrow functions don’t have their own this — they inherit it from the outer scope."
   ]
  },
  {
   "cell_type": "code",
   "execution_count": 15,
   "id": "ca317279-38ba-451e-9f55-11b47a6825ed",
   "metadata": {},
   "outputs": [
    {
     "name": "stdout",
     "output_type": "stream",
     "text": [
      "\n"
     ]
    }
   ],
   "source": [
    "const obj = {\n",
    "  name: \"Alice\",\n",
    "  greet: () => {\n",
    "    console.log(this.name); // undefined\n",
    "  },\n",
    "};\n",
    "\n",
    "obj.greet(); // undefined because the arrow function is in the global scope, the object doesn't have his own scope"
   ]
  },
  {
   "cell_type": "code",
   "execution_count": 14,
   "id": "591df652-f671-46be-bff0-73b871c60064",
   "metadata": {},
   "outputs": [
    {
     "name": "stdout",
     "output_type": "stream",
     "text": [
      "Alice\n"
     ]
    }
   ],
   "source": [
    "class Item {\n",
    "    name = \"Alice\";\n",
    "    greet = () => {\n",
    "        console.log(this.name);\n",
    "    }\n",
    "}\n",
    "\n",
    "const item = new Item();\n",
    "item.greet();"
   ]
  },
  {
   "cell_type": "markdown",
   "id": "428848b5-3244-48f0-b83d-9830d1818e83",
   "metadata": {},
   "source": [
    "Regular functions determine their this at call time based on how they are invoked.\n",
    "\n",
    "Arrow functions capture this at definition time from the surrounding lexical scope and never change it.\n",
    "\n",
    "Objects themselves do NOT create scope; scopes come from function/block declarations.\n",
    "\n",
    "Classes use the prototype system, but arrow functions defined as class fields capture this from the instance."
   ]
  },
  {
   "cell_type": "markdown",
   "id": "39bbad1b-1bfd-4dd2-83f1-5ba234ac1448",
   "metadata": {},
   "source": [
    "| Context / Function Location                     | Regular Function `this` Behavior                             | Arrow Function `this` Behavior                                                                    | Example `this` Value                                                |\n",
    "| ----------------------------------------------- | ------------------------------------------------------------ | ------------------------------------------------------------------------------------------------- | ------------------------------------------------------------------- |\n",
    "| **Global Scope (non-strict mode)**              | `this` refers to global object (`window` in browsers)        | `this` refers to global object (inherits lexical `this`)                                          | `window` or `global`                                                |\n",
    "| **Global Scope (strict mode)**                  | `this` is `undefined`                                        | `this` is `undefined` (inherits lexical `this`)                                                   | `undefined`                                                         |\n",
    "| **Object Method (regular function)**            | `this` is the object calling the method                      | Arrow function here does **not** get object as `this`                                             | Regular: object<br>Arrow: outer scope (usually global or undefined) |\n",
    "| **Object Method (arrow function)**              | (rare usage) Regular function semantics                      | `this` inherited from surrounding scope (usually global)                                          | Outer lexical context, NOT the object                               |\n",
    "| **Class Method (regular function)**             | `this` refers to the class instance                          | Arrow functions **usually defined as class fields** capture `this` lexically                      | Class instance                                                      |\n",
    "| **Class Method (arrow function)**               | (if arrow function as class field) inherits class instance   | Same as above                                                                                     | Class instance                                                      |\n",
    "| **Function Constructor (regular function)**     | `this` is the newly created object (if called with `new`)    | Arrow function inside constructor inherits lexical `this` from constructor scope (the new object) | New object created by constructor                                   |\n",
    "| **Nested function inside a function (regular)** | `this` depends on how nested function is called (often lost) | Arrow function inherits `this` from outer function                                                | Regular: often lost or global<br>Arrow: outer function's `this`     |\n",
    "| **Event handler (regular function)**            | `this` is the DOM element the handler is bound to            | Arrow function inherits `this` from surrounding scope                                             | Regular: event target element<br>Arrow: outer scope                 |\n",
    "| **setTimeout callback (regular function)**      | `this` is global (or undefined in strict mode)               | Arrow function inherits `this` from enclosing scope                                               | Regular: global or undefined<br>Arrow: enclosing scope              |\n"
   ]
  }
 ],
 "metadata": {
  "kernelspec": {
   "display_name": "Deno",
   "language": "typescript",
   "name": "deno"
  },
  "language_info": {
   "codemirror_mode": "typescript",
   "file_extension": ".ts",
   "mimetype": "text/x.typescript",
   "name": "typescript",
   "nbconvert_exporter": "script",
   "pygments_lexer": "typescript",
   "version": "5.7.3"
  }
 },
 "nbformat": 4,
 "nbformat_minor": 5
}
