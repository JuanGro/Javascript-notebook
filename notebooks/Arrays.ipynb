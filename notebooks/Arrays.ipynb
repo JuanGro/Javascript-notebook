{
 "cells": [
  {
   "cell_type": "markdown",
   "id": "f2255551-e3a8-4259-8638-a7b04aaf5ccf",
   "metadata": {},
   "source": [
    "# Arrays"
   ]
  },
  {
   "cell_type": "markdown",
   "id": "c2c46cf0-cd9e-423e-acf7-f03b2ff18f96",
   "metadata": {},
   "source": [
    "## ✅ Creating Arrays"
   ]
  },
  {
   "cell_type": "code",
   "execution_count": 1,
   "id": "bceea905-df2e-4e18-8d6d-6bd71b6bab7b",
   "metadata": {},
   "outputs": [
    {
     "data": {
      "text/plain": [
       "[ \u001b[33m1\u001b[39m, \u001b[33m2\u001b[39m, \u001b[33m3\u001b[39m ]"
      ]
     },
     "execution_count": 1,
     "metadata": {},
     "output_type": "execute_result"
    }
   ],
   "source": [
    "const numbers = [1, 2, 3]; // Best and most common way\n",
    "numbers"
   ]
  },
  {
   "cell_type": "code",
   "execution_count": 2,
   "id": "dfed1f6b-8ba9-4b4c-bcf1-5de2e8c4af19",
   "metadata": {},
   "outputs": [
    {
     "data": {
      "text/plain": [
       "[]"
      ]
     },
     "execution_count": 2,
     "metadata": {},
     "output_type": "execute_result"
    }
   ],
   "source": [
    "const empty = new Array(); // Same as []\n",
    "empty"
   ]
  },
  {
   "cell_type": "code",
   "execution_count": 3,
   "id": "be69499b-f19b-4f3c-8174-0cdd55faa4da",
   "metadata": {},
   "outputs": [
    {
     "data": {
      "text/plain": [
       "[ \u001b[90m<5 empty items>\u001b[39m ]"
      ]
     },
     "execution_count": 3,
     "metadata": {},
     "output_type": "execute_result"
    }
   ],
   "source": [
    "const fiveEmpty = new Array(5); // Creates an array with length 5, all empty\n",
    "fiveEmpty"
   ]
  },
  {
   "cell_type": "code",
   "execution_count": 4,
   "id": "d2285ce4-e04a-42b9-896c-5a2d40429814",
   "metadata": {},
   "outputs": [
    {
     "data": {
      "text/plain": [
       "[ \u001b[33m5\u001b[39m, \u001b[33m2\u001b[39m ]"
      ]
     },
     "execution_count": 4,
     "metadata": {},
     "output_type": "execute_result"
    }
   ],
   "source": [
    "const values = new Array(5, 2); // [5, 2]\n",
    "values"
   ]
  },
  {
   "cell_type": "code",
   "execution_count": 5,
   "id": "29e9e8dd-7667-4772-bfc3-009eb943bb34",
   "metadata": {},
   "outputs": [
    {
     "data": {
      "text/plain": [
       "[ \u001b[33m5\u001b[39m, \u001b[33m2\u001b[39m ]"
      ]
     },
     "execution_count": 5,
     "metadata": {},
     "output_type": "execute_result"
    }
   ],
   "source": [
    "const values2 = Array(5, 2); // [5, 2]\n",
    "values2"
   ]
  },
  {
   "cell_type": "code",
   "execution_count": 6,
   "id": "7d5fe7c8-853d-4ef6-8384-4367bb2635c3",
   "metadata": {},
   "outputs": [
    {
     "data": {
      "text/plain": [
       "[ \u001b[33m1\u001b[39m, \u001b[33m2\u001b[39m ]"
      ]
     },
     "execution_count": 6,
     "metadata": {},
     "output_type": "execute_result"
    }
   ],
   "source": [
    "const ofArray = Array.of(1, 2); // [1, 2]\n",
    "ofArray"
   ]
  },
  {
   "cell_type": "code",
   "execution_count": 7,
   "id": "a1f084cd-44cb-43d3-b3b5-f035d8764d60",
   "metadata": {},
   "outputs": [
    {
     "data": {
      "text/plain": [
       "[ \u001b[32m\"H\"\u001b[39m, \u001b[32m\"i\"\u001b[39m ]"
      ]
     },
     "execution_count": 7,
     "metadata": {},
     "output_type": "execute_result"
    }
   ],
   "source": [
    "const fromArray = Array.from('Hi'); // ['H', 'i']\n",
    "fromArray"
   ]
  },
  {
   "cell_type": "markdown",
   "id": "d83f9aa1-258e-4b48-97db-100f050e1513",
   "metadata": {},
   "source": [
    "## 📦 Mixed & Nested Arrays"
   ]
  },
  {
   "cell_type": "code",
   "execution_count": 23,
   "id": "80ef6931-1ca4-4f6d-8095-d2d643c5f163",
   "metadata": {},
   "outputs": [
    {
     "data": {
      "text/plain": [
       "[ \u001b[33m30\u001b[39m, \u001b[32m\"Max\"\u001b[39m, { moreDetail: [] } ]"
      ]
     },
     "execution_count": 23,
     "metadata": {},
     "output_type": "execute_result"
    }
   ],
   "source": [
    "const personalData = [30, 'Max', {moreDetail: []}];\n",
    "personalData"
   ]
  },
  {
   "cell_type": "code",
   "execution_count": 9,
   "id": "22359838-54f4-45d8-b4db-509edb9c9c29",
   "metadata": {},
   "outputs": [
    {
     "data": {
      "text/plain": [
       "[ [ \u001b[33m1\u001b[39m, \u001b[33m1.6\u001b[39m ], [ \u001b[33m-5.4\u001b[39m, \u001b[33m2.1\u001b[39m ] ]"
      ]
     },
     "execution_count": 9,
     "metadata": {},
     "output_type": "execute_result"
    }
   ],
   "source": [
    "const analyticsData = [[1, 1.6], [-5.4, 2.1]];\n",
    "analyticsData"
   ]
  },
  {
   "cell_type": "markdown",
   "id": "1996052f-242c-407d-8488-3a814f227aa4",
   "metadata": {},
   "source": [
    "## 🔁 Array Methods"
   ]
  },
  {
   "cell_type": "markdown",
   "id": "42a1fb33-50cb-4668-860f-85bf1d7ed621",
   "metadata": {},
   "source": [
    "### ➕ Adding/Removing Items"
   ]
  },
  {
   "cell_type": "code",
   "execution_count": 16,
   "id": "5f782ecc-f653-4332-82dd-9efdaadbb242",
   "metadata": {},
   "outputs": [
    {
     "data": {
      "text/plain": [
       "[ \u001b[32m\"Sports\"\u001b[39m, \u001b[32m\"Cooking\"\u001b[39m ]"
      ]
     },
     "execution_count": 16,
     "metadata": {},
     "output_type": "execute_result"
    }
   ],
   "source": [
    "const hobbies = ['Sports', 'Cooking'];\n",
    "hobbies"
   ]
  },
  {
   "cell_type": "code",
   "execution_count": 17,
   "id": "df330484-8b93-4126-914b-41ab2ad86df6",
   "metadata": {},
   "outputs": [
    {
     "data": {
      "text/plain": [
       "\u001b[33m3\u001b[39m"
      ]
     },
     "execution_count": 17,
     "metadata": {},
     "output_type": "execute_result"
    }
   ],
   "source": [
    "hobbies.push('Reading');      // Adds to end"
   ]
  },
  {
   "cell_type": "code",
   "execution_count": 18,
   "id": "47876ead-fa9d-4d47-95b7-4bc801f9eba3",
   "metadata": {},
   "outputs": [
    {
     "data": {
      "text/plain": [
       "[ \u001b[32m\"Sports\"\u001b[39m, \u001b[32m\"Cooking\"\u001b[39m, \u001b[32m\"Reading\"\u001b[39m ]"
      ]
     },
     "execution_count": 18,
     "metadata": {},
     "output_type": "execute_result"
    }
   ],
   "source": [
    "hobbies"
   ]
  },
  {
   "cell_type": "code",
   "execution_count": 19,
   "id": "0c1d099d-502b-4bab-8ca3-fe97a91265be",
   "metadata": {},
   "outputs": [
    {
     "data": {
      "text/plain": [
       "\u001b[33m4\u001b[39m"
      ]
     },
     "execution_count": 19,
     "metadata": {},
     "output_type": "execute_result"
    }
   ],
   "source": [
    "hobbies.unshift('Coding');    // Adds to start"
   ]
  },
  {
   "cell_type": "code",
   "execution_count": 20,
   "id": "c2724c9b-711e-45c2-8a3f-28589ad61557",
   "metadata": {},
   "outputs": [
    {
     "data": {
      "text/plain": [
       "[ \u001b[32m\"Coding\"\u001b[39m, \u001b[32m\"Sports\"\u001b[39m, \u001b[32m\"Cooking\"\u001b[39m, \u001b[32m\"Reading\"\u001b[39m ]"
      ]
     },
     "execution_count": 20,
     "metadata": {},
     "output_type": "execute_result"
    }
   ],
   "source": [
    "hobbies"
   ]
  },
  {
   "cell_type": "code",
   "execution_count": 21,
   "id": "06eafa5b-39ae-49c0-be5b-fba9540a5367",
   "metadata": {},
   "outputs": [
    {
     "data": {
      "text/plain": [
       "\u001b[32m\"Reading\"\u001b[39m"
      ]
     },
     "execution_count": 21,
     "metadata": {},
     "output_type": "execute_result"
    }
   ],
   "source": [
    "hobbies.pop();                // Removes from end"
   ]
  },
  {
   "cell_type": "code",
   "execution_count": 22,
   "id": "e6285a9f-1a7a-4130-82e5-cf479446bb6c",
   "metadata": {},
   "outputs": [
    {
     "data": {
      "text/plain": [
       "[ \u001b[32m\"Coding\"\u001b[39m, \u001b[32m\"Sports\"\u001b[39m, \u001b[32m\"Cooking\"\u001b[39m ]"
      ]
     },
     "execution_count": 22,
     "metadata": {},
     "output_type": "execute_result"
    }
   ],
   "source": [
    "hobbies"
   ]
  },
  {
   "cell_type": "code",
   "execution_count": 23,
   "id": "4a9ef140-c35f-47e7-b787-5b313b2bc015",
   "metadata": {},
   "outputs": [
    {
     "data": {
      "text/plain": [
       "\u001b[32m\"Coding\"\u001b[39m"
      ]
     },
     "execution_count": 23,
     "metadata": {},
     "output_type": "execute_result"
    }
   ],
   "source": [
    "hobbies.shift();              // Removes from start"
   ]
  },
  {
   "cell_type": "code",
   "execution_count": 26,
   "id": "cfe46aad-13af-417b-a0ed-4ea5e6ec1fab",
   "metadata": {},
   "outputs": [
    {
     "data": {
      "text/plain": [
       "[ \u001b[32m\"Sports\"\u001b[39m, \u001b[32m\"Cooking\"\u001b[39m ]"
      ]
     },
     "execution_count": 26,
     "metadata": {},
     "output_type": "execute_result"
    }
   ],
   "source": [
    "hobbies"
   ]
  },
  {
   "cell_type": "markdown",
   "id": "b1ae3c20-5ef6-41be-ad1b-119e581fcb48",
   "metadata": {},
   "source": [
    "### ✏️ Updating Elements"
   ]
  },
  {
   "cell_type": "code",
   "execution_count": 36,
   "id": "ac636ac5-5087-4b12-8ba8-0c7a0cbb0c19",
   "metadata": {},
   "outputs": [
    {
     "data": {
      "text/plain": [
       "\u001b[32m\"Coding\"\u001b[39m"
      ]
     },
     "execution_count": 36,
     "metadata": {},
     "output_type": "execute_result"
    }
   ],
   "source": [
    "hobbies[1] = 'Coding';         // Replace"
   ]
  },
  {
   "cell_type": "code",
   "execution_count": 37,
   "id": "26bbbe4f-108c-489c-966d-d1a6bd3fb8a6",
   "metadata": {},
   "outputs": [
    {
     "data": {
      "text/plain": [
       "[ \u001b[32m\"Sports\"\u001b[39m, \u001b[32m\"Coding\"\u001b[39m ]"
      ]
     },
     "execution_count": 37,
     "metadata": {},
     "output_type": "execute_result"
    }
   ],
   "source": [
    "hobbies"
   ]
  },
  {
   "cell_type": "code",
   "execution_count": 38,
   "id": "3c7db2e7-bebd-4281-ab5f-a5e8f477677d",
   "metadata": {},
   "outputs": [
    {
     "data": {
      "text/plain": [
       "\u001b[32m\"Reading\"\u001b[39m"
      ]
     },
     "execution_count": 38,
     "metadata": {},
     "output_type": "execute_result"
    }
   ],
   "source": [
    "hobbies[5] = 'Reading';        // Creates empty slots"
   ]
  },
  {
   "cell_type": "code",
   "execution_count": 27,
   "id": "4f2f3783-69e5-4b17-8a05-7093574e4453",
   "metadata": {},
   "outputs": [
    {
     "data": {
      "text/plain": [
       "[ \u001b[32m\"Sports\"\u001b[39m, \u001b[32m\"Cooking\"\u001b[39m ]"
      ]
     },
     "execution_count": 27,
     "metadata": {},
     "output_type": "execute_result"
    }
   ],
   "source": [
    "hobbies"
   ]
  },
  {
   "cell_type": "markdown",
   "id": "5a48435a-88b8-4bf8-8d7f-447068288166",
   "metadata": {},
   "source": [
    "### ✂️ Splicing"
   ]
  },
  {
   "cell_type": "code",
   "execution_count": 41,
   "id": "496d8bc8-039c-4613-9e98-8e78978f5e12",
   "metadata": {},
   "outputs": [
    {
     "data": {
      "text/plain": [
       "[]"
      ]
     },
     "execution_count": 41,
     "metadata": {},
     "output_type": "execute_result"
    }
   ],
   "source": [
    "hobbies.splice(0, 0, 'Good food'); // Insert at index "
   ]
  },
  {
   "cell_type": "code",
   "execution_count": 42,
   "id": "d6be7b9e-fcd2-4196-8870-aea80ecb3f18",
   "metadata": {},
   "outputs": [
    {
     "data": {
      "text/plain": [
       "[ \u001b[32m\"Good food\"\u001b[39m, \u001b[32m\"Sports\"\u001b[39m, \u001b[32m\"Coding\"\u001b[39m, \u001b[90m<3 empty items>\u001b[39m, \u001b[32m\"Reading\"\u001b[39m ]"
      ]
     },
     "execution_count": 42,
     "metadata": {},
     "output_type": "execute_result"
    }
   ],
   "source": [
    "hobbies"
   ]
  },
  {
   "cell_type": "code",
   "execution_count": 43,
   "id": "a6e8a8f9-aedb-46ad-a819-535b5da5f0d6",
   "metadata": {},
   "outputs": [
    {
     "data": {
      "text/plain": [
       "[ \u001b[90m<3 empty items>\u001b[39m ]"
      ]
     },
     "execution_count": 43,
     "metadata": {},
     "output_type": "execute_result"
    }
   ],
   "source": [
    "hobbies.splice(3, 3, 'Soccer');    // Replace 3 items at index 3"
   ]
  },
  {
   "cell_type": "code",
   "execution_count": 45,
   "id": "bdf09b50-2b08-4b88-a363-7766effd5cee",
   "metadata": {},
   "outputs": [
    {
     "data": {
      "text/plain": [
       "[ \u001b[32m\"Good food\"\u001b[39m, \u001b[32m\"Sports\"\u001b[39m, \u001b[32m\"Coding\"\u001b[39m, \u001b[32m\"Soccer\"\u001b[39m, \u001b[32m\"Reading\"\u001b[39m ]"
      ]
     },
     "execution_count": 45,
     "metadata": {},
     "output_type": "execute_result"
    }
   ],
   "source": [
    "hobbies"
   ]
  },
  {
   "cell_type": "code",
   "execution_count": 46,
   "id": "584a2572-d257-4fbe-9fee-46ef0e2e5e71",
   "metadata": {},
   "outputs": [
    {
     "data": {
      "text/plain": [
       "[ \u001b[32m\"Coding\"\u001b[39m, \u001b[32m\"Soccer\"\u001b[39m, \u001b[32m\"Reading\"\u001b[39m ]"
      ]
     },
     "execution_count": 46,
     "metadata": {},
     "output_type": "execute_result"
    }
   ],
   "source": [
    "hobbies.splice(2);                // Remove from index 2 to end"
   ]
  },
  {
   "cell_type": "code",
   "execution_count": 28,
   "id": "c5a5f949-fc9a-4b44-9b9d-68d2486a8285",
   "metadata": {},
   "outputs": [
    {
     "data": {
      "text/plain": [
       "[ \u001b[32m\"Sports\"\u001b[39m, \u001b[32m\"Cooking\"\u001b[39m ]"
      ]
     },
     "execution_count": 28,
     "metadata": {},
     "output_type": "execute_result"
    }
   ],
   "source": [
    "hobbies"
   ]
  },
  {
   "cell_type": "markdown",
   "id": "365a4f09-15b4-4436-b4ed-c30b86280fee",
   "metadata": {},
   "source": [
    "### 🧪 Array Copying"
   ]
  },
  {
   "cell_type": "code",
   "execution_count": 31,
   "id": "584008d7-802a-4471-9330-717a22629a8c",
   "metadata": {},
   "outputs": [
    {
     "data": {
      "text/plain": [
       "[ \u001b[33m1\u001b[39m, \u001b[33m5.3\u001b[39m, \u001b[33m1.5\u001b[39m, \u001b[33m10.99\u001b[39m, \u001b[33m-5\u001b[39m, \u001b[33m10\u001b[39m ]"
      ]
     },
     "execution_count": 31,
     "metadata": {},
     "output_type": "execute_result"
    }
   ],
   "source": [
    "const testResults = [1, 5.3, 1.5, 10.99, -5, 10];\n",
    "testResults"
   ]
  },
  {
   "cell_type": "code",
   "execution_count": 32,
   "id": "03ebe7ee-6e7c-4ddd-8d1d-a1b3da675edc",
   "metadata": {},
   "outputs": [],
   "source": [
    "const testResults2 = testResults;      // References same array"
   ]
  },
  {
   "cell_type": "code",
   "execution_count": 33,
   "id": "954f3f0f-f740-438f-9c14-2916ec4d9a5f",
   "metadata": {},
   "outputs": [
    {
     "data": {
      "text/plain": [
       "\u001b[33m7\u001b[39m"
      ]
     },
     "execution_count": 33,
     "metadata": {},
     "output_type": "execute_result"
    }
   ],
   "source": [
    "testResults.push(5.91);"
   ]
  },
  {
   "cell_type": "code",
   "execution_count": 34,
   "id": "207e274f-5b7c-4b9c-b120-73673d97a94e",
   "metadata": {},
   "outputs": [
    {
     "data": {
      "text/plain": [
       "[\n",
       "      \u001b[33m1\u001b[39m, \u001b[33m5.3\u001b[39m, \u001b[33m1.5\u001b[39m,\n",
       "  \u001b[33m10.99\u001b[39m,  \u001b[33m-5\u001b[39m,  \u001b[33m10\u001b[39m,\n",
       "   \u001b[33m5.91\u001b[39m\n",
       "]"
      ]
     },
     "execution_count": 34,
     "metadata": {},
     "output_type": "execute_result"
    }
   ],
   "source": [
    "testResults2"
   ]
  },
  {
   "cell_type": "code",
   "execution_count": 35,
   "id": "da83b8ce-be97-4523-85e4-c02efe238db4",
   "metadata": {},
   "outputs": [
    {
     "data": {
      "text/plain": [
       "[\n",
       "      \u001b[33m1\u001b[39m, \u001b[33m5.3\u001b[39m, \u001b[33m1.5\u001b[39m,\n",
       "  \u001b[33m10.99\u001b[39m,  \u001b[33m-5\u001b[39m,  \u001b[33m10\u001b[39m,\n",
       "   \u001b[33m5.91\u001b[39m\n",
       "]"
      ]
     },
     "execution_count": 35,
     "metadata": {},
     "output_type": "execute_result"
    }
   ],
   "source": [
    "const testResults3 = testResults.slice(); // New copy\n",
    "testResults3"
   ]
  },
  {
   "cell_type": "code",
   "execution_count": 36,
   "id": "b8c5a81d-f4e0-488c-8dfb-d5e970abfe7b",
   "metadata": {},
   "outputs": [
    {
     "data": {
      "text/plain": [
       "[\n",
       "      \u001b[33m1\u001b[39m, \u001b[33m5.3\u001b[39m, \u001b[33m1.5\u001b[39m,\n",
       "  \u001b[33m10.99\u001b[39m,  \u001b[33m-5\u001b[39m,  \u001b[33m10\u001b[39m,\n",
       "   \u001b[33m5.91\u001b[39m\n",
       "]"
      ]
     },
     "execution_count": 36,
     "metadata": {},
     "output_type": "execute_result"
    }
   ],
   "source": [
    "[...testResults]; // Also creates a copy"
   ]
  },
  {
   "cell_type": "code",
   "execution_count": 37,
   "id": "ecc3a3ca-0e33-437f-b287-a3c27a58d2bc",
   "metadata": {},
   "outputs": [
    {
     "data": {
      "text/plain": [
       "\u001b[33m5.91\u001b[39m"
      ]
     },
     "execution_count": 37,
     "metadata": {},
     "output_type": "execute_result"
    }
   ],
   "source": [
    "testResults.pop();"
   ]
  },
  {
   "cell_type": "code",
   "execution_count": 38,
   "id": "13a611da-7580-4877-beb0-6154fe5ccfaa",
   "metadata": {},
   "outputs": [
    {
     "data": {
      "text/plain": [
       "[ \u001b[33m1\u001b[39m, \u001b[33m5.3\u001b[39m, \u001b[33m1.5\u001b[39m, \u001b[33m10.99\u001b[39m, \u001b[33m-5\u001b[39m, \u001b[33m10\u001b[39m ]"
      ]
     },
     "execution_count": 38,
     "metadata": {},
     "output_type": "execute_result"
    }
   ],
   "source": [
    "testResults"
   ]
  },
  {
   "cell_type": "code",
   "execution_count": 39,
   "id": "d9f6582e-0b6c-4917-95d3-2b93ba88a75d",
   "metadata": {},
   "outputs": [
    {
     "data": {
      "text/plain": [
       "[\n",
       "      \u001b[33m1\u001b[39m, \u001b[33m5.3\u001b[39m, \u001b[33m1.5\u001b[39m,\n",
       "  \u001b[33m10.99\u001b[39m,  \u001b[33m-5\u001b[39m,  \u001b[33m10\u001b[39m,\n",
       "   \u001b[33m5.91\u001b[39m\n",
       "]"
      ]
     },
     "execution_count": 39,
     "metadata": {},
     "output_type": "execute_result"
    }
   ],
   "source": [
    "testResults3"
   ]
  },
  {
   "cell_type": "code",
   "execution_count": 53,
   "id": "656d101d-9e5e-442d-8fe6-e98a046f1842",
   "metadata": {},
   "outputs": [],
   "source": [
    "testResults3[-1] // Does not work"
   ]
  },
  {
   "cell_type": "code",
   "execution_count": 41,
   "id": "3fb5b0df-d2c1-40d0-8c6b-ebfac43912f1",
   "metadata": {},
   "outputs": [
    {
     "data": {
      "text/plain": [
       "[ \u001b[33m-5\u001b[39m, \u001b[33m10\u001b[39m ]"
      ]
     },
     "execution_count": 41,
     "metadata": {},
     "output_type": "execute_result"
    }
   ],
   "source": [
    "testResults3.slice(-3, -1);"
   ]
  },
  {
   "cell_type": "code",
   "execution_count": 42,
   "id": "a774cd90-088c-4f81-abab-bac9040df084",
   "metadata": {},
   "outputs": [
    {
     "data": {
      "text/plain": [
       "[\n",
       "      \u001b[33m1\u001b[39m,  \u001b[33m5.3\u001b[39m, \u001b[33m1.5\u001b[39m,\n",
       "  \u001b[33m10.99\u001b[39m,   \u001b[33m-5\u001b[39m,  \u001b[33m10\u001b[39m,\n",
       "   \u001b[33m5.91\u001b[39m, \u001b[33m3.99\u001b[39m,   \u001b[33m2\u001b[39m\n",
       "]"
      ]
     },
     "execution_count": 42,
     "metadata": {},
     "output_type": "execute_result"
    }
   ],
   "source": [
    "testResults3.concat([3.99, 2]);"
   ]
  },
  {
   "cell_type": "code",
   "execution_count": 44,
   "id": "aa2693f8-5af8-4f34-bee0-bcab41673b45",
   "metadata": {},
   "outputs": [
    {
     "data": {
      "text/plain": [
       "[\n",
       "      \u001b[33m1\u001b[39m, \u001b[33m5.3\u001b[39m, \u001b[33m1.5\u001b[39m,\n",
       "  \u001b[33m10.99\u001b[39m,  \u001b[33m-5\u001b[39m,  \u001b[33m10\u001b[39m,\n",
       "   \u001b[33m5.91\u001b[39m\n",
       "]"
      ]
     },
     "execution_count": 44,
     "metadata": {},
     "output_type": "execute_result"
    }
   ],
   "source": [
    "testResults3"
   ]
  },
  {
   "cell_type": "markdown",
   "id": "a928cb91-e433-4284-97bf-1ef70663a176",
   "metadata": {},
   "source": [
    "🔍 Array Searching"
   ]
  },
  {
   "cell_type": "code",
   "execution_count": 45,
   "id": "84792a4e-1d58-44d5-b3d9-f4cc629245f4",
   "metadata": {},
   "outputs": [
    {
     "data": {
      "text/plain": [
       "\u001b[33m6\u001b[39m"
      ]
     },
     "execution_count": 45,
     "metadata": {},
     "output_type": "execute_result"
    }
   ],
   "source": [
    "testResults3.indexOf(5.91);       // Returns first match index"
   ]
  },
  {
   "cell_type": "code",
   "execution_count": 47,
   "id": "0b05bf78-5e03-4b77-b37e-350b3d3cb587",
   "metadata": {},
   "outputs": [
    {
     "data": {
      "text/plain": [
       "\u001b[33m6\u001b[39m"
      ]
     },
     "execution_count": 47,
     "metadata": {},
     "output_type": "execute_result"
    }
   ],
   "source": [
    "testResults3.lastIndexOf(5.91);   // Returns last match index"
   ]
  },
  {
   "cell_type": "code",
   "execution_count": 46,
   "id": "84b7fb85-0853-41cf-b523-aea99d224baa",
   "metadata": {},
   "outputs": [
    {
     "data": {
      "text/plain": [
       "\u001b[33mtrue\u001b[39m"
      ]
     },
     "execution_count": 46,
     "metadata": {},
     "output_type": "execute_result"
    }
   ],
   "source": [
    "testResults3.includes(10);        // true/false"
   ]
  },
  {
   "cell_type": "code",
   "execution_count": 79,
   "id": "22f71306-bf76-4a0a-89fd-694b8da62b1e",
   "metadata": {},
   "outputs": [
    {
     "data": {
      "text/plain": [
       "\u001b[33m-1\u001b[39m"
      ]
     },
     "execution_count": 79,
     "metadata": {},
     "output_type": "execute_result"
    }
   ],
   "source": [
    "testResults3.lastIndexOf(0);"
   ]
  },
  {
   "cell_type": "code",
   "execution_count": 54,
   "id": "42345ce1-9bdb-48e4-8b79-500a0efe122d",
   "metadata": {},
   "outputs": [
    {
     "data": {
      "text/plain": [
       "[ { name: \u001b[32m\"Max\"\u001b[39m }, { name: \u001b[32m\"Manuel\"\u001b[39m } ]"
      ]
     },
     "execution_count": 54,
     "metadata": {},
     "output_type": "execute_result"
    }
   ],
   "source": [
    "const personData = [{ name: 'Max' }, { name: 'Manuel' }];\n",
    "personData"
   ]
  },
  {
   "cell_type": "code",
   "execution_count": 49,
   "id": "bb6fd425-1de5-4b08-bbb3-00bca9540e63",
   "metadata": {},
   "outputs": [
    {
     "data": {
      "text/plain": [
       "\u001b[33m-1\u001b[39m"
      ]
     },
     "execution_count": 49,
     "metadata": {},
     "output_type": "execute_result"
    }
   ],
   "source": [
    "testResults3.indexOf({ name: \"Max\" }); // Not working with objects"
   ]
  },
  {
   "cell_type": "code",
   "execution_count": 84,
   "id": "093e8c9f-31c8-4e79-be26-03933fb68c74",
   "metadata": {},
   "outputs": [
    {
     "name": "stdout",
     "output_type": "stream",
     "text": [
      "\u001b[33m0\u001b[39m [ { name: \u001b[32m\"Max\"\u001b[39m }, { name: \u001b[32m\"Manuel\"\u001b[39m } ]\n",
      "\u001b[33m1\u001b[39m [ { name: \u001b[32m\"Max\"\u001b[39m }, { name: \u001b[32m\"Manuel\"\u001b[39m } ]\n"
     ]
    }
   ],
   "source": [
    "const manuel = personData.find((person, index, persons) => {\n",
    "    console.log(index, persons);\n",
    "    return person.name === 'Manuel';\n",
    "});"
   ]
  },
  {
   "cell_type": "code",
   "execution_count": 86,
   "id": "15115946-e024-4059-9528-56ef40cfdf83",
   "metadata": {},
   "outputs": [
    {
     "data": {
      "text/plain": [
       "{ name: \u001b[32m\"Manuel\"\u001b[39m }"
      ]
     },
     "execution_count": 86,
     "metadata": {},
     "output_type": "execute_result"
    }
   ],
   "source": [
    "manuel"
   ]
  },
  {
   "cell_type": "code",
   "execution_count": 87,
   "id": "a2a3d976-2233-45b8-8167-f19f6a1553e3",
   "metadata": {},
   "outputs": [
    {
     "name": "stdout",
     "output_type": "stream",
     "text": [
      "\u001b[33m0\u001b[39m [ { name: \u001b[32m\"Max\"\u001b[39m }, { name: \u001b[32m\"Manuel\"\u001b[39m } ]\n"
     ]
    }
   ],
   "source": [
    "const maxIndex = personData.findIndex((person, index, persons) => {\n",
    "    console.log(index, persons);\n",
    "    return person.name === 'Max';\n",
    "});"
   ]
  },
  {
   "cell_type": "code",
   "execution_count": 89,
   "id": "57674ef1-eb0a-4a34-b17e-75147f50c46a",
   "metadata": {},
   "outputs": [
    {
     "data": {
      "text/plain": [
       "\u001b[33m0\u001b[39m"
      ]
     },
     "execution_count": 89,
     "metadata": {},
     "output_type": "execute_result"
    }
   ],
   "source": [
    "maxIndex"
   ]
  },
  {
   "cell_type": "code",
   "execution_count": 90,
   "id": "36c342c6-d2d7-4ef4-afc4-a7cfaea222cc",
   "metadata": {},
   "outputs": [
    {
     "data": {
      "text/plain": [
       "\u001b[33mfalse\u001b[39m"
      ]
     },
     "execution_count": 90,
     "metadata": {},
     "output_type": "execute_result"
    }
   ],
   "source": [
    "hobbies.includes('Coding');"
   ]
  },
  {
   "cell_type": "code",
   "execution_count": 92,
   "id": "5c95363d-dfb8-4cda-a474-a50764a00bf5",
   "metadata": {},
   "outputs": [
    {
     "data": {
      "text/plain": [
       "\u001b[33mtrue\u001b[39m"
      ]
     },
     "execution_count": 92,
     "metadata": {},
     "output_type": "execute_result"
    }
   ],
   "source": [
    "hobbies.includes('Sports');"
   ]
  },
  {
   "cell_type": "code",
   "execution_count": 95,
   "id": "8a2b6a41-f29d-4cfc-9aba-0ccc13dbbc76",
   "metadata": {},
   "outputs": [
    {
     "data": {
      "text/plain": [
       "\u001b[33mfalse\u001b[39m"
      ]
     },
     "execution_count": 95,
     "metadata": {},
     "output_type": "execute_result"
    }
   ],
   "source": [
    "hobbies.includes({ name: \"Max\" }); // Not working with objects"
   ]
  },
  {
   "cell_type": "code",
   "execution_count": 102,
   "id": "6ae8094d-95e9-44fc-ba4a-72ac0fed236f",
   "metadata": {},
   "outputs": [
    {
     "name": "stdout",
     "output_type": "stream",
     "text": [
      "\u001b[33m1\u001b[39m \u001b[33m0\u001b[39m [\n",
      "      \u001b[33m1\u001b[39m,  \u001b[33m5.3\u001b[39m, \u001b[33m1.5\u001b[39m,\n",
      "  \u001b[33m10.99\u001b[39m,   \u001b[33m-5\u001b[39m,  \u001b[33m10\u001b[39m,\n",
      "   \u001b[33m5.91\u001b[39m, \u001b[33m5.91\u001b[39m\n",
      "]\n",
      "\u001b[33m5.3\u001b[39m \u001b[33m1\u001b[39m [\n",
      "      \u001b[33m1\u001b[39m,  \u001b[33m5.3\u001b[39m, \u001b[33m1.5\u001b[39m,\n",
      "  \u001b[33m10.99\u001b[39m,   \u001b[33m-5\u001b[39m,  \u001b[33m10\u001b[39m,\n",
      "   \u001b[33m5.91\u001b[39m, \u001b[33m5.91\u001b[39m\n",
      "]\n",
      "\u001b[33m1.5\u001b[39m \u001b[33m2\u001b[39m [\n",
      "      \u001b[33m1\u001b[39m,  \u001b[33m5.3\u001b[39m, \u001b[33m1.5\u001b[39m,\n",
      "  \u001b[33m10.99\u001b[39m,   \u001b[33m-5\u001b[39m,  \u001b[33m10\u001b[39m,\n",
      "   \u001b[33m5.91\u001b[39m, \u001b[33m5.91\u001b[39m\n",
      "]\n",
      "\u001b[33m10.99\u001b[39m \u001b[33m3\u001b[39m [\n",
      "      \u001b[33m1\u001b[39m,  \u001b[33m5.3\u001b[39m, \u001b[33m1.5\u001b[39m,\n",
      "  \u001b[33m10.99\u001b[39m,   \u001b[33m-5\u001b[39m,  \u001b[33m10\u001b[39m,\n",
      "   \u001b[33m5.91\u001b[39m, \u001b[33m5.91\u001b[39m\n",
      "]\n",
      "\u001b[33m-5\u001b[39m \u001b[33m4\u001b[39m [\n",
      "      \u001b[33m1\u001b[39m,  \u001b[33m5.3\u001b[39m, \u001b[33m1.5\u001b[39m,\n",
      "  \u001b[33m10.99\u001b[39m,   \u001b[33m-5\u001b[39m,  \u001b[33m10\u001b[39m,\n",
      "   \u001b[33m5.91\u001b[39m, \u001b[33m5.91\u001b[39m\n",
      "]\n",
      "\u001b[33m10\u001b[39m \u001b[33m5\u001b[39m [\n",
      "      \u001b[33m1\u001b[39m,  \u001b[33m5.3\u001b[39m, \u001b[33m1.5\u001b[39m,\n",
      "  \u001b[33m10.99\u001b[39m,   \u001b[33m-5\u001b[39m,  \u001b[33m10\u001b[39m,\n",
      "   \u001b[33m5.91\u001b[39m, \u001b[33m5.91\u001b[39m\n",
      "]\n",
      "\u001b[33m5.91\u001b[39m \u001b[33m6\u001b[39m [\n",
      "      \u001b[33m1\u001b[39m,  \u001b[33m5.3\u001b[39m, \u001b[33m1.5\u001b[39m,\n",
      "  \u001b[33m10.99\u001b[39m,   \u001b[33m-5\u001b[39m,  \u001b[33m10\u001b[39m,\n",
      "   \u001b[33m5.91\u001b[39m, \u001b[33m5.91\u001b[39m\n",
      "]\n",
      "\u001b[33m5.91\u001b[39m \u001b[33m7\u001b[39m [\n",
      "      \u001b[33m1\u001b[39m,  \u001b[33m5.3\u001b[39m, \u001b[33m1.5\u001b[39m,\n",
      "  \u001b[33m10.99\u001b[39m,   \u001b[33m-5\u001b[39m,  \u001b[33m10\u001b[39m,\n",
      "   \u001b[33m5.91\u001b[39m, \u001b[33m5.91\u001b[39m\n",
      "]\n"
     ]
    }
   ],
   "source": [
    "testResults3.forEach((value, index, array) => {\n",
    "    console.log(value, index, array);\n",
    "});"
   ]
  },
  {
   "cell_type": "code",
   "execution_count": 100,
   "id": "a3a9a4b6-3364-4432-b373-94e46dc2af4e",
   "metadata": {},
   "outputs": [
    {
     "data": {
      "text/plain": [
       "[\n",
       "      \u001b[33m2\u001b[39m,  \u001b[33m10.6\u001b[39m,  \u001b[33m3\u001b[39m,\n",
       "  \u001b[33m21.98\u001b[39m,   \u001b[33m-10\u001b[39m, \u001b[33m20\u001b[39m,\n",
       "  \u001b[33m11.82\u001b[39m, \u001b[33m11.82\u001b[39m\n",
       "]"
      ]
     },
     "execution_count": 100,
     "metadata": {},
     "output_type": "execute_result"
    }
   ],
   "source": [
    "testResults3.map((value, index, array) => value * 2);"
   ]
  },
  {
   "cell_type": "code",
   "execution_count": 136,
   "id": "5ddd30a9-0a84-44a6-ac1a-acf5ff566c1a",
   "metadata": {},
   "outputs": [
    {
     "data": {
      "text/plain": [
       "[\n",
       "  { val: \u001b[33m10.99\u001b[39m },\n",
       "  { val: \u001b[33m10\u001b[39m },\n",
       "  { val: \u001b[33m5.91\u001b[39m },\n",
       "  { val: \u001b[33m5.91\u001b[39m },\n",
       "  { val: \u001b[33m5.3\u001b[39m },\n",
       "  { val: \u001b[33m1.5\u001b[39m },\n",
       "  { val: \u001b[33m1\u001b[39m },\n",
       "  { val: \u001b[33m-5\u001b[39m }\n",
       "]"
      ]
     },
     "execution_count": 136,
     "metadata": {},
     "output_type": "execute_result"
    }
   ],
   "source": [
    "testResults3.map((value, index, array) => { return { val: value }});"
   ]
  },
  {
   "cell_type": "code",
   "execution_count": 50,
   "id": "b6023fc2-a603-40d3-9099-8f0de6fe2af4",
   "metadata": {},
   "outputs": [
    {
     "data": {
      "text/plain": [
       "[\n",
       "  { val: \u001b[33m1\u001b[39m },\n",
       "  { val: \u001b[33m5.3\u001b[39m },\n",
       "  { val: \u001b[33m1.5\u001b[39m },\n",
       "  { val: \u001b[33m10.99\u001b[39m },\n",
       "  { val: \u001b[33m-5\u001b[39m },\n",
       "  { val: \u001b[33m10\u001b[39m },\n",
       "  { val: \u001b[33m5.91\u001b[39m }\n",
       "]"
      ]
     },
     "execution_count": 50,
     "metadata": {},
     "output_type": "execute_result"
    }
   ],
   "source": [
    "testResults3.map((value, index, array) => ({ val: value }));"
   ]
  },
  {
   "cell_type": "markdown",
   "id": "ca1e8564-41f2-4f33-b827-56bf632bae87",
   "metadata": {},
   "source": [
    "## 🌀 Iteration"
   ]
  },
  {
   "cell_type": "code",
   "execution_count": 55,
   "id": "3aae5391-c2b4-4d5e-83b1-cbb65e67a8e1",
   "metadata": {},
   "outputs": [
    {
     "data": {
      "text/plain": [
       "[\n",
       "     \u001b[33m-5\u001b[39m,    \u001b[33m1\u001b[39m, \u001b[33m1.5\u001b[39m,\n",
       "    \u001b[33m5.3\u001b[39m, \u001b[33m5.91\u001b[39m,  \u001b[33m10\u001b[39m,\n",
       "  \u001b[33m10.99\u001b[39m\n",
       "]"
      ]
     },
     "execution_count": 55,
     "metadata": {},
     "output_type": "execute_result"
    }
   ],
   "source": [
    "testResults3.sort((a, b) => {\n",
    "    if (a > b) {\n",
    "        return 1;\n",
    "    } else if (a === b) {\n",
    "        return 0;\n",
    "    } else {\n",
    "        return -1;\n",
    "    }\n",
    "});"
   ]
  },
  {
   "cell_type": "code",
   "execution_count": 108,
   "id": "894f8cdf-da42-44ff-bb7d-cb6223f5d1fd",
   "metadata": {},
   "outputs": [
    {
     "data": {
      "text/plain": [
       "[\n",
       "  \u001b[33m10.99\u001b[39m,  \u001b[33m10\u001b[39m, \u001b[33m5.91\u001b[39m,\n",
       "   \u001b[33m5.91\u001b[39m, \u001b[33m5.3\u001b[39m,  \u001b[33m1.5\u001b[39m,\n",
       "      \u001b[33m1\u001b[39m,  \u001b[33m-5\u001b[39m\n",
       "]"
      ]
     },
     "execution_count": 108,
     "metadata": {},
     "output_type": "execute_result"
    }
   ],
   "source": [
    "testResults3.reverse();"
   ]
  },
  {
   "cell_type": "code",
   "execution_count": 51,
   "id": "e0b86b0b-0288-4560-84a5-c59c56152cf5",
   "metadata": {},
   "outputs": [
    {
     "data": {
      "text/plain": [
       "[\n",
       "    \u001b[33m-5\u001b[39m,     \u001b[33m1\u001b[39m, \u001b[33m1.5\u001b[39m,\n",
       "    \u001b[33m10\u001b[39m, \u001b[33m10.99\u001b[39m, \u001b[33m5.3\u001b[39m,\n",
       "  \u001b[33m5.91\u001b[39m\n",
       "]"
      ]
     },
     "execution_count": 51,
     "metadata": {},
     "output_type": "execute_result"
    }
   ],
   "source": [
    "testResults3.sort(); // Wrong for numbers!"
   ]
  },
  {
   "cell_type": "code",
   "execution_count": 111,
   "id": "23904e63-3b89-4fbd-83c1-e65c9b748cd8",
   "metadata": {},
   "outputs": [
    {
     "data": {
      "text/plain": [
       "[\n",
       "  \u001b[33m10.99\u001b[39m,  \u001b[33m10\u001b[39m, \u001b[33m5.91\u001b[39m,\n",
       "   \u001b[33m5.91\u001b[39m, \u001b[33m5.3\u001b[39m,  \u001b[33m1.5\u001b[39m,\n",
       "      \u001b[33m1\u001b[39m,  \u001b[33m-5\u001b[39m\n",
       "]"
      ]
     },
     "execution_count": 111,
     "metadata": {},
     "output_type": "execute_result"
    }
   ],
   "source": [
    "testResults3.sort((a, b) => {\n",
    "    if (a > b) {\n",
    "        return -1;\n",
    "    } else if (a === b) {\n",
    "        return 0;\n",
    "    } else {\n",
    "        return 1;\n",
    "    }\n",
    "});"
   ]
  },
  {
   "cell_type": "code",
   "execution_count": 113,
   "id": "a7f6681e-f9af-4789-8447-13ed95c5eeac",
   "metadata": {},
   "outputs": [
    {
     "data": {
      "text/plain": [
       "[\n",
       "   \u001b[33m-5\u001b[39m,     \u001b[33m1\u001b[39m,  \u001b[33m1.5\u001b[39m,\n",
       "  \u001b[33m5.3\u001b[39m,  \u001b[33m5.91\u001b[39m, \u001b[33m5.91\u001b[39m,\n",
       "   \u001b[33m10\u001b[39m, \u001b[33m10.99\u001b[39m\n",
       "]"
      ]
     },
     "execution_count": 113,
     "metadata": {},
     "output_type": "execute_result"
    }
   ],
   "source": [
    "testResults3.sort((a, b) => a - b); // Ascending"
   ]
  },
  {
   "cell_type": "code",
   "execution_count": 115,
   "id": "1091f867-899f-4129-8f66-43a89deb3622",
   "metadata": {},
   "outputs": [
    {
     "data": {
      "text/plain": [
       "[\n",
       "  \u001b[33m10.99\u001b[39m,  \u001b[33m10\u001b[39m, \u001b[33m5.91\u001b[39m,\n",
       "   \u001b[33m5.91\u001b[39m, \u001b[33m5.3\u001b[39m,  \u001b[33m1.5\u001b[39m,\n",
       "      \u001b[33m1\u001b[39m,  \u001b[33m-5\u001b[39m\n",
       "]"
      ]
     },
     "execution_count": 115,
     "metadata": {},
     "output_type": "execute_result"
    }
   ],
   "source": [
    "testResults3.sort((a, b) => b - a); // Descending"
   ]
  },
  {
   "cell_type": "code",
   "execution_count": 116,
   "id": "98a918a5-a566-4242-8505-1a83d58bab8b",
   "metadata": {},
   "outputs": [
    {
     "data": {
      "text/plain": [
       "[ \u001b[33m10.99\u001b[39m, \u001b[33m10\u001b[39m, \u001b[33m5.91\u001b[39m, \u001b[33m5.91\u001b[39m ]"
      ]
     },
     "execution_count": 116,
     "metadata": {},
     "output_type": "execute_result"
    }
   ],
   "source": [
    "testResults3.filter((value, index, array) => {\n",
    "    return value > 5.5;\n",
    "});"
   ]
  },
  {
   "cell_type": "code",
   "execution_count": 117,
   "id": "2b09713a-5676-4c23-bffc-434ff44ad48d",
   "metadata": {},
   "outputs": [
    {
     "data": {
      "text/plain": [
       "[ \u001b[33m10.99\u001b[39m, \u001b[33m10\u001b[39m, \u001b[33m5.91\u001b[39m, \u001b[33m5.91\u001b[39m ]"
      ]
     },
     "execution_count": 117,
     "metadata": {},
     "output_type": "execute_result"
    }
   ],
   "source": [
    "testResults3.filter((value, index, array) => value > 5.5);"
   ]
  },
  {
   "cell_type": "markdown",
   "id": "c2761a8c-756b-41d1-ba5c-621dbb93a1b5",
   "metadata": {},
   "source": [
    "## 🧮 Aggregation with reduce()"
   ]
  },
  {
   "cell_type": "code",
   "execution_count": 119,
   "id": "9c81d060-59dd-4366-94b1-18a404419e84",
   "metadata": {},
   "outputs": [
    {
     "name": "stdout",
     "output_type": "stream",
     "text": [
      "\u001b[33m100\u001b[39m \u001b[33m10.99\u001b[39m \u001b[33m0\u001b[39m\n",
      "\u001b[33m110.99\u001b[39m \u001b[33m10\u001b[39m \u001b[33m1\u001b[39m\n",
      "\u001b[33m120.99\u001b[39m \u001b[33m5.91\u001b[39m \u001b[33m2\u001b[39m\n",
      "\u001b[33m126.89999999999999\u001b[39m \u001b[33m5.91\u001b[39m \u001b[33m3\u001b[39m\n",
      "\u001b[33m132.81\u001b[39m \u001b[33m5.3\u001b[39m \u001b[33m4\u001b[39m\n",
      "\u001b[33m138.11\u001b[39m \u001b[33m1.5\u001b[39m \u001b[33m5\u001b[39m\n",
      "\u001b[33m139.61\u001b[39m \u001b[33m1\u001b[39m \u001b[33m6\u001b[39m\n",
      "\u001b[33m140.61\u001b[39m \u001b[33m-5\u001b[39m \u001b[33m7\u001b[39m\n"
     ]
    },
    {
     "data": {
      "text/plain": [
       "\u001b[33m135.61\u001b[39m"
      ]
     },
     "execution_count": 119,
     "metadata": {},
     "output_type": "execute_result"
    }
   ],
   "source": [
    "testResults3.reduce((previousValue, currentValue, currentIndex, array) => {\n",
    "    console.log(previousValue, currentValue, currentIndex);\n",
    "    return previousValue + currentValue;\n",
    "}, 100);"
   ]
  },
  {
   "cell_type": "code",
   "execution_count": 120,
   "id": "644143a5-1a42-4dff-b73e-2ad4bf925bf7",
   "metadata": {},
   "outputs": [
    {
     "data": {
      "text/plain": [
       "\u001b[33m135.61\u001b[39m"
      ]
     },
     "execution_count": 120,
     "metadata": {},
     "output_type": "execute_result"
    }
   ],
   "source": [
    "testResults3.reduce((previousValue, currentValue) => previousValue + currentValue, 100);"
   ]
  },
  {
   "cell_type": "code",
   "execution_count": 122,
   "id": "3d61c33d-4564-4f1d-889f-8a68bc963102",
   "metadata": {},
   "outputs": [
    {
     "data": {
      "text/plain": [
       "[ \u001b[33m10.99\u001b[39m, \u001b[33m5.99\u001b[39m, \u001b[33m29.99\u001b[39m ]"
      ]
     },
     "execution_count": 122,
     "metadata": {},
     "output_type": "execute_result"
    }
   ],
   "source": [
    "const originalArray = [{price: 10.99}, {price: 5.99}, {price: 29.99}];\n",
    "originalArray.map(obj => obj.price);"
   ]
  },
  {
   "cell_type": "code",
   "execution_count": 124,
   "id": "c4c0daf0-5ffd-4e79-92d8-1b4491dc6e41",
   "metadata": {},
   "outputs": [
    {
     "data": {
      "text/plain": [
       "\u001b[33m46.97\u001b[39m"
      ]
     },
     "execution_count": 124,
     "metadata": {},
     "output_type": "execute_result"
    }
   ],
   "source": [
    "originalArray.reduce((sumVal, curVal) => sumVal + curVal.price, 0);"
   ]
  },
  {
   "cell_type": "code",
   "execution_count": 126,
   "id": "3723bfcc-4a1d-447f-8452-f44afdddd971",
   "metadata": {},
   "outputs": [
    {
     "data": {
      "text/plain": [
       "\u001b[33m46.97\u001b[39m"
      ]
     },
     "execution_count": 126,
     "metadata": {},
     "output_type": "execute_result"
    }
   ],
   "source": [
    "originalArray.map(obj => obj.price)\n",
    "    .reduce((sumVal, curVal) => sumVal + curVal, 0);"
   ]
  },
  {
   "cell_type": "markdown",
   "id": "b23b71cf-1ae6-4625-a698-bf2f157be069",
   "metadata": {},
   "source": [
    "## 📌 String & Array Conversions"
   ]
  },
  {
   "cell_type": "code",
   "execution_count": 128,
   "id": "8b9508e1-3e4a-4bfe-b632-1e72d069d118",
   "metadata": {},
   "outputs": [
    {
     "data": {
      "text/plain": [
       "[ \u001b[32m\"new york\"\u001b[39m, \u001b[32m\"10.99\"\u001b[39m, \u001b[32m\"2000\"\u001b[39m ]"
      ]
     },
     "execution_count": 128,
     "metadata": {},
     "output_type": "execute_result"
    }
   ],
   "source": [
    "const data = 'new york;10.99;2000';\n",
    "data.split(';');"
   ]
  },
  {
   "cell_type": "code",
   "execution_count": 52,
   "id": "458d2475-d5f4-4245-9383-2926b318a837",
   "metadata": {},
   "outputs": [
    {
     "data": {
      "text/plain": [
       "\u001b[32m\"Max Steel\"\u001b[39m"
      ]
     },
     "execution_count": 52,
     "metadata": {},
     "output_type": "execute_result"
    }
   ],
   "source": [
    "const nameFragments = ['Max', 'Steel'];\n",
    "nameFragments.join(' ');"
   ]
  },
  {
   "cell_type": "markdown",
   "id": "ff1ac44f-2c93-4697-9fb3-1585e92178b2",
   "metadata": {},
   "source": [
    "## 🔄 Spread & Destructuring"
   ]
  },
  {
   "cell_type": "code",
   "execution_count": 134,
   "id": "a4d0ed13-00b8-48cc-9ef5-fc6fb363dabe",
   "metadata": {},
   "outputs": [
    {
     "data": {
      "text/plain": [
       "[ \u001b[32m\"Max\"\u001b[39m, \u001b[32m\"Steel\"\u001b[39m ]"
      ]
     },
     "execution_count": 134,
     "metadata": {},
     "output_type": "execute_result"
    }
   ],
   "source": [
    "[...nameFragments]; // It could be used as a copy of the array"
   ]
  },
  {
   "cell_type": "code",
   "execution_count": 138,
   "id": "06e687e3-3d1f-4466-90ae-22f039ddcdcc",
   "metadata": {},
   "outputs": [
    {
     "data": {
      "text/plain": [
       "[ \u001b[32m\"Max\"\u001b[39m, \u001b[32m\"Manuel\"\u001b[39m ]"
      ]
     },
     "execution_count": 138,
     "metadata": {},
     "output_type": "execute_result"
    }
   ],
   "source": [
    "[...personData.map((value) => value.name)]"
   ]
  },
  {
   "cell_type": "code",
   "execution_count": 57,
   "id": "e855a413-72d9-4c0e-86bc-991a667299db",
   "metadata": {},
   "outputs": [],
   "source": [
    "const [a, b] = nameFragments;"
   ]
  },
  {
   "cell_type": "code",
   "execution_count": 58,
   "id": "e793b6a5-46c8-4d21-b82a-236329c36b42",
   "metadata": {},
   "outputs": [
    {
     "data": {
      "text/plain": [
       "\u001b[32m\"Max\"\u001b[39m"
      ]
     },
     "execution_count": 58,
     "metadata": {},
     "output_type": "execute_result"
    }
   ],
   "source": [
    "a"
   ]
  },
  {
   "cell_type": "code",
   "execution_count": 59,
   "id": "04195d59-5440-4b00-9db7-85b2114059ed",
   "metadata": {},
   "outputs": [
    {
     "data": {
      "text/plain": [
       "\u001b[32m\"Steel\"\u001b[39m"
      ]
     },
     "execution_count": 59,
     "metadata": {},
     "output_type": "execute_result"
    }
   ],
   "source": [
    "b"
   ]
  },
  {
   "cell_type": "code",
   "execution_count": 141,
   "id": "ed2b685f-83ae-497b-896a-890a12f38fd4",
   "metadata": {},
   "outputs": [],
   "source": [
    "const [a1, ...otherNumbers] = originalArray;"
   ]
  },
  {
   "cell_type": "code",
   "execution_count": 142,
   "id": "87de4f4e-e0bf-4e6e-9fdd-85c3f10449e5",
   "metadata": {},
   "outputs": [
    {
     "data": {
      "text/plain": [
       "{ price: \u001b[33m10.99\u001b[39m }"
      ]
     },
     "execution_count": 142,
     "metadata": {},
     "output_type": "execute_result"
    }
   ],
   "source": [
    "a1"
   ]
  },
  {
   "cell_type": "code",
   "execution_count": 143,
   "id": "84d418a8-7dc4-49db-9e9b-066d3cb048b6",
   "metadata": {},
   "outputs": [
    {
     "data": {
      "text/plain": [
       "[ { price: \u001b[33m5.99\u001b[39m }, { price: \u001b[33m29.99\u001b[39m } ]"
      ]
     },
     "execution_count": 143,
     "metadata": {},
     "output_type": "execute_result"
    }
   ],
   "source": [
    "otherNumbers"
   ]
  },
  {
   "cell_type": "markdown",
   "id": "2cfea2ab-dd5b-44a2-b136-62bdaf43ca7b",
   "metadata": {},
   "source": [
    "## 📝 Summary"
   ]
  },
  {
   "cell_type": "markdown",
   "id": "27b1ee91-d7c4-4b09-b486-d58d86d55318",
   "metadata": {},
   "source": [
    "| Task        | Method                                                    |\n",
    "| ----------- | --------------------------------------------------------- |\n",
    "| Add/Remove  | `push`, `pop`, `unshift`, `shift`, `splice`               |\n",
    "| Copy        | `slice`, `[...arr]`, `Array.from()`                       |\n",
    "| Search      | `indexOf`, `lastIndexOf`, `includes`, `find`, `findIndex` |\n",
    "| Iterate     | `forEach`, `map`                                          |\n",
    "| Sort        | `sort`, `reverse`                                         |\n",
    "| Filter      | `filter`                                                  |\n",
    "| Aggregate   | `reduce`                                                  |\n",
    "| Transform   | `split`, `join`                                           |\n",
    "| Destructure | `[a, b] = arr`, `...rest`                                 |"
   ]
  }
 ],
 "metadata": {
  "kernelspec": {
   "display_name": "Deno",
   "language": "typescript",
   "name": "deno"
  },
  "language_info": {
   "codemirror_mode": "typescript",
   "file_extension": ".ts",
   "mimetype": "text/x.typescript",
   "name": "typescript",
   "nbconvert_exporter": "script",
   "pygments_lexer": "typescript",
   "version": "5.7.3"
  }
 },
 "nbformat": 4,
 "nbformat_minor": 5
}
