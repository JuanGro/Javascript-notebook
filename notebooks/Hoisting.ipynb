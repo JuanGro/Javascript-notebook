{
 "cells": [
  {
   "cell_type": "markdown",
   "id": "17f075c3-8e98-4d7c-be0f-b3582299d84f",
   "metadata": {},
   "source": [
    "# Hoisting"
   ]
  },
  {
   "cell_type": "code",
   "execution_count": 1,
   "id": "d6766cfe-1b77-405e-9b45-6a7784d18ff0",
   "metadata": {},
   "outputs": [
    {
     "name": "stdout",
     "output_type": "stream",
     "text": [
      "\u001b[90mundefined\u001b[39m\n"
     ]
    }
   ],
   "source": [
    "console.log(userName);\n",
    "\n",
    "var userName = 'Max';"
   ]
  },
  {
   "cell_type": "code",
   "execution_count": 2,
   "id": "83d850c9-5bed-43ab-879c-e5cb49dad11a",
   "metadata": {},
   "outputs": [
    {
     "ename": "ReferenceError",
     "evalue": "username is not defined",
     "output_type": "error",
     "traceback": [
      "Stack trace:",
      "ReferenceError: username is not defined",
      "    at <anonymous>:1:34"
     ]
    }
   ],
   "source": [
    "console.log(username);\n",
    "\n",
    "let username = 'Max';"
   ]
  },
  {
   "cell_type": "code",
   "execution_count": null,
   "id": "c83826d8-e3eb-4697-afbc-a54d5fcec245",
   "metadata": {},
   "outputs": [],
   "source": []
  }
 ],
 "metadata": {
  "kernelspec": {
   "display_name": "Deno",
   "language": "typescript",
   "name": "deno"
  },
  "language_info": {
   "codemirror_mode": "typescript",
   "file_extension": ".ts",
   "mimetype": "text/x.typescript",
   "name": "typescript",
   "nbconvert_exporter": "script",
   "pygments_lexer": "typescript",
   "version": "5.7.3"
  }
 },
 "nbformat": 4,
 "nbformat_minor": 5
}
