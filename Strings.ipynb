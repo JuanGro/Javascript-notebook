{
 "cells": [
  {
   "cell_type": "markdown",
   "id": "f84d38fd-434b-484b-a160-74ce58348015",
   "metadata": {},
   "source": [
    "# Strings"
   ]
  },
  {
   "cell_type": "code",
   "execution_count": 3,
   "id": "29c136ed-b39b-4953-82e6-d5641a365196",
   "metadata": {},
   "outputs": [],
   "source": [
    "let name = 'Max';"
   ]
  },
  {
   "cell_type": "code",
   "execution_count": 4,
   "id": "0f60681a-7527-4ccf-add1-bf0e10adab9b",
   "metadata": {},
   "outputs": [
    {
     "data": {
      "text/plain": [
       "\u001b[32m\"Max\"\u001b[39m"
      ]
     },
     "execution_count": 4,
     "metadata": {},
     "output_type": "execute_result"
    }
   ],
   "source": [
    "name"
   ]
  },
  {
   "cell_type": "code",
   "execution_count": 26,
   "id": "880b97cf-f804-43cb-9a9b-9eb59fc2d17f",
   "metadata": {},
   "outputs": [
    {
     "data": {
      "text/plain": [
       "\u001b[32m\"This is your name: Max\"\u001b[39m"
      ]
     },
     "execution_count": 26,
     "metadata": {},
     "output_type": "execute_result"
    }
   ],
   "source": [
    "`This is your name: ${name}`"
   ]
  },
  {
   "cell_type": "markdown",
   "id": "2dbb637c-4106-40e0-8831-9d23dfacbde0",
   "metadata": {},
   "source": [
    "## Tagged templates"
   ]
  },
  {
   "cell_type": "code",
   "execution_count": 25,
   "id": "fc7da08c-c548-492e-8882-0c6dc22fa967",
   "metadata": {},
   "outputs": [],
   "source": [
    "function productDescription(strings, productName, productPrice) {\n",
    "    console.log(strings);\n",
    "    console.log(productName);\n",
    "    console.log(productPrice);\n",
    "    return 'This is a product!';\n",
    "}\n",
    "\n",
    "const prodName = 'JavaScript Course';\n",
    "const prodPrice = 29.99;"
   ]
  },
  {
   "cell_type": "code",
   "execution_count": 23,
   "id": "39a12d5b-065e-4c84-85ea-bf716f74659b",
   "metadata": {},
   "outputs": [
    {
     "name": "stdout",
     "output_type": "stream",
     "text": [
      "[ \u001b[32m\"This product (\"\u001b[39m, \u001b[32m\") is \"\u001b[39m, \u001b[32m\".\"\u001b[39m ]\n",
      "JavaScript Course\n",
      "\u001b[33m29.99\u001b[39m\n"
     ]
    }
   ],
   "source": [
    "const productOutput = productDescription`This product (${prodName}) is ${prodPrice}.`;"
   ]
  },
  {
   "cell_type": "code",
   "execution_count": 24,
   "id": "15a4133e-dabf-44f8-9b6c-f952fc56b036",
   "metadata": {},
   "outputs": [
    {
     "data": {
      "text/plain": [
       "\u001b[32m\"This is a product!\"\u001b[39m"
      ]
     },
     "execution_count": 24,
     "metadata": {},
     "output_type": "execute_result"
    }
   ],
   "source": [
    "productOutput"
   ]
  }
 ],
 "metadata": {
  "kernelspec": {
   "display_name": "Deno",
   "language": "typescript",
   "name": "deno"
  },
  "language_info": {
   "codemirror_mode": "typescript",
   "file_extension": ".ts",
   "mimetype": "text/x.typescript",
   "name": "typescript",
   "nbconvert_exporter": "script",
   "pygments_lexer": "typescript",
   "version": "5.7.3"
  }
 },
 "nbformat": 4,
 "nbformat_minor": 5
}
