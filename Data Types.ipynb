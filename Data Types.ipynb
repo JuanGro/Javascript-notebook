{
 "cells": [
  {
   "cell_type": "markdown",
   "id": "50548a46-7984-453a-a68d-6385be79dd6b",
   "metadata": {},
   "source": [
    "# Data Types"
   ]
  },
  {
   "cell_type": "markdown",
   "id": "6613e158-3cd3-4de1-8c19-d6c10df89ec5",
   "metadata": {},
   "source": [
    "## Numbers"
   ]
  },
  {
   "cell_type": "code",
   "execution_count": 7,
   "id": "54639e41-4fc1-4081-a68e-c3a8dacfcfaa",
   "metadata": {},
   "outputs": [
    {
     "data": {
      "text/plain": [
       "\u001b[33m2\u001b[39m"
      ]
     },
     "execution_count": 7,
     "metadata": {},
     "output_type": "execute_result"
    }
   ],
   "source": [
    "2"
   ]
  },
  {
   "cell_type": "code",
   "execution_count": 8,
   "id": "7522d9e8-3c2b-4d77-a68c-d329c0615613",
   "metadata": {},
   "outputs": [
    {
     "data": {
      "text/plain": [
       "\u001b[33m-3\u001b[39m"
      ]
     },
     "execution_count": 8,
     "metadata": {},
     "output_type": "execute_result"
    }
   ],
   "source": [
    "-3"
   ]
  },
  {
   "cell_type": "code",
   "execution_count": 9,
   "id": "2bcc0865-d273-488b-9f9a-c69ebd3d59e9",
   "metadata": {},
   "outputs": [
    {
     "data": {
      "text/plain": [
       "\u001b[33m22.956\u001b[39m"
      ]
     },
     "execution_count": 9,
     "metadata": {},
     "output_type": "execute_result"
    }
   ],
   "source": [
    "22.956"
   ]
  },
  {
   "cell_type": "markdown",
   "id": "f18e058f-db8b-4f56-8b76-89d6a193ba55",
   "metadata": {},
   "source": [
    "## Strings"
   ]
  },
  {
   "cell_type": "code",
   "execution_count": 5,
   "id": "8fc14087-e9f6-4d4f-8eae-70a67bc3a7a0",
   "metadata": {},
   "outputs": [
    {
     "data": {
      "text/plain": [
       "\u001b[32m\"Hi\"\u001b[39m"
      ]
     },
     "execution_count": 5,
     "metadata": {},
     "output_type": "execute_result"
    }
   ],
   "source": [
    "'Hi'"
   ]
  },
  {
   "cell_type": "code",
   "execution_count": 6,
   "id": "03353944-a18f-4ae5-9a0b-85459941960c",
   "metadata": {},
   "outputs": [
    {
     "data": {
      "text/plain": [
       "\u001b[32m\"Hi\"\u001b[39m"
      ]
     },
     "execution_count": 6,
     "metadata": {},
     "output_type": "execute_result"
    }
   ],
   "source": [
    "\"Hi\""
   ]
  },
  {
   "cell_type": "code",
   "execution_count": 10,
   "id": "2e555cc7-dd7f-437e-a414-58f74db3ef58",
   "metadata": {},
   "outputs": [
    {
     "data": {
      "text/plain": [
       "\u001b[32m\"hi\"\u001b[39m"
      ]
     },
     "execution_count": 10,
     "metadata": {},
     "output_type": "execute_result"
    }
   ],
   "source": [
    "`hi`"
   ]
  },
  {
   "cell_type": "code",
   "execution_count": 11,
   "id": "725bb138-d61f-40cd-baa5-f57de48e7cc5",
   "metadata": {},
   "outputs": [
    {
     "data": {
      "text/plain": [
       "\u001b[32m\"(1010)\"\u001b[39m"
      ]
     },
     "execution_count": 11,
     "metadata": {},
     "output_type": "execute_result"
    }
   ],
   "source": [
    "'(' + 10 + '10' + ')'"
   ]
  },
  {
   "cell_type": "code",
   "execution_count": 12,
   "id": "0cd44e78-be14-4dcc-965e-eb2e3eacf2aa",
   "metadata": {},
   "outputs": [
    {
     "data": {
      "text/plain": [
       "\u001b[32m\"'(' 2 ')'\"\u001b[39m"
      ]
     },
     "execution_count": 12,
     "metadata": {},
     "output_type": "execute_result"
    }
   ],
   "source": [
    "\"'(' 2 ')'\""
   ]
  },
  {
   "cell_type": "code",
   "execution_count": 20,
   "id": "1986b6af-9275-4885-8861-b0ee4bc094e1",
   "metadata": {},
   "outputs": [],
   "source": [
    "const name = \"John\""
   ]
  },
  {
   "cell_type": "markdown",
   "id": "9431d827-a2b1-4a7f-9013-8390b19e0a26",
   "metadata": {},
   "source": [
    "### Literals"
   ]
  },
  {
   "cell_type": "code",
   "execution_count": 17,
   "id": "7cce2dbc-9fa5-423d-a1dd-825de1ddbd73",
   "metadata": {},
   "outputs": [
    {
     "data": {
      "text/plain": [
       "\u001b[32m\"Hi! John\"\u001b[39m"
      ]
     },
     "execution_count": 17,
     "metadata": {},
     "output_type": "execute_result"
    }
   ],
   "source": [
    "`Hi! ${name}`"
   ]
  },
  {
   "cell_type": "code",
   "execution_count": 18,
   "id": "1f72476b-df12-45df-8858-ecbf46a98b7a",
   "metadata": {},
   "outputs": [
    {
     "data": {
      "text/plain": [
       "\u001b[32m\"\\ne\\na\\ni\\n\"\u001b[39m"
      ]
     },
     "execution_count": 18,
     "metadata": {},
     "output_type": "execute_result"
    }
   ],
   "source": [
    "`\n",
    "e\n",
    "a\n",
    "i\n",
    "`"
   ]
  },
  {
   "cell_type": "code",
   "execution_count": 19,
   "id": "c52249f1-4dd4-4a24-9477-ae729d8e894d",
   "metadata": {},
   "outputs": [
    {
     "data": {
      "text/plain": [
       "\u001b[32m\"\\ne\\na\\ni\\n\"\u001b[39m"
      ]
     },
     "execution_count": 19,
     "metadata": {},
     "output_type": "execute_result"
    }
   ],
   "source": [
    "\"\\ne\\na\\ni\\n\""
   ]
  },
  {
   "cell_type": "markdown",
   "id": "223a2f5f-76ed-4c44-9734-447325239176",
   "metadata": {},
   "source": [
    "## Booleans"
   ]
  },
  {
   "cell_type": "code",
   "execution_count": 1,
   "id": "f6ccbf66-f197-43f9-8a23-28f04e9d3ef6",
   "metadata": {},
   "outputs": [
    {
     "data": {
      "text/plain": [
       "\u001b[33mtrue\u001b[39m"
      ]
     },
     "execution_count": 1,
     "metadata": {},
     "output_type": "execute_result"
    }
   ],
   "source": [
    "true"
   ]
  },
  {
   "cell_type": "code",
   "execution_count": 2,
   "id": "84e56fda-004b-4d96-9618-405410dba3cc",
   "metadata": {},
   "outputs": [
    {
     "data": {
      "text/plain": [
       "\u001b[33mfalse\u001b[39m"
      ]
     },
     "execution_count": 2,
     "metadata": {},
     "output_type": "execute_result"
    }
   ],
   "source": [
    "false"
   ]
  },
  {
   "cell_type": "markdown",
   "id": "feca1779-deaf-4a3f-93d6-05d21e5e3dce",
   "metadata": {},
   "source": [
    "## Objects"
   ]
  },
  {
   "cell_type": "code",
   "execution_count": 3,
   "id": "46be6bae-c5cb-474b-8249-b27e6be1574a",
   "metadata": {},
   "outputs": [
    {
     "data": {
      "text/plain": [
       "{ name: \u001b[32m\"Max\"\u001b[39m, age: \u001b[33m31\u001b[39m }"
      ]
     },
     "execution_count": 3,
     "metadata": {},
     "output_type": "execute_result"
    }
   ],
   "source": [
    "{\n",
    "    name: 'Max',\n",
    "    age: 31\n",
    "}"
   ]
  },
  {
   "cell_type": "markdown",
   "id": "79acab5c-1a26-4db4-9114-a52ef1d3b61d",
   "metadata": {},
   "source": [
    "## Arrays"
   ]
  },
  {
   "cell_type": "code",
   "execution_count": 4,
   "id": "27fd04ae-3a7b-4627-b58f-ac0de9bad70b",
   "metadata": {},
   "outputs": [],
   "source": [
    "const array = [1, 2, 3];"
   ]
  },
  {
   "cell_type": "code",
   "execution_count": 5,
   "id": "3615c476-7fe2-45e4-894c-e466ff05b3b1",
   "metadata": {},
   "outputs": [
    {
     "data": {
      "text/plain": [
       "[ \u001b[33m1\u001b[39m, \u001b[33m2\u001b[39m, \u001b[33m3\u001b[39m ]"
      ]
     },
     "execution_count": 5,
     "metadata": {},
     "output_type": "execute_result"
    }
   ],
   "source": [
    "array"
   ]
  },
  {
   "cell_type": "code",
   "execution_count": 6,
   "id": "3d6300a9-8936-4170-b549-244abb374833",
   "metadata": {},
   "outputs": [],
   "source": [
    "const exampleArray = [1, , 3]"
   ]
  },
  {
   "cell_type": "code",
   "execution_count": 7,
   "id": "c51b3a04-0913-434a-925a-1f86f85306eb",
   "metadata": {},
   "outputs": [
    {
     "data": {
      "text/plain": [
       "[ \u001b[33m1\u001b[39m, \u001b[90m<1 empty item>\u001b[39m, \u001b[33m3\u001b[39m ]"
      ]
     },
     "execution_count": 7,
     "metadata": {},
     "output_type": "execute_result"
    }
   ],
   "source": [
    "exampleArray"
   ]
  },
  {
   "cell_type": "code",
   "execution_count": 8,
   "id": "1f7dc98b-3c5b-4894-b61c-72e88daf7d7f",
   "metadata": {},
   "outputs": [
    {
     "data": {
      "text/plain": [
       "\u001b[33m4\u001b[39m"
      ]
     },
     "execution_count": 8,
     "metadata": {},
     "output_type": "execute_result"
    }
   ],
   "source": [
    "exampleArray.push(4);"
   ]
  },
  {
   "cell_type": "code",
   "execution_count": 9,
   "id": "b9a7b1bb-2da5-4317-9fa8-60c26ad2f33e",
   "metadata": {},
   "outputs": [
    {
     "data": {
      "text/plain": [
       "[ \u001b[33m1\u001b[39m, \u001b[90m<1 empty item>\u001b[39m, \u001b[33m3\u001b[39m, \u001b[33m4\u001b[39m ]"
      ]
     },
     "execution_count": 9,
     "metadata": {},
     "output_type": "execute_result"
    }
   ],
   "source": [
    "exampleArray"
   ]
  },
  {
   "cell_type": "markdown",
   "id": "726f78dc-1693-4671-afee-5e5a2f3336c1",
   "metadata": {},
   "source": [
    "### undefined\n",
    "Default value of uninitialized variables\n",
    "Never assign undefined as a value manually"
   ]
  },
  {
   "cell_type": "code",
   "execution_count": 5,
   "id": "1d2c60a9-59df-4dc3-bb19-0b948d210ca0",
   "metadata": {},
   "outputs": [],
   "source": [
    "let a;"
   ]
  },
  {
   "cell_type": "code",
   "execution_count": 6,
   "id": "a95c882c-b949-447b-81a7-9b159c18cf74",
   "metadata": {},
   "outputs": [],
   "source": [
    "a"
   ]
  },
  {
   "cell_type": "markdown",
   "id": "8ea574b3-90a9-4cb2-96d9-eef7e76997f5",
   "metadata": {},
   "source": [
    "### null\n",
    "Never assumed by default\n",
    "You can assign this as a value if you want to \"reset\" / \"clear\" a variable"
   ]
  },
  {
   "cell_type": "code",
   "execution_count": 3,
   "id": "ac9bfc29-1857-4155-bae4-7bf8c528bea4",
   "metadata": {},
   "outputs": [],
   "source": [
    "let b = null;"
   ]
  },
  {
   "cell_type": "code",
   "execution_count": 4,
   "id": "c7c283e0-24c6-4d18-9b92-dbd0abb681ae",
   "metadata": {},
   "outputs": [
    {
     "data": {
      "text/plain": [
       "\u001b[1mnull\u001b[22m"
      ]
     },
     "execution_count": 4,
     "metadata": {},
     "output_type": "execute_result"
    }
   ],
   "source": [
    "b"
   ]
  },
  {
   "cell_type": "markdown",
   "id": "f454e1fa-3f6c-43e6-a24b-9ca4861c9c56",
   "metadata": {},
   "source": [
    "### NaN\n",
    "Not a type! Technically it's of type number and can herefore be used in calculations\n",
    "It yields a new NaN and it's the result of invalid calculations (e.g. 3 * 'hi')"
   ]
  },
  {
   "cell_type": "code",
   "execution_count": 7,
   "id": "e6d73e46-62de-48a2-9fdd-b1d0eb45ad56",
   "metadata": {},
   "outputs": [
    {
     "data": {
      "text/plain": [
       "\u001b[33mNaN\u001b[39m"
      ]
     },
     "execution_count": 7,
     "metadata": {},
     "output_type": "execute_result"
    }
   ],
   "source": [
    "3 * 'hi'"
   ]
  },
  {
   "cell_type": "code",
   "execution_count": 9,
   "id": "99412606-9166-417b-83dc-2279585fa251",
   "metadata": {},
   "outputs": [
    {
     "data": {
      "text/plain": [
       "\u001b[33mNaN\u001b[39m"
      ]
     },
     "execution_count": 9,
     "metadata": {},
     "output_type": "execute_result"
    }
   ],
   "source": [
    "NaN"
   ]
  },
  {
   "cell_type": "markdown",
   "id": "0e5d901a-3c5a-4ed5-beed-72d0d7be3c0d",
   "metadata": {},
   "source": [
    "### typeof"
   ]
  },
  {
   "cell_type": "code",
   "execution_count": 10,
   "id": "527c000c-3d40-405c-be2d-3b76dc3393b6",
   "metadata": {},
   "outputs": [
    {
     "data": {
      "text/plain": [
       "\u001b[32m\"undefined\"\u001b[39m"
      ]
     },
     "execution_count": 10,
     "metadata": {},
     "output_type": "execute_result"
    }
   ],
   "source": [
    "typeof a"
   ]
  },
  {
   "cell_type": "code",
   "execution_count": 11,
   "id": "b79749ce-d354-4a6a-add1-dd5108e45044",
   "metadata": {},
   "outputs": [
    {
     "data": {
      "text/plain": [
       "\u001b[32m\"object\"\u001b[39m"
      ]
     },
     "execution_count": 11,
     "metadata": {},
     "output_type": "execute_result"
    }
   ],
   "source": [
    "typeof b"
   ]
  },
  {
   "cell_type": "code",
   "execution_count": 12,
   "id": "51c6d9f1-bba1-47fe-bbc4-9f60b494871b",
   "metadata": {},
   "outputs": [
    {
     "data": {
      "text/plain": [
       "\u001b[32m\"object\"\u001b[39m"
      ]
     },
     "execution_count": 12,
     "metadata": {},
     "output_type": "execute_result"
    }
   ],
   "source": [
    "typeof null"
   ]
  },
  {
   "cell_type": "code",
   "execution_count": 13,
   "id": "c8cb0218-5c74-499e-8841-709bfb09de92",
   "metadata": {},
   "outputs": [
    {
     "data": {
      "text/plain": [
       "\u001b[32m\"string\"\u001b[39m"
      ]
     },
     "execution_count": 13,
     "metadata": {},
     "output_type": "execute_result"
    }
   ],
   "source": [
    "typeof \"string text\""
   ]
  },
  {
   "cell_type": "code",
   "execution_count": 14,
   "id": "41d4a8cc-82b0-4b42-b54c-ad4c064c2635",
   "metadata": {},
   "outputs": [
    {
     "data": {
      "text/plain": [
       "\u001b[32m\"number\"\u001b[39m"
      ]
     },
     "execution_count": 14,
     "metadata": {},
     "output_type": "execute_result"
    }
   ],
   "source": [
    "typeof 45"
   ]
  },
  {
   "cell_type": "code",
   "execution_count": 15,
   "id": "cc79bedb-de7c-46ce-ade8-5ff2d2f1b7de",
   "metadata": {},
   "outputs": [
    {
     "data": {
      "text/plain": [
       "\u001b[32m\"object\"\u001b[39m"
      ]
     },
     "execution_count": 15,
     "metadata": {},
     "output_type": "execute_result"
    }
   ],
   "source": [
    "typeof []"
   ]
  },
  {
   "cell_type": "code",
   "execution_count": 16,
   "id": "3eeb1b9a-195e-49e6-823c-470c93b6db3d",
   "metadata": {},
   "outputs": [
    {
     "data": {
      "text/plain": [
       "\u001b[32m\"number\"\u001b[39m"
      ]
     },
     "execution_count": 16,
     "metadata": {},
     "output_type": "execute_result"
    }
   ],
   "source": [
    "typeof NaN"
   ]
  },
  {
   "cell_type": "code",
   "execution_count": 17,
   "id": "1842d0af-4a1e-4c01-b7ad-c088a21b5a06",
   "metadata": {},
   "outputs": [
    {
     "data": {
      "text/plain": [
       "\u001b[32m\"object\"\u001b[39m"
      ]
     },
     "execution_count": 17,
     "metadata": {},
     "output_type": "execute_result"
    }
   ],
   "source": [
    "typeof {}"
   ]
  },
  {
   "cell_type": "code",
   "execution_count": 18,
   "id": "9795d54d-3c48-42ef-b802-c94d500f9549",
   "metadata": {},
   "outputs": [
    {
     "data": {
      "text/plain": [
       "\u001b[32m\"boolean\"\u001b[39m"
      ]
     },
     "execution_count": 18,
     "metadata": {},
     "output_type": "execute_result"
    }
   ],
   "source": [
    "typeof true"
   ]
  },
  {
   "cell_type": "code",
   "execution_count": null,
   "id": "7c45370e-a615-4306-a7f4-61283cfac77f",
   "metadata": {},
   "outputs": [],
   "source": []
  }
 ],
 "metadata": {
  "kernelspec": {
   "display_name": "Deno",
   "language": "typescript",
   "name": "deno"
  },
  "language_info": {
   "codemirror_mode": "typescript",
   "file_extension": ".ts",
   "mimetype": "text/x.typescript",
   "name": "typescript",
   "nbconvert_exporter": "script",
   "pygments_lexer": "typescript",
   "version": "5.7.3"
  }
 },
 "nbformat": 4,
 "nbformat_minor": 5
}
