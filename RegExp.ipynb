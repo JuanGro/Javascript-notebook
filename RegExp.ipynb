{
 "cells": [
  {
   "cell_type": "markdown",
   "id": "0ba63a79-d9be-49d8-89fc-e135c63d2280",
   "metadata": {},
   "source": [
    "# RegExp"
   ]
  },
  {
   "cell_type": "code",
   "execution_count": 1,
   "id": "f4314182-88c3-49da-bed6-e6c7da0a8ec5",
   "metadata": {},
   "outputs": [
    {
     "data": {
      "text/plain": [
       "\u001b[32m\"testtest.com\"\u001b[39m"
      ]
     },
     "execution_count": 1,
     "metadata": {},
     "output_type": "execute_result"
    }
   ],
   "source": [
    "const userInput = 'testtest.com';\n",
    "userInput"
   ]
  },
  {
   "cell_type": "code",
   "execution_count": 2,
   "id": "1bf7545e-cf71-4b6c-9a31-107af241768b",
   "metadata": {},
   "outputs": [
    {
     "data": {
      "text/plain": [
       "\u001b[33mfalse\u001b[39m"
      ]
     },
     "execution_count": 2,
     "metadata": {},
     "output_type": "execute_result"
    }
   ],
   "source": [
    "userInput.includes('@');"
   ]
  },
  {
   "cell_type": "code",
   "execution_count": 3,
   "id": "ca39e8cb-d660-4b77-adbe-c8577b34f579",
   "metadata": {},
   "outputs": [
    {
     "data": {
      "text/plain": [
       "\u001b[33mtrue\u001b[39m"
      ]
     },
     "execution_count": 3,
     "metadata": {},
     "output_type": "execute_result"
    }
   ],
   "source": [
    "userInput.includes('.');"
   ]
  },
  {
   "cell_type": "code",
   "execution_count": 14,
   "id": "99eb728b-24db-4172-ac0b-98a711dbe603",
   "metadata": {},
   "outputs": [],
   "source": [
    "let regex = new RegExp('^\\\\S+@\\\\S+\\\\.\\\\S+$');"
   ]
  },
  {
   "cell_type": "code",
   "execution_count": 15,
   "id": "7aa58b12-eca8-4245-9d7e-3f66562a263c",
   "metadata": {},
   "outputs": [
    {
     "data": {
      "text/plain": [
       "\u001b[31m/^\\S+@\\S+\\.\\S+$/\u001b[39m"
      ]
     },
     "execution_count": 15,
     "metadata": {},
     "output_type": "execute_result"
    }
   ],
   "source": [
    "regex"
   ]
  },
  {
   "cell_type": "code",
   "execution_count": 16,
   "id": "b260a6f7-81ac-40a7-9fa8-5692d34ee2c4",
   "metadata": {},
   "outputs": [
    {
     "data": {
      "text/plain": [
       "\u001b[31m/^\\S+@\\S+\\.\\S+$/\u001b[39m"
      ]
     },
     "execution_count": 16,
     "metadata": {},
     "output_type": "execute_result"
    }
   ],
   "source": [
    "regex = /^\\S+@\\S+\\.\\S+$/"
   ]
  },
  {
   "cell_type": "code",
   "execution_count": 18,
   "id": "7db4a954-978a-41d8-97e9-e27d5aed9c7c",
   "metadata": {},
   "outputs": [
    {
     "data": {
      "text/plain": [
       "\u001b[33mfalse\u001b[39m"
      ]
     },
     "execution_count": 18,
     "metadata": {},
     "output_type": "execute_result"
    }
   ],
   "source": [
    "regex.test(userInput);"
   ]
  },
  {
   "cell_type": "code",
   "execution_count": 19,
   "id": "657c408f-e1e2-4021-be44-37a6372a9025",
   "metadata": {},
   "outputs": [
    {
     "data": {
      "text/plain": [
       "\u001b[33mtrue\u001b[39m"
      ]
     },
     "execution_count": 19,
     "metadata": {},
     "output_type": "execute_result"
    }
   ],
   "source": [
    "regex.test('test@test.com');"
   ]
  },
  {
   "cell_type": "code",
   "execution_count": 20,
   "id": "82cfc8da-38ad-434c-85a5-4f5ae03a48a0",
   "metadata": {},
   "outputs": [
    {
     "data": {
      "text/plain": [
       "\u001b[31m/hello/\u001b[39m"
      ]
     },
     "execution_count": 20,
     "metadata": {},
     "output_type": "execute_result"
    }
   ],
   "source": [
    "regex = /hello/"
   ]
  },
  {
   "cell_type": "code",
   "execution_count": 21,
   "id": "1d6c4a53-3637-4b30-a8d5-2724ed7743b5",
   "metadata": {},
   "outputs": [
    {
     "data": {
      "text/plain": [
       "\u001b[33mtrue\u001b[39m"
      ]
     },
     "execution_count": 21,
     "metadata": {},
     "output_type": "execute_result"
    }
   ],
   "source": [
    "regex.test('hello');"
   ]
  },
  {
   "cell_type": "code",
   "execution_count": 22,
   "id": "ac31de88-2e3e-41b5-bec2-ecb6f40e704c",
   "metadata": {},
   "outputs": [
    {
     "data": {
      "text/plain": [
       "\u001b[33mtrue\u001b[39m"
      ]
     },
     "execution_count": 22,
     "metadata": {},
     "output_type": "execute_result"
    }
   ],
   "source": [
    "regex.test('hi there, hello');"
   ]
  },
  {
   "cell_type": "code",
   "execution_count": 23,
   "id": "d795cea1-9f18-456b-b051-28f1808458a2",
   "metadata": {},
   "outputs": [
    {
     "data": {
      "text/plain": [
       "\u001b[33mtrue\u001b[39m"
      ]
     },
     "execution_count": 23,
     "metadata": {},
     "output_type": "execute_result"
    }
   ],
   "source": [
    "regex.test('hi there, hello ... ');"
   ]
  },
  {
   "cell_type": "code",
   "execution_count": 24,
   "id": "651dedb0-873b-406b-abc7-2a949b1a251d",
   "metadata": {},
   "outputs": [
    {
     "data": {
      "text/plain": [
       "\u001b[33mfalse\u001b[39m"
      ]
     },
     "execution_count": 24,
     "metadata": {},
     "output_type": "execute_result"
    }
   ],
   "source": [
    "regex.test('Hello');"
   ]
  },
  {
   "cell_type": "code",
   "execution_count": 25,
   "id": "f55cf93b-555f-4cbd-b265-8c71aeee817d",
   "metadata": {},
   "outputs": [
    {
     "data": {
      "text/plain": [
       "\u001b[31m/(h|H)ello/\u001b[39m"
      ]
     },
     "execution_count": 25,
     "metadata": {},
     "output_type": "execute_result"
    }
   ],
   "source": [
    "regex = /(h|H)ello/"
   ]
  },
  {
   "cell_type": "code",
   "execution_count": 26,
   "id": "1a53031c-e793-4130-ab0c-3e4d1619e575",
   "metadata": {},
   "outputs": [
    {
     "data": {
      "text/plain": [
       "\u001b[33mtrue\u001b[39m"
      ]
     },
     "execution_count": 26,
     "metadata": {},
     "output_type": "execute_result"
    }
   ],
   "source": [
    "regex.test('Hello');"
   ]
  },
  {
   "cell_type": "code",
   "execution_count": 27,
   "id": "f052a407-cf6a-451a-8e87-88413f181cd0",
   "metadata": {},
   "outputs": [
    {
     "data": {
      "text/plain": [
       "\u001b[33mtrue\u001b[39m"
      ]
     },
     "execution_count": 27,
     "metadata": {},
     "output_type": "execute_result"
    }
   ],
   "source": [
    "regex.test('hello');"
   ]
  },
  {
   "cell_type": "code",
   "execution_count": 29,
   "id": "acfa1deb-c96b-45f4-a9db-1d41858b3927",
   "metadata": {},
   "outputs": [
    {
     "data": {
      "text/plain": [
       "\u001b[33mtrue\u001b[39m"
      ]
     },
     "execution_count": 29,
     "metadata": {},
     "output_type": "execute_result"
    }
   ],
   "source": [
    "regex.test('Hi hello');"
   ]
  },
  {
   "cell_type": "code",
   "execution_count": 30,
   "id": "cd5f63f8-f209-4555-b737-ea4bb2b25dd5",
   "metadata": {},
   "outputs": [
    {
     "data": {
      "text/plain": [
       "\u001b[31m/.ello/\u001b[39m"
      ]
     },
     "execution_count": 30,
     "metadata": {},
     "output_type": "execute_result"
    }
   ],
   "source": [
    "regex = /.ello/"
   ]
  },
  {
   "cell_type": "code",
   "execution_count": 31,
   "id": "131e5d73-51c9-445c-ad75-945393ce5b6d",
   "metadata": {},
   "outputs": [
    {
     "data": {
      "text/plain": [
       "\u001b[33mtrue\u001b[39m"
      ]
     },
     "execution_count": 31,
     "metadata": {},
     "output_type": "execute_result"
    }
   ],
   "source": [
    "regex.test('hello');"
   ]
  },
  {
   "cell_type": "code",
   "execution_count": 32,
   "id": "f2124a99-e0ed-4f76-840d-4215c8af1aa2",
   "metadata": {},
   "outputs": [
    {
     "data": {
      "text/plain": [
       "\u001b[33mfalse\u001b[39m"
      ]
     },
     "execution_count": 32,
     "metadata": {},
     "output_type": "execute_result"
    }
   ],
   "source": [
    "regex.test('ello');"
   ]
  },
  {
   "cell_type": "code",
   "execution_count": 33,
   "id": "b86f7cb7-e908-48e8-a8cc-7e115a465f05",
   "metadata": {},
   "outputs": [
    {
     "data": {
      "text/plain": [
       "\u001b[33mtrue\u001b[39m"
      ]
     },
     "execution_count": 33,
     "metadata": {},
     "output_type": "execute_result"
    }
   ],
   "source": [
    "regex.test('    Jello');"
   ]
  },
  {
   "cell_type": "code",
   "execution_count": 34,
   "id": "bd5560d7-9ba3-4b85-87b4-a137ee9b2e57",
   "metadata": {},
   "outputs": [
    {
     "data": {
      "text/plain": [
       "\u001b[33mtrue\u001b[39m"
      ]
     },
     "execution_count": 34,
     "metadata": {},
     "output_type": "execute_result"
    }
   ],
   "source": [
    "regex.test('Jello');"
   ]
  },
  {
   "cell_type": "code",
   "execution_count": 35,
   "id": "851ce9c1-6d37-438b-b23a-f4c063ef15dc",
   "metadata": {},
   "outputs": [
    {
     "data": {
      "text/plain": [
       "[ \u001b[32m\"jello\"\u001b[39m, index: \u001b[33m0\u001b[39m, input: \u001b[32m\"jello\"\u001b[39m, groups: \u001b[90mundefined\u001b[39m ]"
      ]
     },
     "execution_count": 35,
     "metadata": {},
     "output_type": "execute_result"
    }
   ],
   "source": [
    "regex.exec('jello');"
   ]
  },
  {
   "cell_type": "code",
   "execution_count": 36,
   "id": "b29e7654-8639-41a3-8f4c-675f96b96400",
   "metadata": {},
   "outputs": [
    {
     "data": {
      "text/plain": [
       "[ \u001b[32m\"jello\"\u001b[39m, index: \u001b[33m4\u001b[39m, input: \u001b[32m\"Hi! jello\"\u001b[39m, groups: \u001b[90mundefined\u001b[39m ]"
      ]
     },
     "execution_count": 36,
     "metadata": {},
     "output_type": "execute_result"
    }
   ],
   "source": [
    "regex.exec('Hi! jello');"
   ]
  },
  {
   "cell_type": "code",
   "execution_count": 37,
   "id": "3118d4da-1571-4fbb-ae41-34d29ad70fab",
   "metadata": {},
   "outputs": [
    {
     "data": {
      "text/plain": [
       "\u001b[1mnull\u001b[22m"
      ]
     },
     "execution_count": 37,
     "metadata": {},
     "output_type": "execute_result"
    }
   ],
   "source": [
    "regex.exec('allo');"
   ]
  },
  {
   "cell_type": "code",
   "execution_count": 38,
   "id": "28be4a87-156e-465a-87fd-53edb388d7b7",
   "metadata": {},
   "outputs": [
    {
     "data": {
      "text/plain": [
       "[ \u001b[32m\"hello\"\u001b[39m, index: \u001b[33m3\u001b[39m, input: \u001b[32m\"hi hello\"\u001b[39m, groups: \u001b[90mundefined\u001b[39m ]"
      ]
     },
     "execution_count": 38,
     "metadata": {},
     "output_type": "execute_result"
    }
   ],
   "source": [
    "'hi hello'.match(regex);"
   ]
  }
 ],
 "metadata": {
  "kernelspec": {
   "display_name": "Deno",
   "language": "typescript",
   "name": "deno"
  },
  "language_info": {
   "codemirror_mode": "typescript",
   "file_extension": ".ts",
   "mimetype": "text/x.typescript",
   "name": "typescript",
   "nbconvert_exporter": "script",
   "pygments_lexer": "typescript",
   "version": "5.7.3"
  }
 },
 "nbformat": 4,
 "nbformat_minor": 5
}
