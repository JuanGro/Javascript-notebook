{
 "cells": [
  {
   "cell_type": "markdown",
   "id": "0393c903-fe31-4033-b39e-c1253f0b4be6",
   "metadata": {},
   "source": [
    "# Recursion"
   ]
  },
  {
   "cell_type": "markdown",
   "id": "823116cc-f478-4530-9f5c-0f4084817e77",
   "metadata": {},
   "source": [
    "## 🚀 Iterative Example: Power Function"
   ]
  },
  {
   "cell_type": "code",
   "execution_count": 1,
   "id": "085c3b53-2091-4f18-af3e-61c74193f2db",
   "metadata": {},
   "outputs": [],
   "source": [
    "function powerOf(x, n) {\n",
    "    let result = 1;\n",
    "\n",
    "    for (let i = 0; i < n; i++) {\n",
    "        result *= x;\n",
    "    }\n",
    "\n",
    "    return result;\n",
    "}"
   ]
  },
  {
   "cell_type": "code",
   "execution_count": 30,
   "id": "e712e19c-a040-4b58-97e5-14f461fd2cc8",
   "metadata": {},
   "outputs": [
    {
     "data": {
      "text/plain": [
       "\u001b[33m8\u001b[39m"
      ]
     },
     "execution_count": 30,
     "metadata": {},
     "output_type": "execute_result"
    }
   ],
   "source": [
    "powerOf(2, 3); // 8"
   ]
  },
  {
   "cell_type": "markdown",
   "id": "6230ecde-3bb5-49ed-8633-96cff6e0ce09",
   "metadata": {},
   "source": [
    "## 🔁 Recursive Version (Verbose)"
   ]
  },
  {
   "cell_type": "code",
   "execution_count": 11,
   "id": "e501a44c-63f6-4c3a-a3c3-7ace0b47f067",
   "metadata": {},
   "outputs": [],
   "source": [
    "function powerOf(x, n) {\n",
    "    if (n === 1) {\n",
    "        return x;\n",
    "    }\n",
    "    return x * powerOf(x, n -1);\n",
    "}"
   ]
  },
  {
   "cell_type": "code",
   "execution_count": 32,
   "id": "6321b5d4-88cd-49b8-a127-3963c734a015",
   "metadata": {},
   "outputs": [
    {
     "data": {
      "text/plain": [
       "\u001b[33m8\u001b[39m"
      ]
     },
     "execution_count": 32,
     "metadata": {},
     "output_type": "execute_result"
    }
   ],
   "source": [
    "powerOf(2, 3); // 8"
   ]
  },
  {
   "cell_type": "markdown",
   "id": "ffb76f8f-cf40-42c8-93d9-2541cd85cdfc",
   "metadata": {},
   "source": [
    "## 🎯 Recursive Version (Compact)"
   ]
  },
  {
   "cell_type": "code",
   "execution_count": 15,
   "id": "7025a699-1d49-406b-bce4-87db8b7c5a9c",
   "metadata": {},
   "outputs": [],
   "source": [
    "function powerOf(x, n) {\n",
    "    return n === 1 ? x : x * powerOf(x, n -1);\n",
    "}"
   ]
  },
  {
   "cell_type": "code",
   "execution_count": 33,
   "id": "b8db2008-d61f-49cf-90d0-6029df7a25b2",
   "metadata": {},
   "outputs": [
    {
     "data": {
      "text/plain": [
       "\u001b[33m8\u001b[39m"
      ]
     },
     "execution_count": 33,
     "metadata": {},
     "output_type": "execute_result"
    }
   ],
   "source": [
    "powerOf(2, 3);"
   ]
  },
  {
   "cell_type": "markdown",
   "id": "b1ed87a8-543a-4571-810d-c90159dbf5fd",
   "metadata": {},
   "source": [
    "## 👥 Recursive Data Traversal: Friends Tree"
   ]
  },
  {
   "cell_type": "code",
   "execution_count": 27,
   "id": "5269547f-2a63-4456-ada8-f127d8bf36b1",
   "metadata": {},
   "outputs": [],
   "source": [
    "const myself = {\n",
    "    name: 'Max',\n",
    "    friends: [\n",
    "        {\n",
    "            name: 'Manuel',\n",
    "            friends: [\n",
    "                {\n",
    "                    name: 'Chris',\n",
    "                    friends: [\n",
    "                        {\n",
    "                            name: 'Harry'\n",
    "                        },\n",
    "                        {\n",
    "                            name: 'Amilia'\n",
    "                        }\n",
    "                    ]\n",
    "                }\n",
    "            ]\n",
    "        },\n",
    "        {\n",
    "            name: 'Julia'\n",
    "        }\n",
    "    ]\n",
    "};"
   ]
  },
  {
   "cell_type": "code",
   "execution_count": 28,
   "id": "034b9892-4ea0-4d5e-a238-f8994673d00d",
   "metadata": {},
   "outputs": [],
   "source": [
    "function getFriendNames(person) {\n",
    "    const collectedNames = [];\n",
    "\n",
    "    if (!person.friends) {\n",
    "        return [];\n",
    "    }\n",
    "\n",
    "    for (const friend of person.friends) {\n",
    "        collectedNames.push(friend.name);\n",
    "        collectedNames.push(...getFriendNames(friend));\n",
    "    }\n",
    "\n",
    "    return collectedNames;\n",
    "}"
   ]
  },
  {
   "cell_type": "code",
   "execution_count": 34,
   "id": "ab180be9-3f40-4f76-ab64-cbec16b07e47",
   "metadata": {},
   "outputs": [
    {
     "data": {
      "text/plain": [
       "[ \u001b[32m\"Manuel\"\u001b[39m, \u001b[32m\"Chris\"\u001b[39m, \u001b[32m\"Harry\"\u001b[39m, \u001b[32m\"Amilia\"\u001b[39m, \u001b[32m\"Julia\"\u001b[39m ]"
      ]
     },
     "execution_count": 34,
     "metadata": {},
     "output_type": "execute_result"
    }
   ],
   "source": [
    "getFriendNames(myself);"
   ]
  },
  {
   "cell_type": "markdown",
   "id": "2d265ee4-74ca-4c77-96c1-a834a767fdc8",
   "metadata": {},
   "source": [
    "## Summary"
   ]
  },
  {
   "cell_type": "markdown",
   "id": "5123f305-984f-4cf1-80bc-8b9fcf597477",
   "metadata": {},
   "source": [
    "| Concept   | Description                                                                    |\n",
    "| --------- | ------------------------------------------------------------------------------ |\n",
    "| Recursion | A function calling itself with a smaller input until a base case is reached    |\n",
    "| Use Case  | Useful for working with hierarchical or nested data (e.g., trees, graphs, DOM) |\n",
    "| Caution   | Always define a **base case** and handle **cycles** in recursive structures    |"
   ]
  }
 ],
 "metadata": {
  "kernelspec": {
   "display_name": "Deno",
   "language": "typescript",
   "name": "deno"
  },
  "language_info": {
   "codemirror_mode": "typescript",
   "file_extension": ".ts",
   "mimetype": "text/x.typescript",
   "name": "typescript",
   "nbconvert_exporter": "script",
   "pygments_lexer": "typescript",
   "version": "5.7.3"
  }
 },
 "nbformat": 4,
 "nbformat_minor": 5
}
