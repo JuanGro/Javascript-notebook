{
 "cells": [
  {
   "cell_type": "markdown",
   "id": "75d54170-dc9e-4eb5-8003-a84871e143ce",
   "metadata": {},
   "source": [
    "# Converting Data Types"
   ]
  },
  {
   "cell_type": "code",
   "execution_count": 1,
   "id": "3693f1b6-500c-47b1-bdee-bc3b99246499",
   "metadata": {},
   "outputs": [],
   "source": [
    "const text = '123';"
   ]
  },
  {
   "cell_type": "code",
   "execution_count": 2,
   "id": "8cfb1131-7727-4af2-b573-52af4f901527",
   "metadata": {},
   "outputs": [
    {
     "data": {
      "text/plain": [
       "\u001b[33m123\u001b[39m"
      ]
     },
     "execution_count": 2,
     "metadata": {},
     "output_type": "execute_result"
    }
   ],
   "source": [
    "parseInt(text);"
   ]
  },
  {
   "cell_type": "code",
   "execution_count": 3,
   "id": "31cba7fe-4bcb-45c0-aaa6-08c213cbe5f9",
   "metadata": {},
   "outputs": [
    {
     "data": {
      "text/plain": [
       "\u001b[33m123\u001b[39m"
      ]
     },
     "execution_count": 3,
     "metadata": {},
     "output_type": "execute_result"
    }
   ],
   "source": [
    "+text"
   ]
  },
  {
   "cell_type": "code",
   "execution_count": 4,
   "id": "dee042d7-f6dd-446d-85b0-cac151d12742",
   "metadata": {},
   "outputs": [],
   "source": [
    "const num = 456;"
   ]
  },
  {
   "cell_type": "code",
   "execution_count": 5,
   "id": "4dc3b3fa-707f-4a3e-93ff-040418fe8a7f",
   "metadata": {},
   "outputs": [
    {
     "data": {
      "text/plain": [
       "\u001b[32m\"456\"\u001b[39m"
      ]
     },
     "execution_count": 5,
     "metadata": {},
     "output_type": "execute_result"
    }
   ],
   "source": [
    "num.toString();"
   ]
  },
  {
   "cell_type": "markdown",
   "id": "10b4ca0e-5904-4299-8fa0-266761c41ff7",
   "metadata": {},
   "source": [
    "You saw the example with a number and a \"text number\" being added\n",
    "\n",
    "3 + '3' => '33'\n",
    "\n",
    "in JavaScript.\n",
    "\n",
    "That happens because the + operator also supports strings (for string concatenation).\n",
    "\n",
    "It's the only arithmetic operator that supports strings though. For example, this will not work:\n",
    "\n",
    "'hi' - 'i' => NaN\n",
    "\n",
    "NaN is covered a little later, the core takeaway is that you can't generate a string of 'h' with the above code. Only + supports both strings and numbers.\n",
    "\n",
    "Thankfully, JavaScript is pretty smart and therefore is actually able to handle this code:\n",
    "\n",
    "3 * '3' => 9\n",
    "\n",
    "Please note: It yields the number (!) 9, NOT a string '9'!\n",
    "\n",
    "Similarly, these operations also all work:\n",
    "\n",
    "3 - '3' => 0\n",
    "\n",
    "3 / '3' => 1\n",
    "\n",
    "Just 3 + '3' yields '33' because here JavaScript uses the \"I can combine text\" mode of the + operator and generates a string instead of a number."
   ]
  },
  {
   "cell_type": "code",
   "execution_count": null,
   "id": "4fd5b731-6581-4498-9699-4a1129caa056",
   "metadata": {},
   "outputs": [],
   "source": []
  }
 ],
 "metadata": {
  "kernelspec": {
   "display_name": "Deno",
   "language": "typescript",
   "name": "deno"
  },
  "language_info": {
   "codemirror_mode": "typescript",
   "file_extension": ".ts",
   "mimetype": "text/x.typescript",
   "name": "typescript",
   "nbconvert_exporter": "script",
   "pygments_lexer": "typescript",
   "version": "5.7.3"
  }
 },
 "nbformat": 4,
 "nbformat_minor": 5
}
