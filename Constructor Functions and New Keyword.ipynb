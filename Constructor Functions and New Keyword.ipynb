{
 "cells": [
  {
   "cell_type": "markdown",
   "id": "42d2e990-029a-4d1f-bb03-3afd75bb18f3",
   "metadata": {},
   "source": [
    "# Constructor Functions and New Keyword"
   ]
  },
  {
   "cell_type": "markdown",
   "id": "d8d345f5-a582-4773-9d67-0d32385ddd73",
   "metadata": {},
   "source": [
    "Constructor Functions are the old way to create classes!"
   ]
  },
  {
   "cell_type": "code",
   "execution_count": 1,
   "id": "4f41f14d-ab0a-4481-a675-942dd14c84db",
   "metadata": {},
   "outputs": [],
   "source": [
    "function Person(name) {\n",
    "  this.name = name;\n",
    "  this.sayHello = function() {\n",
    "    console.log(`Hi, I'm ${this.name}`);\n",
    "  };\n",
    "}"
   ]
  },
  {
   "cell_type": "code",
   "execution_count": 2,
   "id": "c5426ea0-5594-4d24-9da4-3991261b7a08",
   "metadata": {},
   "outputs": [],
   "source": [
    "const p1 = new Person(\"Alice\");"
   ]
  },
  {
   "cell_type": "code",
   "execution_count": 3,
   "id": "83217086-8d5a-4283-b55e-87ef32fd25e7",
   "metadata": {},
   "outputs": [
    {
     "name": "stdout",
     "output_type": "stream",
     "text": [
      "Hi, I'm Alice\n"
     ]
    }
   ],
   "source": [
    "p1.sayHello(); // Hi, I'm Alice"
   ]
  },
  {
   "cell_type": "code",
   "execution_count": 18,
   "id": "62cd00aa-a996-405b-8d60-7eea6ebdd312",
   "metadata": {},
   "outputs": [
    {
     "ename": "TypeError",
     "evalue": "Cannot set properties of undefined (setting 'name')",
     "output_type": "error",
     "traceback": [
      "Stack trace:",
      "TypeError: Cannot set properties of undefined (setting 'name')",
      "    at Person (<anonymous>:2:13)",
      "    at <anonymous>:1:33"
     ]
    }
   ],
   "source": [
    "const p2 = Person(\"Alice\");"
   ]
  },
  {
   "cell_type": "code",
   "execution_count": 20,
   "id": "1b1fbd3e-875b-4306-b880-8756060b8727",
   "metadata": {},
   "outputs": [
    {
     "ename": "TypeError",
     "evalue": "Cannot read properties of undefined (reading 'sayHello')",
     "output_type": "error",
     "traceback": [
      "Stack trace:",
      "TypeError: Cannot read properties of undefined (reading 'sayHello')",
      "    at <anonymous>:1:25"
     ]
    }
   ],
   "source": [
    "p2.sayHello();"
   ]
  },
  {
   "cell_type": "code",
   "execution_count": 7,
   "id": "82d382af-1968-4d1b-908a-9757b9e85ba4",
   "metadata": {},
   "outputs": [],
   "source": [
    "class PersonClass {\n",
    "  constructor(name) {\n",
    "    this.name = name;\n",
    "  }\n",
    "}"
   ]
  },
  {
   "cell_type": "code",
   "execution_count": 9,
   "id": "1a831cd9-c6d3-43b7-841c-6cfa2818488d",
   "metadata": {},
   "outputs": [],
   "source": [
    "const p = new PersonClass(\"Alice\"); // Still uses \"new\""
   ]
  },
  {
   "cell_type": "code",
   "execution_count": 10,
   "id": "f1d80238-aa45-470a-8dfd-f54128271dce",
   "metadata": {},
   "outputs": [
    {
     "data": {
      "text/plain": [
       "PersonClass { name: \u001b[32m\"Alice\"\u001b[39m }"
      ]
     },
     "execution_count": 10,
     "metadata": {},
     "output_type": "execute_result"
    }
   ],
   "source": [
    "p"
   ]
  },
  {
   "cell_type": "code",
   "execution_count": 11,
   "id": "08ffc9cd-59c6-4619-8f1a-b3bf5e62a717",
   "metadata": {},
   "outputs": [
    {
     "ename": "TypeError",
     "evalue": "Class constructor PersonClass cannot be invoked without 'new'",
     "output_type": "error",
     "traceback": [
      "Stack trace:",
      "TypeError: Class constructor PersonClass cannot be invoked without 'new'",
      "    at <anonymous>:1:33"
     ]
    }
   ],
   "source": [
    "const p3 = PersonClass(\"Alice\");"
   ]
  },
  {
   "cell_type": "code",
   "execution_count": 12,
   "id": "a3aa892c-b874-4f9b-aa66-f55af0021409",
   "metadata": {},
   "outputs": [
    {
     "data": {
      "text/plain": [
       "\u001b[35m2025-09-11T18:47:18.227Z\u001b[39m"
      ]
     },
     "execution_count": 12,
     "metadata": {},
     "output_type": "execute_result"
    }
   ],
   "source": [
    "new Date();"
   ]
  },
  {
   "cell_type": "code",
   "execution_count": 13,
   "id": "85aeef06-7588-4f23-af1b-884fa3f98795",
   "metadata": {},
   "outputs": [
    {
     "data": {
      "text/plain": [
       "\u001b[31m/abc/\u001b[39m"
      ]
     },
     "execution_count": 13,
     "metadata": {},
     "output_type": "execute_result"
    }
   ],
   "source": [
    "new RegExp('abc');"
   ]
  },
  {
   "cell_type": "markdown",
   "id": "d970ae10-779f-4ef3-a346-e0a1963d2bd8",
   "metadata": {},
   "source": [
    "The \"new\" keyword creates a new \"this\" object and returns it."
   ]
  },
  {
   "cell_type": "code",
   "execution_count": null,
   "id": "59fd3d48-2f43-4c17-949d-62f6afc01981",
   "metadata": {},
   "outputs": [],
   "source": []
  }
 ],
 "metadata": {
  "kernelspec": {
   "display_name": "Deno",
   "language": "typescript",
   "name": "deno"
  },
  "language_info": {
   "codemirror_mode": "typescript",
   "file_extension": ".ts",
   "mimetype": "text/x.typescript",
   "name": "typescript",
   "nbconvert_exporter": "script",
   "pygments_lexer": "typescript",
   "version": "5.7.3"
  }
 },
 "nbformat": 4,
 "nbformat_minor": 5
}
