{
 "cells": [
  {
   "cell_type": "markdown",
   "id": "4fb2da29-38f6-4058-b72f-507ea344d8a8",
   "metadata": {},
   "source": [
    "# Error"
   ]
  },
  {
   "cell_type": "code",
   "execution_count": 1,
   "id": "965d798f-a761-4a4f-9557-bfe870d742a6",
   "metadata": {},
   "outputs": [
    {
     "ename": "Unknown error",
     "evalue": "An error",
     "output_type": "error",
     "traceback": [
      "Stack trace:",
      "\"An error\"",
      "    at <unknown>"
     ]
    }
   ],
   "source": [
    "throw 'An error';"
   ]
  },
  {
   "cell_type": "code",
   "execution_count": 2,
   "id": "8b4306ba-1323-47dd-9f78-82836e969459",
   "metadata": {},
   "outputs": [
    {
     "ename": "Error",
     "evalue": "Something wrong!",
     "output_type": "error",
     "traceback": [
      "Stack trace:",
      "Error: Something wrong!",
      "    at <anonymous>:1:28"
     ]
    }
   ],
   "source": [
    "throw new Error('Something wrong!');"
   ]
  },
  {
   "cell_type": "code",
   "execution_count": 3,
   "id": "d9f9348e-c44e-4d21-aa7b-5e4e05fc4d8c",
   "metadata": {},
   "outputs": [
    {
     "data": {
      "text/plain": [
       "Error: Something wrong!\n",
       "    at <anonymous>:1:42"
      ]
     },
     "execution_count": 3,
     "metadata": {},
     "output_type": "execute_result"
    }
   ],
   "source": [
    "const customError = new Error('Something wrong!');\n",
    "customError;"
   ]
  },
  {
   "cell_type": "code",
   "execution_count": 4,
   "id": "ab15028d-8dea-4beb-bf53-478d65ba05c2",
   "metadata": {},
   "outputs": [
    {
     "data": {
      "text/plain": [
       "\u001b[32m\"Error\"\u001b[39m"
      ]
     },
     "execution_count": 4,
     "metadata": {},
     "output_type": "execute_result"
    }
   ],
   "source": [
    "customError.name;"
   ]
  },
  {
   "cell_type": "code",
   "execution_count": 5,
   "id": "c62c8b30-17db-4e3e-a94e-ddd2ceef40e3",
   "metadata": {},
   "outputs": [
    {
     "data": {
      "text/plain": [
       "\u001b[32m\"Something wrong!\"\u001b[39m"
      ]
     },
     "execution_count": 5,
     "metadata": {},
     "output_type": "execute_result"
    }
   ],
   "source": [
    "customError.message;"
   ]
  },
  {
   "cell_type": "code",
   "execution_count": 6,
   "id": "41be9365-f427-4230-8816-cb300c54a602",
   "metadata": {},
   "outputs": [],
   "source": [
    "customError.code;"
   ]
  },
  {
   "cell_type": "code",
   "execution_count": 7,
   "id": "cbd5209d-7ce0-4b3a-b02f-e1f852b9336c",
   "metadata": {},
   "outputs": [
    {
     "data": {
      "text/plain": [
       "\u001b[33m404\u001b[39m"
      ]
     },
     "execution_count": 7,
     "metadata": {},
     "output_type": "execute_result"
    }
   ],
   "source": [
    "customError.code = 404;"
   ]
  },
  {
   "cell_type": "code",
   "execution_count": 8,
   "id": "ad4d1325-94e5-4d54-a88f-b041db675965",
   "metadata": {},
   "outputs": [
    {
     "data": {
      "text/plain": [
       "\u001b[33m404\u001b[39m"
      ]
     },
     "execution_count": 8,
     "metadata": {},
     "output_type": "execute_result"
    }
   ],
   "source": [
    "customError.code;"
   ]
  },
  {
   "cell_type": "code",
   "execution_count": 9,
   "id": "e7afae44-623e-4de1-9817-39d2338b1e07",
   "metadata": {},
   "outputs": [
    {
     "data": {
      "text/plain": [
       "Error: Something wrong!\n",
       "    at <anonymous>:1:42 {\n",
       "  code: \u001b[33m404\u001b[39m\n",
       "}"
      ]
     },
     "execution_count": 9,
     "metadata": {},
     "output_type": "execute_result"
    }
   ],
   "source": [
    "customError"
   ]
  },
  {
   "cell_type": "code",
   "execution_count": null,
   "id": "96646cad-505a-465e-a6fe-28d2b6e3c1e0",
   "metadata": {},
   "outputs": [],
   "source": []
  }
 ],
 "metadata": {
  "kernelspec": {
   "display_name": "Deno",
   "language": "typescript",
   "name": "deno"
  },
  "language_info": {
   "codemirror_mode": "typescript",
   "file_extension": ".ts",
   "mimetype": "text/x.typescript",
   "name": "typescript",
   "nbconvert_exporter": "script",
   "pygments_lexer": "typescript",
   "version": "5.7.3"
  }
 },
 "nbformat": 4,
 "nbformat_minor": 5
}
