{
 "cells": [
  {
   "cell_type": "markdown",
   "id": "a72ef4a3-6d64-4dae-b616-0c521f664460",
   "metadata": {},
   "source": [
    "# Classes and inheritance"
   ]
  },
  {
   "cell_type": "code",
   "execution_count": 46,
   "id": "e4826afc-9408-410a-b88b-4633f3ee9fd4",
   "metadata": {},
   "outputs": [],
   "source": [
    "class Product {\n",
    "    title = 'DEFAULT';\n",
    "    imageUrl;\n",
    "    description;\n",
    "    price;\n",
    "\n",
    "    constructor(title, image, desc, price) {\n",
    "        this.title = title;\n",
    "        this.imageUrl = image;\n",
    "        this.description = desc;\n",
    "        this.price = price;\n",
    "    }\n",
    "}"
   ]
  },
  {
   "cell_type": "code",
   "execution_count": 47,
   "id": "64b34f44-7070-412b-bec2-538c852e18e4",
   "metadata": {},
   "outputs": [
    {
     "data": {
      "text/plain": [
       "Product {\n",
       "  title: \u001b[32m\"A pillow\"\u001b[39m,\n",
       "  imageUrl: \u001b[32m\"\"\u001b[39m,\n",
       "  description: \u001b[32m\"A soft pillow\"\u001b[39m,\n",
       "  price: \u001b[33m19.99\u001b[39m\n",
       "}"
      ]
     },
     "execution_count": 47,
     "metadata": {},
     "output_type": "execute_result"
    }
   ],
   "source": [
    "new Product('A pillow', '', 'A soft pillow', 19.99);"
   ]
  },
  {
   "cell_type": "code",
   "execution_count": 49,
   "id": "28693c6f-b231-4bae-90ec-8b9d1c355572",
   "metadata": {},
   "outputs": [],
   "source": [
    "class Product {\n",
    "    constructor(title, image, desc, price) {\n",
    "        this.title = title;\n",
    "        this.imageUrl = image;\n",
    "        this.description = desc;\n",
    "        this.price = price;\n",
    "    }\n",
    "}"
   ]
  },
  {
   "cell_type": "code",
   "execution_count": 51,
   "id": "26fe3623-7ea8-4566-af95-691a322a76d7",
   "metadata": {},
   "outputs": [
    {
     "data": {
      "text/plain": [
       "Product {\n",
       "  title: \u001b[32m\"A pillow\"\u001b[39m,\n",
       "  imageUrl: \u001b[32m\"\"\u001b[39m,\n",
       "  description: \u001b[32m\"A soft pillow\"\u001b[39m,\n",
       "  price: \u001b[33m19.99\u001b[39m\n",
       "}"
      ]
     },
     "execution_count": 51,
     "metadata": {},
     "output_type": "execute_result"
    }
   ],
   "source": [
    "new Product('A pillow', '', 'A soft pillow', 19.99);"
   ]
  },
  {
   "cell_type": "code",
   "execution_count": 58,
   "id": "00ca6e32-24c8-4562-9774-e99598906c60",
   "metadata": {},
   "outputs": [],
   "source": [
    "class App {\n",
    "    static product;\n",
    "\n",
    "    static init() {\n",
    "        const product = new Product('A pillow', '', 'A soft pillow', 19.99);\n",
    "        this.product = product;\n",
    "    }\n",
    "\n",
    "    static printProduct() {\n",
    "        console.log(this.product);\n",
    "    }\n",
    "}"
   ]
  },
  {
   "cell_type": "code",
   "execution_count": 59,
   "id": "22689408-23d5-44c4-8fd9-0f4861c0972a",
   "metadata": {},
   "outputs": [],
   "source": [
    "App.init();"
   ]
  },
  {
   "cell_type": "code",
   "execution_count": 61,
   "id": "19139d26-f8ec-48d6-ab18-50f4ac98041e",
   "metadata": {},
   "outputs": [
    {
     "name": "stdout",
     "output_type": "stream",
     "text": [
      "Product {\n",
      "  title: \u001b[32m\"A pillow\"\u001b[39m,\n",
      "  imageUrl: \u001b[32m\"\"\u001b[39m,\n",
      "  description: \u001b[32m\"A soft pillow\"\u001b[39m,\n",
      "  price: \u001b[33m19.99\u001b[39m\n",
      "}\n"
     ]
    }
   ],
   "source": [
    "App.printProduct();"
   ]
  },
  {
   "cell_type": "code",
   "execution_count": 1,
   "id": "7564ef59-64af-4333-b42d-0b62e31c4559",
   "metadata": {},
   "outputs": [],
   "source": [
    "class Product {\n",
    "    constructor(title = 'DEFAULT', image = '', desc = '', price = 0) {\n",
    "        this._title = title;\n",
    "        this._imageUrl = image;\n",
    "        this._description = desc;\n",
    "        this._price = price;\n",
    "    }\n",
    "\n",
    "    // Getter and Setter for title\n",
    "    get title() {\n",
    "        return this._title;\n",
    "    }\n",
    "\n",
    "    set title(value) {\n",
    "        if (typeof value !== 'string' || value.trim() === '') {\n",
    "            throw new Error('Title must be a non-empty string.');\n",
    "        }\n",
    "        this._title = value;\n",
    "    }\n",
    "\n",
    "    // Getter and Setter for imageUrl\n",
    "    get imageUrl() {\n",
    "        return this._imageUrl;\n",
    "    }\n",
    "\n",
    "    set imageUrl(value) {\n",
    "        if (typeof value !== 'string') {\n",
    "            throw new Error('Image URL must be a string.');\n",
    "        }\n",
    "        this._imageUrl = value;\n",
    "    }\n",
    "\n",
    "    // Getter and Setter for description\n",
    "    get description() {\n",
    "        return this._description;\n",
    "    }\n",
    "\n",
    "    set description(value) {\n",
    "        if (typeof value !== 'string') {\n",
    "            throw new Error('Description must be a string.');\n",
    "        }\n",
    "        this._description = value;\n",
    "    }\n",
    "\n",
    "    // Getter and Setter for price\n",
    "    get price() {\n",
    "        return this._price;\n",
    "    }\n",
    "\n",
    "    set price(value) {\n",
    "        if (typeof value !== 'number' || value < 0) {\n",
    "            throw new Error('Price must be a non-negative number.');\n",
    "        }\n",
    "        this._price = value;\n",
    "    }\n",
    "}"
   ]
  },
  {
   "cell_type": "code",
   "execution_count": 63,
   "id": "d26566c2-8929-4bb4-a12f-894b9438cb68",
   "metadata": {},
   "outputs": [],
   "source": [
    "const product = new Product('Laptop', 'img/laptop.png', 'A fast laptop.', 999);"
   ]
  },
  {
   "cell_type": "code",
   "execution_count": 64,
   "id": "9c24a3d5-eed3-4c4b-8562-c1bca3964250",
   "metadata": {},
   "outputs": [
    {
     "data": {
      "text/plain": [
       "Product {\n",
       "  _title: \u001b[32m\"Laptop\"\u001b[39m,\n",
       "  _imageUrl: \u001b[32m\"img/laptop.png\"\u001b[39m,\n",
       "  _description: \u001b[32m\"A fast laptop.\"\u001b[39m,\n",
       "  _price: \u001b[33m999\u001b[39m\n",
       "}"
      ]
     },
     "execution_count": 64,
     "metadata": {},
     "output_type": "execute_result"
    }
   ],
   "source": [
    "product"
   ]
  },
  {
   "cell_type": "code",
   "execution_count": 65,
   "id": "5c1937bc-1147-4081-98bb-8ded34a7122e",
   "metadata": {},
   "outputs": [
    {
     "data": {
      "text/plain": [
       "\u001b[32m\"Laptop\"\u001b[39m"
      ]
     },
     "execution_count": 65,
     "metadata": {},
     "output_type": "execute_result"
    }
   ],
   "source": [
    "product.title"
   ]
  },
  {
   "cell_type": "code",
   "execution_count": 66,
   "id": "28ee0738-7592-4cdf-87d1-885744ee79d9",
   "metadata": {},
   "outputs": [
    {
     "data": {
      "text/plain": [
       "\u001b[33m1099\u001b[39m"
      ]
     },
     "execution_count": 66,
     "metadata": {},
     "output_type": "execute_result"
    }
   ],
   "source": [
    "product.price = 1099;"
   ]
  },
  {
   "cell_type": "code",
   "execution_count": 67,
   "id": "aac22811-5e68-44c3-9a07-2b24f03ca306",
   "metadata": {},
   "outputs": [
    {
     "data": {
      "text/plain": [
       "\u001b[33m1099\u001b[39m"
      ]
     },
     "execution_count": 67,
     "metadata": {},
     "output_type": "execute_result"
    }
   ],
   "source": [
    "product.price"
   ]
  },
  {
   "cell_type": "code",
   "execution_count": 68,
   "id": "2607cfe4-2bd7-4368-b6e5-85f0795be2b8",
   "metadata": {},
   "outputs": [
    {
     "ename": "Error",
     "evalue": "Title must be a non-empty string.",
     "output_type": "error",
     "traceback": [
      "Stack trace:",
      "Error: Title must be a non-empty string.",
      "    at Product.set title (<anonymous>:14:13)",
      "    at <anonymous>:1:36"
     ]
    }
   ],
   "source": [
    "product.title = '';"
   ]
  },
  {
   "cell_type": "code",
   "execution_count": 69,
   "id": "031f9c7f-f8a1-41a3-a2b9-1833c8f16b70",
   "metadata": {},
   "outputs": [],
   "source": [
    "class Book extends Product {\n",
    "    constructor(title, image, desc, price, author, pages) {\n",
    "        super(title, image, desc, price); // Call Product constructor\n",
    "        this._author = author;\n",
    "        this._pages = pages;\n",
    "    }\n",
    "\n",
    "    get author() {\n",
    "        return this._author;\n",
    "    }\n",
    "\n",
    "    set author(value) {\n",
    "        if (typeof value !== 'string' || value.trim() === '') {\n",
    "            throw new Error('Author must be a non-empty string.');\n",
    "        }\n",
    "        this._author = value;\n",
    "    }\n",
    "\n",
    "    get pages() {\n",
    "        return this._pages;\n",
    "    }\n",
    "\n",
    "    set pages(value) {\n",
    "        if (!Number.isInteger(value) || value <= 0) {\n",
    "            throw new Error('Pages must be a positive integer.');\n",
    "        }\n",
    "        this._pages = value;\n",
    "    }\n",
    "}"
   ]
  },
  {
   "cell_type": "code",
   "execution_count": 70,
   "id": "37d27f30-6cd6-4d79-ae47-00c288c129c0",
   "metadata": {},
   "outputs": [
    {
     "data": {
      "text/plain": [
       "Book {\n",
       "  _title: \u001b[32m\"Clean Code\"\u001b[39m,\n",
       "  _imageUrl: \u001b[32m\"image.jpg\"\u001b[39m,\n",
       "  _description: \u001b[32m\"Programming book\"\u001b[39m,\n",
       "  _price: \u001b[33m29.99\u001b[39m,\n",
       "  _author: \u001b[32m\"Robert C. Martin\"\u001b[39m,\n",
       "  _pages: \u001b[33m464\u001b[39m\n",
       "}"
      ]
     },
     "execution_count": 70,
     "metadata": {},
     "output_type": "execute_result"
    }
   ],
   "source": [
    "const book = new Book('Clean Code', 'image.jpg', 'Programming book', 29.99, 'Robert C. Martin', 464);\n",
    "book;"
   ]
  },
  {
   "cell_type": "code",
   "execution_count": 71,
   "id": "ebdfae2a-0418-4e3a-874f-80d21eb96f14",
   "metadata": {},
   "outputs": [
    {
     "data": {
      "text/plain": [
       "\u001b[32m\"Clean Code\"\u001b[39m"
      ]
     },
     "execution_count": 71,
     "metadata": {},
     "output_type": "execute_result"
    }
   ],
   "source": [
    "book.title"
   ]
  },
  {
   "cell_type": "code",
   "execution_count": 72,
   "id": "26e4c104-8901-47ac-b197-8fa899f06ef2",
   "metadata": {},
   "outputs": [
    {
     "data": {
      "text/plain": [
       "\u001b[33mtrue\u001b[39m"
      ]
     },
     "execution_count": 72,
     "metadata": {},
     "output_type": "execute_result"
    }
   ],
   "source": [
    "book instanceof Product"
   ]
  },
  {
   "cell_type": "markdown",
   "id": "bd9ca326-db3b-4b5c-8366-575aed37e608",
   "metadata": {},
   "source": [
    "## Private and Override"
   ]
  },
  {
   "cell_type": "code",
   "execution_count": 74,
   "id": "cd07d01c-9dd9-4dca-8711-fa3e129134ce",
   "metadata": {},
   "outputs": [],
   "source": [
    "class Product {\n",
    "    // Private fields\n",
    "    #title;\n",
    "    #imageUrl;\n",
    "    #description;\n",
    "    #price;\n",
    "\n",
    "    constructor(title = 'DEFAULT', image = '', desc = '', price = 0) {\n",
    "        this.#title = title;\n",
    "        this.#imageUrl = image;\n",
    "        this.#description = desc;\n",
    "        this.#price = price;\n",
    "    }\n",
    "\n",
    "    // Getters and Setters\n",
    "    get title() {\n",
    "        return this.#title;\n",
    "    }\n",
    "\n",
    "    set title(value) {\n",
    "        if (typeof value !== 'string' || value.trim() === '') {\n",
    "            throw new Error('Title must be a non-empty string.');\n",
    "        }\n",
    "        this.#title = value;\n",
    "    }\n",
    "\n",
    "    get imageUrl() {\n",
    "        return this.#imageUrl;\n",
    "    }\n",
    "\n",
    "    set imageUrl(value) {\n",
    "        if (typeof value !== 'string') {\n",
    "            throw new Error('Image URL must be a string.');\n",
    "        }\n",
    "        this.#imageUrl = value;\n",
    "    }\n",
    "\n",
    "    get description() {\n",
    "        return this.#description;\n",
    "    }\n",
    "\n",
    "    set description(value) {\n",
    "        if (typeof value !== 'string') {\n",
    "            throw new Error('Description must be a string.');\n",
    "        }\n",
    "        this.#description = value;\n",
    "    }\n",
    "\n",
    "    get price() {\n",
    "        return this.#price;\n",
    "    }\n",
    "\n",
    "    set price(value) {\n",
    "        if (typeof value !== 'number' || value < 0) {\n",
    "            throw new Error('Price must be a non-negative number.');\n",
    "        }\n",
    "        this.#price = value;\n",
    "    }\n",
    "\n",
    "    // Method to override\n",
    "    displayInfo() {\n",
    "        return `${this.#title} - ${this.#description} ($${this.#price})`;\n",
    "    }\n",
    "}"
   ]
  },
  {
   "cell_type": "code",
   "execution_count": 76,
   "id": "028fde9e-9336-41a2-a80e-06393a367f5f",
   "metadata": {},
   "outputs": [],
   "source": [
    "class Book extends Product {\n",
    "    #author;\n",
    "    #pages;\n",
    "\n",
    "    constructor(title, image, desc, price, author, pages) {\n",
    "        super(title, image, desc, price);\n",
    "        this.#author = author;\n",
    "        this.#pages = pages;\n",
    "    }\n",
    "\n",
    "    get author() {\n",
    "        return this.#author;\n",
    "    }\n",
    "\n",
    "    set author(value) {\n",
    "        if (typeof value !== 'string' || value.trim() === '') {\n",
    "            throw new Error('Author must be a non-empty string.');\n",
    "        }\n",
    "        this.#author = value;\n",
    "    }\n",
    "\n",
    "    get pages() {\n",
    "        return this.#pages;\n",
    "    }\n",
    "\n",
    "    set pages(value) {\n",
    "        if (!Number.isInteger(value) || value <= 0) {\n",
    "            throw new Error('Pages must be a positive integer.');\n",
    "        }\n",
    "        this.#pages = value;\n",
    "    }\n",
    "\n",
    "    // Overridden method\n",
    "    displayInfo() {\n",
    "        // Optionally call super.displayInfo()\n",
    "        return `📘 \"${this.title}\" by ${this.#author}, ${this.#pages} pages — $${this.price}`;\n",
    "    }\n",
    "}"
   ]
  },
  {
   "cell_type": "code",
   "execution_count": 81,
   "id": "370a2ce3-b27c-4530-9a78-01ab77c6cf07",
   "metadata": {},
   "outputs": [
    {
     "data": {
      "text/plain": [
       "Book {}"
      ]
     },
     "execution_count": 81,
     "metadata": {},
     "output_type": "execute_result"
    }
   ],
   "source": [
    "const privateBook = new Book('Clean Code', 'clean.jpg', 'A book about writing better code.', 25.99, 'Robert C. Martin', 464);\n",
    "book"
   ]
  },
  {
   "cell_type": "code",
   "execution_count": 82,
   "id": "4df11f76-33d3-4bc9-9179-f7bafd397c3b",
   "metadata": {},
   "outputs": [
    {
     "data": {
      "text/plain": [
       "\u001b[32m'📘 \"Clean Code\" by Robert C. Martin, 464 pages — $25.99'\u001b[39m"
      ]
     },
     "execution_count": 82,
     "metadata": {},
     "output_type": "execute_result"
    }
   ],
   "source": [
    "privateBook.displayInfo()"
   ]
  },
  {
   "cell_type": "code",
   "execution_count": 83,
   "id": "4281a9bc-71fa-4439-9831-3e33d001b69c",
   "metadata": {},
   "outputs": [
    {
     "data": {
      "text/plain": [
       "\u001b[32m\"Robert C. Martin\"\u001b[39m"
      ]
     },
     "execution_count": 83,
     "metadata": {},
     "output_type": "execute_result"
    }
   ],
   "source": [
    "privateBook.author"
   ]
  },
  {
   "cell_type": "code",
   "execution_count": 85,
   "id": "d162279d-a07d-4188-a783-7d7da32dafe8",
   "metadata": {},
   "outputs": [
    {
     "data": {
      "text/plain": [
       "\u001b[32m\"Clean Code\"\u001b[39m"
      ]
     },
     "execution_count": 85,
     "metadata": {},
     "output_type": "execute_result"
    }
   ],
   "source": [
    "privateBook.title"
   ]
  },
  {
   "cell_type": "code",
   "execution_count": 108,
   "id": "0d592c7d-6542-440f-bd53-78a31207c640",
   "metadata": {},
   "outputs": [
    {
     "data": {
      "text/plain": [
       "\u001b[32m\"Robert C. Martin\"\u001b[39m"
      ]
     },
     "execution_count": 108,
     "metadata": {},
     "output_type": "execute_result"
    }
   ],
   "source": [
    "privateBook.#author"
   ]
  },
  {
   "cell_type": "code",
   "execution_count": 109,
   "id": "f570cbaf-833d-4667-ab5f-763ee5b58b2c",
   "metadata": {},
   "outputs": [
    {
     "data": {
      "text/plain": [
       "\u001b[33mtrue\u001b[39m"
      ]
     },
     "execution_count": 109,
     "metadata": {},
     "output_type": "execute_result"
    }
   ],
   "source": [
    "privateBook instanceof Book"
   ]
  },
  {
   "cell_type": "code",
   "execution_count": 110,
   "id": "c4f7a504-8d42-4733-8a86-7bf10d5fc05f",
   "metadata": {},
   "outputs": [
    {
     "data": {
      "text/plain": [
       "\u001b[33mtrue\u001b[39m"
      ]
     },
     "execution_count": 110,
     "metadata": {},
     "output_type": "execute_result"
    }
   ],
   "source": [
    "privateBook instanceof Product"
   ]
  },
  {
   "cell_type": "code",
   "execution_count": 93,
   "id": "15eda8b6-0a8b-4cda-9d8d-1307e116b224",
   "metadata": {},
   "outputs": [],
   "source": [
    "class Items {\n",
    "    items = [];\n",
    "\n",
    "    seeItems = () => {\n",
    "        console.log(this.items);\n",
    "    }\n",
    "\n",
    "    addItem(item) {\n",
    "        this.items.push(item);\n",
    "    }\n",
    "\n",
    "    addAnotherItem = (item) => {\n",
    "        this.items.push(item);\n",
    "    }\n",
    "}"
   ]
  },
  {
   "cell_type": "code",
   "execution_count": 94,
   "id": "2751e3ee-3fdc-4d91-acc0-ba30b5d5ce79",
   "metadata": {},
   "outputs": [],
   "source": [
    "const items = new Items();"
   ]
  },
  {
   "cell_type": "code",
   "execution_count": 95,
   "id": "68b92b87-f35b-42c7-8809-3b096985645b",
   "metadata": {},
   "outputs": [
    {
     "name": "stdout",
     "output_type": "stream",
     "text": [
      "[]\n"
     ]
    }
   ],
   "source": [
    "items.seeItems();"
   ]
  },
  {
   "cell_type": "code",
   "execution_count": 96,
   "id": "e1f45ca0-31e1-4bba-9b3a-e2c93003cf9e",
   "metadata": {},
   "outputs": [],
   "source": [
    "items.addItem(1);"
   ]
  },
  {
   "cell_type": "code",
   "execution_count": 97,
   "id": "3cc931fd-37fc-4828-bb61-2f1d2c99de15",
   "metadata": {},
   "outputs": [
    {
     "name": "stdout",
     "output_type": "stream",
     "text": [
      "[ \u001b[33m1\u001b[39m ]\n"
     ]
    }
   ],
   "source": [
    "items.seeItems();"
   ]
  },
  {
   "cell_type": "code",
   "execution_count": 98,
   "id": "e55224d8-0a61-414f-b992-8a83403027a2",
   "metadata": {},
   "outputs": [],
   "source": [
    "items.addAnotherItem(2);"
   ]
  },
  {
   "cell_type": "code",
   "execution_count": 99,
   "id": "cae287f3-51df-49d7-a93a-68d2f861c784",
   "metadata": {},
   "outputs": [
    {
     "name": "stdout",
     "output_type": "stream",
     "text": [
      "[ \u001b[33m1\u001b[39m, \u001b[33m2\u001b[39m ]\n"
     ]
    }
   ],
   "source": [
    "items.seeItems();"
   ]
  },
  {
   "cell_type": "code",
   "execution_count": 104,
   "id": "1312368d-82e1-4b12-b2f7-2d223d8f0141",
   "metadata": {
    "scrolled": true
   },
   "outputs": [
    {
     "ename": "TypeError",
     "evalue": "Cannot read properties of undefined (reading 'items')",
     "output_type": "error",
     "traceback": [
      "Stack trace:",
      "TypeError: Cannot read properties of undefined (reading 'items')",
      "    at addItem (<anonymous>:7:10)",
      "    at <anonymous>:3:1"
     ]
    }
   ],
   "source": [
    "const instance = new Items();\n",
    "const fn = instance.addItem;  // `this` is now undefined or global in strict mode\n",
    "fn('banana');  // ❌ this.items is undefined → TypeError"
   ]
  },
  {
   "cell_type": "code",
   "execution_count": 105,
   "id": "c8d9157a-1ae3-4b0b-a316-a67fc6dd9439",
   "metadata": {},
   "outputs": [
    {
     "name": "stdout",
     "output_type": "stream",
     "text": [
      "[]\n"
     ]
    }
   ],
   "source": [
    "instance.seeItems();"
   ]
  },
  {
   "cell_type": "code",
   "execution_count": 101,
   "id": "30f7d081-35dd-4d85-8433-015e800dab0d",
   "metadata": {},
   "outputs": [],
   "source": [
    "const instance = new Items();\n",
    "const fn = instance.addAnotherItem;\n",
    "fn('apple');  // ✅ Works — `this` is preserved"
   ]
  },
  {
   "cell_type": "code",
   "execution_count": 103,
   "id": "27bfb57d-3521-4521-9fde-3998912f763f",
   "metadata": {},
   "outputs": [
    {
     "name": "stdout",
     "output_type": "stream",
     "text": [
      "[ \u001b[32m\"apple\"\u001b[39m ]\n"
     ]
    }
   ],
   "source": [
    "instance.seeItems();"
   ]
  },
  {
   "cell_type": "code",
   "execution_count": 106,
   "id": "ecb0c7bb-d935-4b53-9abf-ff2f74265a96",
   "metadata": {},
   "outputs": [
    {
     "data": {
      "text/plain": [
       "\u001b[32m\"object\"\u001b[39m"
      ]
     },
     "execution_count": 106,
     "metadata": {},
     "output_type": "execute_result"
    }
   ],
   "source": [
    "typeof instance"
   ]
  },
  {
   "cell_type": "code",
   "execution_count": null,
   "id": "14aaffb0-1b79-49cb-8ec7-ce3ae26a6d3b",
   "metadata": {},
   "outputs": [],
   "source": [
    "instance instanceof Items"
   ]
  },
  {
   "cell_type": "code",
   "execution_count": 3,
   "id": "f2853c46-7a5f-4d0f-aa5a-57ab974aff20",
   "metadata": {},
   "outputs": [],
   "source": [
    "class DigitalProduct extends Product {\n",
    "    constructor() { // Error because I am not calling the super method!\n",
    "        this.example = 9;\n",
    "    }\n",
    "}"
   ]
  },
  {
   "cell_type": "code",
   "execution_count": 4,
   "id": "e90f768e-f303-4413-bd29-bcedcf546129",
   "metadata": {},
   "outputs": [
    {
     "ename": "ReferenceError",
     "evalue": "Must call super constructor in derived class before accessing 'this' or returning from derived constructor",
     "output_type": "error",
     "traceback": [
      "Stack trace:",
      "ReferenceError: Must call super constructor in derived class before accessing 'this' or returning from derived constructor",
      "    at new DigitalProduct (<anonymous>:3:5)",
      "    at <anonymous>:1:33"
     ]
    }
   ],
   "source": [
    "const dp = new DigitalProduct();\n",
    "dp;"
   ]
  }
 ],
 "metadata": {
  "kernelspec": {
   "display_name": "Deno",
   "language": "typescript",
   "name": "deno"
  },
  "language_info": {
   "codemirror_mode": "typescript",
   "file_extension": ".ts",
   "mimetype": "text/x.typescript",
   "name": "typescript",
   "nbconvert_exporter": "script",
   "pygments_lexer": "typescript",
   "version": "5.7.3"
  }
 },
 "nbformat": 4,
 "nbformat_minor": 5
}
