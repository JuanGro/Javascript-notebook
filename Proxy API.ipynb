{
 "cells": [
  {
   "cell_type": "markdown",
   "id": "d4fd51ad-5086-4feb-98b6-a51b84f2d164",
   "metadata": {},
   "source": [
    "# Proxy API"
   ]
  },
  {
   "cell_type": "markdown",
   "id": "7164e05f-125a-4131-940f-8cc0df245419",
   "metadata": {},
   "source": [
    "The Proxy API allows you to create a wrapper around an object (or function) and intercept operations like:\n",
    "- Reading a property (get)\n",
    "- Writing a property (set)\n",
    "- Checking if a property exists (has)\n",
    "- Deleting properties (deleteProperty)\n",
    "- Iterating over keys (ownKeys)"
   ]
  },
  {
   "cell_type": "code",
   "execution_count": 3,
   "id": "82e5dc09-2dee-40b2-8c2c-9be06c51421a",
   "metadata": {},
   "outputs": [],
   "source": [
    "const user = {\n",
    "  name: \"Alice\",\n",
    "  age: 25\n",
    "};"
   ]
  },
  {
   "cell_type": "code",
   "execution_count": 4,
   "id": "f6e22b2a-1088-4037-b526-b35656df66c3",
   "metadata": {},
   "outputs": [],
   "source": [
    "const handler = {\n",
    "  get(target, prop) {\n",
    "    console.log(`Accessing property: ${prop}`);\n",
    "    return target[prop];\n",
    "  }\n",
    "};"
   ]
  },
  {
   "cell_type": "code",
   "execution_count": 5,
   "id": "f599dc1f-8ac7-4bf6-a2dc-520180a814b8",
   "metadata": {},
   "outputs": [],
   "source": [
    "const proxyUser = new Proxy(user, handler);"
   ]
  },
  {
   "cell_type": "code",
   "execution_count": 6,
   "id": "925129c7-ff4a-45ce-beb5-3ca5a986590d",
   "metadata": {},
   "outputs": [
    {
     "name": "stdout",
     "output_type": "stream",
     "text": [
      "Accessing property: name\n"
     ]
    },
    {
     "data": {
      "text/plain": [
       "\u001b[32m\"Alice\"\u001b[39m"
      ]
     },
     "execution_count": 6,
     "metadata": {},
     "output_type": "execute_result"
    }
   ],
   "source": [
    "proxyUser.name"
   ]
  },
  {
   "cell_type": "markdown",
   "id": "e1c75bca-cbd9-425f-bbdf-748bdceee520",
   "metadata": {},
   "source": [
    "| Trap             | Description                               |\n",
    "| ---------------- | ----------------------------------------- |\n",
    "| `get`            | Intercepts property read                  |\n",
    "| `set`            | Intercepts property write                 |\n",
    "| `has`            | Intercepts `'prop' in obj`                |\n",
    "| `deleteProperty` | Intercepts `delete obj[prop]`             |\n",
    "| `ownKeys`        | Intercepts `Object.keys()` or `for...in`  |\n",
    "| `apply`          | Intercepts function calls (for functions) |\n",
    "| `construct`      | Intercepts object creation (`new`)        |"
   ]
  },
  {
   "cell_type": "code",
   "execution_count": 7,
   "id": "8c281fd5-80f7-4f86-a160-c9d52f23663c",
   "metadata": {},
   "outputs": [],
   "source": [
    "const user = {};"
   ]
  },
  {
   "cell_type": "code",
   "execution_count": 8,
   "id": "b7182fc4-c66a-4f6a-963e-f61ae35d60aa",
   "metadata": {},
   "outputs": [],
   "source": [
    "const proxy = new Proxy(user, {\n",
    "  set(target, prop, value) {\n",
    "    if (prop === \"age\" && typeof value !== \"number\") {\n",
    "      throw new Error(\"Age must be a number\");\n",
    "    }\n",
    "    target[prop] = value;\n",
    "    return true;\n",
    "  }\n",
    "});"
   ]
  },
  {
   "cell_type": "code",
   "execution_count": 9,
   "id": "152105b2-2214-4685-ac35-c6315f2bbc3b",
   "metadata": {},
   "outputs": [
    {
     "data": {
      "text/plain": [
       "\u001b[33m30\u001b[39m"
      ]
     },
     "execution_count": 9,
     "metadata": {},
     "output_type": "execute_result"
    }
   ],
   "source": [
    "proxy.age = 30;     // ✅ OK"
   ]
  },
  {
   "cell_type": "code",
   "execution_count": 11,
   "id": "1ffb13af-378b-42ef-b274-0dd239655f16",
   "metadata": {},
   "outputs": [
    {
     "ename": "Error",
     "evalue": "Age must be a number",
     "output_type": "error",
     "traceback": [
      "Stack trace:",
      "Error: Age must be a number",
      "    at Object.set (<anonymous>:4:13)",
      "    at <anonymous>:1:32"
     ]
    }
   ],
   "source": [
    "proxy.age = \"old\"; // ❌ Error: Age must be a number"
   ]
  }
 ],
 "metadata": {
  "kernelspec": {
   "display_name": "Deno",
   "language": "typescript",
   "name": "deno"
  },
  "language_info": {
   "codemirror_mode": "typescript",
   "file_extension": ".ts",
   "mimetype": "text/x.typescript",
   "name": "typescript",
   "nbconvert_exporter": "script",
   "pygments_lexer": "typescript",
   "version": "5.7.3"
  }
 },
 "nbformat": 4,
 "nbformat_minor": 5
}
