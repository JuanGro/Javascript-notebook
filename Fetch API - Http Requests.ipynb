{
 "cells": [
  {
   "cell_type": "markdown",
   "id": "27588c66-2984-4fa8-a388-5e250a5216e1",
   "metadata": {},
   "source": [
    "# Fetch API/Http Requests"
   ]
  },
  {
   "cell_type": "markdown",
   "id": "497d10ec-131d-476b-84f2-f7196981c88d",
   "metadata": {},
   "source": [
    "## 📥 1. GET Request"
   ]
  },
  {
   "cell_type": "code",
   "execution_count": 2,
   "id": "b1f51efb-7ff4-4da6-aef7-faf93d6904ed",
   "metadata": {},
   "outputs": [
    {
     "name": "stdout",
     "output_type": "stream",
     "text": [
      "📥 GET response: {\n",
      "  userId: \u001b[33m1\u001b[39m,\n",
      "  id: \u001b[33m1\u001b[39m,\n",
      "  title: \u001b[32m\"sunt aut facere repellat provident occaecati excepturi optio reprehenderit\"\u001b[39m,\n",
      "  body: \u001b[32m\"quia et suscipit\\n\"\u001b[39m +\n",
      "    \u001b[32m\"suscipit recusandae consequuntur expedita et cum\\n\"\u001b[39m +\n",
      "    \u001b[32m\"reprehenderit molestiae ut ut quas totam\\n\"\u001b[39m +\n",
      "    \u001b[32m\"nostrum rerum est autem sunt rem eveniet architecto\"\u001b[39m\n",
      "}\n"
     ]
    }
   ],
   "source": [
    "const response = await fetch(\"https://jsonplaceholder.typicode.com/posts/1\");\n",
    "const data = await response.json();\n",
    "console.log(\"📥 GET response:\", data);"
   ]
  },
  {
   "cell_type": "markdown",
   "id": "b13cf6f3-7d49-438e-9df3-b3514e5bcbb5",
   "metadata": {},
   "source": [
    "## 📝 2. POST Request (send data)"
   ]
  },
  {
   "cell_type": "code",
   "execution_count": 3,
   "id": "b705bd15-dc74-46be-bea3-8fc3d7c13f9f",
   "metadata": {},
   "outputs": [
    {
     "name": "stdout",
     "output_type": "stream",
     "text": [
      "📝 POST response: {\n",
      "  title: \u001b[32m\"Hello from Deno\"\u001b[39m,\n",
      "  body: \u001b[32m\"This is a test post\"\u001b[39m,\n",
      "  userId: \u001b[33m1\u001b[39m,\n",
      "  id: \u001b[33m101\u001b[39m\n",
      "}\n"
     ]
    }
   ],
   "source": [
    "const newPost = {\n",
    "  title: \"Hello from Deno\",\n",
    "  body: \"This is a test post\",\n",
    "  userId: 1,\n",
    "};\n",
    "\n",
    "const response = await fetch(\"https://jsonplaceholder.typicode.com/posts\", {\n",
    "  method: \"POST\",\n",
    "  headers: {\n",
    "    \"Content-Type\": \"application/json\",\n",
    "  },\n",
    "  body: JSON.stringify(newPost),\n",
    "});\n",
    "\n",
    "const result = await response.json();\n",
    "console.log(\"📝 POST response:\", result);"
   ]
  },
  {
   "cell_type": "markdown",
   "id": "97b07af8-6969-4dad-9fd6-10b4539bb12f",
   "metadata": {},
   "source": [
    "## ✏️ 3. PUT Request (update resource)"
   ]
  },
  {
   "cell_type": "code",
   "execution_count": 5,
   "id": "f3635ce5-110a-418e-bc96-2e589e41fae3",
   "metadata": {},
   "outputs": [
    {
     "name": "stdout",
     "output_type": "stream",
     "text": [
      "✏️ PUT response: { id: \u001b[33m1\u001b[39m, title: \u001b[32m\"Updated title\"\u001b[39m, body: \u001b[32m\"Updated body\"\u001b[39m, userId: \u001b[33m1\u001b[39m }\n"
     ]
    }
   ],
   "source": [
    "const updatedPost = {\n",
    "  id: 1,\n",
    "  title: \"Updated title\",\n",
    "  body: \"Updated body\",\n",
    "  userId: 1,\n",
    "};\n",
    "\n",
    "const response = await fetch(\"https://jsonplaceholder.typicode.com/posts/1\", {\n",
    "  method: \"PUT\",\n",
    "  headers: {\n",
    "    \"Content-Type\": \"application/json\",\n",
    "  },\n",
    "  body: JSON.stringify(updatedPost),\n",
    "});\n",
    "\n",
    "const result = await response.json();\n",
    "console.log(\"✏️ PUT response:\", result);"
   ]
  },
  {
   "cell_type": "markdown",
   "id": "f90411f9-203b-453b-b29f-46a126d874f5",
   "metadata": {},
   "source": [
    "## ❌ 4. DELETE Request"
   ]
  },
  {
   "cell_type": "code",
   "execution_count": 7,
   "id": "58bfe603-20a7-4d49-a2d1-0cf075c379ad",
   "metadata": {},
   "outputs": [
    {
     "name": "stdout",
     "output_type": "stream",
     "text": [
      "❌ DELETE status: \u001b[33m200\u001b[39m\n"
     ]
    }
   ],
   "source": [
    "const response = await fetch(\"https://jsonplaceholder.typicode.com/posts/1\", {\n",
    "  method: \"DELETE\",\n",
    "});\n",
    "\n",
    "console.log(\"❌ DELETE status:\", response.status); // Should be 200"
   ]
  },
  {
   "cell_type": "markdown",
   "id": "9f329147-e118-4296-a8b3-27ac37ff775a",
   "metadata": {},
   "source": [
    "## ⚠️ 5. Error Handling Example"
   ]
  },
  {
   "cell_type": "code",
   "execution_count": 8,
   "id": "b54648fb-4b6a-4f77-af8b-a0c1b250deae",
   "metadata": {},
   "outputs": [
    {
     "name": "stderr",
     "output_type": "stream",
     "text": [
      "❌ Caught error: HTTP error! Status: 404\n"
     ]
    }
   ],
   "source": [
    "try {\n",
    "  const response = await fetch(\"https://jsonplaceholder.typicode.com/invalid-url\");\n",
    "\n",
    "  if (!response.ok) {\n",
    "    throw new Error(`HTTP error! Status: ${response.status}`);\n",
    "  }\n",
    "\n",
    "  const data = await response.json();\n",
    "  console.log(\"Data:\", data);\n",
    "} catch (error) {\n",
    "  console.error(\"❌ Caught error:\", error.message);\n",
    "}"
   ]
  },
  {
   "cell_type": "markdown",
   "id": "6dbb954c-9d97-4142-be45-fe00d29c5228",
   "metadata": {},
   "source": [
    "## Understanding JSONs"
   ]
  },
  {
   "cell_type": "code",
   "execution_count": 9,
   "id": "90352f38-47b0-4783-b6c5-11b14031b970",
   "metadata": {},
   "outputs": [
    {
     "name": "stdout",
     "output_type": "stream",
     "text": [
      "Response {\n",
      "  body: ReadableStream { locked: \u001b[33mfalse\u001b[39m },\n",
      "  bodyUsed: \u001b[33mfalse\u001b[39m,\n",
      "  headers: Headers {\n",
      "    \u001b[32m\"access-control-allow-credentials\"\u001b[39m: \u001b[32m\"true\"\u001b[39m,\n",
      "    age: \u001b[32m\"26350\"\u001b[39m,\n",
      "    \u001b[32m\"alt-svc\"\u001b[39m: \u001b[32m'h3=\":443\"; ma=86400'\u001b[39m,\n",
      "    \u001b[32m\"cache-control\"\u001b[39m: \u001b[32m\"max-age=43200\"\u001b[39m,\n",
      "    \u001b[32m\"cf-cache-status\"\u001b[39m: \u001b[32m\"HIT\"\u001b[39m,\n",
      "    \u001b[32m\"cf-ray\"\u001b[39m: \u001b[32m\"97e40faa0c40f081-DFW\"\u001b[39m,\n",
      "    \u001b[32m\"content-type\"\u001b[39m: \u001b[32m\"application/json; charset=utf-8\"\u001b[39m,\n",
      "    date: \u001b[32m\"Sat, 13 Sep 2025 02:02:13 GMT\"\u001b[39m,\n",
      "    etag: \u001b[32m'W/\"124-yiKdLzqO5gfBrJFrcdJ8Yq0LGnU\"'\u001b[39m,\n",
      "    expires: \u001b[32m\"-1\"\u001b[39m,\n",
      "    nel: \u001b[32m'{\"report_to\":\"heroku-nel\",\"response_headers\":[\"Via\"],\"max_age\":3600,\"success_fraction\":0.01,\"failure_fraction\":0.1}'\u001b[39m,\n",
      "    pragma: \u001b[32m\"no-cache\"\u001b[39m,\n",
      "    \u001b[32m\"report-to\"\u001b[39m: \u001b[32m'{\"group\":\"heroku-nel\",\"endpoints\":[{\"url\":\"https://nel.heroku.com/reports?s=dPvDjk4OnECq9IQjKZLPmvlTdkdBjWN%2FAKjbFFgz9Cc%3D\\\\u0026sid=e11707d5-02a7-43ef-b45e-2cf4d2036f7d\\\\u0026ts=1757702583\"}],\"max_age\":3600}'\u001b[39m,\n",
      "    \u001b[32m\"reporting-endpoints\"\u001b[39m: \u001b[32m'heroku-nel=\"https://nel.heroku.com/reports?s=dPvDjk4OnECq9IQjKZLPmvlTdkdBjWN%2FAKjbFFgz9Cc%3D&sid=e11707d5-02a7-43ef-b45e-2cf4d2036f7d&ts=1757702583\"'\u001b[39m,\n",
      "    server: \u001b[32m\"cloudflare\"\u001b[39m,\n",
      "    vary: \u001b[32m\"Origin, Accept-Encoding\"\u001b[39m,\n",
      "    via: \u001b[32m\"2.0 heroku-router\"\u001b[39m,\n",
      "    \u001b[32m\"x-content-type-options\"\u001b[39m: \u001b[32m\"nosniff\"\u001b[39m,\n",
      "    \u001b[32m\"x-powered-by\"\u001b[39m: \u001b[32m\"Express\"\u001b[39m,\n",
      "    \u001b[32m\"x-ratelimit-limit\"\u001b[39m: \u001b[32m\"1000\"\u001b[39m,\n",
      "    \u001b[32m\"x-ratelimit-remaining\"\u001b[39m: \u001b[32m\"999\"\u001b[39m,\n",
      "    \u001b[32m\"x-ratelimit-reset\"\u001b[39m: \u001b[32m\"1757702585\"\u001b[39m\n",
      "  },\n",
      "  ok: \u001b[33mtrue\u001b[39m,\n",
      "  redirected: \u001b[33mfalse\u001b[39m,\n",
      "  status: \u001b[33m200\u001b[39m,\n",
      "  statusText: \u001b[32m\"OK\"\u001b[39m,\n",
      "  url: \u001b[32m\"https://jsonplaceholder.typicode.com/posts/1\"\u001b[39m\n",
      "}\n"
     ]
    }
   ],
   "source": [
    "const response = await fetch(\"https://jsonplaceholder.typicode.com/posts/1\");\n",
    "console.log(response); // ✅ This is a Response object, not JSON"
   ]
  },
  {
   "cell_type": "code",
   "execution_count": 10,
   "id": "818cb230-faef-4d53-bcfd-2b0ff5840e20",
   "metadata": {},
   "outputs": [
    {
     "data": {
      "text/plain": [
       "Promise {\n",
       "  {\n",
       "    userId: \u001b[33m1\u001b[39m,\n",
       "    id: \u001b[33m1\u001b[39m,\n",
       "    title: \u001b[32m\"sunt aut facere repellat provident occaecati excepturi optio reprehenderit\"\u001b[39m,\n",
       "    body: \u001b[32m\"quia et suscipit\\n\"\u001b[39m +\n",
       "      \u001b[32m\"suscipit recusandae consequuntur expedita et cum\\n\"\u001b[39m +\n",
       "      \u001b[32m\"reprehenderit molestiae ut ut quas totam\\n\"\u001b[39m +\n",
       "      \u001b[32m\"nostrum rerum est autem sunt rem eveniet architecto\"\u001b[39m\n",
       "  }\n",
       "}"
      ]
     },
     "execution_count": 10,
     "metadata": {},
     "output_type": "execute_result"
    }
   ],
   "source": [
    "response.json()"
   ]
  },
  {
   "cell_type": "code",
   "execution_count": 14,
   "id": "3c0e68d6-9f60-4ffa-b373-75f65f4fde0b",
   "metadata": {
    "scrolled": true
   },
   "outputs": [
    {
     "data": {
      "text/plain": [
       "Response {\n",
       "  body: ReadableStream { locked: \u001b[33mfalse\u001b[39m },\n",
       "  bodyUsed: \u001b[33mfalse\u001b[39m,\n",
       "  headers: Headers {\n",
       "    \u001b[32m\"access-control-allow-credentials\"\u001b[39m: \u001b[32m\"true\"\u001b[39m,\n",
       "    \u001b[32m\"alt-svc\"\u001b[39m: \u001b[32m'h3=\":443\"; ma=86400'\u001b[39m,\n",
       "    \u001b[32m\"cache-control\"\u001b[39m: \u001b[32m\"no-cache\"\u001b[39m,\n",
       "    \u001b[32m\"cf-cache-status\"\u001b[39m: \u001b[32m\"DYNAMIC\"\u001b[39m,\n",
       "    \u001b[32m\"cf-ray\"\u001b[39m: \u001b[32m\"97e412b249cef081-DFW\"\u001b[39m,\n",
       "    \u001b[32m\"content-length\"\u001b[39m: \u001b[32m\"667\"\u001b[39m,\n",
       "    \u001b[32m\"content-type\"\u001b[39m: \u001b[32m\"text/html; charset=utf-8\"\u001b[39m,\n",
       "    date: \u001b[32m\"Sat, 13 Sep 2025 02:04:17 GMT\"\u001b[39m,\n",
       "    etag: \u001b[32m'W/\"29b-Ifa3b3EzVpZJPHBicXzrAYhRLW8\"'\u001b[39m,\n",
       "    expires: \u001b[32m\"-1\"\u001b[39m,\n",
       "    nel: \u001b[32m'{\"report_to\":\"heroku-nel\",\"response_headers\":[\"Via\"],\"max_age\":3600,\"success_fraction\":0.01,\"failure_fraction\":0.1}'\u001b[39m,\n",
       "    pragma: \u001b[32m\"no-cache\"\u001b[39m,\n",
       "    \u001b[32m\"report-to\"\u001b[39m: \u001b[32m'{\"group\":\"heroku-nel\",\"endpoints\":[{\"url\":\"https://nel.heroku.com/reports?s=%2BKBcKdkf%2B4v9Rn7CnLVe%2BqCwHf5ljD1MMZp8noPUbbU%3D\\\\u0026sid=e11707d5-02a7-43ef-b45e-2cf4d2036f7d\\\\u0026ts=1757729057\"}],\"max_age\":3600}'\u001b[39m,\n",
       "    \u001b[32m\"reporting-endpoints\"\u001b[39m: \u001b[32m'heroku-nel=\"https://nel.heroku.com/reports?s=%2BKBcKdkf%2B4v9Rn7CnLVe%2BqCwHf5ljD1MMZp8noPUbbU%3D&sid=e11707d5-02a7-43ef-b45e-2cf4d2036f7d&ts=1757729057\"'\u001b[39m,\n",
       "    server: \u001b[32m\"cloudflare\"\u001b[39m,\n",
       "    vary: \u001b[32m\"Origin, X-HTTP-Method-Override, Accept-Encoding\"\u001b[39m,\n",
       "    via: \u001b[32m\"2.0 heroku-router\"\u001b[39m,\n",
       "    \u001b[32m\"x-powered-by\"\u001b[39m: \u001b[32m\"Express\"\u001b[39m,\n",
       "    \u001b[32m\"x-ratelimit-limit\"\u001b[39m: \u001b[32m\"1000\"\u001b[39m,\n",
       "    \u001b[32m\"x-ratelimit-remaining\"\u001b[39m: \u001b[32m\"997\"\u001b[39m,\n",
       "    \u001b[32m\"x-ratelimit-reset\"\u001b[39m: \u001b[32m\"1757729075\"\u001b[39m\n",
       "  },\n",
       "  ok: \u001b[33mfalse\u001b[39m,\n",
       "  redirected: \u001b[33mfalse\u001b[39m,\n",
       "  status: \u001b[33m500\u001b[39m,\n",
       "  statusText: \u001b[32m\"Internal Server Error\"\u001b[39m,\n",
       "  url: \u001b[32m\"https://jsonplaceholder.typicode.com/posts\"\u001b[39m\n",
       "}"
      ]
     },
     "execution_count": 14,
     "metadata": {},
     "output_type": "execute_result"
    }
   ],
   "source": [
    "const data = { title: \"Hi\" };\n",
    "\n",
    "const response = await fetch(\"https://jsonplaceholder.typicode.com/posts\", {\n",
    "  method: \"POST\",\n",
    "  headers: { \"Content-Type\": \"application/json\" },\n",
    "  body: data, // ❌ NOT a string\n",
    "});\n",
    "response"
   ]
  },
  {
   "cell_type": "markdown",
   "id": "08816df4-29f5-4d87-8dc4-ce8b72663b6c",
   "metadata": {},
   "source": [
    "## 🧠 What Are Headers?\n",
    "\n",
    "HTTP headers are key-value pairs sent with every HTTP request and response. They provide metadata (information about the data) such as:\n",
    "\n",
    "What type of data you're sending or receiving\n",
    "\n",
    "Authorization info (like tokens)\n",
    "\n",
    "Language, encoding, caching, etc."
   ]
  },
  {
   "cell_type": "markdown",
   "id": "4447dde4-723c-46af-b620-467e068524b2",
   "metadata": {},
   "source": [
    "| Header            | Purpose                                                              |\n",
    "| ----------------- | -------------------------------------------------------------------- |\n",
    "| `Content-Type`    | Describes the type of data you're sending (e.g., `application/json`) |\n",
    "| `Accept`          | What kind of data you want in response (e.g., `application/json`)    |\n",
    "| `Authorization`   | Used to send tokens or credentials (e.g., `Bearer <token>`)          |\n",
    "| `User-Agent`      | Identifies the client (browser or tool) — usually set automatically  |\n",
    "| `X-Custom-Header` | Any custom headers your app or API requires                          |"
   ]
  }
 ],
 "metadata": {
  "kernelspec": {
   "display_name": "Deno",
   "language": "typescript",
   "name": "deno"
  },
  "language_info": {
   "codemirror_mode": "typescript",
   "file_extension": ".ts",
   "mimetype": "text/x.typescript",
   "name": "typescript",
   "nbconvert_exporter": "script",
   "pygments_lexer": "typescript",
   "version": "5.7.3"
  }
 },
 "nbformat": 4,
 "nbformat_minor": 5
}
