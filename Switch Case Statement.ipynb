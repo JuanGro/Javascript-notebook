{
 "cells": [
  {
   "cell_type": "markdown",
   "id": "5e1e8448-e4d4-4f33-93ec-ce3e745ccc89",
   "metadata": {},
   "source": [
    "# Switch Case Statement"
   ]
  },
  {
   "cell_type": "code",
   "execution_count": 1,
   "id": "d0ee4926-7816-481e-af61-f3ea617edeb7",
   "metadata": {},
   "outputs": [],
   "source": [
    "const exampleCondition = 'apple';"
   ]
  },
  {
   "cell_type": "code",
   "execution_count": 4,
   "id": "b9d99343-e2ac-4369-b060-00f667241c17",
   "metadata": {},
   "outputs": [
    {
     "name": "stdout",
     "output_type": "stream",
     "text": [
      "apple\n",
      "banana\n",
      "no fruit\n"
     ]
    }
   ],
   "source": [
    "switch(exampleCondition) {\n",
    "    case 'apple':\n",
    "        console.log('apple');\n",
    "    case 'banana':\n",
    "        console.log('banana');\n",
    "    default:\n",
    "        console.log('no fruit');\n",
    "}"
   ]
  },
  {
   "cell_type": "code",
   "execution_count": 5,
   "id": "b513cee2-5f6f-4881-a4b3-e2aace1ee06a",
   "metadata": {},
   "outputs": [
    {
     "name": "stdout",
     "output_type": "stream",
     "text": [
      "apple\n",
      "banana\n"
     ]
    }
   ],
   "source": [
    "switch(exampleCondition) {\n",
    "    case 'apple':\n",
    "        console.log('apple');\n",
    "    case 'banana':\n",
    "        console.log('banana');\n",
    "        break;\n",
    "    default:\n",
    "        console.log('no fruit');\n",
    "        break;\n",
    "}"
   ]
  },
  {
   "cell_type": "code",
   "execution_count": 3,
   "id": "7b64cdf5-e662-4ac3-9451-d8a795f4c812",
   "metadata": {},
   "outputs": [
    {
     "name": "stdout",
     "output_type": "stream",
     "text": [
      "apple\n"
     ]
    }
   ],
   "source": [
    "switch(exampleCondition) {\n",
    "    case 'apple':\n",
    "        console.log('apple');\n",
    "        break;\n",
    "    case 'banana':\n",
    "        console.log('banana');\n",
    "        break;\n",
    "    default:\n",
    "        console.log('no fruit');\n",
    "        break;\n",
    "}"
   ]
  },
  {
   "cell_type": "code",
   "execution_count": null,
   "id": "4cd9d926-5ce3-4abd-b3c3-621c72227c9c",
   "metadata": {},
   "outputs": [],
   "source": []
  }
 ],
 "metadata": {
  "kernelspec": {
   "display_name": "Deno",
   "language": "typescript",
   "name": "deno"
  },
  "language_info": {
   "codemirror_mode": "typescript",
   "file_extension": ".ts",
   "mimetype": "text/x.typescript",
   "name": "typescript",
   "nbconvert_exporter": "script",
   "pygments_lexer": "typescript",
   "version": "5.7.3"
  }
 },
 "nbformat": 4,
 "nbformat_minor": 5
}
